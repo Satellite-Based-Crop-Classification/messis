{
 "cells": [
  {
   "cell_type": "code",
   "execution_count": 1,
   "metadata": {},
   "outputs": [
    {
     "name": "stderr",
     "output_type": "stream",
     "text": [
      "c:\\dev\\data\\.venv\\Lib\\site-packages\\tqdm\\auto.py:21: TqdmWarning: IProgress not found. Please update jupyter and ipywidgets. See https://ipywidgets.readthedocs.io/en/stable/user_install.html\n",
      "  from .autonotebook import tqdm as notebook_tqdm\n"
     ]
    }
   ],
   "source": [
    "import os\n",
    "from huggingface_hub import hf_hub_download\n",
    "config_path=hf_hub_download(repo_id=\"ibm-nasa-geospatial/Prithvi-100M-multi-temporal-crop-classification\", \n",
    "                            filename=\"multi_temporal_crop_classification_Prithvi_100M.py\", \n",
    "                            token=os.environ.get(\"token\"))\n",
    "ckpt=hf_hub_download(repo_id=\"ibm-nasa-geospatial/Prithvi-100M-multi-temporal-crop-classification\", \n",
    "                     filename='multi_temporal_crop_classification_Prithvi_100M.pth', \n",
    "                     token=os.environ.get(\"token\"))\n"
   ]
  },
  {
   "cell_type": "code",
   "execution_count": 7,
   "metadata": {},
   "outputs": [
    {
     "name": "stderr",
     "output_type": "stream",
     "text": [
      "c:\\dev\\data\\.venv\\Lib\\site-packages\\bitsandbytes\\cextension.py:34: UserWarning: The installed version of bitsandbytes was compiled without GPU support. 8-bit optimizers, 8-bit multiplication, and GPU quantization are unavailable.\n",
      "  warn(\"The installed version of bitsandbytes was compiled without GPU support. \"\n"
     ]
    },
    {
     "name": "stdout",
     "output_type": "stream",
     "text": [
      "'NoneType' object has no attribute 'cadam32bit_grad_fp32'\n"
     ]
    },
    {
     "ename": "ImportError",
     "evalue": "cannot import name 'build_from_cfg' from 'mmcv' (c:\\dev\\data\\.venv\\Lib\\site-packages\\mmcv\\__init__.py)",
     "output_type": "error",
     "traceback": [
      "\u001b[1;31m---------------------------------------------------------------------------\u001b[0m",
      "\u001b[1;31mImportError\u001b[0m                               Traceback (most recent call last)",
      "Cell \u001b[1;32mIn[7], line 2\u001b[0m\n\u001b[0;32m      1\u001b[0m \u001b[38;5;28;01mimport\u001b[39;00m \u001b[38;5;21;01mmmengine\u001b[39;00m\n\u001b[1;32m----> 2\u001b[0m \u001b[38;5;28;01mfrom\u001b[39;00m \u001b[38;5;21;01mmmseg\u001b[39;00m\u001b[38;5;21;01m.\u001b[39;00m\u001b[38;5;21;01mapis\u001b[39;00m \u001b[38;5;28;01mimport\u001b[39;00m init_segmentor\n\u001b[0;32m      4\u001b[0m config \u001b[38;5;241m=\u001b[39m mmengine\u001b[38;5;241m.\u001b[39mConfig\u001b[38;5;241m.\u001b[39mfromfile(config_path)\n\u001b[0;32m      5\u001b[0m config\u001b[38;5;241m.\u001b[39mmodel\u001b[38;5;241m.\u001b[39mbackbone\u001b[38;5;241m.\u001b[39mpretrained\u001b[38;5;241m=\u001b[39m\u001b[38;5;28;01mNone\u001b[39;00m\n",
      "File \u001b[1;32mc:\\dev\\data\\.venv\\Lib\\site-packages\\mmseg\\apis\\__init__.py:2\u001b[0m\n\u001b[0;32m      1\u001b[0m \u001b[38;5;66;03m# Copyright (c) OpenMMLab. All rights reserved.\u001b[39;00m\n\u001b[1;32m----> 2\u001b[0m \u001b[38;5;28;01mfrom\u001b[39;00m \u001b[38;5;21;01m.\u001b[39;00m\u001b[38;5;21;01minference\u001b[39;00m \u001b[38;5;28;01mimport\u001b[39;00m inference_model, init_model, show_result_pyplot\n\u001b[0;32m      3\u001b[0m \u001b[38;5;28;01mfrom\u001b[39;00m \u001b[38;5;21;01m.\u001b[39;00m\u001b[38;5;21;01mmmseg_inferencer\u001b[39;00m \u001b[38;5;28;01mimport\u001b[39;00m MMSegInferencer\n\u001b[0;32m      4\u001b[0m \u001b[38;5;28;01mfrom\u001b[39;00m \u001b[38;5;21;01m.\u001b[39;00m\u001b[38;5;21;01mremote_sense_inferencer\u001b[39;00m \u001b[38;5;28;01mimport\u001b[39;00m RSImage, RSInferencer\n",
      "File \u001b[1;32mc:\\dev\\data\\.venv\\Lib\\site-packages\\mmseg\\apis\\inference.py:14\u001b[0m\n\u001b[0;32m     11\u001b[0m \u001b[38;5;28;01mfrom\u001b[39;00m \u001b[38;5;21;01mmmengine\u001b[39;00m\u001b[38;5;21;01m.\u001b[39;00m\u001b[38;5;21;01mrunner\u001b[39;00m \u001b[38;5;28;01mimport\u001b[39;00m load_checkpoint\n\u001b[0;32m     12\u001b[0m \u001b[38;5;28;01mfrom\u001b[39;00m \u001b[38;5;21;01mmmengine\u001b[39;00m\u001b[38;5;21;01m.\u001b[39;00m\u001b[38;5;21;01mutils\u001b[39;00m \u001b[38;5;28;01mimport\u001b[39;00m mkdir_or_exist\n\u001b[1;32m---> 14\u001b[0m \u001b[38;5;28;01mfrom\u001b[39;00m \u001b[38;5;21;01mmmseg\u001b[39;00m\u001b[38;5;21;01m.\u001b[39;00m\u001b[38;5;21;01mmodels\u001b[39;00m \u001b[38;5;28;01mimport\u001b[39;00m BaseSegmentor\n\u001b[0;32m     15\u001b[0m \u001b[38;5;28;01mfrom\u001b[39;00m \u001b[38;5;21;01mmmseg\u001b[39;00m\u001b[38;5;21;01m.\u001b[39;00m\u001b[38;5;21;01mregistry\u001b[39;00m \u001b[38;5;28;01mimport\u001b[39;00m MODELS\n\u001b[0;32m     16\u001b[0m \u001b[38;5;28;01mfrom\u001b[39;00m \u001b[38;5;21;01mmmseg\u001b[39;00m\u001b[38;5;21;01m.\u001b[39;00m\u001b[38;5;21;01mstructures\u001b[39;00m \u001b[38;5;28;01mimport\u001b[39;00m SegDataSample\n",
      "File \u001b[1;32mc:\\dev\\data\\.venv\\Lib\\site-packages\\mmseg\\models\\__init__.py:3\u001b[0m\n\u001b[0;32m      1\u001b[0m \u001b[38;5;66;03m# Copyright (c) OpenMMLab. All rights reserved.\u001b[39;00m\n\u001b[0;32m      2\u001b[0m \u001b[38;5;28;01mfrom\u001b[39;00m \u001b[38;5;21;01m.\u001b[39;00m\u001b[38;5;21;01massigners\u001b[39;00m \u001b[38;5;28;01mimport\u001b[39;00m \u001b[38;5;241m*\u001b[39m  \u001b[38;5;66;03m# noqa: F401,F403\u001b[39;00m\n\u001b[1;32m----> 3\u001b[0m \u001b[38;5;28;01mfrom\u001b[39;00m \u001b[38;5;21;01m.\u001b[39;00m\u001b[38;5;21;01mbackbones\u001b[39;00m \u001b[38;5;28;01mimport\u001b[39;00m \u001b[38;5;241m*\u001b[39m  \u001b[38;5;66;03m# noqa: F401,F403\u001b[39;00m\n\u001b[0;32m      4\u001b[0m \u001b[38;5;28;01mfrom\u001b[39;00m \u001b[38;5;21;01m.\u001b[39;00m\u001b[38;5;21;01mbuilder\u001b[39;00m \u001b[38;5;28;01mimport\u001b[39;00m (BACKBONES, HEADS, LOSSES, SEGMENTORS, build_backbone,\n\u001b[0;32m      5\u001b[0m                       build_head, build_loss, build_segmentor)\n\u001b[0;32m      6\u001b[0m \u001b[38;5;28;01mfrom\u001b[39;00m \u001b[38;5;21;01m.\u001b[39;00m\u001b[38;5;21;01mdata_preprocessor\u001b[39;00m \u001b[38;5;28;01mimport\u001b[39;00m SegDataPreProcessor\n",
      "File \u001b[1;32mc:\\dev\\data\\.venv\\Lib\\site-packages\\mmseg\\models\\backbones\\__init__.py:2\u001b[0m\n\u001b[0;32m      1\u001b[0m \u001b[38;5;66;03m# Copyright (c) OpenMMLab. All rights reserved.\u001b[39;00m\n\u001b[1;32m----> 2\u001b[0m \u001b[38;5;28;01mfrom\u001b[39;00m \u001b[38;5;21;01m.\u001b[39;00m\u001b[38;5;21;01mbeit\u001b[39;00m \u001b[38;5;28;01mimport\u001b[39;00m BEiT\n\u001b[0;32m      3\u001b[0m \u001b[38;5;28;01mfrom\u001b[39;00m \u001b[38;5;21;01m.\u001b[39;00m\u001b[38;5;21;01mbisenetv1\u001b[39;00m \u001b[38;5;28;01mimport\u001b[39;00m BiSeNetV1\n\u001b[0;32m      4\u001b[0m \u001b[38;5;28;01mfrom\u001b[39;00m \u001b[38;5;21;01m.\u001b[39;00m\u001b[38;5;21;01mbisenetv2\u001b[39;00m \u001b[38;5;28;01mimport\u001b[39;00m BiSeNetV2\n",
      "File \u001b[1;32mc:\\dev\\data\\.venv\\Lib\\site-packages\\mmseg\\models\\backbones\\beit.py:8\u001b[0m\n\u001b[0;32m      6\u001b[0m \u001b[38;5;28;01mimport\u001b[39;00m \u001b[38;5;21;01mtorch\u001b[39;00m\u001b[38;5;21;01m.\u001b[39;00m\u001b[38;5;21;01mnn\u001b[39;00m \u001b[38;5;28;01mas\u001b[39;00m \u001b[38;5;21;01mnn\u001b[39;00m\n\u001b[0;32m      7\u001b[0m \u001b[38;5;28;01mimport\u001b[39;00m \u001b[38;5;21;01mtorch\u001b[39;00m\u001b[38;5;21;01m.\u001b[39;00m\u001b[38;5;21;01mnn\u001b[39;00m\u001b[38;5;21;01m.\u001b[39;00m\u001b[38;5;21;01mfunctional\u001b[39;00m \u001b[38;5;28;01mas\u001b[39;00m \u001b[38;5;21;01mF\u001b[39;00m\n\u001b[1;32m----> 8\u001b[0m \u001b[38;5;28;01mfrom\u001b[39;00m \u001b[38;5;21;01mmmcv\u001b[39;00m\u001b[38;5;21;01m.\u001b[39;00m\u001b[38;5;21;01mcnn\u001b[39;00m \u001b[38;5;28;01mimport\u001b[39;00m build_norm_layer\n\u001b[0;32m      9\u001b[0m \u001b[38;5;28;01mfrom\u001b[39;00m \u001b[38;5;21;01mmmcv\u001b[39;00m\u001b[38;5;21;01m.\u001b[39;00m\u001b[38;5;21;01mcnn\u001b[39;00m\u001b[38;5;21;01m.\u001b[39;00m\u001b[38;5;21;01mbricks\u001b[39;00m\u001b[38;5;21;01m.\u001b[39;00m\u001b[38;5;21;01mdrop\u001b[39;00m \u001b[38;5;28;01mimport\u001b[39;00m build_dropout\n\u001b[0;32m     10\u001b[0m \u001b[38;5;28;01mfrom\u001b[39;00m \u001b[38;5;21;01mmmengine\u001b[39;00m\u001b[38;5;21;01m.\u001b[39;00m\u001b[38;5;21;01mmodel\u001b[39;00m \u001b[38;5;28;01mimport\u001b[39;00m BaseModule, ModuleList\n",
      "File \u001b[1;32mc:\\dev\\data\\.venv\\Lib\\site-packages\\mmcv\\cnn\\__init__.py:4\u001b[0m\n\u001b[0;32m      2\u001b[0m \u001b[38;5;28;01mfrom\u001b[39;00m \u001b[38;5;21;01m.\u001b[39;00m\u001b[38;5;21;01malexnet\u001b[39;00m \u001b[38;5;28;01mimport\u001b[39;00m AlexNet\n\u001b[0;32m      3\u001b[0m \u001b[38;5;66;03m# yapf: disable\u001b[39;00m\n\u001b[1;32m----> 4\u001b[0m \u001b[38;5;28;01mfrom\u001b[39;00m \u001b[38;5;21;01m.\u001b[39;00m\u001b[38;5;21;01mbricks\u001b[39;00m \u001b[38;5;28;01mimport\u001b[39;00m (ACTIVATION_LAYERS, CONV_LAYERS, NORM_LAYERS,\n\u001b[0;32m      5\u001b[0m                      PADDING_LAYERS, PLUGIN_LAYERS, UPSAMPLE_LAYERS,\n\u001b[0;32m      6\u001b[0m                      ContextBlock, Conv2d, Conv3d, ConvAWS2d, ConvModule,\n\u001b[0;32m      7\u001b[0m                      ConvTranspose2d, ConvTranspose3d, ConvWS2d,\n\u001b[0;32m      8\u001b[0m                      DepthwiseSeparableConvModule, GeneralizedAttention,\n\u001b[0;32m      9\u001b[0m                      HSigmoid, HSwish, Linear, MaxPool2d, MaxPool3d,\n\u001b[0;32m     10\u001b[0m                      NonLocal1d, NonLocal2d, NonLocal3d, Scale, Swish,\n\u001b[0;32m     11\u001b[0m                      build_activation_layer, build_conv_layer,\n\u001b[0;32m     12\u001b[0m                      build_norm_layer, build_padding_layer, build_plugin_layer,\n\u001b[0;32m     13\u001b[0m                      build_upsample_layer, conv_ws_2d, is_norm)\n\u001b[0;32m     14\u001b[0m \u001b[38;5;28;01mfrom\u001b[39;00m \u001b[38;5;21;01m.\u001b[39;00m\u001b[38;5;21;01mbuilder\u001b[39;00m \u001b[38;5;28;01mimport\u001b[39;00m MODELS, build_model_from_cfg\n\u001b[0;32m     15\u001b[0m \u001b[38;5;66;03m# yapf: enable\u001b[39;00m\n",
      "File \u001b[1;32mc:\\dev\\data\\.venv\\Lib\\site-packages\\mmcv\\cnn\\bricks\\__init__.py:9\u001b[0m\n\u001b[0;32m      7\u001b[0m \u001b[38;5;28;01mfrom\u001b[39;00m \u001b[38;5;21;01m.\u001b[39;00m\u001b[38;5;21;01mconv_ws\u001b[39;00m \u001b[38;5;28;01mimport\u001b[39;00m ConvAWS2d, ConvWS2d, conv_ws_2d\n\u001b[0;32m      8\u001b[0m \u001b[38;5;28;01mfrom\u001b[39;00m \u001b[38;5;21;01m.\u001b[39;00m\u001b[38;5;21;01mdepthwise_separable_conv_module\u001b[39;00m \u001b[38;5;28;01mimport\u001b[39;00m DepthwiseSeparableConvModule\n\u001b[1;32m----> 9\u001b[0m \u001b[38;5;28;01mfrom\u001b[39;00m \u001b[38;5;21;01m.\u001b[39;00m\u001b[38;5;21;01mdrop\u001b[39;00m \u001b[38;5;28;01mimport\u001b[39;00m Dropout, DropPath\n\u001b[0;32m     10\u001b[0m \u001b[38;5;28;01mfrom\u001b[39;00m \u001b[38;5;21;01m.\u001b[39;00m\u001b[38;5;21;01mgeneralized_attention\u001b[39;00m \u001b[38;5;28;01mimport\u001b[39;00m GeneralizedAttention\n\u001b[0;32m     11\u001b[0m \u001b[38;5;28;01mfrom\u001b[39;00m \u001b[38;5;21;01m.\u001b[39;00m\u001b[38;5;21;01mhsigmoid\u001b[39;00m \u001b[38;5;28;01mimport\u001b[39;00m HSigmoid\n",
      "File \u001b[1;32mc:\\dev\\data\\.venv\\Lib\\site-packages\\mmcv\\cnn\\bricks\\drop.py:7\u001b[0m\n\u001b[0;32m      4\u001b[0m \u001b[38;5;28;01mimport\u001b[39;00m \u001b[38;5;21;01mtorch\u001b[39;00m\n\u001b[0;32m      5\u001b[0m \u001b[38;5;28;01mimport\u001b[39;00m \u001b[38;5;21;01mtorch\u001b[39;00m\u001b[38;5;21;01m.\u001b[39;00m\u001b[38;5;21;01mnn\u001b[39;00m \u001b[38;5;28;01mas\u001b[39;00m \u001b[38;5;21;01mnn\u001b[39;00m\n\u001b[1;32m----> 7\u001b[0m \u001b[38;5;28;01mfrom\u001b[39;00m \u001b[38;5;21;01mmmcv\u001b[39;00m \u001b[38;5;28;01mimport\u001b[39;00m build_from_cfg\n\u001b[0;32m      8\u001b[0m \u001b[38;5;28;01mfrom\u001b[39;00m \u001b[38;5;21;01m.\u001b[39;00m\u001b[38;5;21;01mregistry\u001b[39;00m \u001b[38;5;28;01mimport\u001b[39;00m DROPOUT_LAYERS\n\u001b[0;32m     11\u001b[0m \u001b[38;5;28;01mdef\u001b[39;00m \u001b[38;5;21mdrop_path\u001b[39m(x: torch\u001b[38;5;241m.\u001b[39mTensor,\n\u001b[0;32m     12\u001b[0m               drop_prob: \u001b[38;5;28mfloat\u001b[39m \u001b[38;5;241m=\u001b[39m \u001b[38;5;241m0.\u001b[39m,\n\u001b[0;32m     13\u001b[0m               training: \u001b[38;5;28mbool\u001b[39m \u001b[38;5;241m=\u001b[39m \u001b[38;5;28;01mFalse\u001b[39;00m) \u001b[38;5;241m-\u001b[39m\u001b[38;5;241m>\u001b[39m torch\u001b[38;5;241m.\u001b[39mTensor:\n",
      "\u001b[1;31mImportError\u001b[0m: cannot import name 'build_from_cfg' from 'mmcv' (c:\\dev\\data\\.venv\\Lib\\site-packages\\mmcv\\__init__.py)"
     ]
    }
   ],
   "source": [
    "import mmengine\n",
    "from mmseg.apis import init_segmentor\n",
    "\n",
    "config = mmengine.Config.fromfile(config_path)\n",
    "config.model.backbone.pretrained=None\n",
    "model = init_segmentor(config, ckpt, device='cpu')"
   ]
  },
  {
   "cell_type": "code",
   "execution_count": 6,
   "metadata": {},
   "outputs": [
    {
     "data": {
      "text/plain": [
       "'C:\\\\Users\\\\flori\\\\.cache\\\\huggingface\\\\hub\\\\models--ibm-nasa-geospatial--Prithvi-100M-multi-temporal-crop-classification\\\\snapshots\\\\3b8de5aa922c79b4cf69d497732fcf22f0edd8c6\\\\multi_temporal_crop_classification_Prithvi_100M.pth'"
      ]
     },
     "execution_count": 6,
     "metadata": {},
     "output_type": "execute_result"
    }
   ],
   "source": [
    "ckpt"
   ]
  }
 ],
 "metadata": {
  "kernelspec": {
   "display_name": ".venv",
   "language": "python",
   "name": "python3"
  },
  "language_info": {
   "codemirror_mode": {
    "name": "ipython",
    "version": 3
   },
   "file_extension": ".py",
   "mimetype": "text/x-python",
   "name": "python",
   "nbconvert_exporter": "python",
   "pygments_lexer": "ipython3",
   "version": "3.11.5"
  }
 },
 "nbformat": 4,
 "nbformat_minor": 2
}
