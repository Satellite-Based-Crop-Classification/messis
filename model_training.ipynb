{
 "cells": [
  {
   "cell_type": "code",
   "execution_count": 6,
   "metadata": {},
   "outputs": [],
   "source": [
    "import os\n",
    "import re\n",
    "import time\n",
    "import subprocess\n",
    "from dotenv import load_dotenv\n",
    "\n",
    "load_dotenv()\n",
    "\n",
    "os.environ[\"WANDB_NOTEBOOK_NAME\"] = \"model_training.ipynb\"\n",
    "os.environ[\"PYTORCH_ENABLE_MPS_FALLBACK\"] = \"1\"\n",
    "\n",
    "import yaml\n",
    "import dvc.api\n",
    "from pytorch_lightning import Trainer\n",
    "from pytorch_lightning.loggers import WandbLogger\n",
    "from pytorch_lightning.callbacks import EarlyStopping\n",
    "\n",
    "from messis.messis import Messis, LogConfusionMatrix, LogMessisMetrics\n",
    "from messis.dataloader import GeospatialDataModule\n",
    "\n",
    "params = dvc.api.params_show()\n",
    "\n",
    "HF_MODEL_URL = \"https://huggingface.co/crop-classification/messis\"\n",
    "\n",
    "def is_interactive():\n",
    "    import __main__ as main\n",
    "    return not hasattr(main, '__file__')"
   ]
  },
  {
   "cell_type": "code",
   "execution_count": 2,
   "metadata": {},
   "outputs": [
    {
     "name": "stderr",
     "output_type": "stream",
     "text": [
      "wandb: Currently logged in as: crop-classification. Use `wandb login --relogin` to force relogin\n"
     ]
    },
    {
     "data": {
      "text/html": [
       "wandb version 0.17.0 is available!  To upgrade, please run:\n",
       " $ pip install wandb --upgrade"
      ],
      "text/plain": [
       "<IPython.core.display.HTML object>"
      ]
     },
     "metadata": {},
     "output_type": "display_data"
    },
    {
     "data": {
      "text/html": [
       "Tracking run with wandb version 0.16.6"
      ],
      "text/plain": [
       "<IPython.core.display.HTML object>"
      ]
     },
     "metadata": {},
     "output_type": "display_data"
    },
    {
     "data": {
      "text/html": [
       "Run data is saved locally in <code>.\\wandb\\run-20240601_001045-00ymqt61</code>"
      ],
      "text/plain": [
       "<IPython.core.display.HTML object>"
      ]
     },
     "metadata": {},
     "output_type": "display_data"
    },
    {
     "data": {
      "text/html": [
       "Syncing run <strong><a href='https://wandb.ai/crop-classification/messis/runs/00ymqt61' target=\"_blank\">fragrant-snowflake-5</a></strong> to <a href='https://wandb.ai/crop-classification/messis' target=\"_blank\">Weights & Biases</a> (<a href='https://wandb.me/run' target=\"_blank\">docs</a>)<br/>"
      ],
      "text/plain": [
       "<IPython.core.display.HTML object>"
      ]
     },
     "metadata": {},
     "output_type": "display_data"
    },
    {
     "data": {
      "text/html": [
       " View project at <a href='https://wandb.ai/crop-classification/messis' target=\"_blank\">https://wandb.ai/crop-classification/messis</a>"
      ],
      "text/plain": [
       "<IPython.core.display.HTML object>"
      ]
     },
     "metadata": {},
     "output_type": "display_data"
    },
    {
     "data": {
      "text/html": [
       " View run at <a href='https://wandb.ai/crop-classification/messis/runs/00ymqt61' target=\"_blank\">https://wandb.ai/crop-classification/messis/runs/00ymqt61</a>"
      ],
      "text/plain": [
       "<IPython.core.display.HTML object>"
      ]
     },
     "metadata": {},
     "output_type": "display_data"
    }
   ],
   "source": [
    "# Create a W&B logger\n",
    "wandb_logger = WandbLogger(entity='crop-classification', project='messis', log_model=False)\n",
    "\n",
    "wandb_logger.experiment.config['dvc'] = params\n",
    "\n",
    "with open(params['paths']['chips_stats'], 'r') as file:\n",
    "    chips_stats = yaml.safe_load(file)\n",
    "\n",
    "# Hyperparameters\n",
    "hparams = {\n",
    "    'img_size': params['chip_size'],\n",
    "    'patch_size': 16,\n",
    "    'num_frames': 3,\n",
    "    'bands': [0, 1, 2, 3, 4, 5],\n",
    "    'debug': False,\n",
    "    'lr': 1e-3,\n",
    "    'batch_size': 4, # up to 16 on server0111\n",
    "    'accumulate_grad_batches': 1,\n",
    "    'max_epochs': 1,\n",
    "    'backbone_weights_path': './prithvi/models/Prithvi_100M.pt',\n",
    "    'freeze_backbone': True,\n",
    "    'subsets': {\n",
    "        'train': 4,\n",
    "        'val': 2,\n",
    "    },\n",
    "    'tiers': {\n",
    "        'tier1': {\n",
    "            'loss_weight': 1,\n",
    "            'num_classes': chips_stats['num_classes_tier1'],\n",
    "        },\n",
    "        'tier2': {\n",
    "            'loss_weight': 1,\n",
    "            'num_classes': chips_stats['num_classes_tier2'],\n",
    "        },\n",
    "        'tier3': {\n",
    "            'loss_weight': 1,\n",
    "            'num_classes': chips_stats['num_classes_tier3'],\n",
    "        },\n",
    "        'tier3_refined': {\n",
    "            'loss_weight': 1,\n",
    "            'num_classes': chips_stats['num_classes_tier3'],\n",
    "        }\n",
    "    }\n",
    "}"
   ]
  },
  {
   "cell_type": "code",
   "execution_count": null,
   "metadata": {},
   "outputs": [],
   "source": [
    "model = Messis(hparams)\n",
    "\n",
    "data_module = GeospatialDataModule(\n",
    "    data_dir='./data/', \n",
    "    test_fold=0, \n",
    "    batch_size=hparams.get('batch_size', 4), \n",
    "    num_workers=1,      # 1 worker is enough for this dataset\n",
    "    debug=False, \n",
    "    subsets=hparams.get('subsets', None)\n",
    ")\n",
    "\n",
    "early_stopping = EarlyStopping(\n",
    "    monitor='val_loss',  # Metric to monitor\n",
    "    patience=3,          # Number of epochs to wait for improvement\n",
    "    verbose=True,\n",
    "    mode='min'\n",
    ")\n",
    "\n",
    "trainer = Trainer(\n",
    "    logger=wandb_logger,\n",
    "    log_every_n_steps=50,\n",
    "    profiler=\"simple\",\n",
    "    callbacks=[\n",
    "        LogMessisMetrics  (hparams, params['paths']['dataset_info'], debug=False),\n",
    "        LogConfusionMatrix(hparams, params['paths']['dataset_info'], debug=False),\n",
    "        early_stopping\n",
    "    ],\n",
    "    accumulate_grad_batches=hparams['accumulate_grad_batches'],  # Gradient accumulation\n",
    "    max_epochs=hparams['max_epochs'],\n",
    "    accelerator=\"gpu\",\n",
    "    # Use Distributed Data Parallel\n",
    "    strategy=\"ddp_notebook\" if is_interactive() else \"ddp\",\n",
    "    num_nodes=1,            # Number of nodes\n",
    "    devices=1,              # Number of GPUs to use\n",
    "    precision='16-mixed'    # Train with 16-bit precision (https://lightning.ai/docs/pytorch/stable/common/trainer.html#precision)\n",
    ")"
   ]
  },
  {
   "cell_type": "code",
   "execution_count": null,
   "metadata": {},
   "outputs": [],
   "source": [
    "trainer.fit(model, datamodule=data_module)"
   ]
  },
  {
   "cell_type": "code",
   "execution_count": null,
   "metadata": {},
   "outputs": [],
   "source": [
    "model.push_to_hub(\"crop-classification/messis\", commit_message=f\"Messis | W&B Run {wandb_logger.experiment.name} (https://wandb.ai/crop-classification/messis/runs/{wandb_logger.experiment.id})\")"
   ]
  },
  {
   "cell_type": "code",
   "execution_count": 9,
   "metadata": {},
   "outputs": [
    {
     "data": {
      "text/plain": [
       "'https://huggingface.co/crop-classification/messis/commit/db87a8d84c2fd5bbe2bbdfdcdb60751f9818cebb'"
      ]
     },
     "execution_count": 9,
     "metadata": {},
     "output_type": "execute_result"
    }
   ],
   "source": [
    "time.sleep(2)\n",
    "\n",
    "def get_latest_commit_hash(repo_url):\n",
    "    process = subprocess.Popen([\"git\", \"ls-remote\", repo_url], stdout=subprocess.PIPE)\n",
    "    stdout, stderr = process.communicate()\n",
    "    if stderr:\n",
    "        print(f\"Error occurred fetching latest commit hash from 🤗: {stderr}\")\n",
    "        return \"unknwown\"\n",
    "    return re.split(r'\\t+', stdout.decode('ascii'))[0]\n",
    "\n",
    "hf_repo_url = f\"{HF_MODEL_URL}.git\"\n",
    "wandb_logger.experiment.config['huggingface_commit'] = f\"{HF_MODEL_URL}/commit/{get_latest_commit_hash(hf_repo_url)}\""
   ]
  }
 ],
 "metadata": {
  "kernelspec": {
   "display_name": "messis-E9xOSKpc-py3.12",
   "language": "python",
   "name": "python3"
  },
  "language_info": {
   "codemirror_mode": {
    "name": "ipython",
    "version": 3
   },
   "file_extension": ".py",
   "mimetype": "text/x-python",
   "name": "python",
   "nbconvert_exporter": "python",
   "pygments_lexer": "ipython3",
   "version": "3.12.2"
  }
 },
 "nbformat": 4,
 "nbformat_minor": 2
}
