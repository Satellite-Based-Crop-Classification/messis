{
 "cells": [
  {
   "cell_type": "code",
   "execution_count": 1,
   "metadata": {},
   "outputs": [],
   "source": [
    "import yaml\n",
    "import dvc.api\n",
    "from pytorch_lightning import Trainer\n",
    "from pytorch_lightning.loggers import WandbLogger\n",
    "\n",
    "from messis.messis import Messis, LogConfusionMatrix, LogMessisMetrics\n",
    "from messis.dataloader import GeospatialDataModule\n",
    "\n",
    "params = dvc.api.params_show()\n",
    "\n",
    "\n",
    "# set env \"WANDB_NOTEBOOK_NAME\" to \"model_training.ipynb\"\n",
    "import os\n",
    "\n",
    "os.environ[\"WANDB_NOTEBOOK_NAME\"] = \"model_training.ipynb\""
   ]
  },
  {
   "cell_type": "code",
   "execution_count": 2,
   "metadata": {},
   "outputs": [],
   "source": [
    "# Create a W&B logger\n",
    "wandb_logger = WandbLogger(entity='crop-classification', project='messis', log_model='all')\n",
    "\n",
    "with open(params['paths']['chips_stats'], 'r') as file:\n",
    "    chips_stats = yaml.safe_load(file)\n",
    "\n",
    "# Make sure to pass your Hyperparameters as a dictionary\n",
    "hparams = {\n",
    "    'img_size': 224,\n",
    "    'patch_size': 16,\n",
    "    'num_frames': 3,\n",
    "    'bands': [0, 1, 2, 3, 4, 5],\n",
    "    'debug': False,\n",
    "    'lr': 1e-3,\n",
    "    'subsets': {\n",
    "        'train': 4,\n",
    "        'val': 2,\n",
    "    },\n",
    "    'tiers': {\n",
    "        'tier1': {\n",
    "            'loss_weight': 1,\n",
    "            'num_classes': chips_stats['num_classes_tier1'],\n",
    "        },\n",
    "        'tier2': {\n",
    "            'loss_weight': 1,\n",
    "            'num_classes': chips_stats['num_classes_tier2'],\n",
    "        },\n",
    "        'tier3': {\n",
    "            'loss_weight': 1,\n",
    "            'num_classes': chips_stats['num_classes_tier3'],\n",
    "        },\n",
    "        'tier3_refined': {\n",
    "            'loss_weight': 1,\n",
    "            'num_classes': chips_stats['num_classes_tier3'],\n",
    "        }\n",
    "    }\n",
    "}\n",
    "# TODO add these to the params.yaml"
   ]
  },
  {
   "cell_type": "code",
   "execution_count": 3,
   "metadata": {},
   "outputs": [
    {
     "name": "stdout",
     "output_type": "stream",
     "text": [
      "Warning: Unexpected keys in the state dict: ['mask_token', 'decoder_pos_embed', 'decoder_embed.weight', 'decoder_embed.bias', 'decoder_blocks.0.norm1.weight', 'decoder_blocks.0.norm1.bias', 'decoder_blocks.0.attn.qkv.weight', 'decoder_blocks.0.attn.qkv.bias', 'decoder_blocks.0.attn.proj.weight', 'decoder_blocks.0.attn.proj.bias', 'decoder_blocks.0.norm2.weight', 'decoder_blocks.0.norm2.bias', 'decoder_blocks.0.mlp.fc1.weight', 'decoder_blocks.0.mlp.fc1.bias', 'decoder_blocks.0.mlp.fc2.weight', 'decoder_blocks.0.mlp.fc2.bias', 'decoder_blocks.1.norm1.weight', 'decoder_blocks.1.norm1.bias', 'decoder_blocks.1.attn.qkv.weight', 'decoder_blocks.1.attn.qkv.bias', 'decoder_blocks.1.attn.proj.weight', 'decoder_blocks.1.attn.proj.bias', 'decoder_blocks.1.norm2.weight', 'decoder_blocks.1.norm2.bias', 'decoder_blocks.1.mlp.fc1.weight', 'decoder_blocks.1.mlp.fc1.bias', 'decoder_blocks.1.mlp.fc2.weight', 'decoder_blocks.1.mlp.fc2.bias', 'decoder_blocks.2.norm1.weight', 'decoder_blocks.2.norm1.bias', 'decoder_blocks.2.attn.qkv.weight', 'decoder_blocks.2.attn.qkv.bias', 'decoder_blocks.2.attn.proj.weight', 'decoder_blocks.2.attn.proj.bias', 'decoder_blocks.2.norm2.weight', 'decoder_blocks.2.norm2.bias', 'decoder_blocks.2.mlp.fc1.weight', 'decoder_blocks.2.mlp.fc1.bias', 'decoder_blocks.2.mlp.fc2.weight', 'decoder_blocks.2.mlp.fc2.bias', 'decoder_blocks.3.norm1.weight', 'decoder_blocks.3.norm1.bias', 'decoder_blocks.3.attn.qkv.weight', 'decoder_blocks.3.attn.qkv.bias', 'decoder_blocks.3.attn.proj.weight', 'decoder_blocks.3.attn.proj.bias', 'decoder_blocks.3.norm2.weight', 'decoder_blocks.3.norm2.bias', 'decoder_blocks.3.mlp.fc1.weight', 'decoder_blocks.3.mlp.fc1.bias', 'decoder_blocks.3.mlp.fc2.weight', 'decoder_blocks.3.mlp.fc2.bias', 'decoder_blocks.4.norm1.weight', 'decoder_blocks.4.norm1.bias', 'decoder_blocks.4.attn.qkv.weight', 'decoder_blocks.4.attn.qkv.bias', 'decoder_blocks.4.attn.proj.weight', 'decoder_blocks.4.attn.proj.bias', 'decoder_blocks.4.norm2.weight', 'decoder_blocks.4.norm2.bias', 'decoder_blocks.4.mlp.fc1.weight', 'decoder_blocks.4.mlp.fc1.bias', 'decoder_blocks.4.mlp.fc2.weight', 'decoder_blocks.4.mlp.fc2.bias', 'decoder_blocks.5.norm1.weight', 'decoder_blocks.5.norm1.bias', 'decoder_blocks.5.attn.qkv.weight', 'decoder_blocks.5.attn.qkv.bias', 'decoder_blocks.5.attn.proj.weight', 'decoder_blocks.5.attn.proj.bias', 'decoder_blocks.5.norm2.weight', 'decoder_blocks.5.norm2.bias', 'decoder_blocks.5.mlp.fc1.weight', 'decoder_blocks.5.mlp.fc1.bias', 'decoder_blocks.5.mlp.fc2.weight', 'decoder_blocks.5.mlp.fc2.bias', 'decoder_blocks.6.norm1.weight', 'decoder_blocks.6.norm1.bias', 'decoder_blocks.6.attn.qkv.weight', 'decoder_blocks.6.attn.qkv.bias', 'decoder_blocks.6.attn.proj.weight', 'decoder_blocks.6.attn.proj.bias', 'decoder_blocks.6.norm2.weight', 'decoder_blocks.6.norm2.bias', 'decoder_blocks.6.mlp.fc1.weight', 'decoder_blocks.6.mlp.fc1.bias', 'decoder_blocks.6.mlp.fc2.weight', 'decoder_blocks.6.mlp.fc2.bias', 'decoder_blocks.7.norm1.weight', 'decoder_blocks.7.norm1.bias', 'decoder_blocks.7.attn.qkv.weight', 'decoder_blocks.7.attn.qkv.bias', 'decoder_blocks.7.attn.proj.weight', 'decoder_blocks.7.attn.proj.bias', 'decoder_blocks.7.norm2.weight', 'decoder_blocks.7.norm2.bias', 'decoder_blocks.7.mlp.fc1.weight', 'decoder_blocks.7.mlp.fc1.bias', 'decoder_blocks.7.mlp.fc2.weight', 'decoder_blocks.7.mlp.fc2.bias', 'decoder_norm.weight', 'decoder_norm.bias', 'decoder_pred.weight', 'decoder_pred.bias']\n",
      "Loaded pretrained weights from './prithvi/models/Prithvi_100M.pt' with partial matching.\n"
     ]
    },
    {
     "name": "stderr",
     "output_type": "stream",
     "text": [
      "GPU available: True (cuda), used: True\n",
      "TPU available: False, using: 0 TPU cores\n",
      "IPU available: False, using: 0 IPUs\n",
      "HPU available: False, using: 0 HPUs\n"
     ]
    }
   ],
   "source": [
    "model = Messis(hparams)\n",
    "\n",
    "data_module = GeospatialDataModule(data_dir='./data/', test_fold=0, batch_size=2, num_workers=1, debug=True, subsets=hparams.get('subsets', None))\n",
    "\n",
    "trainer = Trainer(\n",
    "    callbacks=[\n",
    "        LogMessisMetrics  (hparams, params['paths']['tier_names'], debug=False),\n",
    "        LogConfusionMatrix(hparams, params['paths']['tier_names'], debug=True)\n",
    "        ],\n",
    "    logger=wandb_logger,    # Attach the logger\n",
    "    max_epochs=5,           # Set the number of epochs\n",
    "    log_every_n_steps=1\n",
    ")"
   ]
  },
  {
   "cell_type": "code",
   "execution_count": 4,
   "metadata": {},
   "outputs": [
    {
     "name": "stderr",
     "output_type": "stream",
     "text": [
      "wandb: Currently logged in as: crop-classification. Use `wandb login --relogin` to force relogin\n"
     ]
    },
    {
     "data": {
      "text/html": [
       "wandb version 0.17.0 is available!  To upgrade, please run:\n",
       " $ pip install wandb --upgrade"
      ],
      "text/plain": [
       "<IPython.core.display.HTML object>"
      ]
     },
     "metadata": {},
     "output_type": "display_data"
    },
    {
     "data": {
      "text/html": [
       "Tracking run with wandb version 0.16.6"
      ],
      "text/plain": [
       "<IPython.core.display.HTML object>"
      ]
     },
     "metadata": {},
     "output_type": "display_data"
    },
    {
     "data": {
      "text/html": [
       "Run data is saved locally in <code>.\\wandb\\run-20240514_150600-uetj0sx0</code>"
      ],
      "text/plain": [
       "<IPython.core.display.HTML object>"
      ]
     },
     "metadata": {},
     "output_type": "display_data"
    },
    {
     "data": {
      "text/html": [
       "Syncing run <strong><a href='https://wandb.ai/crop-classification/messis/runs/uetj0sx0' target=\"_blank\">whole-paper-128</a></strong> to <a href='https://wandb.ai/crop-classification/messis' target=\"_blank\">Weights & Biases</a> (<a href='https://wandb.me/run' target=\"_blank\">docs</a>)<br/>"
      ],
      "text/plain": [
       "<IPython.core.display.HTML object>"
      ]
     },
     "metadata": {},
     "output_type": "display_data"
    },
    {
     "data": {
      "text/html": [
       " View project at <a href='https://wandb.ai/crop-classification/messis' target=\"_blank\">https://wandb.ai/crop-classification/messis</a>"
      ],
      "text/plain": [
       "<IPython.core.display.HTML object>"
      ]
     },
     "metadata": {},
     "output_type": "display_data"
    },
    {
     "data": {
      "text/html": [
       " View run at <a href='https://wandb.ai/crop-classification/messis/runs/uetj0sx0' target=\"_blank\">https://wandb.ai/crop-classification/messis/runs/uetj0sx0</a>"
      ],
      "text/plain": [
       "<IPython.core.display.HTML object>"
      ]
     },
     "metadata": {},
     "output_type": "display_data"
    },
    {
     "name": "stdout",
     "output_type": "stream",
     "text": [
      "Loading mean/std stats from ./data/chips_fold_stats.yaml\n",
      "Stats with selected test fold 0: {'mean': [554.5913696289062, 649.3143310546875, 396.9916687011719, 2898.847412109375, 1830.318359375, 1120.6065673828125], 'n_bands': 6, 'n_chips': 331, 'n_timesteps': 3, 'std': [446.0877380371094, 378.6228332519531, 331.75030517578125, 1248.6240234375, 642.62939453125, 544.0597534179688]} over 3 timesteps.\n",
      "Randomly selecting 4 samples from 331 samples.\n",
      "Loading mean/std stats from ./data/chips_fold_stats.yaml\n",
      "Stats with selected test fold 0: {'mean': [554.5913696289062, 649.3143310546875, 396.9916687011719, 2898.847412109375, 1830.318359375, 1120.6065673828125], 'n_bands': 6, 'n_chips': 331, 'n_timesteps': 3, 'std': [446.0877380371094, 378.6228332519531, 331.75030517578125, 1248.6240234375, 642.62939453125, 544.0597534179688]} over 3 timesteps.\n",
      "Randomly selecting 2 samples from 58 samples.\n"
     ]
    },
    {
     "name": "stderr",
     "output_type": "stream",
     "text": [
      "LOCAL_RANK: 0 - CUDA_VISIBLE_DEVICES: [0]\n",
      "\n",
      "  | Name  | Type                   | Params\n",
      "-------------------------------------------------\n",
      "0 | model | HierarchicalClassifier | 178 M \n",
      "-------------------------------------------------\n",
      "91.8 M    Trainable params\n",
      "86.7 M    Non-trainable params\n",
      "178 M     Total params\n",
      "713.849   Total estimated model params size (MB)\n"
     ]
    },
    {
     "data": {
      "application/vnd.jupyter.widget-view+json": {
       "model_id": "dcc9fcd805594af09503363ded4aaa1a",
       "version_major": 2,
       "version_minor": 0
      },
      "text/plain": [
       "Sanity Checking: |          | 0/? [00:00<?, ?it/s]"
      ]
     },
     "metadata": {},
     "output_type": "display_data"
    },
    {
     "name": "stderr",
     "output_type": "stream",
     "text": [
      "c:\\Users\\flori\\AppData\\Local\\pypoetry\\Cache\\virtualenvs\\messis-NTiJd-Nx-py3.11\\Lib\\site-packages\\pytorch_lightning\\trainer\\connectors\\data_connector.py:436: Consider setting `persistent_workers=True` in 'val_dataloader' to speed up the dataloader worker initialization.\n",
      "c:\\Users\\flori\\AppData\\Local\\pypoetry\\Cache\\virtualenvs\\messis-NTiJd-Nx-py3.11\\Lib\\site-packages\\torch\\nn\\modules\\conv.py:605: UserWarning: Plan failed with a cudnnException: CUDNN_BACKEND_EXECUTION_PLAN_DESCRIPTOR: cudnnFinalize Descriptor Failed cudnn_status: CUDNN_STATUS_NOT_SUPPORTED (Triggered internally at ..\\aten\\src\\ATen\\native\\cudnn\\Conv_v8.cpp:919.)\n",
      "  return F.conv3d(\n",
      "c:\\Users\\flori\\AppData\\Local\\pypoetry\\Cache\\virtualenvs\\messis-NTiJd-Nx-py3.11\\Lib\\site-packages\\timm\\models\\vision_transformer.py:91: UserWarning: 1Torch was not compiled with flash attention. (Triggered internally at ..\\aten\\src\\ATen\\native\\transformers\\cuda\\sdp_utils.cpp:455.)\n",
      "  x = F.scaled_dot_product_attention(\n",
      "c:\\Users\\flori\\AppData\\Local\\pypoetry\\Cache\\virtualenvs\\messis-NTiJd-Nx-py3.11\\Lib\\site-packages\\pytorch_lightning\\trainer\\connectors\\data_connector.py:436: Consider setting `persistent_workers=True` in 'train_dataloader' to speed up the dataloader worker initialization.\n"
     ]
    },
    {
     "data": {
      "application/vnd.jupyter.widget-view+json": {
       "model_id": "246a83f6d3bd4a919118087419e3056f",
       "version_major": 2,
       "version_minor": 0
      },
      "text/plain": [
       "Training: |          | 0/? [00:00<?, ?it/s]"
      ]
     },
     "metadata": {},
     "output_type": "display_data"
    },
    {
     "name": "stdout",
     "output_type": "stream",
     "text": [
      "SHAPE TARGETS: torch.Size([4, 2, 224, 224])\n",
      "SHAPE ORIGINAL PREDS: torch.Size([4, 2, 224, 224])\n",
      "SHAPE TARGETS: torch.Size([4, 2, 224, 224])\n",
      "SHAPE ORIGINAL PREDS: torch.Size([4, 2, 224, 224])\n",
      "CONF_MATRIX: shapes field_ids: torch.Size([1, 2, 224, 224]), original_preds: torch.Size([2, 224, 224]), len original_preds: 4\n",
      "Updating confusion matrix for train tier1 pre_majority\n",
      "Updating confusion matrix for train tier2 pre_majority\n",
      "Updating confusion matrix for train tier3 pre_majority\n",
      "Updating confusion matrix for train tier3_refined pre_majority\n",
      "Updating confusion matrix for train tier1 post_majority\n",
      "Updating confusion matrix for train tier2 post_majority\n",
      "Updating confusion matrix for train tier3 post_majority\n",
      "Updating confusion matrix for train tier3_refined post_majority\n",
      "SHAPE TARGETS: torch.Size([4, 2, 224, 224])\n",
      "SHAPE ORIGINAL PREDS: torch.Size([4, 2, 224, 224])\n",
      "SHAPE TARGETS: torch.Size([4, 2, 224, 224])\n",
      "SHAPE ORIGINAL PREDS: torch.Size([4, 2, 224, 224])\n",
      "CONF_MATRIX: shapes field_ids: torch.Size([1, 2, 224, 224]), original_preds: torch.Size([2, 224, 224]), len original_preds: 4\n",
      "Updating confusion matrix for train tier1 pre_majority\n",
      "Updating confusion matrix for train tier2 pre_majority\n",
      "Updating confusion matrix for train tier3 pre_majority\n",
      "Updating confusion matrix for train tier3_refined pre_majority\n",
      "Updating confusion matrix for train tier1 post_majority\n",
      "Updating confusion matrix for train tier2 post_majority\n",
      "Updating confusion matrix for train tier3 post_majority\n",
      "Updating confusion matrix for train tier3_refined post_majority\n"
     ]
    },
    {
     "data": {
      "application/vnd.jupyter.widget-view+json": {
       "model_id": "5fcf38a17c624cebab045b15d71d1110",
       "version_major": 2,
       "version_minor": 0
      },
      "text/plain": [
       "Validation: |          | 0/? [00:00<?, ?it/s]"
      ]
     },
     "metadata": {},
     "output_type": "display_data"
    },
    {
     "name": "stdout",
     "output_type": "stream",
     "text": [
      "SHAPE TARGETS: torch.Size([4, 2, 224, 224])\n",
      "SHAPE ORIGINAL PREDS: torch.Size([4, 2, 224, 224])\n",
      "SHAPE TARGETS: torch.Size([4, 2, 224, 224])\n",
      "SHAPE ORIGINAL PREDS: torch.Size([4, 2, 224, 224])\n",
      "CONF_MATRIX: shapes field_ids: torch.Size([1, 2, 224, 224]), original_preds: torch.Size([2, 224, 224]), len original_preds: 4\n",
      "Updating confusion matrix for val tier1 pre_majority\n",
      "Updating confusion matrix for val tier2 pre_majority\n",
      "Updating confusion matrix for val tier3 pre_majority\n",
      "Updating confusion matrix for val tier3_refined pre_majority\n",
      "Updating confusion matrix for val tier1 post_majority\n",
      "Updating confusion matrix for val tier2 post_majority\n",
      "Updating confusion matrix for val tier3 post_majority\n",
      "Updating confusion matrix for val tier3_refined post_majority\n",
      "Logging and resetting confusion matrix for val tier1 Update count: 1\n",
      "Logging and resetting confusion matrix for val tier1 Update count: 1\n",
      "Logging and resetting confusion matrix for val tier2 Update count: 1\n",
      "Logging and resetting confusion matrix for val tier2 Update count: 1\n",
      "Logging and resetting confusion matrix for val tier3 Update count: 1\n",
      "Logging and resetting confusion matrix for val tier3 Update count: 1\n",
      "Logging and resetting confusion matrix for val tier3_refined Update count: 1\n",
      "Logging and resetting confusion matrix for val tier3_refined Update count: 1\n",
      "Logging and resetting confusion matrix for train tier1 Update count: 2\n",
      "Logging and resetting confusion matrix for train tier1 Update count: 2\n",
      "Logging and resetting confusion matrix for train tier2 Update count: 2\n",
      "Logging and resetting confusion matrix for train tier2 Update count: 2\n",
      "Logging and resetting confusion matrix for train tier3 Update count: 2\n",
      "Logging and resetting confusion matrix for train tier3 Update count: 2\n",
      "Logging and resetting confusion matrix for train tier3_refined Update count: 2\n",
      "Logging and resetting confusion matrix for train tier3_refined Update count: 2\n",
      "SHAPE TARGETS: torch.Size([4, 2, 224, 224])\n",
      "SHAPE ORIGINAL PREDS: torch.Size([4, 2, 224, 224])\n",
      "SHAPE TARGETS: torch.Size([4, 2, 224, 224])\n",
      "SHAPE ORIGINAL PREDS: torch.Size([4, 2, 224, 224])\n",
      "CONF_MATRIX: shapes field_ids: torch.Size([1, 2, 224, 224]), original_preds: torch.Size([2, 224, 224]), len original_preds: 4\n",
      "Updating confusion matrix for train tier1 pre_majority\n",
      "Updating confusion matrix for train tier2 pre_majority\n",
      "Updating confusion matrix for train tier3 pre_majority\n",
      "Updating confusion matrix for train tier3_refined pre_majority\n",
      "Updating confusion matrix for train tier1 post_majority\n",
      "Updating confusion matrix for train tier2 post_majority\n",
      "Updating confusion matrix for train tier3 post_majority\n",
      "Updating confusion matrix for train tier3_refined post_majority\n",
      "SHAPE TARGETS: torch.Size([4, 2, 224, 224])\n",
      "SHAPE ORIGINAL PREDS: torch.Size([4, 2, 224, 224])\n",
      "SHAPE TARGETS: torch.Size([4, 2, 224, 224])\n",
      "SHAPE ORIGINAL PREDS: torch.Size([4, 2, 224, 224])\n",
      "CONF_MATRIX: shapes field_ids: torch.Size([1, 2, 224, 224]), original_preds: torch.Size([2, 224, 224]), len original_preds: 4\n",
      "Updating confusion matrix for train tier1 pre_majority\n",
      "Updating confusion matrix for train tier2 pre_majority\n",
      "Updating confusion matrix for train tier3 pre_majority\n",
      "Updating confusion matrix for train tier3_refined pre_majority\n",
      "Updating confusion matrix for train tier1 post_majority\n",
      "Updating confusion matrix for train tier2 post_majority\n",
      "Updating confusion matrix for train tier3 post_majority\n",
      "Updating confusion matrix for train tier3_refined post_majority\n"
     ]
    },
    {
     "data": {
      "application/vnd.jupyter.widget-view+json": {
       "model_id": "7d50dd4d9ab54e11b2350c27fb0b3bba",
       "version_major": 2,
       "version_minor": 0
      },
      "text/plain": [
       "Validation: |          | 0/? [00:00<?, ?it/s]"
      ]
     },
     "metadata": {},
     "output_type": "display_data"
    },
    {
     "name": "stdout",
     "output_type": "stream",
     "text": [
      "SHAPE TARGETS: torch.Size([4, 2, 224, 224])\n",
      "SHAPE ORIGINAL PREDS: torch.Size([4, 2, 224, 224])\n",
      "SHAPE TARGETS: torch.Size([4, 2, 224, 224])\n",
      "SHAPE ORIGINAL PREDS: torch.Size([4, 2, 224, 224])\n",
      "CONF_MATRIX: shapes field_ids: torch.Size([1, 2, 224, 224]), original_preds: torch.Size([2, 224, 224]), len original_preds: 4\n",
      "Updating confusion matrix for val tier1 pre_majority\n",
      "Updating confusion matrix for val tier2 pre_majority\n",
      "Updating confusion matrix for val tier3 pre_majority\n",
      "Updating confusion matrix for val tier3_refined pre_majority\n",
      "Updating confusion matrix for val tier1 post_majority\n",
      "Updating confusion matrix for val tier2 post_majority\n",
      "Updating confusion matrix for val tier3 post_majority\n",
      "Updating confusion matrix for val tier3_refined post_majority\n",
      "Logging and resetting confusion matrix for val tier1 Update count: 1\n",
      "Logging and resetting confusion matrix for val tier1 Update count: 1\n",
      "Logging and resetting confusion matrix for val tier2 Update count: 1\n",
      "Logging and resetting confusion matrix for val tier2 Update count: 1\n",
      "Logging and resetting confusion matrix for val tier3 Update count: 1\n",
      "Logging and resetting confusion matrix for val tier3 Update count: 1\n",
      "Logging and resetting confusion matrix for val tier3_refined Update count: 1\n",
      "Logging and resetting confusion matrix for val tier3_refined Update count: 1\n",
      "Logging and resetting confusion matrix for train tier1 Update count: 2\n",
      "Logging and resetting confusion matrix for train tier1 Update count: 2\n",
      "Logging and resetting confusion matrix for train tier2 Update count: 2\n",
      "Logging and resetting confusion matrix for train tier2 Update count: 2\n",
      "Logging and resetting confusion matrix for train tier3 Update count: 2\n",
      "Logging and resetting confusion matrix for train tier3 Update count: 2\n",
      "Logging and resetting confusion matrix for train tier3_refined Update count: 2\n",
      "Logging and resetting confusion matrix for train tier3_refined Update count: 2\n",
      "SHAPE TARGETS: torch.Size([4, 2, 224, 224])\n",
      "SHAPE ORIGINAL PREDS: torch.Size([4, 2, 224, 224])\n",
      "SHAPE TARGETS: torch.Size([4, 2, 224, 224])\n",
      "SHAPE ORIGINAL PREDS: torch.Size([4, 2, 224, 224])\n",
      "CONF_MATRIX: shapes field_ids: torch.Size([1, 2, 224, 224]), original_preds: torch.Size([2, 224, 224]), len original_preds: 4\n",
      "Updating confusion matrix for train tier1 pre_majority\n",
      "Updating confusion matrix for train tier2 pre_majority\n",
      "Updating confusion matrix for train tier3 pre_majority\n",
      "Updating confusion matrix for train tier3_refined pre_majority\n",
      "Updating confusion matrix for train tier1 post_majority\n",
      "Updating confusion matrix for train tier2 post_majority\n",
      "Updating confusion matrix for train tier3 post_majority\n",
      "Updating confusion matrix for train tier3_refined post_majority\n",
      "SHAPE TARGETS: torch.Size([4, 2, 224, 224])\n",
      "SHAPE ORIGINAL PREDS: torch.Size([4, 2, 224, 224])\n",
      "SHAPE TARGETS: torch.Size([4, 2, 224, 224])\n",
      "SHAPE ORIGINAL PREDS: torch.Size([4, 2, 224, 224])\n",
      "CONF_MATRIX: shapes field_ids: torch.Size([1, 2, 224, 224]), original_preds: torch.Size([2, 224, 224]), len original_preds: 4\n",
      "Updating confusion matrix for train tier1 pre_majority\n",
      "Updating confusion matrix for train tier2 pre_majority\n",
      "Updating confusion matrix for train tier3 pre_majority\n",
      "Updating confusion matrix for train tier3_refined pre_majority\n",
      "Updating confusion matrix for train tier1 post_majority\n",
      "Updating confusion matrix for train tier2 post_majority\n",
      "Updating confusion matrix for train tier3 post_majority\n",
      "Updating confusion matrix for train tier3_refined post_majority\n"
     ]
    },
    {
     "data": {
      "application/vnd.jupyter.widget-view+json": {
       "model_id": "5013ff745ba14c038aba41ce413e35ea",
       "version_major": 2,
       "version_minor": 0
      },
      "text/plain": [
       "Validation: |          | 0/? [00:00<?, ?it/s]"
      ]
     },
     "metadata": {},
     "output_type": "display_data"
    },
    {
     "name": "stdout",
     "output_type": "stream",
     "text": [
      "SHAPE TARGETS: torch.Size([4, 2, 224, 224])\n",
      "SHAPE ORIGINAL PREDS: torch.Size([4, 2, 224, 224])\n",
      "SHAPE TARGETS: torch.Size([4, 2, 224, 224])\n",
      "SHAPE ORIGINAL PREDS: torch.Size([4, 2, 224, 224])\n",
      "CONF_MATRIX: shapes field_ids: torch.Size([1, 2, 224, 224]), original_preds: torch.Size([2, 224, 224]), len original_preds: 4\n",
      "Updating confusion matrix for val tier1 pre_majority\n",
      "Updating confusion matrix for val tier2 pre_majority\n",
      "Updating confusion matrix for val tier3 pre_majority\n",
      "Updating confusion matrix for val tier3_refined pre_majority\n",
      "Updating confusion matrix for val tier1 post_majority\n",
      "Updating confusion matrix for val tier2 post_majority\n",
      "Updating confusion matrix for val tier3 post_majority\n",
      "Updating confusion matrix for val tier3_refined post_majority\n",
      "Logging and resetting confusion matrix for val tier1 Update count: 1\n",
      "Logging and resetting confusion matrix for val tier1 Update count: 1\n",
      "Logging and resetting confusion matrix for val tier2 Update count: 1\n",
      "Logging and resetting confusion matrix for val tier2 Update count: 1\n",
      "Logging and resetting confusion matrix for val tier3 Update count: 1\n",
      "Logging and resetting confusion matrix for val tier3 Update count: 1\n",
      "Logging and resetting confusion matrix for val tier3_refined Update count: 1\n",
      "Logging and resetting confusion matrix for val tier3_refined Update count: 1\n",
      "Logging and resetting confusion matrix for train tier1 Update count: 2\n",
      "Logging and resetting confusion matrix for train tier1 Update count: 2\n",
      "Logging and resetting confusion matrix for train tier2 Update count: 2\n",
      "Logging and resetting confusion matrix for train tier2 Update count: 2\n",
      "Logging and resetting confusion matrix for train tier3 Update count: 2\n",
      "Logging and resetting confusion matrix for train tier3 Update count: 2\n",
      "Logging and resetting confusion matrix for train tier3_refined Update count: 2\n",
      "Logging and resetting confusion matrix for train tier3_refined Update count: 2\n",
      "SHAPE TARGETS: torch.Size([4, 2, 224, 224])\n",
      "SHAPE ORIGINAL PREDS: torch.Size([4, 2, 224, 224])\n",
      "SHAPE TARGETS: torch.Size([4, 2, 224, 224])\n",
      "SHAPE ORIGINAL PREDS: torch.Size([4, 2, 224, 224])\n",
      "CONF_MATRIX: shapes field_ids: torch.Size([1, 2, 224, 224]), original_preds: torch.Size([2, 224, 224]), len original_preds: 4\n",
      "Updating confusion matrix for train tier1 pre_majority\n",
      "Updating confusion matrix for train tier2 pre_majority\n",
      "Updating confusion matrix for train tier3 pre_majority\n",
      "Updating confusion matrix for train tier3_refined pre_majority\n",
      "Updating confusion matrix for train tier1 post_majority\n",
      "Updating confusion matrix for train tier2 post_majority\n",
      "Updating confusion matrix for train tier3 post_majority\n",
      "Updating confusion matrix for train tier3_refined post_majority\n",
      "SHAPE TARGETS: torch.Size([4, 2, 224, 224])\n",
      "SHAPE ORIGINAL PREDS: torch.Size([4, 2, 224, 224])\n",
      "SHAPE TARGETS: torch.Size([4, 2, 224, 224])\n",
      "SHAPE ORIGINAL PREDS: torch.Size([4, 2, 224, 224])\n",
      "CONF_MATRIX: shapes field_ids: torch.Size([1, 2, 224, 224]), original_preds: torch.Size([2, 224, 224]), len original_preds: 4\n",
      "Updating confusion matrix for train tier1 pre_majority\n",
      "Updating confusion matrix for train tier2 pre_majority\n",
      "Updating confusion matrix for train tier3 pre_majority\n",
      "Updating confusion matrix for train tier3_refined pre_majority\n",
      "Updating confusion matrix for train tier1 post_majority\n",
      "Updating confusion matrix for train tier2 post_majority\n",
      "Updating confusion matrix for train tier3 post_majority\n",
      "Updating confusion matrix for train tier3_refined post_majority\n"
     ]
    },
    {
     "data": {
      "application/vnd.jupyter.widget-view+json": {
       "model_id": "a1aef171f78740818b57d283f9d02de5",
       "version_major": 2,
       "version_minor": 0
      },
      "text/plain": [
       "Validation: |          | 0/? [00:00<?, ?it/s]"
      ]
     },
     "metadata": {},
     "output_type": "display_data"
    },
    {
     "name": "stdout",
     "output_type": "stream",
     "text": [
      "SHAPE TARGETS: torch.Size([4, 2, 224, 224])\n",
      "SHAPE ORIGINAL PREDS: torch.Size([4, 2, 224, 224])\n",
      "SHAPE TARGETS: torch.Size([4, 2, 224, 224])\n",
      "SHAPE ORIGINAL PREDS: torch.Size([4, 2, 224, 224])\n",
      "CONF_MATRIX: shapes field_ids: torch.Size([1, 2, 224, 224]), original_preds: torch.Size([2, 224, 224]), len original_preds: 4\n",
      "Updating confusion matrix for val tier1 pre_majority\n",
      "Updating confusion matrix for val tier2 pre_majority\n",
      "Updating confusion matrix for val tier3 pre_majority\n",
      "Updating confusion matrix for val tier3_refined pre_majority\n",
      "Updating confusion matrix for val tier1 post_majority\n",
      "Updating confusion matrix for val tier2 post_majority\n",
      "Updating confusion matrix for val tier3 post_majority\n",
      "Updating confusion matrix for val tier3_refined post_majority\n",
      "Logging and resetting confusion matrix for val tier1 Update count: 1\n",
      "Logging and resetting confusion matrix for val tier1 Update count: 1\n",
      "Logging and resetting confusion matrix for val tier2 Update count: 1\n",
      "Logging and resetting confusion matrix for val tier2 Update count: 1\n",
      "Logging and resetting confusion matrix for val tier3 Update count: 1\n",
      "Logging and resetting confusion matrix for val tier3 Update count: 1\n",
      "Logging and resetting confusion matrix for val tier3_refined Update count: 1\n",
      "Logging and resetting confusion matrix for val tier3_refined Update count: 1\n",
      "Logging and resetting confusion matrix for train tier1 Update count: 2\n",
      "Logging and resetting confusion matrix for train tier1 Update count: 2\n",
      "Logging and resetting confusion matrix for train tier2 Update count: 2\n",
      "Logging and resetting confusion matrix for train tier2 Update count: 2\n",
      "Logging and resetting confusion matrix for train tier3 Update count: 2\n",
      "Logging and resetting confusion matrix for train tier3 Update count: 2\n",
      "Logging and resetting confusion matrix for train tier3_refined Update count: 2\n",
      "Logging and resetting confusion matrix for train tier3_refined Update count: 2\n",
      "SHAPE TARGETS: torch.Size([4, 2, 224, 224])\n",
      "SHAPE ORIGINAL PREDS: torch.Size([4, 2, 224, 224])\n",
      "SHAPE TARGETS: torch.Size([4, 2, 224, 224])\n",
      "SHAPE ORIGINAL PREDS: torch.Size([4, 2, 224, 224])\n",
      "CONF_MATRIX: shapes field_ids: torch.Size([1, 2, 224, 224]), original_preds: torch.Size([2, 224, 224]), len original_preds: 4\n",
      "Updating confusion matrix for train tier1 pre_majority\n",
      "Updating confusion matrix for train tier2 pre_majority\n",
      "Updating confusion matrix for train tier3 pre_majority\n",
      "Updating confusion matrix for train tier3_refined pre_majority\n",
      "Updating confusion matrix for train tier1 post_majority\n",
      "Updating confusion matrix for train tier2 post_majority\n",
      "Updating confusion matrix for train tier3 post_majority\n",
      "Updating confusion matrix for train tier3_refined post_majority\n",
      "SHAPE TARGETS: torch.Size([4, 2, 224, 224])\n",
      "SHAPE ORIGINAL PREDS: torch.Size([4, 2, 224, 224])\n",
      "SHAPE TARGETS: torch.Size([4, 2, 224, 224])\n",
      "SHAPE ORIGINAL PREDS: torch.Size([4, 2, 224, 224])\n",
      "CONF_MATRIX: shapes field_ids: torch.Size([1, 2, 224, 224]), original_preds: torch.Size([2, 224, 224]), len original_preds: 4\n",
      "Updating confusion matrix for train tier1 pre_majority\n",
      "Updating confusion matrix for train tier2 pre_majority\n",
      "Updating confusion matrix for train tier3 pre_majority\n",
      "Updating confusion matrix for train tier3_refined pre_majority\n",
      "Updating confusion matrix for train tier1 post_majority\n",
      "Updating confusion matrix for train tier2 post_majority\n",
      "Updating confusion matrix for train tier3 post_majority\n",
      "Updating confusion matrix for train tier3_refined post_majority\n"
     ]
    },
    {
     "data": {
      "application/vnd.jupyter.widget-view+json": {
       "model_id": "e0d49710b3da45f3b97bd7a3fed35380",
       "version_major": 2,
       "version_minor": 0
      },
      "text/plain": [
       "Validation: |          | 0/? [00:00<?, ?it/s]"
      ]
     },
     "metadata": {},
     "output_type": "display_data"
    },
    {
     "name": "stdout",
     "output_type": "stream",
     "text": [
      "SHAPE TARGETS: torch.Size([4, 2, 224, 224])\n",
      "SHAPE ORIGINAL PREDS: torch.Size([4, 2, 224, 224])\n",
      "SHAPE TARGETS: torch.Size([4, 2, 224, 224])\n",
      "SHAPE ORIGINAL PREDS: torch.Size([4, 2, 224, 224])\n",
      "CONF_MATRIX: shapes field_ids: torch.Size([1, 2, 224, 224]), original_preds: torch.Size([2, 224, 224]), len original_preds: 4\n",
      "Updating confusion matrix for val tier1 pre_majority\n",
      "Updating confusion matrix for val tier2 pre_majority\n",
      "Updating confusion matrix for val tier3 pre_majority\n",
      "Updating confusion matrix for val tier3_refined pre_majority\n",
      "Updating confusion matrix for val tier1 post_majority\n",
      "Updating confusion matrix for val tier2 post_majority\n",
      "Updating confusion matrix for val tier3 post_majority\n",
      "Updating confusion matrix for val tier3_refined post_majority\n",
      "Logging and resetting confusion matrix for val tier1 Update count: 1\n",
      "Logging and resetting confusion matrix for val tier1 Update count: 1\n",
      "Logging and resetting confusion matrix for val tier2 Update count: 1\n",
      "Logging and resetting confusion matrix for val tier2 Update count: 1\n",
      "Logging and resetting confusion matrix for val tier3 Update count: 1\n",
      "Logging and resetting confusion matrix for val tier3 Update count: 1\n",
      "Logging and resetting confusion matrix for val tier3_refined Update count: 1\n",
      "Logging and resetting confusion matrix for val tier3_refined Update count: 1\n",
      "Logging and resetting confusion matrix for train tier1 Update count: 2\n",
      "Logging and resetting confusion matrix for train tier1 Update count: 2\n",
      "Logging and resetting confusion matrix for train tier2 Update count: 2\n",
      "Logging and resetting confusion matrix for train tier2 Update count: 2\n",
      "Logging and resetting confusion matrix for train tier3 Update count: 2\n",
      "Logging and resetting confusion matrix for train tier3 Update count: 2\n",
      "Logging and resetting confusion matrix for train tier3_refined Update count: 2\n",
      "Logging and resetting confusion matrix for train tier3_refined Update count: 2\n"
     ]
    },
    {
     "name": "stderr",
     "output_type": "stream",
     "text": [
      "`Trainer.fit` stopped: `max_epochs=5` reached.\n"
     ]
    }
   ],
   "source": [
    "trainer.fit(model, datamodule=data_module)"
   ]
  }
 ],
 "metadata": {
  "kernelspec": {
   "display_name": "messis-E9xOSKpc-py3.12",
   "language": "python",
   "name": "python3"
  },
  "language_info": {
   "codemirror_mode": {
    "name": "ipython",
    "version": 3
   },
   "file_extension": ".py",
   "mimetype": "text/x-python",
   "name": "python",
   "nbconvert_exporter": "python",
   "pygments_lexer": "ipython3",
   "version": "3.11.5"
  }
 },
 "nbformat": 4,
 "nbformat_minor": 2
}
