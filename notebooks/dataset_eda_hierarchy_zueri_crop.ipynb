{
 "cells": [
  {
   "cell_type": "code",
   "execution_count": 2,
   "metadata": {},
   "outputs": [],
   "source": [
    "import sys\n",
    "sys.path.append('..')"
   ]
  },
  {
   "cell_type": "code",
   "execution_count": 3,
   "metadata": {},
   "outputs": [],
   "source": [
    "import matplotlib.pyplot as plt\n",
    "import numpy as np\n",
    "from tqdm import tqdm\n",
    "import pandas as pd\n",
    "import dvc.api\n",
    "import plotly.graph_objects as go\n",
    "from plotly.subplots import make_subplots\n",
    "import random\n",
    "\n",
    "from messis.dataloader import GeospatialDataModule\n",
    "\n",
    "\n",
    "params = dvc.api.params_show()"
   ]
  },
  {
   "cell_type": "code",
   "execution_count": 4,
   "metadata": {},
   "outputs": [],
   "source": [
    "N_FOLDS = params['number_of_folds']"
   ]
  },
  {
   "cell_type": "code",
   "execution_count": 5,
   "metadata": {},
   "outputs": [
    {
     "name": "stdout",
     "output_type": "stream",
     "text": [
      "Setting up GeospatialDataModule for stage: None. Data augmentation config: {}\n",
      "Loading mean/std stats from ../data/chips_stats.yaml\n",
      "Stats with selected test fold 2: {'mean': [595.99267578125, 713.2423095703125, 463.3600769042969, 3254.49365234375, 2052.75341796875, 1235.46728515625], 'n_chips': 72, 'std': [475.7698669433594, 355.9685363769531, 306.638916015625, 992.8778076171875, 664.3575439453125, 625.2156982421875]} over 3 timesteps.\n",
      "Stats with selected test fold 3: {'mean': [578.3800048828125, 698.818115234375, 451.2181701660156, 3247.546630859375, 2032.6630859375, 1212.0892333984375], 'n_chips': 71, 'std': [466.3754577636719, 347.2801818847656, 291.08740234375, 1034.5704345703125, 700.0662231445312, 633.8863525390625]} over 3 timesteps.\n",
      "Stats with selected test fold 4: {'mean': [584.6406860351562, 700.8829345703125, 453.0602722167969, 3255.5595703125, 2039.8341064453125, 1224.87939453125], 'n_chips': 71, 'std': [472.0898132324219, 350.0068054199219, 293.4269714355469, 1018.218505859375, 698.7775268554688, 642.0697631835938]} over 3 timesteps.\n",
      "Stats with selected test fold 5: {'mean': [587.9697875976562, 710.2941284179688, 467.17132568359375, 3128.857421875, 1985.11474609375, 1203.212158203125], 'n_chips': 71, 'std': [475.140869140625, 353.3099365234375, 300.96661376953125, 1177.564453125, 763.455078125, 654.4092407226562]} over 3 timesteps.\n",
      "Loading mean/std stats from ../data/chips_stats.yaml\n",
      "Stats with selected test fold 1: {'mean': [599.7760620117188, 719.6165161132812, 470.88873291015625, 3222.4853515625, 2038.997314453125, 1230.9952392578125], 'n_chips': 72, 'std': [487.19024658203125, 366.2668151855469, 318.608642578125, 1085.8563232421875, 712.476318359375, 643.4049072265625]} over 3 timesteps.\n",
      "Loading mean/std stats from ../data/chips_stats.yaml\n",
      "Stats with selected test fold 0: {'mean': [590.05908203125, 709.8937377929688, 458.512939453125, 3238.814697265625, 2042.9244384765625, 1229.2652587890625], 'n_chips': 72, 'std': [465.9857482910156, 343.3649597167969, 288.4274597167969, 1064.413330078125, 706.2705688476562, 633.884033203125]} over 3 timesteps.\n",
      "Setting up GeospatialDataModule for stage: None. Data augmentation config: {}\n",
      "Loading mean/std stats from ../data/chips_stats.yaml\n",
      "Stats with selected test fold 0: {'mean': [590.05908203125, 709.8937377929688, 458.512939453125, 3238.814697265625, 2042.9244384765625, 1229.2652587890625], 'n_chips': 72, 'std': [465.9857482910156, 343.3649597167969, 288.4274597167969, 1064.413330078125, 706.2705688476562, 633.884033203125]} over 3 timesteps.\n",
      "Stats with selected test fold 3: {'mean': [578.3800048828125, 698.818115234375, 451.2181701660156, 3247.546630859375, 2032.6630859375, 1212.0892333984375], 'n_chips': 71, 'std': [466.3754577636719, 347.2801818847656, 291.08740234375, 1034.5704345703125, 700.0662231445312, 633.8863525390625]} over 3 timesteps.\n",
      "Stats with selected test fold 4: {'mean': [584.6406860351562, 700.8829345703125, 453.0602722167969, 3255.5595703125, 2039.8341064453125, 1224.87939453125], 'n_chips': 71, 'std': [472.0898132324219, 350.0068054199219, 293.4269714355469, 1018.218505859375, 698.7775268554688, 642.0697631835938]} over 3 timesteps.\n",
      "Stats with selected test fold 5: {'mean': [587.9697875976562, 710.2941284179688, 467.17132568359375, 3128.857421875, 1985.11474609375, 1203.212158203125], 'n_chips': 71, 'std': [475.140869140625, 353.3099365234375, 300.96661376953125, 1177.564453125, 763.455078125, 654.4092407226562]} over 3 timesteps.\n",
      "Loading mean/std stats from ../data/chips_stats.yaml\n",
      "Stats with selected test fold 2: {'mean': [595.99267578125, 713.2423095703125, 463.3600769042969, 3254.49365234375, 2052.75341796875, 1235.46728515625], 'n_chips': 72, 'std': [475.7698669433594, 355.9685363769531, 306.638916015625, 992.8778076171875, 664.3575439453125, 625.2156982421875]} over 3 timesteps.\n",
      "Loading mean/std stats from ../data/chips_stats.yaml\n",
      "Stats with selected test fold 1: {'mean': [599.7760620117188, 719.6165161132812, 470.88873291015625, 3222.4853515625, 2038.997314453125, 1230.9952392578125], 'n_chips': 72, 'std': [487.19024658203125, 366.2668151855469, 318.608642578125, 1085.8563232421875, 712.476318359375, 643.4049072265625]} over 3 timesteps.\n",
      "Setting up GeospatialDataModule for stage: None. Data augmentation config: {}\n",
      "Loading mean/std stats from ../data/chips_stats.yaml\n",
      "Stats with selected test fold 0: {'mean': [590.05908203125, 709.8937377929688, 458.512939453125, 3238.814697265625, 2042.9244384765625, 1229.2652587890625], 'n_chips': 72, 'std': [465.9857482910156, 343.3649597167969, 288.4274597167969, 1064.413330078125, 706.2705688476562, 633.884033203125]} over 3 timesteps.\n",
      "Stats with selected test fold 1: {'mean': [599.7760620117188, 719.6165161132812, 470.88873291015625, 3222.4853515625, 2038.997314453125, 1230.9952392578125], 'n_chips': 72, 'std': [487.19024658203125, 366.2668151855469, 318.608642578125, 1085.8563232421875, 712.476318359375, 643.4049072265625]} over 3 timesteps.\n",
      "Stats with selected test fold 4: {'mean': [584.6406860351562, 700.8829345703125, 453.0602722167969, 3255.5595703125, 2039.8341064453125, 1224.87939453125], 'n_chips': 71, 'std': [472.0898132324219, 350.0068054199219, 293.4269714355469, 1018.218505859375, 698.7775268554688, 642.0697631835938]} over 3 timesteps.\n",
      "Stats with selected test fold 5: {'mean': [587.9697875976562, 710.2941284179688, 467.17132568359375, 3128.857421875, 1985.11474609375, 1203.212158203125], 'n_chips': 71, 'std': [475.140869140625, 353.3099365234375, 300.96661376953125, 1177.564453125, 763.455078125, 654.4092407226562]} over 3 timesteps.\n",
      "Loading mean/std stats from ../data/chips_stats.yaml\n",
      "Stats with selected test fold 3: {'mean': [578.3800048828125, 698.818115234375, 451.2181701660156, 3247.546630859375, 2032.6630859375, 1212.0892333984375], 'n_chips': 71, 'std': [466.3754577636719, 347.2801818847656, 291.08740234375, 1034.5704345703125, 700.0662231445312, 633.8863525390625]} over 3 timesteps.\n",
      "Loading mean/std stats from ../data/chips_stats.yaml\n",
      "Stats with selected test fold 2: {'mean': [595.99267578125, 713.2423095703125, 463.3600769042969, 3254.49365234375, 2052.75341796875, 1235.46728515625], 'n_chips': 72, 'std': [475.7698669433594, 355.9685363769531, 306.638916015625, 992.8778076171875, 664.3575439453125, 625.2156982421875]} over 3 timesteps.\n",
      "Setting up GeospatialDataModule for stage: None. Data augmentation config: {}\n",
      "Loading mean/std stats from ../data/chips_stats.yaml\n",
      "Stats with selected test fold 0: {'mean': [590.05908203125, 709.8937377929688, 458.512939453125, 3238.814697265625, 2042.9244384765625, 1229.2652587890625], 'n_chips': 72, 'std': [465.9857482910156, 343.3649597167969, 288.4274597167969, 1064.413330078125, 706.2705688476562, 633.884033203125]} over 3 timesteps.\n",
      "Stats with selected test fold 1: {'mean': [599.7760620117188, 719.6165161132812, 470.88873291015625, 3222.4853515625, 2038.997314453125, 1230.9952392578125], 'n_chips': 72, 'std': [487.19024658203125, 366.2668151855469, 318.608642578125, 1085.8563232421875, 712.476318359375, 643.4049072265625]} over 3 timesteps.\n",
      "Stats with selected test fold 2: {'mean': [595.99267578125, 713.2423095703125, 463.3600769042969, 3254.49365234375, 2052.75341796875, 1235.46728515625], 'n_chips': 72, 'std': [475.7698669433594, 355.9685363769531, 306.638916015625, 992.8778076171875, 664.3575439453125, 625.2156982421875]} over 3 timesteps.\n",
      "Stats with selected test fold 5: {'mean': [587.9697875976562, 710.2941284179688, 467.17132568359375, 3128.857421875, 1985.11474609375, 1203.212158203125], 'n_chips': 71, 'std': [475.140869140625, 353.3099365234375, 300.96661376953125, 1177.564453125, 763.455078125, 654.4092407226562]} over 3 timesteps.\n",
      "Loading mean/std stats from ../data/chips_stats.yaml\n",
      "Stats with selected test fold 4: {'mean': [584.6406860351562, 700.8829345703125, 453.0602722167969, 3255.5595703125, 2039.8341064453125, 1224.87939453125], 'n_chips': 71, 'std': [472.0898132324219, 350.0068054199219, 293.4269714355469, 1018.218505859375, 698.7775268554688, 642.0697631835938]} over 3 timesteps.\n",
      "Loading mean/std stats from ../data/chips_stats.yaml\n",
      "Stats with selected test fold 3: {'mean': [578.3800048828125, 698.818115234375, 451.2181701660156, 3247.546630859375, 2032.6630859375, 1212.0892333984375], 'n_chips': 71, 'std': [466.3754577636719, 347.2801818847656, 291.08740234375, 1034.5704345703125, 700.0662231445312, 633.8863525390625]} over 3 timesteps.\n",
      "Setting up GeospatialDataModule for stage: None. Data augmentation config: {}\n",
      "Loading mean/std stats from ../data/chips_stats.yaml\n",
      "Stats with selected test fold 0: {'mean': [590.05908203125, 709.8937377929688, 458.512939453125, 3238.814697265625, 2042.9244384765625, 1229.2652587890625], 'n_chips': 72, 'std': [465.9857482910156, 343.3649597167969, 288.4274597167969, 1064.413330078125, 706.2705688476562, 633.884033203125]} over 3 timesteps.\n",
      "Stats with selected test fold 1: {'mean': [599.7760620117188, 719.6165161132812, 470.88873291015625, 3222.4853515625, 2038.997314453125, 1230.9952392578125], 'n_chips': 72, 'std': [487.19024658203125, 366.2668151855469, 318.608642578125, 1085.8563232421875, 712.476318359375, 643.4049072265625]} over 3 timesteps.\n",
      "Stats with selected test fold 2: {'mean': [595.99267578125, 713.2423095703125, 463.3600769042969, 3254.49365234375, 2052.75341796875, 1235.46728515625], 'n_chips': 72, 'std': [475.7698669433594, 355.9685363769531, 306.638916015625, 992.8778076171875, 664.3575439453125, 625.2156982421875]} over 3 timesteps.\n",
      "Stats with selected test fold 3: {'mean': [578.3800048828125, 698.818115234375, 451.2181701660156, 3247.546630859375, 2032.6630859375, 1212.0892333984375], 'n_chips': 71, 'std': [466.3754577636719, 347.2801818847656, 291.08740234375, 1034.5704345703125, 700.0662231445312, 633.8863525390625]} over 3 timesteps.\n",
      "Loading mean/std stats from ../data/chips_stats.yaml\n",
      "Stats with selected test fold 5: {'mean': [587.9697875976562, 710.2941284179688, 467.17132568359375, 3128.857421875, 1985.11474609375, 1203.212158203125], 'n_chips': 71, 'std': [475.140869140625, 353.3099365234375, 300.96661376953125, 1177.564453125, 763.455078125, 654.4092407226562]} over 3 timesteps.\n",
      "Loading mean/std stats from ../data/chips_stats.yaml\n",
      "Stats with selected test fold 4: {'mean': [584.6406860351562, 700.8829345703125, 453.0602722167969, 3255.5595703125, 2039.8341064453125, 1224.87939453125], 'n_chips': 71, 'std': [472.0898132324219, 350.0068054199219, 293.4269714355469, 1018.218505859375, 698.7775268554688, 642.0697631835938]} over 3 timesteps.\n",
      "Setting up GeospatialDataModule for stage: None. Data augmentation config: {}\n",
      "Loading mean/std stats from ../data/chips_stats.yaml\n",
      "Stats with selected test fold 1: {'mean': [599.7760620117188, 719.6165161132812, 470.88873291015625, 3222.4853515625, 2038.997314453125, 1230.9952392578125], 'n_chips': 72, 'std': [487.19024658203125, 366.2668151855469, 318.608642578125, 1085.8563232421875, 712.476318359375, 643.4049072265625]} over 3 timesteps.\n",
      "Stats with selected test fold 2: {'mean': [595.99267578125, 713.2423095703125, 463.3600769042969, 3254.49365234375, 2052.75341796875, 1235.46728515625], 'n_chips': 72, 'std': [475.7698669433594, 355.9685363769531, 306.638916015625, 992.8778076171875, 664.3575439453125, 625.2156982421875]} over 3 timesteps.\n",
      "Stats with selected test fold 3: {'mean': [578.3800048828125, 698.818115234375, 451.2181701660156, 3247.546630859375, 2032.6630859375, 1212.0892333984375], 'n_chips': 71, 'std': [466.3754577636719, 347.2801818847656, 291.08740234375, 1034.5704345703125, 700.0662231445312, 633.8863525390625]} over 3 timesteps.\n",
      "Stats with selected test fold 4: {'mean': [584.6406860351562, 700.8829345703125, 453.0602722167969, 3255.5595703125, 2039.8341064453125, 1224.87939453125], 'n_chips': 71, 'std': [472.0898132324219, 350.0068054199219, 293.4269714355469, 1018.218505859375, 698.7775268554688, 642.0697631835938]} over 3 timesteps.\n",
      "Loading mean/std stats from ../data/chips_stats.yaml\n",
      "Stats with selected test fold 0: {'mean': [590.05908203125, 709.8937377929688, 458.512939453125, 3238.814697265625, 2042.9244384765625, 1229.2652587890625], 'n_chips': 72, 'std': [465.9857482910156, 343.3649597167969, 288.4274597167969, 1064.413330078125, 706.2705688476562, 633.884033203125]} over 3 timesteps.\n",
      "Loading mean/std stats from ../data/chips_stats.yaml\n",
      "Stats with selected test fold 5: {'mean': [587.9697875976562, 710.2941284179688, 467.17132568359375, 3128.857421875, 1985.11474609375, 1203.212158203125], 'n_chips': 71, 'std': [475.140869140625, 353.3099365234375, 300.96661376953125, 1177.564453125, 763.455078125, 654.4092407226562]} over 3 timesteps.\n"
     ]
    }
   ],
   "source": [
    "folds = []\n",
    "for i in range(N_FOLDS):\n",
    "    val_fold = (i + 1) % N_FOLDS\n",
    "\n",
    "    data_module = GeospatialDataModule(data_dir='../data/',\n",
    "                                       train_folds=list(set(range(N_FOLDS)) - {i, val_fold}),\n",
    "                                       val_folds=[val_fold],\n",
    "                                       test_folds=[i],\n",
    "                                       batch_size=12,\n",
    "                                       num_workers=1,\n",
    "                                       debug=True,\n",
    "                                       subsets=None)\n",
    "\n",
    "    data_module.setup()\n",
    "    folds.append(data_module.test_dataset)"
   ]
  },
  {
   "cell_type": "code",
   "execution_count": 6,
   "metadata": {},
   "outputs": [
    {
     "name": "stdout",
     "output_type": "stream",
     "text": [
      "Processing fold 0\n"
     ]
    },
    {
     "name": "stderr",
     "output_type": "stream",
     "text": [
      "100%|██████████| 72/72 [00:01<00:00, 44.06it/s]\n"
     ]
    },
    {
     "name": "stdout",
     "output_type": "stream",
     "text": [
      "Processing fold 1\n"
     ]
    },
    {
     "name": "stderr",
     "output_type": "stream",
     "text": [
      "100%|██████████| 72/72 [00:01<00:00, 44.16it/s]\n"
     ]
    },
    {
     "name": "stdout",
     "output_type": "stream",
     "text": [
      "Processing fold 2\n"
     ]
    },
    {
     "name": "stderr",
     "output_type": "stream",
     "text": [
      "100%|██████████| 72/72 [00:01<00:00, 44.27it/s]\n"
     ]
    },
    {
     "name": "stdout",
     "output_type": "stream",
     "text": [
      "Processing fold 3\n"
     ]
    },
    {
     "name": "stderr",
     "output_type": "stream",
     "text": [
      "100%|██████████| 71/71 [00:01<00:00, 38.77it/s]\n"
     ]
    },
    {
     "name": "stdout",
     "output_type": "stream",
     "text": [
      "Processing fold 4\n"
     ]
    },
    {
     "name": "stderr",
     "output_type": "stream",
     "text": [
      "100%|██████████| 71/71 [00:01<00:00, 41.77it/s]\n"
     ]
    },
    {
     "name": "stdout",
     "output_type": "stream",
     "text": [
      "Processing fold 5\n"
     ]
    },
    {
     "name": "stderr",
     "output_type": "stream",
     "text": [
      "100%|██████████| 71/71 [00:01<00:00, 41.61it/s]\n"
     ]
    }
   ],
   "source": [
    "pixels_by_tier_category_fold = [] # list for each fold: dict with tier as key: dict with category as key: pixel count as value\n",
    "for i in range(N_FOLDS):\n",
    "    print(f\"Processing fold {i}\")\n",
    "    pixels_by_tier_category = {\n",
    "        \"tier1\": {},\n",
    "        \"tier2\": {},\n",
    "        \"tier3\": {}\n",
    "    }\n",
    "    for batch in tqdm(folds[i]):\n",
    "        targets = batch[1][0]\n",
    "        for j, tier in enumerate(pixels_by_tier_category.keys()):\n",
    "            # get the unique values and their counts\n",
    "            unique, counts = targets[j].unique(return_counts=True)\n",
    "            # create a dictionary with the unique values and their counts\n",
    "            for clazz, count in zip(unique, counts):\n",
    "                if clazz.item() in pixels_by_tier_category[tier]:\n",
    "                    pixels_by_tier_category[tier][clazz.item()] += count.item()\n",
    "                else:\n",
    "                    pixels_by_tier_category[tier][clazz.item()] = count.item()\n",
    "            #unique_counts = {int(clazz): int(count) for clazz, count in zip(unique, counts)}\n",
    "            #print(unique_counts)\n",
    "            \n",
    "            # add the counts to the corresponding tier\n",
    "    pixels_by_tier_category_fold.append(pixels_by_tier_category)"
   ]
  },
  {
   "cell_type": "code",
   "execution_count": 7,
   "metadata": {},
   "outputs": [
    {
     "name": "stdout",
     "output_type": "stream",
     "text": [
      "len(pixels_by_tier_category_fold): 6\n",
      "len(pixels_by_tier_category_fold[0]): 3\n",
      "len(pixels_by_tier_category_fold[0]['tier1']): 6\n",
      "pixels_by_tier_category_fold[0]['tier1']: {0: 2263906, 1: 733519, 3: 18823, 4: 13457, 2: 581278, 5: 1689}\n"
     ]
    }
   ],
   "source": [
    "print(f\"len(pixels_by_tier_category_fold): {len(pixels_by_tier_category_fold)}\")\n",
    "print(f\"len(pixels_by_tier_category_fold[0]): {len(pixels_by_tier_category_fold[0])}\")\n",
    "print(f\"len(pixels_by_tier_category_fold[0]['tier1']): {len(pixels_by_tier_category_fold[0]['tier1'])}\")\n",
    "print(f\"pixels_by_tier_category_fold[0]['tier1']: {pixels_by_tier_category_fold[0]['tier1']}\")"
   ]
  },
  {
   "cell_type": "code",
   "execution_count": 8,
   "metadata": {},
   "outputs": [
    {
     "data": {
      "text/plain": [
       "['Background',\n",
       " 'Grassland',\n",
       " 'Field crops',\n",
       " 'Orchards',\n",
       " 'Special crops',\n",
       " 'Forest']"
      ]
     },
     "execution_count": 17,
     "metadata": {},
     "output_type": "execute_result"
    }
   ],
   "source": [
    "import json\n",
    "dataset_info = json.load(open('../data/dataset_info.json'))\n",
    "\n",
    "dataset_info[\"tier1\"]"
   ]
  },
  {
   "cell_type": "code",
   "execution_count": 9,
   "metadata": {},
   "outputs": [
    {
     "data": {
      "image/png": "[encoded data removed]",
      "text/plain": [
       "<Figure size 1500x1500 with 3 Axes>"
      ]
     },
     "metadata": {},
     "output_type": "display_data"
    }
   ],
   "source": [
    "fig, axes = plt.subplots(nrows=3, ncols=1, figsize=(15, 15), sharex=False)\n",
    "fig.subplots_adjust(hspace=0.4)\n",
    "\n",
    "for ax, tier in zip(axes, [\"tier1\", \"tier2\", \"tier3\"]):\n",
    "    categories = set().union(*[pixels_by_tier_category_fold[i][tier].keys() for i in range(N_FOLDS)])\n",
    "    index = np.arange(len(categories))\n",
    "    bar_width = 0.15\n",
    "    counts_by_fold = []\n",
    "    for fold in range(N_FOLDS):\n",
    "        counts = [pixels_by_tier_category_fold[fold][tier].get(cat, 0) for cat in categories]\n",
    "        counts_by_fold.append(counts)\n",
    "    # aggregate counts by category\n",
    "    counts = np.sum(counts_by_fold, axis=0)\n",
    "    # order the categories and counts by counts\n",
    "    categories = [cat for _, cat in sorted(zip(counts, categories), key=lambda pair: pair[0], reverse=True)]\n",
    "    for fold in range(N_FOLDS):\n",
    "        counts = [pixels_by_tier_category_fold[fold][tier].get(cat, 0) for cat in categories]\n",
    "        ax.bar(index + fold * bar_width, counts, bar_width, label=f'Fold {fold+1}')\n",
    "    \n",
    "    ax.set_xlabel('Category')\n",
    "    ax.set_ylabel('Counts')\n",
    "    ax.set_yscale('log')\n",
    "    ax.set_title(f'Counts by Category for {tier}')\n",
    "    ax.set_xticks(index + bar_width * (N_FOLDS - 1) / 2)\n",
    "    labels = [dataset_info[tier][cat] for cat in categories]\n",
    "    ax.set_xticklabels(labels, rotation=90)\n",
    "    ax.legend()\n",
    "\n",
    "plt.tight_layout()\n",
    "plt.show()"
   ]
  },
  {
   "cell_type": "code",
   "execution_count": 10,
   "metadata": {},
   "outputs": [],
   "source": [
    "tier3_to_tier1 = dataset_info[\"tier3_to_tier1\"] # array where index is tier3 and value is tier1\n",
    "tier3_to_tier2 = dataset_info[\"tier3_to_tier2\"] # array where index is tier3 and value is tier2\n",
    "# create tier_2 to tier_1 mapping\n",
    "tier2_to_tier1 = [0] * (max(tier3_to_tier2) + 1)\n",
    "for tier3 in range(len(tier3_to_tier2)):\n",
    "    tier2 = tier3_to_tier2[tier3]\n",
    "    tier1 = tier3_to_tier1[tier3]\n",
    "    tier2_to_tier1[tier2] = tier1"
   ]
  },
  {
   "cell_type": "code",
   "execution_count": 11,
   "metadata": {},
   "outputs": [
    {
     "name": "stdout",
     "output_type": "stream",
     "text": [
      "[0, 1, 2, 3, 4, 5, 2, 5, 6, 5, 2, 5, 7, 2, 8, 9, 7, 5, 5, 2, 10, 2, 5, 2, 2, 11, 7, 12, 3, 2, 6, 7, 2, 13, 14, 5, 5, 6, 5, 2, 5, 5, 7, 5, 15, 5, 5, 16, 7]\n",
      "[0, 1, 2, 2, 1, 2, 2, 3, 4, 4, 4, 3, 2, 1, 5, 4, 4]\n"
     ]
    }
   ],
   "source": [
    "print(tier3_to_tier2) # array where index is tier3 and value is tier2\n",
    "print(tier2_to_tier1) # array where index is tier2 and value is tier1"
   ]
  },
  {
   "cell_type": "code",
   "execution_count": 12,
   "metadata": {},
   "outputs": [
    {
     "data": {
      "text/plain": [
       "{'tier1': {0: 13467025, 1: 4389610, 3: 121739, 4: 80642, 2: 3453813, 5: 12675},\n",
       " 'tier2': {0: 13467025,\n",
       "  1: 3775380,\n",
       "  4: 610564,\n",
       "  7: 110454,\n",
       "  9: 32898,\n",
       "  2: 1414999,\n",
       "  3: 860419,\n",
       "  5: 934733,\n",
       "  6: 236442,\n",
       "  8: 29910,\n",
       "  10: 16930,\n",
       "  13: 3666,\n",
       "  14: 12675,\n",
       "  15: 834,\n",
       "  11: 11285,\n",
       "  12: 7220,\n",
       "  16: 70},\n",
       " 'tier3': {0: 13467025,\n",
       "  1: 3775380,\n",
       "  4: 610564,\n",
       "  12: 62957,\n",
       "  15: 32898,\n",
       "  2: 900795,\n",
       "  3: 854471,\n",
       "  5: 357107,\n",
       "  6: 296026,\n",
       "  8: 227894,\n",
       "  9: 138339,\n",
       "  14: 29910,\n",
       "  7: 266612,\n",
       "  10: 99072,\n",
       "  11: 87624,\n",
       "  20: 16930,\n",
       "  13: 58027,\n",
       "  16: 32738,\n",
       "  17: 30330,\n",
       "  19: 16941,\n",
       "  22: 12662,\n",
       "  24: 10784,\n",
       "  26: 7331,\n",
       "  28: 5948,\n",
       "  33: 3666,\n",
       "  34: 12675,\n",
       "  35: 3717,\n",
       "  44: 834,\n",
       "  21: 12815,\n",
       "  25: 11285,\n",
       "  27: 7220,\n",
       "  36: 3982,\n",
       "  43: 970,\n",
       "  18: 26632,\n",
       "  30: 6515,\n",
       "  40: 2083,\n",
       "  29: 3583,\n",
       "  23: 10375,\n",
       "  47: 70,\n",
       "  32: 4810,\n",
       "  31: 6266,\n",
       "  45: 320,\n",
       "  37: 2033,\n",
       "  38: 2351,\n",
       "  39: 1771,\n",
       "  41: 1756,\n",
       "  42: 1151,\n",
       "  46: 248,\n",
       "  48: 11}}"
      ]
     },
     "execution_count": 21,
     "metadata": {},
     "output_type": "execute_result"
    }
   ],
   "source": [
    "# aggregate all folds of pixels_by_tier_category_fold\n",
    "pixels_by_tier_category = {\n",
    "    \"tier1\": {},\n",
    "    \"tier2\": {},\n",
    "    \"tier3\": {}\n",
    "}\n",
    "for tier in pixels_by_tier_category.keys():\n",
    "    for fold in range(N_FOLDS):\n",
    "        for clazz, count in pixels_by_tier_category_fold[fold][tier].items():\n",
    "            if clazz in pixels_by_tier_category[tier]:\n",
    "                pixels_by_tier_category[tier][clazz] += count\n",
    "            else:\n",
    "                pixels_by_tier_category[tier][clazz] = count\n",
    "\n",
    "pixels_by_tier_category # dict with each tier as key. The value is a dict again with the category as tier and the pixel count as value"
   ]
  },
  {
   "cell_type": "code",
   "execution_count": 22,
   "metadata": {},
   "outputs": [
    {
     "name": "stdout",
     "output_type": "stream",
     "text": [
      "Total number of pixels: 21525504, number of chips: 429.0\n",
      "Total number of pixels: 21525504, number of chips: 429.0\n",
      "Total number of pixels: 21525504, number of chips: 429.0\n",
      "\n",
      "tier1\n",
      "Total number of pixels: 21525504, number of chips: 429.0\n",
      "Grassland: 46.85%\n",
      "Field crops: 11.18%\n",
      "Orchards: 10.60%\n",
      "Special crops: 7.58%\n",
      "Forest: 4.43%\n",
      "\n",
      "tier2\n",
      "Total number of pixels: 21525504, number of chips: 429.0\n",
      "Meadow: 46.85%\n",
      "SmallGrainCereal: 11.18%\n",
      "LargeGrainCereal: 10.60%\n",
      "Pasture: 7.58%\n",
      "BroadLeafRowCrop: 4.43%\n",
      "\n",
      "tier3\n",
      "Total number of pixels: 21525504, number of chips: 429.0\n",
      "Meadow: 46.85%\n",
      "WinterWheat: 11.18%\n",
      "Maize: 10.60%\n",
      "Pasture: 7.58%\n",
      "Sugar_beets: 4.43%\n"
     ]
    }
   ],
   "source": [
    "# list the five largest classes for tier 3\n",
    "categories = sorted(pixels_by_tier_category[\"tier3\"].items(), key=lambda x: x[1], reverse=True)[:6]\n",
    "# get total count of pixels\n",
    "for tier in [\"tier1\", \"tier2\", \"tier3\"]:\n",
    "    total = sum(pixels_by_tier_category[tier].values())\n",
    "    num_chips = total /(224**2)\n",
    "    print(f\"Total number of pixels: {total}, number of chips: {num_chips}\")\n",
    "\n",
    "# print alongside the category names the percentage of pixels\n",
    "for tier in [\"tier1\", \"tier2\", \"tier3\"]:\n",
    "    print(f\"\\n{tier}\")\n",
    "    total = sum(pixels_by_tier_category[tier].values())\n",
    "    num_chips = total /(224**2)\n",
    "    print(f\"Total number of pixels: {total}, number of chips: {num_chips}\")\n",
    "    # remove background from the total count\n",
    "    total -= pixels_by_tier_category[tier][0]\n",
    "    for cat, count in categories:\n",
    "        if cat == 0:\n",
    "            continue\n",
    "        print(f\"{dataset_info[tier][cat]}: {count/total*100:.2f}%\")\n"
   ]
  },
  {
   "cell_type": "code",
   "execution_count": 22,
   "metadata": {},
   "outputs": [
    {
     "data": {
      "application/vnd.plotly.v1+json": {
       "config": {
        "plotlyServerURL": "https://plot.ly"
       },
       "data": [
        {
         "arrangement": "snap",
         "link": {
          "source": [
           0,
           0,
           0,
           0,
           0,
           1,
           2,
           2,
           1,
           2,
           2,
           3,
           4,
           4,
           4,
           3,
           2,
           1,
           5,
           4,
           4,
           6,
           7,
           8,
           9,
           10,
           7,
           10,
           11,
           10,
           7,
           10,
           12,
           7,
           13,
           14,
           12,
           10,
           10,
           7,
           15,
           7,
           10,
           7,
           7,
           16,
           12,
           17,
           8,
           7,
           11,
           12,
           7,
           18,
           19,
           10,
           10,
           11,
           10,
           7,
           10,
           10,
           12,
           10,
           20,
           10,
           10,
           21,
           12
          ],
          "target": [
           1,
           2,
           3,
           4,
           5,
           6,
           7,
           8,
           9,
           10,
           11,
           12,
           13,
           14,
           15,
           16,
           17,
           18,
           19,
           20,
           21,
           22,
           23,
           24,
           25,
           26,
           27,
           28,
           29,
           30,
           31,
           32,
           33,
           34,
           35,
           36,
           37,
           38,
           39,
           40,
           41,
           42,
           43,
           44,
           45,
           46,
           47,
           48,
           49,
           50,
           51,
           52,
           53,
           54,
           55,
           56,
           57,
           58,
           59,
           60,
           61,
           62,
           63,
           64,
           65,
           66,
           67,
           68,
           69
          ],
          "value": [
           4389610,
           3453813,
           121739,
           80642,
           12675,
           3775380,
           1414999,
           860419,
           610564,
           934733,
           236442,
           110454,
           29910,
           32898,
           16930,
           11285,
           7220,
           3666,
           12675,
           834,
           70,
           3775380,
           900795,
           854471,
           610564,
           357107,
           296026,
           266612,
           227894,
           138339,
           99072,
           87624,
           62957,
           58027,
           29910,
           32898,
           32738,
           30330,
           26632,
           16941,
           16930,
           12815,
           12662,
           10375,
           10784,
           11285,
           7331,
           7220,
           5948,
           3583,
           6515,
           6266,
           4810,
           3666,
           12675,
           3717,
           3982,
           2033,
           2351,
           1771,
           2083,
           1756,
           1151,
           970,
           834,
           320,
           248,
           70,
           11
          ]
         },
         "node": {
          "label": [
           "Vegetation",
           "1 - Grassland",
           "1 - Field crops",
           "1 - Orchards",
           "1 - Special crops",
           "1 - Forest",
           "2 - Meadow",
           "2 - SmallGrainCereal",
           "2 - LargeGrainCereal",
           "2 - Pasture",
           "2 - BroadLeafRowCrop",
           "2 - VegetableCrop",
           "2 - OrchardCrop",
           "2 - Fallow",
           "2 - Hedge",
           "2 - Berries",
           "2 - TreeCrop",
           "2 - CropMix",
           "2 - BiodiversityArea",
           "2 - Forest",
           "2 - Multiple",
           "2 - Gardens",
           "3 - Meadow [3,775,380]",
           "3 - WinterWheat [900,795]",
           "3 - Maize [854,471]",
           "3 - Pasture [610,564]",
           "3 - Sugar_beets [357,107]",
           "3 - WinterBarley [296,026]",
           "3 - WinterRapeseed [266,612]",
           "3 - Vegetables [227,894]",
           "3 - Potatoes [138,339]",
           "3 - Wheat [99,072]",
           "3 - Sunflowers [87,624]",
           "3 - Vines [62,957]",
           "3 - Spelt [58,027]",
           "3 - Fallow [29,910]",
           "3 - Hedge [32,898]",
           "3 - Apples [32,738]",
           "3 - Soy [30,330]",
           "3 - Peas [26,632]",
           "3 - Oat [16,941]",
           "3 - Berries [16,930]",
           "3 - EinkornWheat [12,815]",
           "3 - Field bean [12,662]",
           "3 - SummerWheat [10,375]",
           "3 - Rye [10,784]",
           "3 - TreeCrop [11,285]",
           "3 - StoneFruit [7,331]",
           "3 - MixedCrop [7,220]",
           "3 - Sorghum [5,948]",
           "3 - Grain [3,583]",
           "3 - Chicory [6,515]",
           "3 - Pears [6,266]",
           "3 - SummerBarley [4,810]",
           "3 - Biodiversity encouragement area [3,666]",
           "3 - Forest [12,675]",
           "3 - Linen [3,717]",
           "3 - Legumes [3,982]",
           "3 - Pumpkin [2,033]",
           "3 - Tobacco [2,351]",
           "3 - Buckwheat [1,771]",
           "3 - Hemp [2,083]",
           "3 - SummerRapeseed [1,756]",
           "3 - Hops [1,151]",
           "3 - Beets [970]",
           "3 - Multiple [834]",
           "3 - Lupine [320]",
           "3 - Mustard [248]",
           "3 - Gardens [70]",
           "3 - Chestnut [11]"
          ],
          "line": {
           "color": "black",
           "width": 0.5
          },
          "pad": 15,
          "thickness": 20
         },
         "type": "sankey"
        }
       ],
       "layout": {
        "font": {
         "size": 15
        },
        "height": 1000,
        "template": {
         "data": {
          "bar": [
           {
            "error_x": {
             "color": "#2a3f5f"
            },
            "error_y": {
             "color": "#2a3f5f"
            },
            "marker": {
             "line": {
              "color": "#E5ECF6",
              "width": 0.5
             },
             "pattern": {
              "fillmode": "overlay",
              "size": 10,
              "solidity": 0.2
             }
            },
            "type": "bar"
           }
          ],
          "barpolar": [
           {
            "marker": {
             "line": {
              "color": "#E5ECF6",
              "width": 0.5
             },
             "pattern": {
              "fillmode": "overlay",
              "size": 10,
              "solidity": 0.2
             }
            },
            "type": "barpolar"
           }
          ],
          "carpet": [
           {
            "aaxis": {
             "endlinecolor": "#2a3f5f",
             "gridcolor": "white",
             "linecolor": "white",
             "minorgridcolor": "white",
             "startlinecolor": "#2a3f5f"
            },
            "baxis": {
             "endlinecolor": "#2a3f5f",
             "gridcolor": "white",
             "linecolor": "white",
             "minorgridcolor": "white",
             "startlinecolor": "#2a3f5f"
            },
            "type": "carpet"
           }
          ],
          "choropleth": [
           {
            "colorbar": {
             "outlinewidth": 0,
             "ticks": ""
            },
            "type": "choropleth"
           }
          ],
          "contour": [
           {
            "colorbar": {
             "outlinewidth": 0,
             "ticks": ""
            },
            "colorscale": [
             [
              0,
              "#0d0887"
             ],
             [
              0.1111111111111111,
              "#46039f"
             ],
             [
              0.2222222222222222,
              "#7201a8"
             ],
             [
              0.3333333333333333,
              "#9c179e"
             ],
             [
              0.4444444444444444,
              "#bd3786"
             ],
             [
              0.5555555555555556,
              "#d8576b"
             ],
             [
              0.6666666666666666,
              "#ed7953"
             ],
             [
              0.7777777777777778,
              "#fb9f3a"
             ],
             [
              0.8888888888888888,
              "#fdca26"
             ],
             [
              1,
              "#f0f921"
             ]
            ],
            "type": "contour"
           }
          ],
          "contourcarpet": [
           {
            "colorbar": {
             "outlinewidth": 0,
             "ticks": ""
            },
            "type": "contourcarpet"
           }
          ],
          "heatmap": [
           {
            "colorbar": {
             "outlinewidth": 0,
             "ticks": ""
            },
            "colorscale": [
             [
              0,
              "#0d0887"
             ],
             [
              0.1111111111111111,
              "#46039f"
             ],
             [
              0.2222222222222222,
              "#7201a8"
             ],
             [
              0.3333333333333333,
              "#9c179e"
             ],
             [
              0.4444444444444444,
              "#bd3786"
             ],
             [
              0.5555555555555556,
              "#d8576b"
             ],
             [
              0.6666666666666666,
              "#ed7953"
             ],
             [
              0.7777777777777778,
              "#fb9f3a"
             ],
             [
              0.8888888888888888,
              "#fdca26"
             ],
             [
              1,
              "#f0f921"
             ]
            ],
            "type": "heatmap"
           }
          ],
          "heatmapgl": [
           {
            "colorbar": {
             "outlinewidth": 0,
             "ticks": ""
            },
            "colorscale": [
             [
              0,
              "#0d0887"
             ],
             [
              0.1111111111111111,
              "#46039f"
             ],
             [
              0.2222222222222222,
              "#7201a8"
             ],
             [
              0.3333333333333333,
              "#9c179e"
             ],
             [
              0.4444444444444444,
              "#bd3786"
             ],
             [
              0.5555555555555556,
              "#d8576b"
             ],
             [
              0.6666666666666666,
              "#ed7953"
             ],
             [
              0.7777777777777778,
              "#fb9f3a"
             ],
             [
              0.8888888888888888,
              "#fdca26"
             ],
             [
              1,
              "#f0f921"
             ]
            ],
            "type": "heatmapgl"
           }
          ],
          "histogram": [
           {
            "marker": {
             "pattern": {
              "fillmode": "overlay",
              "size": 10,
              "solidity": 0.2
             }
            },
            "type": "histogram"
           }
          ],
          "histogram2d": [
           {
            "colorbar": {
             "outlinewidth": 0,
             "ticks": ""
            },
            "colorscale": [
             [
              0,
              "#0d0887"
             ],
             [
              0.1111111111111111,
              "#46039f"
             ],
             [
              0.2222222222222222,
              "#7201a8"
             ],
             [
              0.3333333333333333,
              "#9c179e"
             ],
             [
              0.4444444444444444,
              "#bd3786"
             ],
             [
              0.5555555555555556,
              "#d8576b"
             ],
             [
              0.6666666666666666,
              "#ed7953"
             ],
             [
              0.7777777777777778,
              "#fb9f3a"
             ],
             [
              0.8888888888888888,
              "#fdca26"
             ],
             [
              1,
              "#f0f921"
             ]
            ],
            "type": "histogram2d"
           }
          ],
          "histogram2dcontour": [
           {
            "colorbar": {
             "outlinewidth": 0,
             "ticks": ""
            },
            "colorscale": [
             [
              0,
              "#0d0887"
             ],
             [
              0.1111111111111111,
              "#46039f"
             ],
             [
              0.2222222222222222,
              "#7201a8"
             ],
             [
              0.3333333333333333,
              "#9c179e"
             ],
             [
              0.4444444444444444,
              "#bd3786"
             ],
             [
              0.5555555555555556,
              "#d8576b"
             ],
             [
              0.6666666666666666,
              "#ed7953"
             ],
             [
              0.7777777777777778,
              "#fb9f3a"
             ],
             [
              0.8888888888888888,
              "#fdca26"
             ],
             [
              1,
              "#f0f921"
             ]
            ],
            "type": "histogram2dcontour"
           }
          ],
          "mesh3d": [
           {
            "colorbar": {
             "outlinewidth": 0,
             "ticks": ""
            },
            "type": "mesh3d"
           }
          ],
          "parcoords": [
           {
            "line": {
             "colorbar": {
              "outlinewidth": 0,
              "ticks": ""
             }
            },
            "type": "parcoords"
           }
          ],
          "pie": [
           {
            "automargin": true,
            "type": "pie"
           }
          ],
          "scatter": [
           {
            "fillpattern": {
             "fillmode": "overlay",
             "size": 10,
             "solidity": 0.2
            },
            "type": "scatter"
           }
          ],
          "scatter3d": [
           {
            "line": {
             "colorbar": {
              "outlinewidth": 0,
              "ticks": ""
             }
            },
            "marker": {
             "colorbar": {
              "outlinewidth": 0,
              "ticks": ""
             }
            },
            "type": "scatter3d"
           }
          ],
          "scattercarpet": [
           {
            "marker": {
             "colorbar": {
              "outlinewidth": 0,
              "ticks": ""
             }
            },
            "type": "scattercarpet"
           }
          ],
          "scattergeo": [
           {
            "marker": {
             "colorbar": {
              "outlinewidth": 0,
              "ticks": ""
             }
            },
            "type": "scattergeo"
           }
          ],
          "scattergl": [
           {
            "marker": {
             "colorbar": {
              "outlinewidth": 0,
              "ticks": ""
             }
            },
            "type": "scattergl"
           }
          ],
          "scattermapbox": [
           {
            "marker": {
             "colorbar": {
              "outlinewidth": 0,
              "ticks": ""
             }
            },
            "type": "scattermapbox"
           }
          ],
          "scatterpolar": [
           {
            "marker": {
             "colorbar": {
              "outlinewidth": 0,
              "ticks": ""
             }
            },
            "type": "scatterpolar"
           }
          ],
          "scatterpolargl": [
           {
            "marker": {
             "colorbar": {
              "outlinewidth": 0,
              "ticks": ""
             }
            },
            "type": "scatterpolargl"
           }
          ],
          "scatterternary": [
           {
            "marker": {
             "colorbar": {
              "outlinewidth": 0,
              "ticks": ""
             }
            },
            "type": "scatterternary"
           }
          ],
          "surface": [
           {
            "colorbar": {
             "outlinewidth": 0,
             "ticks": ""
            },
            "colorscale": [
             [
              0,
              "#0d0887"
             ],
             [
              0.1111111111111111,
              "#46039f"
             ],
             [
              0.2222222222222222,
              "#7201a8"
             ],
             [
              0.3333333333333333,
              "#9c179e"
             ],
             [
              0.4444444444444444,
              "#bd3786"
             ],
             [
              0.5555555555555556,
              "#d8576b"
             ],
             [
              0.6666666666666666,
              "#ed7953"
             ],
             [
              0.7777777777777778,
              "#fb9f3a"
             ],
             [
              0.8888888888888888,
              "#fdca26"
             ],
             [
              1,
              "#f0f921"
             ]
            ],
            "type": "surface"
           }
          ],
          "table": [
           {
            "cells": {
             "fill": {
              "color": "#EBF0F8"
             },
             "line": {
              "color": "white"
             }
            },
            "header": {
             "fill": {
              "color": "#C8D4E3"
             },
             "line": {
              "color": "white"
             }
            },
            "type": "table"
           }
          ]
         },
         "layout": {
          "annotationdefaults": {
           "arrowcolor": "#2a3f5f",
           "arrowhead": 0,
           "arrowwidth": 1
          },
          "autotypenumbers": "strict",
          "coloraxis": {
           "colorbar": {
            "outlinewidth": 0,
            "ticks": ""
           }
          },
          "colorscale": {
           "diverging": [
            [
             0,
             "#8e0152"
            ],
            [
             0.1,
             "#c51b7d"
            ],
            [
             0.2,
             "#de77ae"
            ],
            [
             0.3,
             "#f1b6da"
            ],
            [
             0.4,
             "#fde0ef"
            ],
            [
             0.5,
             "#f7f7f7"
            ],
            [
             0.6,
             "#e6f5d0"
            ],
            [
             0.7,
             "#b8e186"
            ],
            [
             0.8,
             "#7fbc41"
            ],
            [
             0.9,
             "#4d9221"
            ],
            [
             1,
             "#276419"
            ]
           ],
           "sequential": [
            [
             0,
             "#0d0887"
            ],
            [
             0.1111111111111111,
             "#46039f"
            ],
            [
             0.2222222222222222,
             "#7201a8"
            ],
            [
             0.3333333333333333,
             "#9c179e"
            ],
            [
             0.4444444444444444,
             "#bd3786"
            ],
            [
             0.5555555555555556,
             "#d8576b"
            ],
            [
             0.6666666666666666,
             "#ed7953"
            ],
            [
             0.7777777777777778,
             "#fb9f3a"
            ],
            [
             0.8888888888888888,
             "#fdca26"
            ],
            [
             1,
             "#f0f921"
            ]
           ],
           "sequentialminus": [
            [
             0,
             "#0d0887"
            ],
            [
             0.1111111111111111,
             "#46039f"
            ],
            [
             0.2222222222222222,
             "#7201a8"
            ],
            [
             0.3333333333333333,
             "#9c179e"
            ],
            [
             0.4444444444444444,
             "#bd3786"
            ],
            [
             0.5555555555555556,
             "#d8576b"
            ],
            [
             0.6666666666666666,
             "#ed7953"
            ],
            [
             0.7777777777777778,
             "#fb9f3a"
            ],
            [
             0.8888888888888888,
             "#fdca26"
            ],
            [
             1,
             "#f0f921"
            ]
           ]
          },
          "colorway": [
           "#636efa",
           "#EF553B",
           "#00cc96",
           "#ab63fa",
           "#FFA15A",
           "#19d3f3",
           "#FF6692",
           "#B6E880",
           "#FF97FF",
           "#FECB52"
          ],
          "font": {
           "color": "#2a3f5f"
          },
          "geo": {
           "bgcolor": "white",
           "lakecolor": "white",
           "landcolor": "#E5ECF6",
           "showlakes": true,
           "showland": true,
           "subunitcolor": "white"
          },
          "hoverlabel": {
           "align": "left"
          },
          "hovermode": "closest",
          "mapbox": {
           "style": "light"
          },
          "paper_bgcolor": "white",
          "plot_bgcolor": "#E5ECF6",
          "polar": {
           "angularaxis": {
            "gridcolor": "white",
            "linecolor": "white",
            "ticks": ""
           },
           "bgcolor": "#E5ECF6",
           "radialaxis": {
            "gridcolor": "white",
            "linecolor": "white",
            "ticks": ""
           }
          },
          "scene": {
           "xaxis": {
            "backgroundcolor": "#E5ECF6",
            "gridcolor": "white",
            "gridwidth": 2,
            "linecolor": "white",
            "showbackground": true,
            "ticks": "",
            "zerolinecolor": "white"
           },
           "yaxis": {
            "backgroundcolor": "#E5ECF6",
            "gridcolor": "white",
            "gridwidth": 2,
            "linecolor": "white",
            "showbackground": true,
            "ticks": "",
            "zerolinecolor": "white"
           },
           "zaxis": {
            "backgroundcolor": "#E5ECF6",
            "gridcolor": "white",
            "gridwidth": 2,
            "linecolor": "white",
            "showbackground": true,
            "ticks": "",
            "zerolinecolor": "white"
           }
          },
          "shapedefaults": {
           "line": {
            "color": "#2a3f5f"
           }
          },
          "ternary": {
           "aaxis": {
            "gridcolor": "white",
            "linecolor": "white",
            "ticks": ""
           },
           "baxis": {
            "gridcolor": "white",
            "linecolor": "white",
            "ticks": ""
           },
           "bgcolor": "#E5ECF6",
           "caxis": {
            "gridcolor": "white",
            "linecolor": "white",
            "ticks": ""
           }
          },
          "title": {
           "x": 0.05
          },
          "xaxis": {
           "automargin": true,
           "gridcolor": "white",
           "linecolor": "white",
           "ticks": "",
           "title": {
            "standoff": 15
           },
           "zerolinecolor": "white",
           "zerolinewidth": 2
          },
          "yaxis": {
           "automargin": true,
           "gridcolor": "white",
           "linecolor": "white",
           "ticks": "",
           "title": {
            "standoff": 15
           },
           "zerolinecolor": "white",
           "zerolinewidth": 2
          }
         }
        },
        "title": {
         "text": "<b>ZueriCrop Label Hierarchy</b> (Bands represent number of pixels in dataset)"
        }
       }
      }
     },
     "metadata": {},
     "output_type": "display_data"
    }
   ],
   "source": [
    "# Prepare data for Sankey diagram\n",
    "node_labels = [\"Vegetation\"]\n",
    "\n",
    "# Create labels for tier 1 nodes\n",
    "tier1_labels = [f\"1 - {dataset_info['tier1'][i]}\" for i in sorted(list(pixels_by_tier_category['tier1'].keys())) if i != 0]\n",
    "node_labels.extend(tier1_labels)\n",
    "\n",
    "# Create labels for tier 2 nodes\n",
    "tier2_labels = [f\"2 - {dataset_info['tier2'][i]}\" for i in sorted(list(pixels_by_tier_category['tier2'].keys())) if i != 0]\n",
    "node_labels.extend(tier2_labels)\n",
    "\n",
    "# Create labels for tier 3 nodes\n",
    "tier3_labels = [f\"3 - {dataset_info['tier3'][i]} [{pixels_by_tier_category['tier3'][i]:,}]\" for i in sorted(list(pixels_by_tier_category['tier3'].keys())) if i != 0]\n",
    "node_labels.extend(tier3_labels)\n",
    "\n",
    "# Create source and target lists based on the provided relationships\n",
    "sources = []\n",
    "targets = []\n",
    "values = []\n",
    "\n",
    "# Tier1 to Vegetation links\n",
    "for i, t1_index in enumerate(tier1_labels):\n",
    "\n",
    "    sources.append(0)  # Index of Vegetation node\n",
    "    targets.append(i+1)  # Adjust index for tier 1 node\n",
    "    values.append(pixels_by_tier_category['tier1'][i+1])\n",
    "\n",
    "# Tier2 to Tier1 links\n",
    "for i, t1_index in enumerate(tier2_to_tier1):\n",
    "    if i == 0:\n",
    "        continue\n",
    "    targets.append(len(tier1_labels) + i)  # Adjust index for tier 2 node\n",
    "    sources.append(t1_index)  # Adjust index for tier 1 node\n",
    "    values.append(pixels_by_tier_category['tier2'][i])\n",
    "\n",
    "# Tier3 to Tier2 links\n",
    "for i, t2_index in enumerate(tier3_to_tier2):\n",
    "    if i == 0:\n",
    "        continue\n",
    "    targets.append(len(tier1_labels) + len(tier2_labels) + i)  # Index of tier 3 node\n",
    "    sources.append(len(tier1_labels) + t2_index)  # Adjust index for tier 2 node\n",
    "    values.append(pixels_by_tier_category['tier3'][i])\n",
    "\n",
    "# Create the Sankey diagram using Plotly\n",
    "fig = go.Figure(data=[go.Sankey(\n",
    "    node=dict(\n",
    "        pad=15,\n",
    "        thickness=20,\n",
    "        line=dict(color=\"black\", width=0.5),\n",
    "        label=node_labels,\n",
    "    ),\n",
    "    link=dict(\n",
    "        source=sources,\n",
    "        target=targets,\n",
    "        value=values\n",
    "    ),\n",
    "    arrangement='snap'\n",
    ")])\n",
    "\n",
    "fig.update_layout(title_text=\"<b>ZueriCrop Label Hierarchy</b> (Bands represent number of pixels in dataset)\", font_size=15, height=1000)\n",
    "\n",
    "fig.write_image(\"../assets/ZueriCrop_2.0_Tiers_Sankey.pdf\", width=1200, height=1600)\n",
    "\n",
    "fig.show()"
   ]
  },
  {
   "cell_type": "code",
   "execution_count": 23,
   "metadata": {},
   "outputs": [
    {
     "data": {
      "application/vnd.plotly.v1+json": {
       "config": {
        "plotlyServerURL": "https://plot.ly"
       },
       "data": [
        {
         "type": "bar",
         "x": [
          "Grassland",
          "Field crops",
          "Orchards",
          "Special crops",
          "Forest"
         ],
         "xaxis": "x",
         "y": [
          4389610,
          3453813,
          121739,
          80642,
          12675
         ],
         "yaxis": "y"
        },
        {
         "type": "bar",
         "x": [
          "Meadow",
          "SmallGrainCereal",
          "BroadLeafRowCrop",
          "LargeGrainCereal",
          "Pasture",
          "VegetableCrop",
          "OrchardCrop",
          "Hedge",
          "Fallow",
          "Berries",
          "Forest",
          "TreeCrop",
          "CropMix",
          "BiodiversityArea",
          "Multiple",
          "Gardens"
         ],
         "xaxis": "x2",
         "y": [
          3775380,
          1414999,
          934733,
          860419,
          610564,
          236442,
          110454,
          32898,
          29910,
          16930,
          12675,
          11285,
          7220,
          3666,
          834,
          70
         ],
         "yaxis": "y2"
        },
        {
         "type": "bar",
         "x": [
          "Meadow",
          "WinterWheat",
          "Maize",
          "Pasture",
          "Sugar_beets",
          "WinterBarley",
          "WinterRapeseed",
          "Vegetables",
          "Potatoes",
          "Wheat",
          "Sunflowers",
          "Vines",
          "Spelt",
          "Hedge",
          "Apples",
          "Soy",
          "Fallow",
          "Peas",
          "Oat",
          "Berries",
          "EinkornWheat",
          "Forest",
          "Field bean",
          "TreeCrop",
          "Rye",
          "SummerWheat",
          "StoneFruit",
          "MixedCrop",
          "Chicory",
          "Pears",
          "Sorghum",
          "SummerBarley",
          "Legumes",
          "Linen",
          "Biodiversity encouragement area",
          "Grain",
          "Tobacco",
          "Hemp",
          "Pumpkin",
          "Buckwheat",
          "SummerRapeseed",
          "Hops",
          "Beets",
          "Multiple",
          "Lupine",
          "Mustard",
          "Gardens",
          "Chestnut"
         ],
         "xaxis": "x3",
         "y": [
          3775380,
          900795,
          854471,
          610564,
          357107,
          296026,
          266612,
          227894,
          138339,
          99072,
          87624,
          62957,
          58027,
          32898,
          32738,
          30330,
          29910,
          26632,
          16941,
          16930,
          12815,
          12675,
          12662,
          11285,
          10784,
          10375,
          7331,
          7220,
          6515,
          6266,
          5948,
          4810,
          3982,
          3717,
          3666,
          3583,
          2351,
          2083,
          2033,
          1771,
          1756,
          1151,
          970,
          834,
          320,
          248,
          70,
          11
         ],
         "yaxis": "y3"
        }
       ],
       "layout": {
        "annotations": [
         {
          "font": {
           "size": 16
          },
          "showarrow": false,
          "text": "1st Tier",
          "x": 0.5,
          "xanchor": "center",
          "xref": "paper",
          "y": 1,
          "yanchor": "bottom",
          "yref": "paper"
         },
         {
          "font": {
           "size": 16
          },
          "showarrow": false,
          "text": "2nd Tier",
          "x": 0.5,
          "xanchor": "center",
          "xref": "paper",
          "y": 0.6111111111111112,
          "yanchor": "bottom",
          "yref": "paper"
         },
         {
          "font": {
           "size": 16
          },
          "showarrow": false,
          "text": "3rd Tier",
          "x": 0.5,
          "xanchor": "center",
          "xref": "paper",
          "y": 0.22222222222222224,
          "yanchor": "bottom",
          "yref": "paper"
         }
        ],
        "height": 1000,
        "showlegend": false,
        "template": {
         "data": {
          "bar": [
           {
            "error_x": {
             "color": "#2a3f5f"
            },
            "error_y": {
             "color": "#2a3f5f"
            },
            "marker": {
             "line": {
              "color": "#E5ECF6",
              "width": 0.5
             },
             "pattern": {
              "fillmode": "overlay",
              "size": 10,
              "solidity": 0.2
             }
            },
            "type": "bar"
           }
          ],
          "barpolar": [
           {
            "marker": {
             "line": {
              "color": "#E5ECF6",
              "width": 0.5
             },
             "pattern": {
              "fillmode": "overlay",
              "size": 10,
              "solidity": 0.2
             }
            },
            "type": "barpolar"
           }
          ],
          "carpet": [
           {
            "aaxis": {
             "endlinecolor": "#2a3f5f",
             "gridcolor": "white",
             "linecolor": "white",
             "minorgridcolor": "white",
             "startlinecolor": "#2a3f5f"
            },
            "baxis": {
             "endlinecolor": "#2a3f5f",
             "gridcolor": "white",
             "linecolor": "white",
             "minorgridcolor": "white",
             "startlinecolor": "#2a3f5f"
            },
            "type": "carpet"
           }
          ],
          "choropleth": [
           {
            "colorbar": {
             "outlinewidth": 0,
             "ticks": ""
            },
            "type": "choropleth"
           }
          ],
          "contour": [
           {
            "colorbar": {
             "outlinewidth": 0,
             "ticks": ""
            },
            "colorscale": [
             [
              0,
              "#0d0887"
             ],
             [
              0.1111111111111111,
              "#46039f"
             ],
             [
              0.2222222222222222,
              "#7201a8"
             ],
             [
              0.3333333333333333,
              "#9c179e"
             ],
             [
              0.4444444444444444,
              "#bd3786"
             ],
             [
              0.5555555555555556,
              "#d8576b"
             ],
             [
              0.6666666666666666,
              "#ed7953"
             ],
             [
              0.7777777777777778,
              "#fb9f3a"
             ],
             [
              0.8888888888888888,
              "#fdca26"
             ],
             [
              1,
              "#f0f921"
             ]
            ],
            "type": "contour"
           }
          ],
          "contourcarpet": [
           {
            "colorbar": {
             "outlinewidth": 0,
             "ticks": ""
            },
            "type": "contourcarpet"
           }
          ],
          "heatmap": [
           {
            "colorbar": {
             "outlinewidth": 0,
             "ticks": ""
            },
            "colorscale": [
             [
              0,
              "#0d0887"
             ],
             [
              0.1111111111111111,
              "#46039f"
             ],
             [
              0.2222222222222222,
              "#7201a8"
             ],
             [
              0.3333333333333333,
              "#9c179e"
             ],
             [
              0.4444444444444444,
              "#bd3786"
             ],
             [
              0.5555555555555556,
              "#d8576b"
             ],
             [
              0.6666666666666666,
              "#ed7953"
             ],
             [
              0.7777777777777778,
              "#fb9f3a"
             ],
             [
              0.8888888888888888,
              "#fdca26"
             ],
             [
              1,
              "#f0f921"
             ]
            ],
            "type": "heatmap"
           }
          ],
          "heatmapgl": [
           {
            "colorbar": {
             "outlinewidth": 0,
             "ticks": ""
            },
            "colorscale": [
             [
              0,
              "#0d0887"
             ],
             [
              0.1111111111111111,
              "#46039f"
             ],
             [
              0.2222222222222222,
              "#7201a8"
             ],
             [
              0.3333333333333333,
              "#9c179e"
             ],
             [
              0.4444444444444444,
              "#bd3786"
             ],
             [
              0.5555555555555556,
              "#d8576b"
             ],
             [
              0.6666666666666666,
              "#ed7953"
             ],
             [
              0.7777777777777778,
              "#fb9f3a"
             ],
             [
              0.8888888888888888,
              "#fdca26"
             ],
             [
              1,
              "#f0f921"
             ]
            ],
            "type": "heatmapgl"
           }
          ],
          "histogram": [
           {
            "marker": {
             "pattern": {
              "fillmode": "overlay",
              "size": 10,
              "solidity": 0.2
             }
            },
            "type": "histogram"
           }
          ],
          "histogram2d": [
           {
            "colorbar": {
             "outlinewidth": 0,
             "ticks": ""
            },
            "colorscale": [
             [
              0,
              "#0d0887"
             ],
             [
              0.1111111111111111,
              "#46039f"
             ],
             [
              0.2222222222222222,
              "#7201a8"
             ],
             [
              0.3333333333333333,
              "#9c179e"
             ],
             [
              0.4444444444444444,
              "#bd3786"
             ],
             [
              0.5555555555555556,
              "#d8576b"
             ],
             [
              0.6666666666666666,
              "#ed7953"
             ],
             [
              0.7777777777777778,
              "#fb9f3a"
             ],
             [
              0.8888888888888888,
              "#fdca26"
             ],
             [
              1,
              "#f0f921"
             ]
            ],
            "type": "histogram2d"
           }
          ],
          "histogram2dcontour": [
           {
            "colorbar": {
             "outlinewidth": 0,
             "ticks": ""
            },
            "colorscale": [
             [
              0,
              "#0d0887"
             ],
             [
              0.1111111111111111,
              "#46039f"
             ],
             [
              0.2222222222222222,
              "#7201a8"
             ],
             [
              0.3333333333333333,
              "#9c179e"
             ],
             [
              0.4444444444444444,
              "#bd3786"
             ],
             [
              0.5555555555555556,
              "#d8576b"
             ],
             [
              0.6666666666666666,
              "#ed7953"
             ],
             [
              0.7777777777777778,
              "#fb9f3a"
             ],
             [
              0.8888888888888888,
              "#fdca26"
             ],
             [
              1,
              "#f0f921"
             ]
            ],
            "type": "histogram2dcontour"
           }
          ],
          "mesh3d": [
           {
            "colorbar": {
             "outlinewidth": 0,
             "ticks": ""
            },
            "type": "mesh3d"
           }
          ],
          "parcoords": [
           {
            "line": {
             "colorbar": {
              "outlinewidth": 0,
              "ticks": ""
             }
            },
            "type": "parcoords"
           }
          ],
          "pie": [
           {
            "automargin": true,
            "type": "pie"
           }
          ],
          "scatter": [
           {
            "fillpattern": {
             "fillmode": "overlay",
             "size": 10,
             "solidity": 0.2
            },
            "type": "scatter"
           }
          ],
          "scatter3d": [
           {
            "line": {
             "colorbar": {
              "outlinewidth": 0,
              "ticks": ""
             }
            },
            "marker": {
             "colorbar": {
              "outlinewidth": 0,
              "ticks": ""
             }
            },
            "type": "scatter3d"
           }
          ],
          "scattercarpet": [
           {
            "marker": {
             "colorbar": {
              "outlinewidth": 0,
              "ticks": ""
             }
            },
            "type": "scattercarpet"
           }
          ],
          "scattergeo": [
           {
            "marker": {
             "colorbar": {
              "outlinewidth": 0,
              "ticks": ""
             }
            },
            "type": "scattergeo"
           }
          ],
          "scattergl": [
           {
            "marker": {
             "colorbar": {
              "outlinewidth": 0,
              "ticks": ""
             }
            },
            "type": "scattergl"
           }
          ],
          "scattermapbox": [
           {
            "marker": {
             "colorbar": {
              "outlinewidth": 0,
              "ticks": ""
             }
            },
            "type": "scattermapbox"
           }
          ],
          "scatterpolar": [
           {
            "marker": {
             "colorbar": {
              "outlinewidth": 0,
              "ticks": ""
             }
            },
            "type": "scatterpolar"
           }
          ],
          "scatterpolargl": [
           {
            "marker": {
             "colorbar": {
              "outlinewidth": 0,
              "ticks": ""
             }
            },
            "type": "scatterpolargl"
           }
          ],
          "scatterternary": [
           {
            "marker": {
             "colorbar": {
              "outlinewidth": 0,
              "ticks": ""
             }
            },
            "type": "scatterternary"
           }
          ],
          "surface": [
           {
            "colorbar": {
             "outlinewidth": 0,
             "ticks": ""
            },
            "colorscale": [
             [
              0,
              "#0d0887"
             ],
             [
              0.1111111111111111,
              "#46039f"
             ],
             [
              0.2222222222222222,
              "#7201a8"
             ],
             [
              0.3333333333333333,
              "#9c179e"
             ],
             [
              0.4444444444444444,
              "#bd3786"
             ],
             [
              0.5555555555555556,
              "#d8576b"
             ],
             [
              0.6666666666666666,
              "#ed7953"
             ],
             [
              0.7777777777777778,
              "#fb9f3a"
             ],
             [
              0.8888888888888888,
              "#fdca26"
             ],
             [
              1,
              "#f0f921"
             ]
            ],
            "type": "surface"
           }
          ],
          "table": [
           {
            "cells": {
             "fill": {
              "color": "#EBF0F8"
             },
             "line": {
              "color": "white"
             }
            },
            "header": {
             "fill": {
              "color": "#C8D4E3"
             },
             "line": {
              "color": "white"
             }
            },
            "type": "table"
           }
          ]
         },
         "layout": {
          "annotationdefaults": {
           "arrowcolor": "#2a3f5f",
           "arrowhead": 0,
           "arrowwidth": 1
          },
          "autotypenumbers": "strict",
          "coloraxis": {
           "colorbar": {
            "outlinewidth": 0,
            "ticks": ""
           }
          },
          "colorscale": {
           "diverging": [
            [
             0,
             "#8e0152"
            ],
            [
             0.1,
             "#c51b7d"
            ],
            [
             0.2,
             "#de77ae"
            ],
            [
             0.3,
             "#f1b6da"
            ],
            [
             0.4,
             "#fde0ef"
            ],
            [
             0.5,
             "#f7f7f7"
            ],
            [
             0.6,
             "#e6f5d0"
            ],
            [
             0.7,
             "#b8e186"
            ],
            [
             0.8,
             "#7fbc41"
            ],
            [
             0.9,
             "#4d9221"
            ],
            [
             1,
             "#276419"
            ]
           ],
           "sequential": [
            [
             0,
             "#0d0887"
            ],
            [
             0.1111111111111111,
             "#46039f"
            ],
            [
             0.2222222222222222,
             "#7201a8"
            ],
            [
             0.3333333333333333,
             "#9c179e"
            ],
            [
             0.4444444444444444,
             "#bd3786"
            ],
            [
             0.5555555555555556,
             "#d8576b"
            ],
            [
             0.6666666666666666,
             "#ed7953"
            ],
            [
             0.7777777777777778,
             "#fb9f3a"
            ],
            [
             0.8888888888888888,
             "#fdca26"
            ],
            [
             1,
             "#f0f921"
            ]
           ],
           "sequentialminus": [
            [
             0,
             "#0d0887"
            ],
            [
             0.1111111111111111,
             "#46039f"
            ],
            [
             0.2222222222222222,
             "#7201a8"
            ],
            [
             0.3333333333333333,
             "#9c179e"
            ],
            [
             0.4444444444444444,
             "#bd3786"
            ],
            [
             0.5555555555555556,
             "#d8576b"
            ],
            [
             0.6666666666666666,
             "#ed7953"
            ],
            [
             0.7777777777777778,
             "#fb9f3a"
            ],
            [
             0.8888888888888888,
             "#fdca26"
            ],
            [
             1,
             "#f0f921"
            ]
           ]
          },
          "colorway": [
           "#636efa",
           "#EF553B",
           "#00cc96",
           "#ab63fa",
           "#FFA15A",
           "#19d3f3",
           "#FF6692",
           "#B6E880",
           "#FF97FF",
           "#FECB52"
          ],
          "font": {
           "color": "#2a3f5f"
          },
          "geo": {
           "bgcolor": "white",
           "lakecolor": "white",
           "landcolor": "#E5ECF6",
           "showlakes": true,
           "showland": true,
           "subunitcolor": "white"
          },
          "hoverlabel": {
           "align": "left"
          },
          "hovermode": "closest",
          "mapbox": {
           "style": "light"
          },
          "paper_bgcolor": "white",
          "plot_bgcolor": "#E5ECF6",
          "polar": {
           "angularaxis": {
            "gridcolor": "white",
            "linecolor": "white",
            "ticks": ""
           },
           "bgcolor": "#E5ECF6",
           "radialaxis": {
            "gridcolor": "white",
            "linecolor": "white",
            "ticks": ""
           }
          },
          "scene": {
           "xaxis": {
            "backgroundcolor": "#E5ECF6",
            "gridcolor": "white",
            "gridwidth": 2,
            "linecolor": "white",
            "showbackground": true,
            "ticks": "",
            "zerolinecolor": "white"
           },
           "yaxis": {
            "backgroundcolor": "#E5ECF6",
            "gridcolor": "white",
            "gridwidth": 2,
            "linecolor": "white",
            "showbackground": true,
            "ticks": "",
            "zerolinecolor": "white"
           },
           "zaxis": {
            "backgroundcolor": "#E5ECF6",
            "gridcolor": "white",
            "gridwidth": 2,
            "linecolor": "white",
            "showbackground": true,
            "ticks": "",
            "zerolinecolor": "white"
           }
          },
          "shapedefaults": {
           "line": {
            "color": "#2a3f5f"
           }
          },
          "ternary": {
           "aaxis": {
            "gridcolor": "white",
            "linecolor": "white",
            "ticks": ""
           },
           "baxis": {
            "gridcolor": "white",
            "linecolor": "white",
            "ticks": ""
           },
           "bgcolor": "#E5ECF6",
           "caxis": {
            "gridcolor": "white",
            "linecolor": "white",
            "ticks": ""
           }
          },
          "title": {
           "x": 0.05
          },
          "xaxis": {
           "automargin": true,
           "gridcolor": "white",
           "linecolor": "white",
           "ticks": "",
           "title": {
            "standoff": 15
           },
           "zerolinecolor": "white",
           "zerolinewidth": 2
          },
          "yaxis": {
           "automargin": true,
           "gridcolor": "white",
           "linecolor": "white",
           "ticks": "",
           "title": {
            "standoff": 15
           },
           "zerolinecolor": "white",
           "zerolinewidth": 2
          }
         }
        },
        "title": {
         "text": "Number of Pixels by Tier Category"
        },
        "xaxis": {
         "anchor": "y",
         "domain": [
          0,
          1
         ]
        },
        "xaxis2": {
         "anchor": "y2",
         "domain": [
          0,
          1
         ]
        },
        "xaxis3": {
         "anchor": "y3",
         "domain": [
          0,
          1
         ]
        },
        "yaxis": {
         "anchor": "x",
         "domain": [
          0.7777777777777778,
          1
         ],
         "type": "log"
        },
        "yaxis2": {
         "anchor": "x2",
         "domain": [
          0.3888888888888889,
          0.6111111111111112
         ],
         "type": "log"
        },
        "yaxis3": {
         "anchor": "x3",
         "domain": [
          0,
          0.22222222222222224
         ],
         "type": "log"
        }
       }
      }
     },
     "metadata": {},
     "output_type": "display_data"
    }
   ],
   "source": [
    "# Create a DataFrame for each tier\n",
    "tier1_data = pd.DataFrame({\n",
    "    'tier': [f\"{dataset_info['tier1'][i]}\" for i in pixels_by_tier_category['tier1'].keys() if i != 0],\n",
    "    'count': [pixels_by_tier_category['tier1'][i] for i in pixels_by_tier_category['tier1'].keys() if i != 0]\n",
    "})\n",
    "\n",
    "tier2_data = pd.DataFrame({\n",
    "    'tier': [f\"{dataset_info['tier2'][i]}\" for i in pixels_by_tier_category['tier2'].keys() if i != 0],\n",
    "    'count': [pixels_by_tier_category['tier2'][i] for i in pixels_by_tier_category['tier2'].keys() if i != 0]\n",
    "})\n",
    "\n",
    "tier3_data = pd.DataFrame({\n",
    "    'tier': [f\"{dataset_info['tier3'][i]}\" for i in pixels_by_tier_category['tier3'].keys() if i != 0],\n",
    "    'count': [pixels_by_tier_category['tier3'][i] for i in pixels_by_tier_category['tier3'].keys() if i != 0]\n",
    "})\n",
    "\n",
    "tier_data_list = [tier1_data, tier2_data, tier3_data]\n",
    "\n",
    "# Create a subplot for each tier category\n",
    "fig = make_subplots(rows=3, cols=1, subplot_titles=['1st Tier', '2nd Tier', '3rd Tier'])\n",
    "\n",
    "# Iterate over each tier and create a bar chart\n",
    "for i, tier_data in enumerate(tier_data_list, start=1):\n",
    "    grouped_data = tier_data.sort_values(by='count', ascending=False)\n",
    "\n",
    "    # Create a color map for the current tier\n",
    "    random.seed(42)\n",
    "    color_map = {category: f'rgba({random.randint(0, 255)}, {random.randint(0, 255)}, {random.randint(0, 255)}, 1)' for category in grouped_data['tier'].unique()}\n",
    "    bar_colors = grouped_data['tier'].map(color_map)\n",
    "\n",
    "    fig.add_trace(\n",
    "        go.Bar(\n",
    "            x=grouped_data['tier'],\n",
    "            y=grouped_data['count'],\n",
    "            # marker_color=bar_colors\n",
    "        ),\n",
    "        row=i, col=1\n",
    "    )\n",
    "\n",
    "    fig.update_traces(\n",
    "        hovertemplate=\"<b>%{x}</b><br>Count: %{y}\",\n",
    "        selector=dict(row=i, col=1)\n",
    "    )\n",
    "\n",
    "    fig.update_yaxes(type=\"log\", row=i, col=1)\n",
    "\n",
    "fig.update_layout(\n",
    "    title=\"Number of Pixels by Tier Category\",\n",
    "    height=1000,  # Adjust the height to accommodate all subplots\n",
    "    showlegend=False\n",
    ")\n",
    "\n",
    "fig.write_image(\"../assets/ZueriCrop_2.0_Tiers_Class_Distribution.pdf\", width=1200, height=1000)\n",
    "\n",
    "fig.show()"
   ]
  },
  {
   "cell_type": "code",
   "execution_count": 24,
   "metadata": {},
   "outputs": [
    {
     "data": {
      "application/vnd.plotly.v1+json": {
       "config": {
        "plotlyServerURL": "https://plot.ly"
       },
       "data": [
        {
         "hovertemplate": "<b>%{x}</b><br>Count: %{y}<br>Tier 1: %{text}",
         "marker": {
          "color": [
           "rgba(237, 191, 136, 1)",
           "rgba(70, 95, 3, 1)",
           "rgba(70, 95, 3, 1)",
           "rgba(237, 191, 136, 1)",
           "rgba(70, 95, 3, 1)",
           "rgba(70, 95, 3, 1)",
           "rgba(70, 95, 3, 1)",
           "rgba(70, 95, 3, 1)",
           "rgba(70, 95, 3, 1)",
           "rgba(70, 95, 3, 1)",
           "rgba(70, 95, 3, 1)",
           "rgba(173, 237, 41, 1)",
           "rgba(70, 95, 3, 1)",
           "rgba(171, 20, 194, 1)",
           "rgba(173, 237, 41, 1)",
           "rgba(70, 95, 3, 1)",
           "rgba(171, 20, 194, 1)",
           "rgba(70, 95, 3, 1)",
           "rgba(70, 95, 3, 1)",
           "rgba(171, 20, 194, 1)",
           "rgba(70, 95, 3, 1)",
           "rgba(86, 231, 216, 1)",
           "rgba(70, 95, 3, 1)",
           "rgba(173, 237, 41, 1)",
           "rgba(70, 95, 3, 1)",
           "rgba(70, 95, 3, 1)",
           "rgba(173, 237, 41, 1)",
           "rgba(70, 95, 3, 1)",
           "rgba(70, 95, 3, 1)",
           "rgba(173, 237, 41, 1)",
           "rgba(70, 95, 3, 1)",
           "rgba(70, 95, 3, 1)",
           "rgba(70, 95, 3, 1)",
           "rgba(70, 95, 3, 1)",
           "rgba(237, 191, 136, 1)",
           "rgba(70, 95, 3, 1)",
           "rgba(70, 95, 3, 1)",
           "rgba(70, 95, 3, 1)",
           "rgba(70, 95, 3, 1)",
           "rgba(70, 95, 3, 1)",
           "rgba(70, 95, 3, 1)",
           "rgba(173, 237, 41, 1)",
           "rgba(70, 95, 3, 1)",
           "rgba(171, 20, 194, 1)",
           "rgba(70, 95, 3, 1)",
           "rgba(70, 95, 3, 1)",
           "rgba(171, 20, 194, 1)",
           "rgba(173, 237, 41, 1)"
          ]
         },
         "showlegend": false,
         "text": [
          "3,775,380",
          "900,795",
          "854,471",
          "610,564",
          "357,107",
          "296,026",
          "266,612",
          "227,894",
          "138,339",
          "99,072",
          "87,624",
          "62,957",
          "58,027",
          "32,898",
          "32,738",
          "30,330",
          "29,910",
          "26,632",
          "16,941",
          "16,930",
          "12,815",
          "12,675",
          "12,662",
          "11,285",
          "10,784",
          "10,375",
          "7,331",
          "7,220",
          "6,515",
          "6,266",
          "5,948",
          "4,810",
          "3,982",
          "3,717",
          "3,666",
          "3,583",
          "2,351",
          "2,083",
          "2,033",
          "1,771",
          "1,756",
          "1,151",
          "970",
          "834",
          "320",
          "248",
          "70",
          "11"
         ],
         "type": "bar",
         "x": [
          "Meadow",
          "WinterWheat",
          "Maize",
          "Pasture",
          "Sugar_beets",
          "WinterBarley",
          "WinterRapeseed",
          "Vegetables",
          "Potatoes",
          "Wheat",
          "Sunflowers",
          "Vines",
          "Spelt",
          "Hedge",
          "Apples",
          "Soy",
          "Fallow",
          "Peas",
          "Oat",
          "Berries",
          "EinkornWheat",
          "Forest",
          "Field bean",
          "TreeCrop",
          "Rye",
          "SummerWheat",
          "StoneFruit",
          "MixedCrop",
          "Chicory",
          "Pears",
          "Sorghum",
          "SummerBarley",
          "Legumes",
          "Linen",
          "Biodiversity encouragement area",
          "Grain",
          "Tobacco",
          "Hemp",
          "Pumpkin",
          "Buckwheat",
          "SummerRapeseed",
          "Hops",
          "Beets",
          "Multiple",
          "Lupine",
          "Mustard",
          "Gardens",
          "Chestnut"
         ],
         "y": [
          3775380,
          900795,
          854471,
          610564,
          357107,
          296026,
          266612,
          227894,
          138339,
          99072,
          87624,
          62957,
          58027,
          32898,
          32738,
          30330,
          29910,
          26632,
          16941,
          16930,
          12815,
          12675,
          12662,
          11285,
          10784,
          10375,
          7331,
          7220,
          6515,
          6266,
          5948,
          4810,
          3982,
          3717,
          3666,
          3583,
          2351,
          2083,
          2033,
          1771,
          1756,
          1151,
          970,
          834,
          320,
          248,
          70,
          11
         ]
        },
        {
         "legendgroup": "Grassland",
         "marker": {
          "color": "rgba(237, 191, 136, 1)",
          "size": 10
         },
         "mode": "markers",
         "name": "Grassland",
         "showlegend": true,
         "type": "scatter",
         "x": [
          null
         ],
         "y": [
          null
         ]
        },
        {
         "legendgroup": "Field crops",
         "marker": {
          "color": "rgba(70, 95, 3, 1)",
          "size": 10
         },
         "mode": "markers",
         "name": "Field crops",
         "showlegend": true,
         "type": "scatter",
         "x": [
          null
         ],
         "y": [
          null
         ]
        },
        {
         "legendgroup": "Orchards",
         "marker": {
          "color": "rgba(173, 237, 41, 1)",
          "size": 10
         },
         "mode": "markers",
         "name": "Orchards",
         "showlegend": true,
         "type": "scatter",
         "x": [
          null
         ],
         "y": [
          null
         ]
        },
        {
         "legendgroup": "Special crops",
         "marker": {
          "color": "rgba(171, 20, 194, 1)",
          "size": 10
         },
         "mode": "markers",
         "name": "Special crops",
         "showlegend": true,
         "type": "scatter",
         "x": [
          null
         ],
         "y": [
          null
         ]
        },
        {
         "legendgroup": "Forest",
         "marker": {
          "color": "rgba(86, 231, 216, 1)",
          "size": 10
         },
         "mode": "markers",
         "name": "Forest",
         "showlegend": true,
         "type": "scatter",
         "x": [
          null
         ],
         "y": [
          null
         ]
        }
       ],
       "layout": {
        "height": 900,
        "legend": {
         "orientation": "h",
         "title": {
          "text": "Tier 1 Labels:"
         },
         "x": 0.5,
         "xanchor": "center",
         "y": 1.02,
         "yanchor": "bottom"
        },
        "showlegend": true,
        "template": {
         "data": {
          "bar": [
           {
            "error_x": {
             "color": "#2a3f5f"
            },
            "error_y": {
             "color": "#2a3f5f"
            },
            "marker": {
             "line": {
              "color": "#E5ECF6",
              "width": 0.5
             },
             "pattern": {
              "fillmode": "overlay",
              "size": 10,
              "solidity": 0.2
             }
            },
            "type": "bar"
           }
          ],
          "barpolar": [
           {
            "marker": {
             "line": {
              "color": "#E5ECF6",
              "width": 0.5
             },
             "pattern": {
              "fillmode": "overlay",
              "size": 10,
              "solidity": 0.2
             }
            },
            "type": "barpolar"
           }
          ],
          "carpet": [
           {
            "aaxis": {
             "endlinecolor": "#2a3f5f",
             "gridcolor": "white",
             "linecolor": "white",
             "minorgridcolor": "white",
             "startlinecolor": "#2a3f5f"
            },
            "baxis": {
             "endlinecolor": "#2a3f5f",
             "gridcolor": "white",
             "linecolor": "white",
             "minorgridcolor": "white",
             "startlinecolor": "#2a3f5f"
            },
            "type": "carpet"
           }
          ],
          "choropleth": [
           {
            "colorbar": {
             "outlinewidth": 0,
             "ticks": ""
            },
            "type": "choropleth"
           }
          ],
          "contour": [
           {
            "colorbar": {
             "outlinewidth": 0,
             "ticks": ""
            },
            "colorscale": [
             [
              0,
              "#0d0887"
             ],
             [
              0.1111111111111111,
              "#46039f"
             ],
             [
              0.2222222222222222,
              "#7201a8"
             ],
             [
              0.3333333333333333,
              "#9c179e"
             ],
             [
              0.4444444444444444,
              "#bd3786"
             ],
             [
              0.5555555555555556,
              "#d8576b"
             ],
             [
              0.6666666666666666,
              "#ed7953"
             ],
             [
              0.7777777777777778,
              "#fb9f3a"
             ],
             [
              0.8888888888888888,
              "#fdca26"
             ],
             [
              1,
              "#f0f921"
             ]
            ],
            "type": "contour"
           }
          ],
          "contourcarpet": [
           {
            "colorbar": {
             "outlinewidth": 0,
             "ticks": ""
            },
            "type": "contourcarpet"
           }
          ],
          "heatmap": [
           {
            "colorbar": {
             "outlinewidth": 0,
             "ticks": ""
            },
            "colorscale": [
             [
              0,
              "#0d0887"
             ],
             [
              0.1111111111111111,
              "#46039f"
             ],
             [
              0.2222222222222222,
              "#7201a8"
             ],
             [
              0.3333333333333333,
              "#9c179e"
             ],
             [
              0.4444444444444444,
              "#bd3786"
             ],
             [
              0.5555555555555556,
              "#d8576b"
             ],
             [
              0.6666666666666666,
              "#ed7953"
             ],
             [
              0.7777777777777778,
              "#fb9f3a"
             ],
             [
              0.8888888888888888,
              "#fdca26"
             ],
             [
              1,
              "#f0f921"
             ]
            ],
            "type": "heatmap"
           }
          ],
          "heatmapgl": [
           {
            "colorbar": {
             "outlinewidth": 0,
             "ticks": ""
            },
            "colorscale": [
             [
              0,
              "#0d0887"
             ],
             [
              0.1111111111111111,
              "#46039f"
             ],
             [
              0.2222222222222222,
              "#7201a8"
             ],
             [
              0.3333333333333333,
              "#9c179e"
             ],
             [
              0.4444444444444444,
              "#bd3786"
             ],
             [
              0.5555555555555556,
              "#d8576b"
             ],
             [
              0.6666666666666666,
              "#ed7953"
             ],
             [
              0.7777777777777778,
              "#fb9f3a"
             ],
             [
              0.8888888888888888,
              "#fdca26"
             ],
             [
              1,
              "#f0f921"
             ]
            ],
            "type": "heatmapgl"
           }
          ],
          "histogram": [
           {
            "marker": {
             "pattern": {
              "fillmode": "overlay",
              "size": 10,
              "solidity": 0.2
             }
            },
            "type": "histogram"
           }
          ],
          "histogram2d": [
           {
            "colorbar": {
             "outlinewidth": 0,
             "ticks": ""
            },
            "colorscale": [
             [
              0,
              "#0d0887"
             ],
             [
              0.1111111111111111,
              "#46039f"
             ],
             [
              0.2222222222222222,
              "#7201a8"
             ],
             [
              0.3333333333333333,
              "#9c179e"
             ],
             [
              0.4444444444444444,
              "#bd3786"
             ],
             [
              0.5555555555555556,
              "#d8576b"
             ],
             [
              0.6666666666666666,
              "#ed7953"
             ],
             [
              0.7777777777777778,
              "#fb9f3a"
             ],
             [
              0.8888888888888888,
              "#fdca26"
             ],
             [
              1,
              "#f0f921"
             ]
            ],
            "type": "histogram2d"
           }
          ],
          "histogram2dcontour": [
           {
            "colorbar": {
             "outlinewidth": 0,
             "ticks": ""
            },
            "colorscale": [
             [
              0,
              "#0d0887"
             ],
             [
              0.1111111111111111,
              "#46039f"
             ],
             [
              0.2222222222222222,
              "#7201a8"
             ],
             [
              0.3333333333333333,
              "#9c179e"
             ],
             [
              0.4444444444444444,
              "#bd3786"
             ],
             [
              0.5555555555555556,
              "#d8576b"
             ],
             [
              0.6666666666666666,
              "#ed7953"
             ],
             [
              0.7777777777777778,
              "#fb9f3a"
             ],
             [
              0.8888888888888888,
              "#fdca26"
             ],
             [
              1,
              "#f0f921"
             ]
            ],
            "type": "histogram2dcontour"
           }
          ],
          "mesh3d": [
           {
            "colorbar": {
             "outlinewidth": 0,
             "ticks": ""
            },
            "type": "mesh3d"
           }
          ],
          "parcoords": [
           {
            "line": {
             "colorbar": {
              "outlinewidth": 0,
              "ticks": ""
             }
            },
            "type": "parcoords"
           }
          ],
          "pie": [
           {
            "automargin": true,
            "type": "pie"
           }
          ],
          "scatter": [
           {
            "fillpattern": {
             "fillmode": "overlay",
             "size": 10,
             "solidity": 0.2
            },
            "type": "scatter"
           }
          ],
          "scatter3d": [
           {
            "line": {
             "colorbar": {
              "outlinewidth": 0,
              "ticks": ""
             }
            },
            "marker": {
             "colorbar": {
              "outlinewidth": 0,
              "ticks": ""
             }
            },
            "type": "scatter3d"
           }
          ],
          "scattercarpet": [
           {
            "marker": {
             "colorbar": {
              "outlinewidth": 0,
              "ticks": ""
             }
            },
            "type": "scattercarpet"
           }
          ],
          "scattergeo": [
           {
            "marker": {
             "colorbar": {
              "outlinewidth": 0,
              "ticks": ""
             }
            },
            "type": "scattergeo"
           }
          ],
          "scattergl": [
           {
            "marker": {
             "colorbar": {
              "outlinewidth": 0,
              "ticks": ""
             }
            },
            "type": "scattergl"
           }
          ],
          "scattermapbox": [
           {
            "marker": {
             "colorbar": {
              "outlinewidth": 0,
              "ticks": ""
             }
            },
            "type": "scattermapbox"
           }
          ],
          "scatterpolar": [
           {
            "marker": {
             "colorbar": {
              "outlinewidth": 0,
              "ticks": ""
             }
            },
            "type": "scatterpolar"
           }
          ],
          "scatterpolargl": [
           {
            "marker": {
             "colorbar": {
              "outlinewidth": 0,
              "ticks": ""
             }
            },
            "type": "scatterpolargl"
           }
          ],
          "scatterternary": [
           {
            "marker": {
             "colorbar": {
              "outlinewidth": 0,
              "ticks": ""
             }
            },
            "type": "scatterternary"
           }
          ],
          "surface": [
           {
            "colorbar": {
             "outlinewidth": 0,
             "ticks": ""
            },
            "colorscale": [
             [
              0,
              "#0d0887"
             ],
             [
              0.1111111111111111,
              "#46039f"
             ],
             [
              0.2222222222222222,
              "#7201a8"
             ],
             [
              0.3333333333333333,
              "#9c179e"
             ],
             [
              0.4444444444444444,
              "#bd3786"
             ],
             [
              0.5555555555555556,
              "#d8576b"
             ],
             [
              0.6666666666666666,
              "#ed7953"
             ],
             [
              0.7777777777777778,
              "#fb9f3a"
             ],
             [
              0.8888888888888888,
              "#fdca26"
             ],
             [
              1,
              "#f0f921"
             ]
            ],
            "type": "surface"
           }
          ],
          "table": [
           {
            "cells": {
             "fill": {
              "color": "#EBF0F8"
             },
             "line": {
              "color": "white"
             }
            },
            "header": {
             "fill": {
              "color": "#C8D4E3"
             },
             "line": {
              "color": "white"
             }
            },
            "type": "table"
           }
          ]
         },
         "layout": {
          "annotationdefaults": {
           "arrowcolor": "#2a3f5f",
           "arrowhead": 0,
           "arrowwidth": 1
          },
          "autotypenumbers": "strict",
          "coloraxis": {
           "colorbar": {
            "outlinewidth": 0,
            "ticks": ""
           }
          },
          "colorscale": {
           "diverging": [
            [
             0,
             "#8e0152"
            ],
            [
             0.1,
             "#c51b7d"
            ],
            [
             0.2,
             "#de77ae"
            ],
            [
             0.3,
             "#f1b6da"
            ],
            [
             0.4,
             "#fde0ef"
            ],
            [
             0.5,
             "#f7f7f7"
            ],
            [
             0.6,
             "#e6f5d0"
            ],
            [
             0.7,
             "#b8e186"
            ],
            [
             0.8,
             "#7fbc41"
            ],
            [
             0.9,
             "#4d9221"
            ],
            [
             1,
             "#276419"
            ]
           ],
           "sequential": [
            [
             0,
             "#0d0887"
            ],
            [
             0.1111111111111111,
             "#46039f"
            ],
            [
             0.2222222222222222,
             "#7201a8"
            ],
            [
             0.3333333333333333,
             "#9c179e"
            ],
            [
             0.4444444444444444,
             "#bd3786"
            ],
            [
             0.5555555555555556,
             "#d8576b"
            ],
            [
             0.6666666666666666,
             "#ed7953"
            ],
            [
             0.7777777777777778,
             "#fb9f3a"
            ],
            [
             0.8888888888888888,
             "#fdca26"
            ],
            [
             1,
             "#f0f921"
            ]
           ],
           "sequentialminus": [
            [
             0,
             "#0d0887"
            ],
            [
             0.1111111111111111,
             "#46039f"
            ],
            [
             0.2222222222222222,
             "#7201a8"
            ],
            [
             0.3333333333333333,
             "#9c179e"
            ],
            [
             0.4444444444444444,
             "#bd3786"
            ],
            [
             0.5555555555555556,
             "#d8576b"
            ],
            [
             0.6666666666666666,
             "#ed7953"
            ],
            [
             0.7777777777777778,
             "#fb9f3a"
            ],
            [
             0.8888888888888888,
             "#fdca26"
            ],
            [
             1,
             "#f0f921"
            ]
           ]
          },
          "colorway": [
           "#636efa",
           "#EF553B",
           "#00cc96",
           "#ab63fa",
           "#FFA15A",
           "#19d3f3",
           "#FF6692",
           "#B6E880",
           "#FF97FF",
           "#FECB52"
          ],
          "font": {
           "color": "#2a3f5f"
          },
          "geo": {
           "bgcolor": "white",
           "lakecolor": "white",
           "landcolor": "#E5ECF6",
           "showlakes": true,
           "showland": true,
           "subunitcolor": "white"
          },
          "hoverlabel": {
           "align": "left"
          },
          "hovermode": "closest",
          "mapbox": {
           "style": "light"
          },
          "paper_bgcolor": "white",
          "plot_bgcolor": "#E5ECF6",
          "polar": {
           "angularaxis": {
            "gridcolor": "white",
            "linecolor": "white",
            "ticks": ""
           },
           "bgcolor": "#E5ECF6",
           "radialaxis": {
            "gridcolor": "white",
            "linecolor": "white",
            "ticks": ""
           }
          },
          "scene": {
           "xaxis": {
            "backgroundcolor": "#E5ECF6",
            "gridcolor": "white",
            "gridwidth": 2,
            "linecolor": "white",
            "showbackground": true,
            "ticks": "",
            "zerolinecolor": "white"
           },
           "yaxis": {
            "backgroundcolor": "#E5ECF6",
            "gridcolor": "white",
            "gridwidth": 2,
            "linecolor": "white",
            "showbackground": true,
            "ticks": "",
            "zerolinecolor": "white"
           },
           "zaxis": {
            "backgroundcolor": "#E5ECF6",
            "gridcolor": "white",
            "gridwidth": 2,
            "linecolor": "white",
            "showbackground": true,
            "ticks": "",
            "zerolinecolor": "white"
           }
          },
          "shapedefaults": {
           "line": {
            "color": "#2a3f5f"
           }
          },
          "ternary": {
           "aaxis": {
            "gridcolor": "white",
            "linecolor": "white",
            "ticks": ""
           },
           "baxis": {
            "gridcolor": "white",
            "linecolor": "white",
            "ticks": ""
           },
           "bgcolor": "#E5ECF6",
           "caxis": {
            "gridcolor": "white",
            "linecolor": "white",
            "ticks": ""
           }
          },
          "title": {
           "x": 0.05
          },
          "xaxis": {
           "automargin": true,
           "gridcolor": "white",
           "linecolor": "white",
           "ticks": "",
           "title": {
            "standoff": 15
           },
           "zerolinecolor": "white",
           "zerolinewidth": 2
          },
          "yaxis": {
           "automargin": true,
           "gridcolor": "white",
           "linecolor": "white",
           "ticks": "",
           "title": {
            "standoff": 15
           },
           "zerolinecolor": "white",
           "zerolinewidth": 2
          }
         }
        },
        "title": {
         "text": "Number of Pixels per Tier 3 Label"
        },
        "xaxis": {
         "title": {
          "text": "Tier 3 Label"
         }
        },
        "yaxis": {
         "title": {
          "text": "Number of Pixels"
         },
         "type": "log"
        }
       }
      }
     },
     "metadata": {},
     "output_type": "display_data"
    }
   ],
   "source": [
    "tier3_keys = [i for i in pixels_by_tier_category['tier3'].keys() if i != 0]\n",
    "tier3_labels = [f\"{dataset_info['tier3'][i]}\" for i in tier3_keys]\n",
    "tier3_pixels = [pixels_by_tier_category['tier3'][i] for i in tier3_keys]\n",
    "tier3_to_tier1 = [dataset_info['tier3_to_tier1'][i] for i in tier3_keys]\n",
    "\n",
    "tier3_data = pd.DataFrame({\n",
    "    'tier3_label': tier3_labels,\n",
    "    'count': tier3_pixels,\n",
    "    'tier1_label': [dataset_info['tier1'][tier1_index] for tier1_index in tier3_to_tier1]\n",
    "})\n",
    "tier3_data = tier3_data.sort_values(by='count', ascending=False)\n",
    "\n",
    "# Create a unique color for each tier1 category\n",
    "random.seed(9)\n",
    "color_map = {tier: f'rgba({random.randint(0, 255)}, {random.randint(0, 255)}, {random.randint(0, 255)}, 1)' for tier in tier3_data['tier1_label'].unique()}\n",
    "bar_colors = tier3_data['tier1_label'].map(color_map)\n",
    "\n",
    "fig = go.Figure()\n",
    "\n",
    "fig.add_trace(go.Bar(\n",
    "    x=tier3_data['tier3_label'],\n",
    "    y=tier3_data['count'],\n",
    "    marker_color=bar_colors,\n",
    "    text=[f\"{count:,}\" for tier3, count in zip(tier3_data['tier3_label'], tier3_data['count'])],\n",
    "    showlegend=False  # Hide the bar trace from the legend\n",
    "))\n",
    "\n",
    "fig.update_traces(\n",
    "    hovertemplate=\"<b>%{x}</b><br>Count: %{y}<br>Tier 1: %{text}\"\n",
    ")\n",
    "\n",
    "legend_items = [go.Scatter(\n",
    "    x=[None], y=[None],\n",
    "    mode='markers',\n",
    "    marker=dict(size=10, color=color),\n",
    "    legendgroup=tier,\n",
    "    showlegend=True,\n",
    "    name=tier\n",
    ") for tier, color in color_map.items()]\n",
    "\n",
    "for item in legend_items:\n",
    "    fig.add_trace(item)\n",
    "\n",
    "fig.update_layout(\n",
    "    title=\"Number of Pixels per Tier 3 Label\",\n",
    "    xaxis_title=\"Tier 3 Label\",\n",
    "    yaxis_title=\"Number of Pixels\",\n",
    "    yaxis_type=\"log\",\n",
    "    height=900,\n",
    "    showlegend=True,\n",
    "    legend=dict(\n",
    "        title=\"Tier 1 Labels:\",\n",
    "        orientation=\"h\",  # Horizontal orientation\n",
    "        yanchor=\"bottom\",\n",
    "        y=1.02,\n",
    "        xanchor=\"center\",\n",
    "        x=0.5\n",
    "    )\n",
    ")\n",
    "\n",
    "fig.write_image(\"../assets/ZueriCrop_2.0_Tier_3_Class_Distribution.pdf\", width=1200, height=800)\n",
    "\n",
    "fig.show()\n"
   ]
  },
  {
   "cell_type": "code",
   "execution_count": 25,
   "metadata": {},
   "outputs": [
    {
     "name": "stdout",
     "output_type": "stream",
     "text": [
      "Total Pixels: 21,525,504\n",
      "Total Pixels (without background): 8,058,479\n"
     ]
    }
   ],
   "source": [
    "# Count total number of pixels\n",
    "total_pixels = 0\n",
    "total_pixels_without_background = 0\n",
    "for cls in pixels_by_tier_category['tier1']:\n",
    "    total_pixels += pixels_by_tier_category['tier1'][cls]\n",
    "    if cls == 0:\n",
    "        continue\n",
    "    total_pixels_without_background += pixels_by_tier_category['tier1'][cls]\n",
    "\n",
    "print(f\"Total Pixels: {total_pixels:,}\")\n",
    "print(f\"Total Pixels (without background): {total_pixels_without_background:,}\")"
   ]
  }
 ],
 "metadata": {
  "kernelspec": {
   "display_name": "messis-bV8Bs8aq-py3.12",
   "language": "python",
   "name": "python3"
  },
  "language_info": {
   "codemirror_mode": {
    "name": "ipython",
    "version": 3
   },
   "file_extension": ".py",
   "mimetype": "text/x-python",
   "name": "python",
   "nbconvert_exporter": "python",
   "pygments_lexer": "ipython3",
   "version": "3.12.2"
  }
 },
 "nbformat": 4,
 "nbformat_minor": 2
}
