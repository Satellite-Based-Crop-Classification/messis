{
 "cells": [
  {
   "cell_type": "markdown",
   "metadata": {},
   "source": [
    "NOTE: Copy of `dataset_eda.ipynb` notebook adjusted for seasonality hierarchy."
   ]
  },
  {
   "cell_type": "code",
   "execution_count": 17,
   "metadata": {},
   "outputs": [],
   "source": [
    "import sys\n",
    "sys.path.append('..')"
   ]
  },
  {
   "cell_type": "code",
   "execution_count": 18,
   "metadata": {},
   "outputs": [],
   "source": [
    "import matplotlib.pyplot as plt\n",
    "import numpy as np\n",
    "from tqdm import tqdm\n",
    "import pandas as pd\n",
    "import dvc.api\n",
    "import plotly.graph_objects as go\n",
    "from plotly.subplots import make_subplots\n",
    "import random\n",
    "\n",
    "from messis.dataloader import GeospatialDataModule\n",
    "\n",
    "\n",
    "params = dvc.api.params_show()"
   ]
  },
  {
   "cell_type": "code",
   "execution_count": 19,
   "metadata": {},
   "outputs": [],
   "source": [
    "N_FOLDS = params['number_of_folds']"
   ]
  },
  {
   "cell_type": "code",
   "execution_count": 20,
   "metadata": {},
   "outputs": [
    {
     "name": "stdout",
     "output_type": "stream",
     "text": [
      "Setting up GeospatialDataModule for stage: None. Data augmentation config: {}\n",
      "Loading mean/std stats from ../data/chips_stats.yaml\n",
      "Stats with selected test fold 2: {'mean': [586.2720336914062, 705.8182373046875, 461.1337585449219, 3173.60107421875, 2013.3826904296875, 1214.2362060546875], 'n_chips': 70, 'std': [478.10137939453125, 361.135986328125, 307.4477233886719, 1095.1683349609375, 726.4973754882812, 645.2523803710938]} over 3 timesteps.\n",
      "Stats with selected test fold 3: {'mean': [597.5504150390625, 715.9369506835938, 466.4729309082031, 3200.169921875, 2026.0472412109375, 1226.4827880859375], 'n_chips': 70, 'std': [478.5570983886719, 355.21527099609375, 302.90582275390625, 1075.492431640625, 719.2570190429688, 643.1681518554688]} over 3 timesteps.\n",
      "Stats with selected test fold 4: {'mean': [603.1135864257812, 720.5563354492188, 467.7790222167969, 3286.48388671875, 2076.3505859375, 1256.5230712890625], 'n_chips': 70, 'std': [471.8617858886719, 350.39794921875, 302.1551208496094, 989.1860961914062, 658.1454467773438, 625.9981689453125]} over 3 timesteps.\n",
      "Stats with selected test fold 5: {'mean': [580.7675170898438, 702.8214111328125, 455.2427673339844, 3206.9404296875, 2014.0194091796875, 1205.1893310546875], 'n_chips': 70, 'std': [469.3600158691406, 346.7708740234375, 289.10272216796875, 1132.1600341796875, 750.4229125976562, 648.5875854492188]} over 3 timesteps.\n",
      "Loading mean/std stats from ../data/chips_stats.yaml\n",
      "Stats with selected test fold 1: {'mean': [585.3843994140625, 706.22412109375, 456.5683288574219, 3253.222900390625, 2035.3983154296875, 1218.046630859375], 'n_chips': 71, 'std': [476.6825256347656, 355.0893859863281, 300.6714782714844, 1049.02783203125, 714.6737670898438, 644.2249145507812]} over 3 timesteps.\n",
      "Loading mean/std stats from ../data/chips_stats.yaml\n",
      "Stats with selected test fold 0: {'mean': [578.5721435546875, 700.6611938476562, 451.530029296875, 3276.971435546875, 2042.8211669921875, 1213.7288818359375], 'n_chips': 71, 'std': [467.8858642578125, 346.69647216796875, 292.8719177246094, 1015.8590087890625, 684.0661010742188, 631.3777465820312]} over 3 timesteps.\n",
      "Setting up GeospatialDataModule for stage: None. Data augmentation config: {}\n",
      "Loading mean/std stats from ../data/chips_stats.yaml\n",
      "Stats with selected test fold 0: {'mean': [578.5721435546875, 700.6611938476562, 451.530029296875, 3276.971435546875, 2042.8211669921875, 1213.7288818359375], 'n_chips': 71, 'std': [467.8858642578125, 346.69647216796875, 292.8719177246094, 1015.8590087890625, 684.0661010742188, 631.3777465820312]} over 3 timesteps.\n",
      "Stats with selected test fold 3: {'mean': [597.5504150390625, 715.9369506835938, 466.4729309082031, 3200.169921875, 2026.0472412109375, 1226.4827880859375], 'n_chips': 70, 'std': [478.5570983886719, 355.21527099609375, 302.90582275390625, 1075.492431640625, 719.2570190429688, 643.1681518554688]} over 3 timesteps.\n",
      "Stats with selected test fold 4: {'mean': [603.1135864257812, 720.5563354492188, 467.7790222167969, 3286.48388671875, 2076.3505859375, 1256.5230712890625], 'n_chips': 70, 'std': [471.8617858886719, 350.39794921875, 302.1551208496094, 989.1860961914062, 658.1454467773438, 625.9981689453125]} over 3 timesteps.\n",
      "Stats with selected test fold 5: {'mean': [580.7675170898438, 702.8214111328125, 455.2427673339844, 3206.9404296875, 2014.0194091796875, 1205.1893310546875], 'n_chips': 70, 'std': [469.3600158691406, 346.7708740234375, 289.10272216796875, 1132.1600341796875, 750.4229125976562, 648.5875854492188]} over 3 timesteps.\n",
      "Loading mean/std stats from ../data/chips_stats.yaml\n",
      "Stats with selected test fold 2: {'mean': [586.2720336914062, 705.8182373046875, 461.1337585449219, 3173.60107421875, 2013.3826904296875, 1214.2362060546875], 'n_chips': 70, 'std': [478.10137939453125, 361.135986328125, 307.4477233886719, 1095.1683349609375, 726.4973754882812, 645.2523803710938]} over 3 timesteps.\n",
      "Loading mean/std stats from ../data/chips_stats.yaml\n",
      "Stats with selected test fold 1: {'mean': [585.3843994140625, 706.22412109375, 456.5683288574219, 3253.222900390625, 2035.3983154296875, 1218.046630859375], 'n_chips': 71, 'std': [476.6825256347656, 355.0893859863281, 300.6714782714844, 1049.02783203125, 714.6737670898438, 644.2249145507812]} over 3 timesteps.\n",
      "Setting up GeospatialDataModule for stage: None. Data augmentation config: {}\n",
      "Loading mean/std stats from ../data/chips_stats.yaml\n",
      "Stats with selected test fold 0: {'mean': [578.5721435546875, 700.6611938476562, 451.530029296875, 3276.971435546875, 2042.8211669921875, 1213.7288818359375], 'n_chips': 71, 'std': [467.8858642578125, 346.69647216796875, 292.8719177246094, 1015.8590087890625, 684.0661010742188, 631.3777465820312]} over 3 timesteps.\n",
      "Stats with selected test fold 1: {'mean': [585.3843994140625, 706.22412109375, 456.5683288574219, 3253.222900390625, 2035.3983154296875, 1218.046630859375], 'n_chips': 71, 'std': [476.6825256347656, 355.0893859863281, 300.6714782714844, 1049.02783203125, 714.6737670898438, 644.2249145507812]} over 3 timesteps.\n",
      "Stats with selected test fold 4: {'mean': [603.1135864257812, 720.5563354492188, 467.7790222167969, 3286.48388671875, 2076.3505859375, 1256.5230712890625], 'n_chips': 70, 'std': [471.8617858886719, 350.39794921875, 302.1551208496094, 989.1860961914062, 658.1454467773438, 625.9981689453125]} over 3 timesteps.\n",
      "Stats with selected test fold 5: {'mean': [580.7675170898438, 702.8214111328125, 455.2427673339844, 3206.9404296875, 2014.0194091796875, 1205.1893310546875], 'n_chips': 70, 'std': [469.3600158691406, 346.7708740234375, 289.10272216796875, 1132.1600341796875, 750.4229125976562, 648.5875854492188]} over 3 timesteps.\n",
      "Loading mean/std stats from ../data/chips_stats.yaml\n",
      "Stats with selected test fold 3: {'mean': [597.5504150390625, 715.9369506835938, 466.4729309082031, 3200.169921875, 2026.0472412109375, 1226.4827880859375], 'n_chips': 70, 'std': [478.5570983886719, 355.21527099609375, 302.90582275390625, 1075.492431640625, 719.2570190429688, 643.1681518554688]} over 3 timesteps.\n",
      "Loading mean/std stats from ../data/chips_stats.yaml\n",
      "Stats with selected test fold 2: {'mean': [586.2720336914062, 705.8182373046875, 461.1337585449219, 3173.60107421875, 2013.3826904296875, 1214.2362060546875], 'n_chips': 70, 'std': [478.10137939453125, 361.135986328125, 307.4477233886719, 1095.1683349609375, 726.4973754882812, 645.2523803710938]} over 3 timesteps.\n",
      "Setting up GeospatialDataModule for stage: None. Data augmentation config: {}\n",
      "Loading mean/std stats from ../data/chips_stats.yaml\n",
      "Stats with selected test fold 0: {'mean': [578.5721435546875, 700.6611938476562, 451.530029296875, 3276.971435546875, 2042.8211669921875, 1213.7288818359375], 'n_chips': 71, 'std': [467.8858642578125, 346.69647216796875, 292.8719177246094, 1015.8590087890625, 684.0661010742188, 631.3777465820312]} over 3 timesteps.\n",
      "Stats with selected test fold 1: {'mean': [585.3843994140625, 706.22412109375, 456.5683288574219, 3253.222900390625, 2035.3983154296875, 1218.046630859375], 'n_chips': 71, 'std': [476.6825256347656, 355.0893859863281, 300.6714782714844, 1049.02783203125, 714.6737670898438, 644.2249145507812]} over 3 timesteps.\n",
      "Stats with selected test fold 2: {'mean': [586.2720336914062, 705.8182373046875, 461.1337585449219, 3173.60107421875, 2013.3826904296875, 1214.2362060546875], 'n_chips': 70, 'std': [478.10137939453125, 361.135986328125, 307.4477233886719, 1095.1683349609375, 726.4973754882812, 645.2523803710938]} over 3 timesteps.\n",
      "Stats with selected test fold 5: {'mean': [580.7675170898438, 702.8214111328125, 455.2427673339844, 3206.9404296875, 2014.0194091796875, 1205.1893310546875], 'n_chips': 70, 'std': [469.3600158691406, 346.7708740234375, 289.10272216796875, 1132.1600341796875, 750.4229125976562, 648.5875854492188]} over 3 timesteps.\n",
      "Loading mean/std stats from ../data/chips_stats.yaml\n",
      "Stats with selected test fold 4: {'mean': [603.1135864257812, 720.5563354492188, 467.7790222167969, 3286.48388671875, 2076.3505859375, 1256.5230712890625], 'n_chips': 70, 'std': [471.8617858886719, 350.39794921875, 302.1551208496094, 989.1860961914062, 658.1454467773438, 625.9981689453125]} over 3 timesteps.\n",
      "Loading mean/std stats from ../data/chips_stats.yaml\n",
      "Stats with selected test fold 3: {'mean': [597.5504150390625, 715.9369506835938, 466.4729309082031, 3200.169921875, 2026.0472412109375, 1226.4827880859375], 'n_chips': 70, 'std': [478.5570983886719, 355.21527099609375, 302.90582275390625, 1075.492431640625, 719.2570190429688, 643.1681518554688]} over 3 timesteps.\n",
      "Setting up GeospatialDataModule for stage: None. Data augmentation config: {}\n",
      "Loading mean/std stats from ../data/chips_stats.yaml\n",
      "Stats with selected test fold 0: {'mean': [578.5721435546875, 700.6611938476562, 451.530029296875, 3276.971435546875, 2042.8211669921875, 1213.7288818359375], 'n_chips': 71, 'std': [467.8858642578125, 346.69647216796875, 292.8719177246094, 1015.8590087890625, 684.0661010742188, 631.3777465820312]} over 3 timesteps.\n",
      "Stats with selected test fold 1: {'mean': [585.3843994140625, 706.22412109375, 456.5683288574219, 3253.222900390625, 2035.3983154296875, 1218.046630859375], 'n_chips': 71, 'std': [476.6825256347656, 355.0893859863281, 300.6714782714844, 1049.02783203125, 714.6737670898438, 644.2249145507812]} over 3 timesteps.\n",
      "Stats with selected test fold 2: {'mean': [586.2720336914062, 705.8182373046875, 461.1337585449219, 3173.60107421875, 2013.3826904296875, 1214.2362060546875], 'n_chips': 70, 'std': [478.10137939453125, 361.135986328125, 307.4477233886719, 1095.1683349609375, 726.4973754882812, 645.2523803710938]} over 3 timesteps.\n",
      "Stats with selected test fold 3: {'mean': [597.5504150390625, 715.9369506835938, 466.4729309082031, 3200.169921875, 2026.0472412109375, 1226.4827880859375], 'n_chips': 70, 'std': [478.5570983886719, 355.21527099609375, 302.90582275390625, 1075.492431640625, 719.2570190429688, 643.1681518554688]} over 3 timesteps.\n",
      "Loading mean/std stats from ../data/chips_stats.yaml\n",
      "Stats with selected test fold 5: {'mean': [580.7675170898438, 702.8214111328125, 455.2427673339844, 3206.9404296875, 2014.0194091796875, 1205.1893310546875], 'n_chips': 70, 'std': [469.3600158691406, 346.7708740234375, 289.10272216796875, 1132.1600341796875, 750.4229125976562, 648.5875854492188]} over 3 timesteps.\n",
      "Loading mean/std stats from ../data/chips_stats.yaml\n",
      "Stats with selected test fold 4: {'mean': [603.1135864257812, 720.5563354492188, 467.7790222167969, 3286.48388671875, 2076.3505859375, 1256.5230712890625], 'n_chips': 70, 'std': [471.8617858886719, 350.39794921875, 302.1551208496094, 989.1860961914062, 658.1454467773438, 625.9981689453125]} over 3 timesteps.\n",
      "Setting up GeospatialDataModule for stage: None. Data augmentation config: {}\n",
      "Loading mean/std stats from ../data/chips_stats.yaml\n",
      "Stats with selected test fold 1: {'mean': [585.3843994140625, 706.22412109375, 456.5683288574219, 3253.222900390625, 2035.3983154296875, 1218.046630859375], 'n_chips': 71, 'std': [476.6825256347656, 355.0893859863281, 300.6714782714844, 1049.02783203125, 714.6737670898438, 644.2249145507812]} over 3 timesteps.\n",
      "Stats with selected test fold 2: {'mean': [586.2720336914062, 705.8182373046875, 461.1337585449219, 3173.60107421875, 2013.3826904296875, 1214.2362060546875], 'n_chips': 70, 'std': [478.10137939453125, 361.135986328125, 307.4477233886719, 1095.1683349609375, 726.4973754882812, 645.2523803710938]} over 3 timesteps.\n",
      "Stats with selected test fold 3: {'mean': [597.5504150390625, 715.9369506835938, 466.4729309082031, 3200.169921875, 2026.0472412109375, 1226.4827880859375], 'n_chips': 70, 'std': [478.5570983886719, 355.21527099609375, 302.90582275390625, 1075.492431640625, 719.2570190429688, 643.1681518554688]} over 3 timesteps.\n",
      "Stats with selected test fold 4: {'mean': [603.1135864257812, 720.5563354492188, 467.7790222167969, 3286.48388671875, 2076.3505859375, 1256.5230712890625], 'n_chips': 70, 'std': [471.8617858886719, 350.39794921875, 302.1551208496094, 989.1860961914062, 658.1454467773438, 625.9981689453125]} over 3 timesteps.\n",
      "Loading mean/std stats from ../data/chips_stats.yaml\n",
      "Stats with selected test fold 0: {'mean': [578.5721435546875, 700.6611938476562, 451.530029296875, 3276.971435546875, 2042.8211669921875, 1213.7288818359375], 'n_chips': 71, 'std': [467.8858642578125, 346.69647216796875, 292.8719177246094, 1015.8590087890625, 684.0661010742188, 631.3777465820312]} over 3 timesteps.\n",
      "Loading mean/std stats from ../data/chips_stats.yaml\n",
      "Stats with selected test fold 5: {'mean': [580.7675170898438, 702.8214111328125, 455.2427673339844, 3206.9404296875, 2014.0194091796875, 1205.1893310546875], 'n_chips': 70, 'std': [469.3600158691406, 346.7708740234375, 289.10272216796875, 1132.1600341796875, 750.4229125976562, 648.5875854492188]} over 3 timesteps.\n"
     ]
    }
   ],
   "source": [
    "folds = []\n",
    "for i in range(N_FOLDS):\n",
    "    val_fold = (i + 1) % N_FOLDS\n",
    "\n",
    "    data_module = GeospatialDataModule(data_dir='../data/',\n",
    "                                       train_folds=list(set(range(N_FOLDS)) - {i, val_fold}),\n",
    "                                       val_folds=[val_fold],\n",
    "                                       test_folds=[i],\n",
    "                                       batch_size=12,\n",
    "                                       num_workers=1,\n",
    "                                       debug=True,\n",
    "                                       subsets=None)\n",
    "\n",
    "    data_module.setup()\n",
    "    folds.append(data_module.test_dataset)"
   ]
  },
  {
   "cell_type": "code",
   "execution_count": 21,
   "metadata": {},
   "outputs": [
    {
     "name": "stdout",
     "output_type": "stream",
     "text": [
      "Processing fold 0\n"
     ]
    },
    {
     "name": "stderr",
     "output_type": "stream",
     "text": [
      "100%|██████████| 71/71 [00:01<00:00, 40.71it/s]\n"
     ]
    },
    {
     "name": "stdout",
     "output_type": "stream",
     "text": [
      "Processing fold 1\n"
     ]
    },
    {
     "name": "stderr",
     "output_type": "stream",
     "text": [
      "100%|██████████| 71/71 [00:01<00:00, 44.42it/s]\n"
     ]
    },
    {
     "name": "stdout",
     "output_type": "stream",
     "text": [
      "Processing fold 2\n"
     ]
    },
    {
     "name": "stderr",
     "output_type": "stream",
     "text": [
      "100%|██████████| 70/70 [00:01<00:00, 46.31it/s]\n"
     ]
    },
    {
     "name": "stdout",
     "output_type": "stream",
     "text": [
      "Processing fold 3\n"
     ]
    },
    {
     "name": "stderr",
     "output_type": "stream",
     "text": [
      "100%|██████████| 70/70 [00:01<00:00, 42.24it/s]\n"
     ]
    },
    {
     "name": "stdout",
     "output_type": "stream",
     "text": [
      "Processing fold 4\n"
     ]
    },
    {
     "name": "stderr",
     "output_type": "stream",
     "text": [
      "100%|██████████| 70/70 [00:01<00:00, 42.94it/s]\n"
     ]
    },
    {
     "name": "stdout",
     "output_type": "stream",
     "text": [
      "Processing fold 5\n"
     ]
    },
    {
     "name": "stderr",
     "output_type": "stream",
     "text": [
      "100%|██████████| 70/70 [00:01<00:00, 44.34it/s]\n"
     ]
    }
   ],
   "source": [
    "pixels_by_tier_category_fold = [] # list for each fold: dict with tier as key: dict with category as key: pixel count as value\n",
    "for i in range(N_FOLDS):\n",
    "    print(f\"Processing fold {i}\")\n",
    "    pixels_by_tier_category = {\n",
    "        \"tier1\": {},\n",
    "        \"tier2\": {},\n",
    "        # \"tier3\": {}\n",
    "    }\n",
    "    for batch in tqdm(folds[i]):\n",
    "        targets = batch[1][0]\n",
    "        for j, tier in enumerate(pixels_by_tier_category.keys()):\n",
    "            # get the unique values and their counts\n",
    "            unique, counts = targets[j].unique(return_counts=True)\n",
    "            # create a dictionary with the unique values and their counts\n",
    "            for clazz, count in zip(unique, counts):\n",
    "                if clazz.item() in pixels_by_tier_category[tier]:\n",
    "                    pixels_by_tier_category[tier][clazz.item()] += count.item()\n",
    "                else:\n",
    "                    pixels_by_tier_category[tier][clazz.item()] = count.item()\n",
    "            #unique_counts = {int(clazz): int(count) for clazz, count in zip(unique, counts)}\n",
    "            #print(unique_counts)\n",
    "            \n",
    "            # add the counts to the corresponding tier\n",
    "    pixels_by_tier_category_fold.append(pixels_by_tier_category)"
   ]
  },
  {
   "cell_type": "code",
   "execution_count": 22,
   "metadata": {},
   "outputs": [
    {
     "name": "stdout",
     "output_type": "stream",
     "text": [
      "len(pixels_by_tier_category_fold): 6\n",
      "len(pixels_by_tier_category_fold[0]): 2\n",
      "len(pixels_by_tier_category_fold[0]['tier1']): 4\n",
      "pixels_by_tier_category_fold[0]['tier1']: {0: 2863559, 1: 124369, 2: 297712, 3: 276856}\n"
     ]
    }
   ],
   "source": [
    "print(f\"len(pixels_by_tier_category_fold): {len(pixels_by_tier_category_fold)}\")\n",
    "print(f\"len(pixels_by_tier_category_fold[0]): {len(pixels_by_tier_category_fold[0])}\")\n",
    "print(f\"len(pixels_by_tier_category_fold[0]['tier1']): {len(pixels_by_tier_category_fold[0]['tier1'])}\")\n",
    "print(f\"pixels_by_tier_category_fold[0]['tier1']: {pixels_by_tier_category_fold[0]['tier1']}\")"
   ]
  },
  {
   "cell_type": "code",
   "execution_count": 23,
   "metadata": {},
   "outputs": [
    {
     "data": {
      "text/plain": [
       "['Background', 'AnnualCrop', 'PerennialCrop', 'Permaculture']"
      ]
     },
     "execution_count": 23,
     "metadata": {},
     "output_type": "execute_result"
    }
   ],
   "source": [
    "import json\n",
    "dataset_info = json.load(open('../data/dataset_info.json'))\n",
    "\n",
    "dataset_info[\"tier1\"]"
   ]
  },
  {
   "cell_type": "code",
   "execution_count": 24,
   "metadata": {},
   "outputs": [
    {
     "data": {
      "image/png": "[encoded data removed]",
      "text/plain": [
       "<Figure size 1500x1200 with 2 Axes>"
      ]
     },
     "metadata": {},
     "output_type": "display_data"
    }
   ],
   "source": [
    "fig, axes = plt.subplots(nrows=2, ncols=1, figsize=(15, 12), sharex=False)\n",
    "fig.subplots_adjust(hspace=0.4)\n",
    "\n",
    "for ax, tier in zip(axes, [\"tier1\", \"tier2\"]):\n",
    "    categories = set().union(*[pixels_by_tier_category_fold[i][tier].keys() for i in range(N_FOLDS)])\n",
    "    index = np.arange(len(categories))\n",
    "    bar_width = 0.15\n",
    "    counts_by_fold = []\n",
    "    for fold in range(N_FOLDS):\n",
    "        counts = [pixels_by_tier_category_fold[fold][tier].get(cat, 0) for cat in categories]\n",
    "        counts_by_fold.append(counts)\n",
    "    # aggregate counts by category\n",
    "    counts = np.sum(counts_by_fold, axis=0)\n",
    "    # order the categories and counts by counts\n",
    "    categories = [cat for _, cat in sorted(zip(counts, categories), key=lambda pair: pair[0], reverse=True)]\n",
    "    for fold in range(N_FOLDS):\n",
    "        counts = [pixels_by_tier_category_fold[fold][tier].get(cat, 0) for cat in categories]\n",
    "        ax.bar(index + fold * bar_width, counts, bar_width, label=f'Fold {fold+1}')\n",
    "    \n",
    "    ax.set_xlabel('Category')\n",
    "    ax.set_ylabel('Counts')\n",
    "    ax.set_yscale('log')\n",
    "    ax.set_title(f'Fold Counts by Category for {tier}')\n",
    "    ax.set_xticks(index + bar_width * (N_FOLDS - 1) / 2)\n",
    "    labels = [dataset_info[tier][cat] for cat in categories]\n",
    "    ax.set_xticklabels(labels, rotation=90)\n",
    "    ax.legend()\n",
    "\n",
    "plt.tight_layout()\n",
    "plt.show()"
   ]
  },
  {
   "cell_type": "code",
   "execution_count": 25,
   "metadata": {},
   "outputs": [],
   "source": [
    "tier2_to_tier1 = dataset_info[\"tier2_to_tier1\"] # array where index is tier3 and value is tier1"
   ]
  },
  {
   "cell_type": "code",
   "execution_count": 26,
   "metadata": {},
   "outputs": [
    {
     "name": "stdout",
     "output_type": "stream",
     "text": [
      "[0, 1, 2, 1, 1, 2, 2, 1, 1, 2, 1, 1, 1, 1, 1, 1, 1, 1, 3, 3, 3, 2, 3]\n"
     ]
    }
   ],
   "source": [
    "print(tier2_to_tier1) # array where index is tier2 and value is tier1"
   ]
  },
  {
   "cell_type": "code",
   "execution_count": 27,
   "metadata": {},
   "outputs": [
    {
     "data": {
      "text/plain": [
       "{'tier1': {0: 16909914, 1: 773555, 2: 1831517, 3: 1659286},\n",
       " 'tier2': {0: 16909914,\n",
       "  2: 296026,\n",
       "  5: 900795,\n",
       "  9: 265802,\n",
       "  10: 30330,\n",
       "  18: 1519853,\n",
       "  20: 46415,\n",
       "  22: 42045,\n",
       "  3: 261712,\n",
       "  6: 358077,\n",
       "  14: 26632,\n",
       "  16: 191321,\n",
       "  7: 132455,\n",
       "  11: 87017,\n",
       "  8: 1756,\n",
       "  12: 22973,\n",
       "  4: 10375,\n",
       "  19: 50973,\n",
       "  21: 10817,\n",
       "  17: 1771,\n",
       "  15: 320,\n",
       "  1: 4810,\n",
       "  13: 2083}}"
      ]
     },
     "execution_count": 27,
     "metadata": {},
     "output_type": "execute_result"
    }
   ],
   "source": [
    "# aggregate all folds of pixels_by_tier_category_fold\n",
    "pixels_by_tier_category = {\n",
    "    \"tier1\": {},\n",
    "    \"tier2\": {},\n",
    "    # \"tier3\": {}\n",
    "}\n",
    "for tier in pixels_by_tier_category.keys():\n",
    "    for fold in range(N_FOLDS):\n",
    "        for clazz, count in pixels_by_tier_category_fold[fold][tier].items():\n",
    "            if clazz in pixels_by_tier_category[tier]:\n",
    "                pixels_by_tier_category[tier][clazz] += count\n",
    "            else:\n",
    "                pixels_by_tier_category[tier][clazz] = count\n",
    "\n",
    "pixels_by_tier_category # dict with each tier as key. The value is a dict again with the category as tier and the pixel count as value"
   ]
  },
  {
   "cell_type": "code",
   "execution_count": 28,
   "metadata": {},
   "outputs": [
    {
     "data": {
      "application/vnd.plotly.v1+json": {
       "config": {
        "plotlyServerURL": "https://plot.ly"
       },
       "data": [
        {
         "arrangement": "snap",
         "link": {
          "source": [
           0,
           0,
           0,
           1,
           2,
           1,
           1,
           2,
           2,
           1,
           1,
           2,
           1,
           1,
           1,
           1,
           1,
           1,
           1,
           1,
           3,
           3,
           3,
           2,
           3
          ],
          "target": [
           1,
           2,
           3,
           4,
           5,
           6,
           7,
           8,
           9,
           10,
           11,
           12,
           13,
           14,
           15,
           16,
           17,
           18,
           19,
           20,
           21,
           22,
           23,
           24,
           25
          ],
          "value": [
           773555,
           1831517,
           1659286,
           4810,
           296026,
           261712,
           10375,
           900795,
           358077,
           132455,
           1756,
           265802,
           30330,
           87017,
           22973,
           2083,
           26632,
           320,
           191321,
           1771,
           1519853,
           50973,
           46415,
           10817,
           42045
          ]
         },
         "node": {
          "label": [
           "Vegetation",
           "1 - AnnualCrop",
           "1 - PerennialCrop",
           "1 - Permaculture",
           "2 - SummerBarley [4,810]",
           "2 - WinterBarley [296,026]",
           "2 - Maize [261,712]",
           "2 - SummerWheat [10,375]",
           "2 - WinterWheat [900,795]",
           "2 - SugarBeet [358,077]",
           "2 - Potatoes [132,455]",
           "2 - SummerRapeseed [1,756]",
           "2 - WinterRapeseed [265,802]",
           "2 - Soybeans [30,330]",
           "2 - Sunflowers [87,017]",
           "2 - SpecialCultureAnnual [22,973]",
           "2 - Hemp [2,083]",
           "2 - Peas [26,632]",
           "2 - Lupine [320]",
           "2 - Vegetables [191,321]",
           "2 - Buckwheat [1,771]",
           "2 - Grassland [1,519,853]",
           "2 - Vines [50,973]",
           "2 - Orchards [46,415]",
           "2 - SpecialCulturePerennial [10,817]",
           "2 - SpecialCulturePerma [42,045]"
          ],
          "line": {
           "color": "black",
           "width": 0.5
          },
          "pad": 15,
          "thickness": 20
         },
         "type": "sankey"
        }
       ],
       "layout": {
        "font": {
         "size": 15
        },
        "height": 1000,
        "template": {
         "data": {
          "bar": [
           {
            "error_x": {
             "color": "#2a3f5f"
            },
            "error_y": {
             "color": "#2a3f5f"
            },
            "marker": {
             "line": {
              "color": "#E5ECF6",
              "width": 0.5
             },
             "pattern": {
              "fillmode": "overlay",
              "size": 10,
              "solidity": 0.2
             }
            },
            "type": "bar"
           }
          ],
          "barpolar": [
           {
            "marker": {
             "line": {
              "color": "#E5ECF6",
              "width": 0.5
             },
             "pattern": {
              "fillmode": "overlay",
              "size": 10,
              "solidity": 0.2
             }
            },
            "type": "barpolar"
           }
          ],
          "carpet": [
           {
            "aaxis": {
             "endlinecolor": "#2a3f5f",
             "gridcolor": "white",
             "linecolor": "white",
             "minorgridcolor": "white",
             "startlinecolor": "#2a3f5f"
            },
            "baxis": {
             "endlinecolor": "#2a3f5f",
             "gridcolor": "white",
             "linecolor": "white",
             "minorgridcolor": "white",
             "startlinecolor": "#2a3f5f"
            },
            "type": "carpet"
           }
          ],
          "choropleth": [
           {
            "colorbar": {
             "outlinewidth": 0,
             "ticks": ""
            },
            "type": "choropleth"
           }
          ],
          "contour": [
           {
            "colorbar": {
             "outlinewidth": 0,
             "ticks": ""
            },
            "colorscale": [
             [
              0,
              "#0d0887"
             ],
             [
              0.1111111111111111,
              "#46039f"
             ],
             [
              0.2222222222222222,
              "#7201a8"
             ],
             [
              0.3333333333333333,
              "#9c179e"
             ],
             [
              0.4444444444444444,
              "#bd3786"
             ],
             [
              0.5555555555555556,
              "#d8576b"
             ],
             [
              0.6666666666666666,
              "#ed7953"
             ],
             [
              0.7777777777777778,
              "#fb9f3a"
             ],
             [
              0.8888888888888888,
              "#fdca26"
             ],
             [
              1,
              "#f0f921"
             ]
            ],
            "type": "contour"
           }
          ],
          "contourcarpet": [
           {
            "colorbar": {
             "outlinewidth": 0,
             "ticks": ""
            },
            "type": "contourcarpet"
           }
          ],
          "heatmap": [
           {
            "colorbar": {
             "outlinewidth": 0,
             "ticks": ""
            },
            "colorscale": [
             [
              0,
              "#0d0887"
             ],
             [
              0.1111111111111111,
              "#46039f"
             ],
             [
              0.2222222222222222,
              "#7201a8"
             ],
             [
              0.3333333333333333,
              "#9c179e"
             ],
             [
              0.4444444444444444,
              "#bd3786"
             ],
             [
              0.5555555555555556,
              "#d8576b"
             ],
             [
              0.6666666666666666,
              "#ed7953"
             ],
             [
              0.7777777777777778,
              "#fb9f3a"
             ],
             [
              0.8888888888888888,
              "#fdca26"
             ],
             [
              1,
              "#f0f921"
             ]
            ],
            "type": "heatmap"
           }
          ],
          "heatmapgl": [
           {
            "colorbar": {
             "outlinewidth": 0,
             "ticks": ""
            },
            "colorscale": [
             [
              0,
              "#0d0887"
             ],
             [
              0.1111111111111111,
              "#46039f"
             ],
             [
              0.2222222222222222,
              "#7201a8"
             ],
             [
              0.3333333333333333,
              "#9c179e"
             ],
             [
              0.4444444444444444,
              "#bd3786"
             ],
             [
              0.5555555555555556,
              "#d8576b"
             ],
             [
              0.6666666666666666,
              "#ed7953"
             ],
             [
              0.7777777777777778,
              "#fb9f3a"
             ],
             [
              0.8888888888888888,
              "#fdca26"
             ],
             [
              1,
              "#f0f921"
             ]
            ],
            "type": "heatmapgl"
           }
          ],
          "histogram": [
           {
            "marker": {
             "pattern": {
              "fillmode": "overlay",
              "size": 10,
              "solidity": 0.2
             }
            },
            "type": "histogram"
           }
          ],
          "histogram2d": [
           {
            "colorbar": {
             "outlinewidth": 0,
             "ticks": ""
            },
            "colorscale": [
             [
              0,
              "#0d0887"
             ],
             [
              0.1111111111111111,
              "#46039f"
             ],
             [
              0.2222222222222222,
              "#7201a8"
             ],
             [
              0.3333333333333333,
              "#9c179e"
             ],
             [
              0.4444444444444444,
              "#bd3786"
             ],
             [
              0.5555555555555556,
              "#d8576b"
             ],
             [
              0.6666666666666666,
              "#ed7953"
             ],
             [
              0.7777777777777778,
              "#fb9f3a"
             ],
             [
              0.8888888888888888,
              "#fdca26"
             ],
             [
              1,
              "#f0f921"
             ]
            ],
            "type": "histogram2d"
           }
          ],
          "histogram2dcontour": [
           {
            "colorbar": {
             "outlinewidth": 0,
             "ticks": ""
            },
            "colorscale": [
             [
              0,
              "#0d0887"
             ],
             [
              0.1111111111111111,
              "#46039f"
             ],
             [
              0.2222222222222222,
              "#7201a8"
             ],
             [
              0.3333333333333333,
              "#9c179e"
             ],
             [
              0.4444444444444444,
              "#bd3786"
             ],
             [
              0.5555555555555556,
              "#d8576b"
             ],
             [
              0.6666666666666666,
              "#ed7953"
             ],
             [
              0.7777777777777778,
              "#fb9f3a"
             ],
             [
              0.8888888888888888,
              "#fdca26"
             ],
             [
              1,
              "#f0f921"
             ]
            ],
            "type": "histogram2dcontour"
           }
          ],
          "mesh3d": [
           {
            "colorbar": {
             "outlinewidth": 0,
             "ticks": ""
            },
            "type": "mesh3d"
           }
          ],
          "parcoords": [
           {
            "line": {
             "colorbar": {
              "outlinewidth": 0,
              "ticks": ""
             }
            },
            "type": "parcoords"
           }
          ],
          "pie": [
           {
            "automargin": true,
            "type": "pie"
           }
          ],
          "scatter": [
           {
            "fillpattern": {
             "fillmode": "overlay",
             "size": 10,
             "solidity": 0.2
            },
            "type": "scatter"
           }
          ],
          "scatter3d": [
           {
            "line": {
             "colorbar": {
              "outlinewidth": 0,
              "ticks": ""
             }
            },
            "marker": {
             "colorbar": {
              "outlinewidth": 0,
              "ticks": ""
             }
            },
            "type": "scatter3d"
           }
          ],
          "scattercarpet": [
           {
            "marker": {
             "colorbar": {
              "outlinewidth": 0,
              "ticks": ""
             }
            },
            "type": "scattercarpet"
           }
          ],
          "scattergeo": [
           {
            "marker": {
             "colorbar": {
              "outlinewidth": 0,
              "ticks": ""
             }
            },
            "type": "scattergeo"
           }
          ],
          "scattergl": [
           {
            "marker": {
             "colorbar": {
              "outlinewidth": 0,
              "ticks": ""
             }
            },
            "type": "scattergl"
           }
          ],
          "scattermapbox": [
           {
            "marker": {
             "colorbar": {
              "outlinewidth": 0,
              "ticks": ""
             }
            },
            "type": "scattermapbox"
           }
          ],
          "scatterpolar": [
           {
            "marker": {
             "colorbar": {
              "outlinewidth": 0,
              "ticks": ""
             }
            },
            "type": "scatterpolar"
           }
          ],
          "scatterpolargl": [
           {
            "marker": {
             "colorbar": {
              "outlinewidth": 0,
              "ticks": ""
             }
            },
            "type": "scatterpolargl"
           }
          ],
          "scatterternary": [
           {
            "marker": {
             "colorbar": {
              "outlinewidth": 0,
              "ticks": ""
             }
            },
            "type": "scatterternary"
           }
          ],
          "surface": [
           {
            "colorbar": {
             "outlinewidth": 0,
             "ticks": ""
            },
            "colorscale": [
             [
              0,
              "#0d0887"
             ],
             [
              0.1111111111111111,
              "#46039f"
             ],
             [
              0.2222222222222222,
              "#7201a8"
             ],
             [
              0.3333333333333333,
              "#9c179e"
             ],
             [
              0.4444444444444444,
              "#bd3786"
             ],
             [
              0.5555555555555556,
              "#d8576b"
             ],
             [
              0.6666666666666666,
              "#ed7953"
             ],
             [
              0.7777777777777778,
              "#fb9f3a"
             ],
             [
              0.8888888888888888,
              "#fdca26"
             ],
             [
              1,
              "#f0f921"
             ]
            ],
            "type": "surface"
           }
          ],
          "table": [
           {
            "cells": {
             "fill": {
              "color": "#EBF0F8"
             },
             "line": {
              "color": "white"
             }
            },
            "header": {
             "fill": {
              "color": "#C8D4E3"
             },
             "line": {
              "color": "white"
             }
            },
            "type": "table"
           }
          ]
         },
         "layout": {
          "annotationdefaults": {
           "arrowcolor": "#2a3f5f",
           "arrowhead": 0,
           "arrowwidth": 1
          },
          "autotypenumbers": "strict",
          "coloraxis": {
           "colorbar": {
            "outlinewidth": 0,
            "ticks": ""
           }
          },
          "colorscale": {
           "diverging": [
            [
             0,
             "#8e0152"
            ],
            [
             0.1,
             "#c51b7d"
            ],
            [
             0.2,
             "#de77ae"
            ],
            [
             0.3,
             "#f1b6da"
            ],
            [
             0.4,
             "#fde0ef"
            ],
            [
             0.5,
             "#f7f7f7"
            ],
            [
             0.6,
             "#e6f5d0"
            ],
            [
             0.7,
             "#b8e186"
            ],
            [
             0.8,
             "#7fbc41"
            ],
            [
             0.9,
             "#4d9221"
            ],
            [
             1,
             "#276419"
            ]
           ],
           "sequential": [
            [
             0,
             "#0d0887"
            ],
            [
             0.1111111111111111,
             "#46039f"
            ],
            [
             0.2222222222222222,
             "#7201a8"
            ],
            [
             0.3333333333333333,
             "#9c179e"
            ],
            [
             0.4444444444444444,
             "#bd3786"
            ],
            [
             0.5555555555555556,
             "#d8576b"
            ],
            [
             0.6666666666666666,
             "#ed7953"
            ],
            [
             0.7777777777777778,
             "#fb9f3a"
            ],
            [
             0.8888888888888888,
             "#fdca26"
            ],
            [
             1,
             "#f0f921"
            ]
           ],
           "sequentialminus": [
            [
             0,
             "#0d0887"
            ],
            [
             0.1111111111111111,
             "#46039f"
            ],
            [
             0.2222222222222222,
             "#7201a8"
            ],
            [
             0.3333333333333333,
             "#9c179e"
            ],
            [
             0.4444444444444444,
             "#bd3786"
            ],
            [
             0.5555555555555556,
             "#d8576b"
            ],
            [
             0.6666666666666666,
             "#ed7953"
            ],
            [
             0.7777777777777778,
             "#fb9f3a"
            ],
            [
             0.8888888888888888,
             "#fdca26"
            ],
            [
             1,
             "#f0f921"
            ]
           ]
          },
          "colorway": [
           "#636efa",
           "#EF553B",
           "#00cc96",
           "#ab63fa",
           "#FFA15A",
           "#19d3f3",
           "#FF6692",
           "#B6E880",
           "#FF97FF",
           "#FECB52"
          ],
          "font": {
           "color": "#2a3f5f"
          },
          "geo": {
           "bgcolor": "white",
           "lakecolor": "white",
           "landcolor": "#E5ECF6",
           "showlakes": true,
           "showland": true,
           "subunitcolor": "white"
          },
          "hoverlabel": {
           "align": "left"
          },
          "hovermode": "closest",
          "mapbox": {
           "style": "light"
          },
          "paper_bgcolor": "white",
          "plot_bgcolor": "#E5ECF6",
          "polar": {
           "angularaxis": {
            "gridcolor": "white",
            "linecolor": "white",
            "ticks": ""
           },
           "bgcolor": "#E5ECF6",
           "radialaxis": {
            "gridcolor": "white",
            "linecolor": "white",
            "ticks": ""
           }
          },
          "scene": {
           "xaxis": {
            "backgroundcolor": "#E5ECF6",
            "gridcolor": "white",
            "gridwidth": 2,
            "linecolor": "white",
            "showbackground": true,
            "ticks": "",
            "zerolinecolor": "white"
           },
           "yaxis": {
            "backgroundcolor": "#E5ECF6",
            "gridcolor": "white",
            "gridwidth": 2,
            "linecolor": "white",
            "showbackground": true,
            "ticks": "",
            "zerolinecolor": "white"
           },
           "zaxis": {
            "backgroundcolor": "#E5ECF6",
            "gridcolor": "white",
            "gridwidth": 2,
            "linecolor": "white",
            "showbackground": true,
            "ticks": "",
            "zerolinecolor": "white"
           }
          },
          "shapedefaults": {
           "line": {
            "color": "#2a3f5f"
           }
          },
          "ternary": {
           "aaxis": {
            "gridcolor": "white",
            "linecolor": "white",
            "ticks": ""
           },
           "baxis": {
            "gridcolor": "white",
            "linecolor": "white",
            "ticks": ""
           },
           "bgcolor": "#E5ECF6",
           "caxis": {
            "gridcolor": "white",
            "linecolor": "white",
            "ticks": ""
           }
          },
          "title": {
           "x": 0.05
          },
          "xaxis": {
           "automargin": true,
           "gridcolor": "white",
           "linecolor": "white",
           "ticks": "",
           "title": {
            "standoff": 15
           },
           "zerolinecolor": "white",
           "zerolinewidth": 2
          },
          "yaxis": {
           "automargin": true,
           "gridcolor": "white",
           "linecolor": "white",
           "ticks": "",
           "title": {
            "standoff": 15
           },
           "zerolinecolor": "white",
           "zerolinewidth": 2
          }
         }
        },
        "title": {
         "text": "<b>ZueriCrop Label Hierarchy</b> (Bands represent number of pixels in dataset)"
        }
       }
      }
     },
     "metadata": {},
     "output_type": "display_data"
    }
   ],
   "source": [
    "# Prepare data for Sankey diagram\n",
    "node_labels = [\"Vegetation\"]\n",
    "\n",
    "# Create labels for tier 1 nodes\n",
    "tier1_labels = [f\"1 - {dataset_info['tier1'][i]}\" for i in sorted(list(pixels_by_tier_category['tier1'].keys())) if i != 0]\n",
    "node_labels.extend(tier1_labels)\n",
    "\n",
    "# Create labels for tier 2 nodes\n",
    "tier2_labels = [f\"2 - {dataset_info['tier2'][i]} [{pixels_by_tier_category['tier2'][i]:,}]\" for i in sorted(list(pixels_by_tier_category['tier2'].keys())) if i != 0]\n",
    "node_labels.extend(tier2_labels)\n",
    "\n",
    "# Create source and target lists based on the provided relationships\n",
    "sources = []\n",
    "targets = []\n",
    "values = []\n",
    "\n",
    "# Tier1 to Vegetation links\n",
    "for i, t1_index in enumerate(tier1_labels):\n",
    "\n",
    "    sources.append(0)  # Index of Vegetation node\n",
    "    targets.append(i+1)  # Adjust index for tier 1 node\n",
    "    values.append(pixels_by_tier_category['tier1'][i+1])\n",
    "\n",
    "# Tier2 to Tier1 links\n",
    "for i, t1_index in enumerate(tier2_to_tier1):\n",
    "    if i == 0:\n",
    "        continue\n",
    "    targets.append(len(tier1_labels) + i)  # Adjust index for tier 2 node\n",
    "    sources.append(t1_index)  # Adjust index for tier 1 node\n",
    "    values.append(pixels_by_tier_category['tier2'][i])\n",
    "\n",
    "# Create the Sankey diagram using Plotly\n",
    "fig = go.Figure(data=[go.Sankey(\n",
    "    node=dict(\n",
    "        pad=15,\n",
    "        thickness=20,\n",
    "        line=dict(color=\"black\", width=0.5),\n",
    "        label=node_labels,\n",
    "    ),\n",
    "    link=dict(\n",
    "        source=sources,\n",
    "        target=targets,\n",
    "        value=values\n",
    "    ),\n",
    "    arrangement='snap'\n",
    ")])\n",
    "\n",
    "fig.update_layout(title_text=\"<b>ZueriCrop Label Hierarchy</b> (Bands represent number of pixels in dataset)\", font_size=15, height=1000)\n",
    "\n",
    "fig.write_image(\"../assets/ZueriCrop_2.0_Seasonality_Tiers_Sankey.pdf\", width=1200, height=1500)\n",
    "\n",
    "fig.show()"
   ]
  },
  {
   "cell_type": "code",
   "execution_count": 29,
   "metadata": {},
   "outputs": [
    {
     "data": {
      "application/vnd.plotly.v1+json": {
       "config": {
        "plotlyServerURL": "https://plot.ly"
       },
       "data": [
        {
         "type": "bar",
         "x": [
          "PerennialCrop",
          "Permaculture",
          "AnnualCrop"
         ],
         "xaxis": "x",
         "y": [
          1831517,
          1659286,
          773555
         ],
         "yaxis": "y"
        },
        {
         "type": "bar",
         "x": [
          "Grassland",
          "WinterWheat",
          "SugarBeet",
          "WinterBarley",
          "WinterRapeseed",
          "Maize",
          "Vegetables",
          "Potatoes",
          "Sunflowers",
          "Vines",
          "Orchards",
          "SpecialCulturePerma",
          "Soybeans",
          "Peas",
          "SpecialCultureAnnual",
          "SpecialCulturePerennial",
          "SummerWheat",
          "SummerBarley",
          "Hemp",
          "Buckwheat",
          "SummerRapeseed",
          "Lupine"
         ],
         "xaxis": "x2",
         "y": [
          1519853,
          900795,
          358077,
          296026,
          265802,
          261712,
          191321,
          132455,
          87017,
          50973,
          46415,
          42045,
          30330,
          26632,
          22973,
          10817,
          10375,
          4810,
          2083,
          1771,
          1756,
          320
         ],
         "yaxis": "y2"
        }
       ],
       "layout": {
        "annotations": [
         {
          "font": {
           "size": 16
          },
          "showarrow": false,
          "text": "1st Tier",
          "x": 0.5,
          "xanchor": "center",
          "xref": "paper",
          "y": 1,
          "yanchor": "bottom",
          "yref": "paper"
         },
         {
          "font": {
           "size": 16
          },
          "showarrow": false,
          "text": "2nd Tier",
          "x": 0.5,
          "xanchor": "center",
          "xref": "paper",
          "y": 0.375,
          "yanchor": "bottom",
          "yref": "paper"
         }
        ],
        "height": 700,
        "showlegend": false,
        "template": {
         "data": {
          "bar": [
           {
            "error_x": {
             "color": "#2a3f5f"
            },
            "error_y": {
             "color": "#2a3f5f"
            },
            "marker": {
             "line": {
              "color": "#E5ECF6",
              "width": 0.5
             },
             "pattern": {
              "fillmode": "overlay",
              "size": 10,
              "solidity": 0.2
             }
            },
            "type": "bar"
           }
          ],
          "barpolar": [
           {
            "marker": {
             "line": {
              "color": "#E5ECF6",
              "width": 0.5
             },
             "pattern": {
              "fillmode": "overlay",
              "size": 10,
              "solidity": 0.2
             }
            },
            "type": "barpolar"
           }
          ],
          "carpet": [
           {
            "aaxis": {
             "endlinecolor": "#2a3f5f",
             "gridcolor": "white",
             "linecolor": "white",
             "minorgridcolor": "white",
             "startlinecolor": "#2a3f5f"
            },
            "baxis": {
             "endlinecolor": "#2a3f5f",
             "gridcolor": "white",
             "linecolor": "white",
             "minorgridcolor": "white",
             "startlinecolor": "#2a3f5f"
            },
            "type": "carpet"
           }
          ],
          "choropleth": [
           {
            "colorbar": {
             "outlinewidth": 0,
             "ticks": ""
            },
            "type": "choropleth"
           }
          ],
          "contour": [
           {
            "colorbar": {
             "outlinewidth": 0,
             "ticks": ""
            },
            "colorscale": [
             [
              0,
              "#0d0887"
             ],
             [
              0.1111111111111111,
              "#46039f"
             ],
             [
              0.2222222222222222,
              "#7201a8"
             ],
             [
              0.3333333333333333,
              "#9c179e"
             ],
             [
              0.4444444444444444,
              "#bd3786"
             ],
             [
              0.5555555555555556,
              "#d8576b"
             ],
             [
              0.6666666666666666,
              "#ed7953"
             ],
             [
              0.7777777777777778,
              "#fb9f3a"
             ],
             [
              0.8888888888888888,
              "#fdca26"
             ],
             [
              1,
              "#f0f921"
             ]
            ],
            "type": "contour"
           }
          ],
          "contourcarpet": [
           {
            "colorbar": {
             "outlinewidth": 0,
             "ticks": ""
            },
            "type": "contourcarpet"
           }
          ],
          "heatmap": [
           {
            "colorbar": {
             "outlinewidth": 0,
             "ticks": ""
            },
            "colorscale": [
             [
              0,
              "#0d0887"
             ],
             [
              0.1111111111111111,
              "#46039f"
             ],
             [
              0.2222222222222222,
              "#7201a8"
             ],
             [
              0.3333333333333333,
              "#9c179e"
             ],
             [
              0.4444444444444444,
              "#bd3786"
             ],
             [
              0.5555555555555556,
              "#d8576b"
             ],
             [
              0.6666666666666666,
              "#ed7953"
             ],
             [
              0.7777777777777778,
              "#fb9f3a"
             ],
             [
              0.8888888888888888,
              "#fdca26"
             ],
             [
              1,
              "#f0f921"
             ]
            ],
            "type": "heatmap"
           }
          ],
          "heatmapgl": [
           {
            "colorbar": {
             "outlinewidth": 0,
             "ticks": ""
            },
            "colorscale": [
             [
              0,
              "#0d0887"
             ],
             [
              0.1111111111111111,
              "#46039f"
             ],
             [
              0.2222222222222222,
              "#7201a8"
             ],
             [
              0.3333333333333333,
              "#9c179e"
             ],
             [
              0.4444444444444444,
              "#bd3786"
             ],
             [
              0.5555555555555556,
              "#d8576b"
             ],
             [
              0.6666666666666666,
              "#ed7953"
             ],
             [
              0.7777777777777778,
              "#fb9f3a"
             ],
             [
              0.8888888888888888,
              "#fdca26"
             ],
             [
              1,
              "#f0f921"
             ]
            ],
            "type": "heatmapgl"
           }
          ],
          "histogram": [
           {
            "marker": {
             "pattern": {
              "fillmode": "overlay",
              "size": 10,
              "solidity": 0.2
             }
            },
            "type": "histogram"
           }
          ],
          "histogram2d": [
           {
            "colorbar": {
             "outlinewidth": 0,
             "ticks": ""
            },
            "colorscale": [
             [
              0,
              "#0d0887"
             ],
             [
              0.1111111111111111,
              "#46039f"
             ],
             [
              0.2222222222222222,
              "#7201a8"
             ],
             [
              0.3333333333333333,
              "#9c179e"
             ],
             [
              0.4444444444444444,
              "#bd3786"
             ],
             [
              0.5555555555555556,
              "#d8576b"
             ],
             [
              0.6666666666666666,
              "#ed7953"
             ],
             [
              0.7777777777777778,
              "#fb9f3a"
             ],
             [
              0.8888888888888888,
              "#fdca26"
             ],
             [
              1,
              "#f0f921"
             ]
            ],
            "type": "histogram2d"
           }
          ],
          "histogram2dcontour": [
           {
            "colorbar": {
             "outlinewidth": 0,
             "ticks": ""
            },
            "colorscale": [
             [
              0,
              "#0d0887"
             ],
             [
              0.1111111111111111,
              "#46039f"
             ],
             [
              0.2222222222222222,
              "#7201a8"
             ],
             [
              0.3333333333333333,
              "#9c179e"
             ],
             [
              0.4444444444444444,
              "#bd3786"
             ],
             [
              0.5555555555555556,
              "#d8576b"
             ],
             [
              0.6666666666666666,
              "#ed7953"
             ],
             [
              0.7777777777777778,
              "#fb9f3a"
             ],
             [
              0.8888888888888888,
              "#fdca26"
             ],
             [
              1,
              "#f0f921"
             ]
            ],
            "type": "histogram2dcontour"
           }
          ],
          "mesh3d": [
           {
            "colorbar": {
             "outlinewidth": 0,
             "ticks": ""
            },
            "type": "mesh3d"
           }
          ],
          "parcoords": [
           {
            "line": {
             "colorbar": {
              "outlinewidth": 0,
              "ticks": ""
             }
            },
            "type": "parcoords"
           }
          ],
          "pie": [
           {
            "automargin": true,
            "type": "pie"
           }
          ],
          "scatter": [
           {
            "fillpattern": {
             "fillmode": "overlay",
             "size": 10,
             "solidity": 0.2
            },
            "type": "scatter"
           }
          ],
          "scatter3d": [
           {
            "line": {
             "colorbar": {
              "outlinewidth": 0,
              "ticks": ""
             }
            },
            "marker": {
             "colorbar": {
              "outlinewidth": 0,
              "ticks": ""
             }
            },
            "type": "scatter3d"
           }
          ],
          "scattercarpet": [
           {
            "marker": {
             "colorbar": {
              "outlinewidth": 0,
              "ticks": ""
             }
            },
            "type": "scattercarpet"
           }
          ],
          "scattergeo": [
           {
            "marker": {
             "colorbar": {
              "outlinewidth": 0,
              "ticks": ""
             }
            },
            "type": "scattergeo"
           }
          ],
          "scattergl": [
           {
            "marker": {
             "colorbar": {
              "outlinewidth": 0,
              "ticks": ""
             }
            },
            "type": "scattergl"
           }
          ],
          "scattermapbox": [
           {
            "marker": {
             "colorbar": {
              "outlinewidth": 0,
              "ticks": ""
             }
            },
            "type": "scattermapbox"
           }
          ],
          "scatterpolar": [
           {
            "marker": {
             "colorbar": {
              "outlinewidth": 0,
              "ticks": ""
             }
            },
            "type": "scatterpolar"
           }
          ],
          "scatterpolargl": [
           {
            "marker": {
             "colorbar": {
              "outlinewidth": 0,
              "ticks": ""
             }
            },
            "type": "scatterpolargl"
           }
          ],
          "scatterternary": [
           {
            "marker": {
             "colorbar": {
              "outlinewidth": 0,
              "ticks": ""
             }
            },
            "type": "scatterternary"
           }
          ],
          "surface": [
           {
            "colorbar": {
             "outlinewidth": 0,
             "ticks": ""
            },
            "colorscale": [
             [
              0,
              "#0d0887"
             ],
             [
              0.1111111111111111,
              "#46039f"
             ],
             [
              0.2222222222222222,
              "#7201a8"
             ],
             [
              0.3333333333333333,
              "#9c179e"
             ],
             [
              0.4444444444444444,
              "#bd3786"
             ],
             [
              0.5555555555555556,
              "#d8576b"
             ],
             [
              0.6666666666666666,
              "#ed7953"
             ],
             [
              0.7777777777777778,
              "#fb9f3a"
             ],
             [
              0.8888888888888888,
              "#fdca26"
             ],
             [
              1,
              "#f0f921"
             ]
            ],
            "type": "surface"
           }
          ],
          "table": [
           {
            "cells": {
             "fill": {
              "color": "#EBF0F8"
             },
             "line": {
              "color": "white"
             }
            },
            "header": {
             "fill": {
              "color": "#C8D4E3"
             },
             "line": {
              "color": "white"
             }
            },
            "type": "table"
           }
          ]
         },
         "layout": {
          "annotationdefaults": {
           "arrowcolor": "#2a3f5f",
           "arrowhead": 0,
           "arrowwidth": 1
          },
          "autotypenumbers": "strict",
          "coloraxis": {
           "colorbar": {
            "outlinewidth": 0,
            "ticks": ""
           }
          },
          "colorscale": {
           "diverging": [
            [
             0,
             "#8e0152"
            ],
            [
             0.1,
             "#c51b7d"
            ],
            [
             0.2,
             "#de77ae"
            ],
            [
             0.3,
             "#f1b6da"
            ],
            [
             0.4,
             "#fde0ef"
            ],
            [
             0.5,
             "#f7f7f7"
            ],
            [
             0.6,
             "#e6f5d0"
            ],
            [
             0.7,
             "#b8e186"
            ],
            [
             0.8,
             "#7fbc41"
            ],
            [
             0.9,
             "#4d9221"
            ],
            [
             1,
             "#276419"
            ]
           ],
           "sequential": [
            [
             0,
             "#0d0887"
            ],
            [
             0.1111111111111111,
             "#46039f"
            ],
            [
             0.2222222222222222,
             "#7201a8"
            ],
            [
             0.3333333333333333,
             "#9c179e"
            ],
            [
             0.4444444444444444,
             "#bd3786"
            ],
            [
             0.5555555555555556,
             "#d8576b"
            ],
            [
             0.6666666666666666,
             "#ed7953"
            ],
            [
             0.7777777777777778,
             "#fb9f3a"
            ],
            [
             0.8888888888888888,
             "#fdca26"
            ],
            [
             1,
             "#f0f921"
            ]
           ],
           "sequentialminus": [
            [
             0,
             "#0d0887"
            ],
            [
             0.1111111111111111,
             "#46039f"
            ],
            [
             0.2222222222222222,
             "#7201a8"
            ],
            [
             0.3333333333333333,
             "#9c179e"
            ],
            [
             0.4444444444444444,
             "#bd3786"
            ],
            [
             0.5555555555555556,
             "#d8576b"
            ],
            [
             0.6666666666666666,
             "#ed7953"
            ],
            [
             0.7777777777777778,
             "#fb9f3a"
            ],
            [
             0.8888888888888888,
             "#fdca26"
            ],
            [
             1,
             "#f0f921"
            ]
           ]
          },
          "colorway": [
           "#636efa",
           "#EF553B",
           "#00cc96",
           "#ab63fa",
           "#FFA15A",
           "#19d3f3",
           "#FF6692",
           "#B6E880",
           "#FF97FF",
           "#FECB52"
          ],
          "font": {
           "color": "#2a3f5f"
          },
          "geo": {
           "bgcolor": "white",
           "lakecolor": "white",
           "landcolor": "#E5ECF6",
           "showlakes": true,
           "showland": true,
           "subunitcolor": "white"
          },
          "hoverlabel": {
           "align": "left"
          },
          "hovermode": "closest",
          "mapbox": {
           "style": "light"
          },
          "paper_bgcolor": "white",
          "plot_bgcolor": "#E5ECF6",
          "polar": {
           "angularaxis": {
            "gridcolor": "white",
            "linecolor": "white",
            "ticks": ""
           },
           "bgcolor": "#E5ECF6",
           "radialaxis": {
            "gridcolor": "white",
            "linecolor": "white",
            "ticks": ""
           }
          },
          "scene": {
           "xaxis": {
            "backgroundcolor": "#E5ECF6",
            "gridcolor": "white",
            "gridwidth": 2,
            "linecolor": "white",
            "showbackground": true,
            "ticks": "",
            "zerolinecolor": "white"
           },
           "yaxis": {
            "backgroundcolor": "#E5ECF6",
            "gridcolor": "white",
            "gridwidth": 2,
            "linecolor": "white",
            "showbackground": true,
            "ticks": "",
            "zerolinecolor": "white"
           },
           "zaxis": {
            "backgroundcolor": "#E5ECF6",
            "gridcolor": "white",
            "gridwidth": 2,
            "linecolor": "white",
            "showbackground": true,
            "ticks": "",
            "zerolinecolor": "white"
           }
          },
          "shapedefaults": {
           "line": {
            "color": "#2a3f5f"
           }
          },
          "ternary": {
           "aaxis": {
            "gridcolor": "white",
            "linecolor": "white",
            "ticks": ""
           },
           "baxis": {
            "gridcolor": "white",
            "linecolor": "white",
            "ticks": ""
           },
           "bgcolor": "#E5ECF6",
           "caxis": {
            "gridcolor": "white",
            "linecolor": "white",
            "ticks": ""
           }
          },
          "title": {
           "x": 0.05
          },
          "xaxis": {
           "automargin": true,
           "gridcolor": "white",
           "linecolor": "white",
           "ticks": "",
           "title": {
            "standoff": 15
           },
           "zerolinecolor": "white",
           "zerolinewidth": 2
          },
          "yaxis": {
           "automargin": true,
           "gridcolor": "white",
           "linecolor": "white",
           "ticks": "",
           "title": {
            "standoff": 15
           },
           "zerolinecolor": "white",
           "zerolinewidth": 2
          }
         }
        },
        "title": {
         "text": "Number of Pixels by Tier Category"
        },
        "xaxis": {
         "anchor": "y",
         "domain": [
          0,
          1
         ]
        },
        "xaxis2": {
         "anchor": "y2",
         "domain": [
          0,
          1
         ]
        },
        "yaxis": {
         "anchor": "x",
         "domain": [
          0.625,
          1
         ],
         "type": "log"
        },
        "yaxis2": {
         "anchor": "x2",
         "domain": [
          0,
          0.375
         ],
         "type": "log"
        }
       }
      }
     },
     "metadata": {},
     "output_type": "display_data"
    }
   ],
   "source": [
    "# Create a DataFrame for each tier\n",
    "tier1_data = pd.DataFrame({\n",
    "    'tier': [f\"{dataset_info['tier1'][i]}\" for i in pixels_by_tier_category['tier1'].keys() if i != 0],\n",
    "    'count': [pixels_by_tier_category['tier1'][i] for i in pixels_by_tier_category['tier1'].keys() if i != 0]\n",
    "})\n",
    "\n",
    "tier2_data = pd.DataFrame({\n",
    "    'tier': [f\"{dataset_info['tier2'][i]}\" for i in pixels_by_tier_category['tier2'].keys() if i != 0],\n",
    "    'count': [pixels_by_tier_category['tier2'][i] for i in pixels_by_tier_category['tier2'].keys() if i != 0]\n",
    "})\n",
    "\n",
    "tier_data_list = [tier1_data, tier2_data]\n",
    "\n",
    "# Create a subplot for each tier category\n",
    "fig = make_subplots(rows=2, cols=1, subplot_titles=['1st Tier', '2nd Tier'])\n",
    "\n",
    "# Iterate over each tier and create a bar chart\n",
    "for i, tier_data in enumerate(tier_data_list, start=1):\n",
    "    grouped_data = tier_data.sort_values(by='count', ascending=False)\n",
    "\n",
    "    # Create a color map for the current tier\n",
    "    random.seed(42)\n",
    "    color_map = {category: f'rgba({random.randint(0, 255)}, {random.randint(0, 255)}, {random.randint(0, 255)}, 1)' for category in grouped_data['tier'].unique()}\n",
    "    bar_colors = grouped_data['tier'].map(color_map)\n",
    "\n",
    "    fig.add_trace(\n",
    "        go.Bar(\n",
    "            x=grouped_data['tier'],\n",
    "            y=grouped_data['count'],\n",
    "            # marker_color=bar_colors\n",
    "        ),\n",
    "        row=i, col=1\n",
    "    )\n",
    "\n",
    "    fig.update_traces(\n",
    "        hovertemplate=\"<b>%{x}</b><br>Count: %{y}\",\n",
    "        selector=dict(row=i, col=1)\n",
    "    )\n",
    "\n",
    "    fig.update_yaxes(type=\"log\", row=i, col=1)\n",
    "\n",
    "fig.update_layout(\n",
    "    title=\"Number of Pixels by Tier Category\",\n",
    "    height=700,  # Adjust the height to accommodate all subplots\n",
    "    showlegend=False\n",
    ")\n",
    "\n",
    "fig.write_image(\"../assets/ZueriCrop_2.0_Seasonality_Tiers_Class_Distribution.pdf\", width=1200, height=700)\n",
    "\n",
    "fig.show()"
   ]
  },
  {
   "cell_type": "code",
   "execution_count": 30,
   "metadata": {},
   "outputs": [
    {
     "data": {
      "application/vnd.plotly.v1+json": {
       "config": {
        "plotlyServerURL": "https://plot.ly"
       },
       "data": [
        {
         "hovertemplate": "<b>%{x}</b><br>Count: %{y}<br>Tier 1: %{text}",
         "marker": {
          "color": [
           "rgba(237, 191, 136, 1)",
           "rgba(70, 95, 3, 1)",
           "rgba(70, 95, 3, 1)",
           "rgba(70, 95, 3, 1)",
           "rgba(70, 95, 3, 1)",
           "rgba(173, 237, 41, 1)",
           "rgba(173, 237, 41, 1)",
           "rgba(173, 237, 41, 1)",
           "rgba(173, 237, 41, 1)",
           "rgba(237, 191, 136, 1)",
           "rgba(237, 191, 136, 1)",
           "rgba(237, 191, 136, 1)",
           "rgba(173, 237, 41, 1)",
           "rgba(173, 237, 41, 1)",
           "rgba(173, 237, 41, 1)",
           "rgba(70, 95, 3, 1)",
           "rgba(173, 237, 41, 1)",
           "rgba(173, 237, 41, 1)",
           "rgba(173, 237, 41, 1)",
           "rgba(173, 237, 41, 1)",
           "rgba(173, 237, 41, 1)",
           "rgba(173, 237, 41, 1)"
          ]
         },
         "showlegend": false,
         "text": [
          "1,519,853",
          "900,795",
          "358,077",
          "296,026",
          "265,802",
          "261,712",
          "191,321",
          "132,455",
          "87,017",
          "50,973",
          "46,415",
          "42,045",
          "30,330",
          "26,632",
          "22,973",
          "10,817",
          "10,375",
          "4,810",
          "2,083",
          "1,771",
          "1,756",
          "320"
         ],
         "type": "bar",
         "x": [
          "Grassland",
          "WinterWheat",
          "SugarBeet",
          "WinterBarley",
          "WinterRapeseed",
          "Maize",
          "Vegetables",
          "Potatoes",
          "Sunflowers",
          "Vines",
          "Orchards",
          "SpecialCulturePerma",
          "Soybeans",
          "Peas",
          "SpecialCultureAnnual",
          "SpecialCulturePerennial",
          "SummerWheat",
          "SummerBarley",
          "Hemp",
          "Buckwheat",
          "SummerRapeseed",
          "Lupine"
         ],
         "y": [
          1519853,
          900795,
          358077,
          296026,
          265802,
          261712,
          191321,
          132455,
          87017,
          50973,
          46415,
          42045,
          30330,
          26632,
          22973,
          10817,
          10375,
          4810,
          2083,
          1771,
          1756,
          320
         ]
        },
        {
         "legendgroup": "Permaculture",
         "marker": {
          "color": "rgba(237, 191, 136, 1)",
          "size": 10
         },
         "mode": "markers",
         "name": "Permaculture",
         "showlegend": true,
         "type": "scatter",
         "x": [
          null
         ],
         "y": [
          null
         ]
        },
        {
         "legendgroup": "PerennialCrop",
         "marker": {
          "color": "rgba(70, 95, 3, 1)",
          "size": 10
         },
         "mode": "markers",
         "name": "PerennialCrop",
         "showlegend": true,
         "type": "scatter",
         "x": [
          null
         ],
         "y": [
          null
         ]
        },
        {
         "legendgroup": "AnnualCrop",
         "marker": {
          "color": "rgba(173, 237, 41, 1)",
          "size": 10
         },
         "mode": "markers",
         "name": "AnnualCrop",
         "showlegend": true,
         "type": "scatter",
         "x": [
          null
         ],
         "y": [
          null
         ]
        }
       ],
       "layout": {
        "height": 900,
        "legend": {
         "orientation": "h",
         "title": {
          "text": "Tier 1 Labels:"
         },
         "x": 0.5,
         "xanchor": "center",
         "y": 1.02,
         "yanchor": "bottom"
        },
        "showlegend": true,
        "template": {
         "data": {
          "bar": [
           {
            "error_x": {
             "color": "#2a3f5f"
            },
            "error_y": {
             "color": "#2a3f5f"
            },
            "marker": {
             "line": {
              "color": "#E5ECF6",
              "width": 0.5
             },
             "pattern": {
              "fillmode": "overlay",
              "size": 10,
              "solidity": 0.2
             }
            },
            "type": "bar"
           }
          ],
          "barpolar": [
           {
            "marker": {
             "line": {
              "color": "#E5ECF6",
              "width": 0.5
             },
             "pattern": {
              "fillmode": "overlay",
              "size": 10,
              "solidity": 0.2
             }
            },
            "type": "barpolar"
           }
          ],
          "carpet": [
           {
            "aaxis": {
             "endlinecolor": "#2a3f5f",
             "gridcolor": "white",
             "linecolor": "white",
             "minorgridcolor": "white",
             "startlinecolor": "#2a3f5f"
            },
            "baxis": {
             "endlinecolor": "#2a3f5f",
             "gridcolor": "white",
             "linecolor": "white",
             "minorgridcolor": "white",
             "startlinecolor": "#2a3f5f"
            },
            "type": "carpet"
           }
          ],
          "choropleth": [
           {
            "colorbar": {
             "outlinewidth": 0,
             "ticks": ""
            },
            "type": "choropleth"
           }
          ],
          "contour": [
           {
            "colorbar": {
             "outlinewidth": 0,
             "ticks": ""
            },
            "colorscale": [
             [
              0,
              "#0d0887"
             ],
             [
              0.1111111111111111,
              "#46039f"
             ],
             [
              0.2222222222222222,
              "#7201a8"
             ],
             [
              0.3333333333333333,
              "#9c179e"
             ],
             [
              0.4444444444444444,
              "#bd3786"
             ],
             [
              0.5555555555555556,
              "#d8576b"
             ],
             [
              0.6666666666666666,
              "#ed7953"
             ],
             [
              0.7777777777777778,
              "#fb9f3a"
             ],
             [
              0.8888888888888888,
              "#fdca26"
             ],
             [
              1,
              "#f0f921"
             ]
            ],
            "type": "contour"
           }
          ],
          "contourcarpet": [
           {
            "colorbar": {
             "outlinewidth": 0,
             "ticks": ""
            },
            "type": "contourcarpet"
           }
          ],
          "heatmap": [
           {
            "colorbar": {
             "outlinewidth": 0,
             "ticks": ""
            },
            "colorscale": [
             [
              0,
              "#0d0887"
             ],
             [
              0.1111111111111111,
              "#46039f"
             ],
             [
              0.2222222222222222,
              "#7201a8"
             ],
             [
              0.3333333333333333,
              "#9c179e"
             ],
             [
              0.4444444444444444,
              "#bd3786"
             ],
             [
              0.5555555555555556,
              "#d8576b"
             ],
             [
              0.6666666666666666,
              "#ed7953"
             ],
             [
              0.7777777777777778,
              "#fb9f3a"
             ],
             [
              0.8888888888888888,
              "#fdca26"
             ],
             [
              1,
              "#f0f921"
             ]
            ],
            "type": "heatmap"
           }
          ],
          "heatmapgl": [
           {
            "colorbar": {
             "outlinewidth": 0,
             "ticks": ""
            },
            "colorscale": [
             [
              0,
              "#0d0887"
             ],
             [
              0.1111111111111111,
              "#46039f"
             ],
             [
              0.2222222222222222,
              "#7201a8"
             ],
             [
              0.3333333333333333,
              "#9c179e"
             ],
             [
              0.4444444444444444,
              "#bd3786"
             ],
             [
              0.5555555555555556,
              "#d8576b"
             ],
             [
              0.6666666666666666,
              "#ed7953"
             ],
             [
              0.7777777777777778,
              "#fb9f3a"
             ],
             [
              0.8888888888888888,
              "#fdca26"
             ],
             [
              1,
              "#f0f921"
             ]
            ],
            "type": "heatmapgl"
           }
          ],
          "histogram": [
           {
            "marker": {
             "pattern": {
              "fillmode": "overlay",
              "size": 10,
              "solidity": 0.2
             }
            },
            "type": "histogram"
           }
          ],
          "histogram2d": [
           {
            "colorbar": {
             "outlinewidth": 0,
             "ticks": ""
            },
            "colorscale": [
             [
              0,
              "#0d0887"
             ],
             [
              0.1111111111111111,
              "#46039f"
             ],
             [
              0.2222222222222222,
              "#7201a8"
             ],
             [
              0.3333333333333333,
              "#9c179e"
             ],
             [
              0.4444444444444444,
              "#bd3786"
             ],
             [
              0.5555555555555556,
              "#d8576b"
             ],
             [
              0.6666666666666666,
              "#ed7953"
             ],
             [
              0.7777777777777778,
              "#fb9f3a"
             ],
             [
              0.8888888888888888,
              "#fdca26"
             ],
             [
              1,
              "#f0f921"
             ]
            ],
            "type": "histogram2d"
           }
          ],
          "histogram2dcontour": [
           {
            "colorbar": {
             "outlinewidth": 0,
             "ticks": ""
            },
            "colorscale": [
             [
              0,
              "#0d0887"
             ],
             [
              0.1111111111111111,
              "#46039f"
             ],
             [
              0.2222222222222222,
              "#7201a8"
             ],
             [
              0.3333333333333333,
              "#9c179e"
             ],
             [
              0.4444444444444444,
              "#bd3786"
             ],
             [
              0.5555555555555556,
              "#d8576b"
             ],
             [
              0.6666666666666666,
              "#ed7953"
             ],
             [
              0.7777777777777778,
              "#fb9f3a"
             ],
             [
              0.8888888888888888,
              "#fdca26"
             ],
             [
              1,
              "#f0f921"
             ]
            ],
            "type": "histogram2dcontour"
           }
          ],
          "mesh3d": [
           {
            "colorbar": {
             "outlinewidth": 0,
             "ticks": ""
            },
            "type": "mesh3d"
           }
          ],
          "parcoords": [
           {
            "line": {
             "colorbar": {
              "outlinewidth": 0,
              "ticks": ""
             }
            },
            "type": "parcoords"
           }
          ],
          "pie": [
           {
            "automargin": true,
            "type": "pie"
           }
          ],
          "scatter": [
           {
            "fillpattern": {
             "fillmode": "overlay",
             "size": 10,
             "solidity": 0.2
            },
            "type": "scatter"
           }
          ],
          "scatter3d": [
           {
            "line": {
             "colorbar": {
              "outlinewidth": 0,
              "ticks": ""
             }
            },
            "marker": {
             "colorbar": {
              "outlinewidth": 0,
              "ticks": ""
             }
            },
            "type": "scatter3d"
           }
          ],
          "scattercarpet": [
           {
            "marker": {
             "colorbar": {
              "outlinewidth": 0,
              "ticks": ""
             }
            },
            "type": "scattercarpet"
           }
          ],
          "scattergeo": [
           {
            "marker": {
             "colorbar": {
              "outlinewidth": 0,
              "ticks": ""
             }
            },
            "type": "scattergeo"
           }
          ],
          "scattergl": [
           {
            "marker": {
             "colorbar": {
              "outlinewidth": 0,
              "ticks": ""
             }
            },
            "type": "scattergl"
           }
          ],
          "scattermapbox": [
           {
            "marker": {
             "colorbar": {
              "outlinewidth": 0,
              "ticks": ""
             }
            },
            "type": "scattermapbox"
           }
          ],
          "scatterpolar": [
           {
            "marker": {
             "colorbar": {
              "outlinewidth": 0,
              "ticks": ""
             }
            },
            "type": "scatterpolar"
           }
          ],
          "scatterpolargl": [
           {
            "marker": {
             "colorbar": {
              "outlinewidth": 0,
              "ticks": ""
             }
            },
            "type": "scatterpolargl"
           }
          ],
          "scatterternary": [
           {
            "marker": {
             "colorbar": {
              "outlinewidth": 0,
              "ticks": ""
             }
            },
            "type": "scatterternary"
           }
          ],
          "surface": [
           {
            "colorbar": {
             "outlinewidth": 0,
             "ticks": ""
            },
            "colorscale": [
             [
              0,
              "#0d0887"
             ],
             [
              0.1111111111111111,
              "#46039f"
             ],
             [
              0.2222222222222222,
              "#7201a8"
             ],
             [
              0.3333333333333333,
              "#9c179e"
             ],
             [
              0.4444444444444444,
              "#bd3786"
             ],
             [
              0.5555555555555556,
              "#d8576b"
             ],
             [
              0.6666666666666666,
              "#ed7953"
             ],
             [
              0.7777777777777778,
              "#fb9f3a"
             ],
             [
              0.8888888888888888,
              "#fdca26"
             ],
             [
              1,
              "#f0f921"
             ]
            ],
            "type": "surface"
           }
          ],
          "table": [
           {
            "cells": {
             "fill": {
              "color": "#EBF0F8"
             },
             "line": {
              "color": "white"
             }
            },
            "header": {
             "fill": {
              "color": "#C8D4E3"
             },
             "line": {
              "color": "white"
             }
            },
            "type": "table"
           }
          ]
         },
         "layout": {
          "annotationdefaults": {
           "arrowcolor": "#2a3f5f",
           "arrowhead": 0,
           "arrowwidth": 1
          },
          "autotypenumbers": "strict",
          "coloraxis": {
           "colorbar": {
            "outlinewidth": 0,
            "ticks": ""
           }
          },
          "colorscale": {
           "diverging": [
            [
             0,
             "#8e0152"
            ],
            [
             0.1,
             "#c51b7d"
            ],
            [
             0.2,
             "#de77ae"
            ],
            [
             0.3,
             "#f1b6da"
            ],
            [
             0.4,
             "#fde0ef"
            ],
            [
             0.5,
             "#f7f7f7"
            ],
            [
             0.6,
             "#e6f5d0"
            ],
            [
             0.7,
             "#b8e186"
            ],
            [
             0.8,
             "#7fbc41"
            ],
            [
             0.9,
             "#4d9221"
            ],
            [
             1,
             "#276419"
            ]
           ],
           "sequential": [
            [
             0,
             "#0d0887"
            ],
            [
             0.1111111111111111,
             "#46039f"
            ],
            [
             0.2222222222222222,
             "#7201a8"
            ],
            [
             0.3333333333333333,
             "#9c179e"
            ],
            [
             0.4444444444444444,
             "#bd3786"
            ],
            [
             0.5555555555555556,
             "#d8576b"
            ],
            [
             0.6666666666666666,
             "#ed7953"
            ],
            [
             0.7777777777777778,
             "#fb9f3a"
            ],
            [
             0.8888888888888888,
             "#fdca26"
            ],
            [
             1,
             "#f0f921"
            ]
           ],
           "sequentialminus": [
            [
             0,
             "#0d0887"
            ],
            [
             0.1111111111111111,
             "#46039f"
            ],
            [
             0.2222222222222222,
             "#7201a8"
            ],
            [
             0.3333333333333333,
             "#9c179e"
            ],
            [
             0.4444444444444444,
             "#bd3786"
            ],
            [
             0.5555555555555556,
             "#d8576b"
            ],
            [
             0.6666666666666666,
             "#ed7953"
            ],
            [
             0.7777777777777778,
             "#fb9f3a"
            ],
            [
             0.8888888888888888,
             "#fdca26"
            ],
            [
             1,
             "#f0f921"
            ]
           ]
          },
          "colorway": [
           "#636efa",
           "#EF553B",
           "#00cc96",
           "#ab63fa",
           "#FFA15A",
           "#19d3f3",
           "#FF6692",
           "#B6E880",
           "#FF97FF",
           "#FECB52"
          ],
          "font": {
           "color": "#2a3f5f"
          },
          "geo": {
           "bgcolor": "white",
           "lakecolor": "white",
           "landcolor": "#E5ECF6",
           "showlakes": true,
           "showland": true,
           "subunitcolor": "white"
          },
          "hoverlabel": {
           "align": "left"
          },
          "hovermode": "closest",
          "mapbox": {
           "style": "light"
          },
          "paper_bgcolor": "white",
          "plot_bgcolor": "#E5ECF6",
          "polar": {
           "angularaxis": {
            "gridcolor": "white",
            "linecolor": "white",
            "ticks": ""
           },
           "bgcolor": "#E5ECF6",
           "radialaxis": {
            "gridcolor": "white",
            "linecolor": "white",
            "ticks": ""
           }
          },
          "scene": {
           "xaxis": {
            "backgroundcolor": "#E5ECF6",
            "gridcolor": "white",
            "gridwidth": 2,
            "linecolor": "white",
            "showbackground": true,
            "ticks": "",
            "zerolinecolor": "white"
           },
           "yaxis": {
            "backgroundcolor": "#E5ECF6",
            "gridcolor": "white",
            "gridwidth": 2,
            "linecolor": "white",
            "showbackground": true,
            "ticks": "",
            "zerolinecolor": "white"
           },
           "zaxis": {
            "backgroundcolor": "#E5ECF6",
            "gridcolor": "white",
            "gridwidth": 2,
            "linecolor": "white",
            "showbackground": true,
            "ticks": "",
            "zerolinecolor": "white"
           }
          },
          "shapedefaults": {
           "line": {
            "color": "#2a3f5f"
           }
          },
          "ternary": {
           "aaxis": {
            "gridcolor": "white",
            "linecolor": "white",
            "ticks": ""
           },
           "baxis": {
            "gridcolor": "white",
            "linecolor": "white",
            "ticks": ""
           },
           "bgcolor": "#E5ECF6",
           "caxis": {
            "gridcolor": "white",
            "linecolor": "white",
            "ticks": ""
           }
          },
          "title": {
           "x": 0.05
          },
          "xaxis": {
           "automargin": true,
           "gridcolor": "white",
           "linecolor": "white",
           "ticks": "",
           "title": {
            "standoff": 15
           },
           "zerolinecolor": "white",
           "zerolinewidth": 2
          },
          "yaxis": {
           "automargin": true,
           "gridcolor": "white",
           "linecolor": "white",
           "ticks": "",
           "title": {
            "standoff": 15
           },
           "zerolinecolor": "white",
           "zerolinewidth": 2
          }
         }
        },
        "title": {
         "text": "Number of Pixels per Tier 2 Label"
        },
        "xaxis": {
         "title": {
          "text": "Tier 2 Label"
         }
        },
        "yaxis": {
         "title": {
          "text": "Number of Pixels"
         },
         "type": "log"
        }
       }
      }
     },
     "metadata": {},
     "output_type": "display_data"
    }
   ],
   "source": [
    "tier2_keys = [i for i in pixels_by_tier_category['tier2'].keys() if i != 0]\n",
    "tier2_labels = [f\"{dataset_info['tier2'][i]}\" for i in tier2_keys]\n",
    "tier2_pixels = [pixels_by_tier_category['tier2'][i] for i in tier2_keys]\n",
    "tier2_to_tier1 = [dataset_info['tier2_to_tier1'][i] for i in tier2_keys]\n",
    "\n",
    "tier2_data = pd.DataFrame({\n",
    "    'tier2_label': tier2_labels,\n",
    "    'count': tier2_pixels,\n",
    "    'tier1_label': [dataset_info['tier1'][tier1_index] for tier1_index in tier2_to_tier1]\n",
    "})\n",
    "tier2_data = tier2_data.sort_values(by='count', ascending=False)\n",
    "\n",
    "# Create a unique color for each tier1 category\n",
    "random.seed(9)\n",
    "color_map = {tier: f'rgba({random.randint(0, 255)}, {random.randint(0, 255)}, {random.randint(0, 255)}, 1)' for tier in tier2_data['tier1_label'].unique()}\n",
    "bar_colors = tier2_data['tier1_label'].map(color_map)\n",
    "\n",
    "fig = go.Figure()\n",
    "\n",
    "fig.add_trace(go.Bar(\n",
    "    x=tier2_data['tier2_label'],\n",
    "    y=tier2_data['count'],\n",
    "    marker_color=bar_colors,\n",
    "    text=[f\"{count:,}\" for tier2, count in zip(tier2_data['tier2_label'], tier2_data['count'])],\n",
    "    showlegend=False  # Hide the bar trace from the legend\n",
    "))\n",
    "\n",
    "fig.update_traces(\n",
    "    hovertemplate=\"<b>%{x}</b><br>Count: %{y}<br>Tier 1: %{text}\"\n",
    ")\n",
    "\n",
    "legend_items = [go.Scatter(\n",
    "    x=[None], y=[None],\n",
    "    mode='markers',\n",
    "    marker=dict(size=10, color=color),\n",
    "    legendgroup=tier,\n",
    "    showlegend=True,\n",
    "    name=tier\n",
    ") for tier, color in color_map.items()]\n",
    "\n",
    "for item in legend_items:\n",
    "    fig.add_trace(item)\n",
    "\n",
    "fig.update_layout(\n",
    "    title=\"Number of Pixels per Tier 2 Label\",\n",
    "    xaxis_title=\"Tier 2 Label\",\n",
    "    yaxis_title=\"Number of Pixels\",\n",
    "    yaxis_type=\"log\",\n",
    "    height=900,\n",
    "    showlegend=True,\n",
    "    legend=dict(\n",
    "        title=\"Tier 1 Labels:\",\n",
    "        orientation=\"h\",  # Horizontal orientation\n",
    "        yanchor=\"bottom\",\n",
    "        y=1.02,\n",
    "        xanchor=\"center\",\n",
    "        x=0.5\n",
    "    )\n",
    ")\n",
    "\n",
    "fig.write_image(\"../assets/ZueriCrop_2.0_Seasonality_Tier_2_Class_Distribution.pdf\", width=1200, height=600)\n",
    "\n",
    "fig.show()\n"
   ]
  },
  {
   "cell_type": "code",
   "execution_count": 32,
   "metadata": {},
   "outputs": [
    {
     "name": "stdout",
     "output_type": "stream",
     "text": [
      "Total Pixels: 21,174,272\n",
      "Total Pixels (without background): 4,264,358\n"
     ]
    }
   ],
   "source": [
    "# Count total number of pixels\n",
    "total_pixels = 0\n",
    "total_pixels_without_background = 0\n",
    "for cls in pixels_by_tier_category['tier1']:\n",
    "    total_pixels += pixels_by_tier_category['tier1'][cls]\n",
    "    if cls == 0:\n",
    "        continue\n",
    "    total_pixels_without_background += pixels_by_tier_category['tier1'][cls]\n",
    "\n",
    "print(f\"Total Pixels: {total_pixels:,}\")\n",
    "print(f\"Total Pixels (without background): {total_pixels_without_background:,}\")"
   ]
  },
  {
   "cell_type": "code",
   "execution_count": null,
   "metadata": {},
   "outputs": [],
   "source": []
  }
 ],
 "metadata": {
  "kernelspec": {
   "display_name": "messis-bV8Bs8aq-py3.12",
   "language": "python",
   "name": "python3"
  },
  "language_info": {
   "codemirror_mode": {
    "name": "ipython",
    "version": 3
   },
   "file_extension": ".py",
   "mimetype": "text/x-python",
   "name": "python",
   "nbconvert_exporter": "python",
   "pygments_lexer": "ipython3",
   "version": "3.12.2"
  }
 },
 "nbformat": 4,
 "nbformat_minor": 2
}
