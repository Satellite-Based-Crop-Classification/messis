{
 "cells": [
  {
   "cell_type": "markdown",
   "metadata": {},
   "source": [
    "NOTE: Copy of `dataset_eda.ipynb` notebook adjusted for seasonality hierarchy."
   ]
  },
  {
   "cell_type": "code",
   "execution_count": 43,
   "metadata": {},
   "outputs": [],
   "source": [
    "import sys\n",
    "sys.path.append('..')"
   ]
  },
  {
   "cell_type": "code",
   "execution_count": 44,
   "metadata": {},
   "outputs": [],
   "source": [
    "import matplotlib.pyplot as plt\n",
    "import numpy as np\n",
    "from tqdm import tqdm\n",
    "import pandas as pd\n",
    "import dvc.api\n",
    "import plotly.graph_objects as go\n",
    "from plotly.subplots import make_subplots\n",
    "import random\n",
    "\n",
    "from messis.dataloader import GeospatialDataModule\n",
    "\n",
    "\n",
    "params = dvc.api.params_show()"
   ]
  },
  {
   "cell_type": "code",
   "execution_count": 45,
   "metadata": {},
   "outputs": [],
   "source": [
    "N_FOLDS = params['number_of_folds']"
   ]
  },
  {
   "cell_type": "code",
   "execution_count": 46,
   "metadata": {},
   "outputs": [
    {
     "name": "stdout",
     "output_type": "stream",
     "text": [
      "Setting up GeospatialDataModule for stage: None. Data augmentation config: {}\n",
      "Loading mean/std stats from ../data/chips_stats.yaml\n",
      "Stats with selected test fold 2: {'mean': [588.2806396484375, 709.6276245117188, 458.6660461425781, 3248.050537109375, 2040.6942138671875, 1219.1761474609375], 'n_chips': 72, 'std': [479.4612731933594, 356.5801696777344, 301.9922790527344, 1042.8214111328125, 716.823974609375, 645.9401245117188]} over 3 timesteps.\n",
      "Stats with selected test fold 3: {'mean': [590.5776977539062, 710.937255859375, 462.99169921875, 3186.55322265625, 2020.765869140625, 1220.3509521484375], 'n_chips': 72, 'std': [475.96429443359375, 352.189697265625, 297.3223571777344, 1104.4244384765625, 736.723876953125, 653.8372802734375]} over 3 timesteps.\n",
      "Stats with selected test fold 4: {'mean': [588.4652099609375, 708.3176879882812, 461.6157531738281, 3204.226806640625, 2020.9462890625, 1217.7298583984375], 'n_chips': 71, 'std': [465.924560546875, 347.2881164550781, 295.92724609375, 1079.9342041015625, 716.145263671875, 633.970458984375]} over 3 timesteps.\n",
      "Stats with selected test fold 5: {'mean': [609.1463623046875, 723.7877197265625, 470.1353454589844, 3283.35986328125, 2088.89111328125, 1270.52587890625], 'n_chips': 71, 'std': [471.958740234375, 349.7335205078125, 302.26312255859375, 991.878662109375, 650.8074340820312, 622.6192626953125]} over 3 timesteps.\n",
      "Loading mean/std stats from ../data/chips_stats.yaml\n",
      "Stats with selected test fold 1: {'mean': [571.8594970703125, 693.7872314453125, 452.1268615722656, 3175.806640625, 1985.473388671875, 1190.322509765625], 'n_chips': 71, 'std': [461.44793701171875, 344.75762939453125, 291.02264404296875, 1118.77734375, 729.6597290039062, 638.1325073242188]} over 3 timesteps.\n",
      "Loading mean/std stats from ../data/chips_stats.yaml\n",
      "Stats with selected test fold 0: {'mean': [588.7454833984375, 706.510986328125, 458.84912109375, 3250.185546875, 2036.03955078125, 1218.33984375], 'n_chips': 72, 'std': [487.0475158691406, 365.3671569824219, 311.5632019042969, 1041.2333984375, 692.4749145507812, 635.8018798828125]} over 3 timesteps.\n",
      "Setting up GeospatialDataModule for stage: None. Data augmentation config: {}\n",
      "Loading mean/std stats from ../data/chips_stats.yaml\n",
      "Stats with selected test fold 0: {'mean': [588.7454833984375, 706.510986328125, 458.84912109375, 3250.185546875, 2036.03955078125, 1218.33984375], 'n_chips': 72, 'std': [487.0475158691406, 365.3671569824219, 311.5632019042969, 1041.2333984375, 692.4749145507812, 635.8018798828125]} over 3 timesteps.\n",
      "Stats with selected test fold 3: {'mean': [590.5776977539062, 710.937255859375, 462.99169921875, 3186.55322265625, 2020.765869140625, 1220.3509521484375], 'n_chips': 72, 'std': [475.96429443359375, 352.189697265625, 297.3223571777344, 1104.4244384765625, 736.723876953125, 653.8372802734375]} over 3 timesteps.\n",
      "Stats with selected test fold 4: {'mean': [588.4652099609375, 708.3176879882812, 461.6157531738281, 3204.226806640625, 2020.9462890625, 1217.7298583984375], 'n_chips': 71, 'std': [465.924560546875, 347.2881164550781, 295.92724609375, 1079.9342041015625, 716.145263671875, 633.970458984375]} over 3 timesteps.\n",
      "Stats with selected test fold 5: {'mean': [609.1463623046875, 723.7877197265625, 470.1353454589844, 3283.35986328125, 2088.89111328125, 1270.52587890625], 'n_chips': 71, 'std': [471.958740234375, 349.7335205078125, 302.26312255859375, 991.878662109375, 650.8074340820312, 622.6192626953125]} over 3 timesteps.\n",
      "Loading mean/std stats from ../data/chips_stats.yaml\n",
      "Stats with selected test fold 2: {'mean': [588.2806396484375, 709.6276245117188, 458.6660461425781, 3248.050537109375, 2040.6942138671875, 1219.1761474609375], 'n_chips': 72, 'std': [479.4612731933594, 356.5801696777344, 301.9922790527344, 1042.8214111328125, 716.823974609375, 645.9401245117188]} over 3 timesteps.\n",
      "Loading mean/std stats from ../data/chips_stats.yaml\n",
      "Stats with selected test fold 1: {'mean': [571.8594970703125, 693.7872314453125, 452.1268615722656, 3175.806640625, 1985.473388671875, 1190.322509765625], 'n_chips': 71, 'std': [461.44793701171875, 344.75762939453125, 291.02264404296875, 1118.77734375, 729.6597290039062, 638.1325073242188]} over 3 timesteps.\n",
      "Setting up GeospatialDataModule for stage: None. Data augmentation config: {}\n",
      "Loading mean/std stats from ../data/chips_stats.yaml\n",
      "Stats with selected test fold 0: {'mean': [588.7454833984375, 706.510986328125, 458.84912109375, 3250.185546875, 2036.03955078125, 1218.33984375], 'n_chips': 72, 'std': [487.0475158691406, 365.3671569824219, 311.5632019042969, 1041.2333984375, 692.4749145507812, 635.8018798828125]} over 3 timesteps.\n",
      "Stats with selected test fold 1: {'mean': [571.8594970703125, 693.7872314453125, 452.1268615722656, 3175.806640625, 1985.473388671875, 1190.322509765625], 'n_chips': 71, 'std': [461.44793701171875, 344.75762939453125, 291.02264404296875, 1118.77734375, 729.6597290039062, 638.1325073242188]} over 3 timesteps.\n",
      "Stats with selected test fold 4: {'mean': [588.4652099609375, 708.3176879882812, 461.6157531738281, 3204.226806640625, 2020.9462890625, 1217.7298583984375], 'n_chips': 71, 'std': [465.924560546875, 347.2881164550781, 295.92724609375, 1079.9342041015625, 716.145263671875, 633.970458984375]} over 3 timesteps.\n",
      "Stats with selected test fold 5: {'mean': [609.1463623046875, 723.7877197265625, 470.1353454589844, 3283.35986328125, 2088.89111328125, 1270.52587890625], 'n_chips': 71, 'std': [471.958740234375, 349.7335205078125, 302.26312255859375, 991.878662109375, 650.8074340820312, 622.6192626953125]} over 3 timesteps.\n",
      "Loading mean/std stats from ../data/chips_stats.yaml\n",
      "Stats with selected test fold 3: {'mean': [590.5776977539062, 710.937255859375, 462.99169921875, 3186.55322265625, 2020.765869140625, 1220.3509521484375], 'n_chips': 72, 'std': [475.96429443359375, 352.189697265625, 297.3223571777344, 1104.4244384765625, 736.723876953125, 653.8372802734375]} over 3 timesteps.\n",
      "Loading mean/std stats from ../data/chips_stats.yaml\n",
      "Stats with selected test fold 2: {'mean': [588.2806396484375, 709.6276245117188, 458.6660461425781, 3248.050537109375, 2040.6942138671875, 1219.1761474609375], 'n_chips': 72, 'std': [479.4612731933594, 356.5801696777344, 301.9922790527344, 1042.8214111328125, 716.823974609375, 645.9401245117188]} over 3 timesteps.\n",
      "Setting up GeospatialDataModule for stage: None. Data augmentation config: {}\n",
      "Loading mean/std stats from ../data/chips_stats.yaml\n",
      "Stats with selected test fold 0: {'mean': [588.7454833984375, 706.510986328125, 458.84912109375, 3250.185546875, 2036.03955078125, 1218.33984375], 'n_chips': 72, 'std': [487.0475158691406, 365.3671569824219, 311.5632019042969, 1041.2333984375, 692.4749145507812, 635.8018798828125]} over 3 timesteps.\n",
      "Stats with selected test fold 1: {'mean': [571.8594970703125, 693.7872314453125, 452.1268615722656, 3175.806640625, 1985.473388671875, 1190.322509765625], 'n_chips': 71, 'std': [461.44793701171875, 344.75762939453125, 291.02264404296875, 1118.77734375, 729.6597290039062, 638.1325073242188]} over 3 timesteps.\n",
      "Stats with selected test fold 2: {'mean': [588.2806396484375, 709.6276245117188, 458.6660461425781, 3248.050537109375, 2040.6942138671875, 1219.1761474609375], 'n_chips': 72, 'std': [479.4612731933594, 356.5801696777344, 301.9922790527344, 1042.8214111328125, 716.823974609375, 645.9401245117188]} over 3 timesteps.\n",
      "Stats with selected test fold 5: {'mean': [609.1463623046875, 723.7877197265625, 470.1353454589844, 3283.35986328125, 2088.89111328125, 1270.52587890625], 'n_chips': 71, 'std': [471.958740234375, 349.7335205078125, 302.26312255859375, 991.878662109375, 650.8074340820312, 622.6192626953125]} over 3 timesteps.\n",
      "Loading mean/std stats from ../data/chips_stats.yaml\n",
      "Stats with selected test fold 4: {'mean': [588.4652099609375, 708.3176879882812, 461.6157531738281, 3204.226806640625, 2020.9462890625, 1217.7298583984375], 'n_chips': 71, 'std': [465.924560546875, 347.2881164550781, 295.92724609375, 1079.9342041015625, 716.145263671875, 633.970458984375]} over 3 timesteps.\n",
      "Loading mean/std stats from ../data/chips_stats.yaml\n",
      "Stats with selected test fold 3: {'mean': [590.5776977539062, 710.937255859375, 462.99169921875, 3186.55322265625, 2020.765869140625, 1220.3509521484375], 'n_chips': 72, 'std': [475.96429443359375, 352.189697265625, 297.3223571777344, 1104.4244384765625, 736.723876953125, 653.8372802734375]} over 3 timesteps.\n",
      "Setting up GeospatialDataModule for stage: None. Data augmentation config: {}\n",
      "Loading mean/std stats from ../data/chips_stats.yaml\n",
      "Stats with selected test fold 0: {'mean': [588.7454833984375, 706.510986328125, 458.84912109375, 3250.185546875, 2036.03955078125, 1218.33984375], 'n_chips': 72, 'std': [487.0475158691406, 365.3671569824219, 311.5632019042969, 1041.2333984375, 692.4749145507812, 635.8018798828125]} over 3 timesteps.\n",
      "Stats with selected test fold 1: {'mean': [571.8594970703125, 693.7872314453125, 452.1268615722656, 3175.806640625, 1985.473388671875, 1190.322509765625], 'n_chips': 71, 'std': [461.44793701171875, 344.75762939453125, 291.02264404296875, 1118.77734375, 729.6597290039062, 638.1325073242188]} over 3 timesteps.\n",
      "Stats with selected test fold 2: {'mean': [588.2806396484375, 709.6276245117188, 458.6660461425781, 3248.050537109375, 2040.6942138671875, 1219.1761474609375], 'n_chips': 72, 'std': [479.4612731933594, 356.5801696777344, 301.9922790527344, 1042.8214111328125, 716.823974609375, 645.9401245117188]} over 3 timesteps.\n",
      "Stats with selected test fold 3: {'mean': [590.5776977539062, 710.937255859375, 462.99169921875, 3186.55322265625, 2020.765869140625, 1220.3509521484375], 'n_chips': 72, 'std': [475.96429443359375, 352.189697265625, 297.3223571777344, 1104.4244384765625, 736.723876953125, 653.8372802734375]} over 3 timesteps.\n",
      "Loading mean/std stats from ../data/chips_stats.yaml\n",
      "Stats with selected test fold 5: {'mean': [609.1463623046875, 723.7877197265625, 470.1353454589844, 3283.35986328125, 2088.89111328125, 1270.52587890625], 'n_chips': 71, 'std': [471.958740234375, 349.7335205078125, 302.26312255859375, 991.878662109375, 650.8074340820312, 622.6192626953125]} over 3 timesteps.\n",
      "Loading mean/std stats from ../data/chips_stats.yaml\n",
      "Stats with selected test fold 4: {'mean': [588.4652099609375, 708.3176879882812, 461.6157531738281, 3204.226806640625, 2020.9462890625, 1217.7298583984375], 'n_chips': 71, 'std': [465.924560546875, 347.2881164550781, 295.92724609375, 1079.9342041015625, 716.145263671875, 633.970458984375]} over 3 timesteps.\n",
      "Setting up GeospatialDataModule for stage: None. Data augmentation config: {}\n",
      "Loading mean/std stats from ../data/chips_stats.yaml\n",
      "Stats with selected test fold 1: {'mean': [571.8594970703125, 693.7872314453125, 452.1268615722656, 3175.806640625, 1985.473388671875, 1190.322509765625], 'n_chips': 71, 'std': [461.44793701171875, 344.75762939453125, 291.02264404296875, 1118.77734375, 729.6597290039062, 638.1325073242188]} over 3 timesteps.\n",
      "Stats with selected test fold 2: {'mean': [588.2806396484375, 709.6276245117188, 458.6660461425781, 3248.050537109375, 2040.6942138671875, 1219.1761474609375], 'n_chips': 72, 'std': [479.4612731933594, 356.5801696777344, 301.9922790527344, 1042.8214111328125, 716.823974609375, 645.9401245117188]} over 3 timesteps.\n",
      "Stats with selected test fold 3: {'mean': [590.5776977539062, 710.937255859375, 462.99169921875, 3186.55322265625, 2020.765869140625, 1220.3509521484375], 'n_chips': 72, 'std': [475.96429443359375, 352.189697265625, 297.3223571777344, 1104.4244384765625, 736.723876953125, 653.8372802734375]} over 3 timesteps.\n",
      "Stats with selected test fold 4: {'mean': [588.4652099609375, 708.3176879882812, 461.6157531738281, 3204.226806640625, 2020.9462890625, 1217.7298583984375], 'n_chips': 71, 'std': [465.924560546875, 347.2881164550781, 295.92724609375, 1079.9342041015625, 716.145263671875, 633.970458984375]} over 3 timesteps.\n",
      "Loading mean/std stats from ../data/chips_stats.yaml\n",
      "Stats with selected test fold 0: {'mean': [588.7454833984375, 706.510986328125, 458.84912109375, 3250.185546875, 2036.03955078125, 1218.33984375], 'n_chips': 72, 'std': [487.0475158691406, 365.3671569824219, 311.5632019042969, 1041.2333984375, 692.4749145507812, 635.8018798828125]} over 3 timesteps.\n",
      "Loading mean/std stats from ../data/chips_stats.yaml\n",
      "Stats with selected test fold 5: {'mean': [609.1463623046875, 723.7877197265625, 470.1353454589844, 3283.35986328125, 2088.89111328125, 1270.52587890625], 'n_chips': 71, 'std': [471.958740234375, 349.7335205078125, 302.26312255859375, 991.878662109375, 650.8074340820312, 622.6192626953125]} over 3 timesteps.\n"
     ]
    }
   ],
   "source": [
    "folds = []\n",
    "for i in range(N_FOLDS):\n",
    "    val_fold = (i + 1) % N_FOLDS\n",
    "\n",
    "    data_module = GeospatialDataModule(data_dir='../data/',\n",
    "                                       train_folds=list(set(range(N_FOLDS)) - {i, val_fold}),\n",
    "                                       val_folds=[val_fold],\n",
    "                                       test_folds=[i],\n",
    "                                       batch_size=12,\n",
    "                                       num_workers=1,\n",
    "                                       debug=True,\n",
    "                                       subsets=None)\n",
    "\n",
    "    data_module.setup()\n",
    "    folds.append(data_module.test_dataset)"
   ]
  },
  {
   "cell_type": "code",
   "execution_count": 47,
   "metadata": {},
   "outputs": [
    {
     "name": "stdout",
     "output_type": "stream",
     "text": [
      "Processing fold 0\n"
     ]
    },
    {
     "name": "stderr",
     "output_type": "stream",
     "text": [
      "100%|██████████| 72/72 [00:01<00:00, 47.07it/s]\n"
     ]
    },
    {
     "name": "stdout",
     "output_type": "stream",
     "text": [
      "Processing fold 1\n"
     ]
    },
    {
     "name": "stderr",
     "output_type": "stream",
     "text": [
      "100%|██████████| 71/71 [00:01<00:00, 51.48it/s]\n"
     ]
    },
    {
     "name": "stdout",
     "output_type": "stream",
     "text": [
      "Processing fold 2\n"
     ]
    },
    {
     "name": "stderr",
     "output_type": "stream",
     "text": [
      "100%|██████████| 72/72 [00:01<00:00, 50.54it/s]\n"
     ]
    },
    {
     "name": "stdout",
     "output_type": "stream",
     "text": [
      "Processing fold 3\n"
     ]
    },
    {
     "name": "stderr",
     "output_type": "stream",
     "text": [
      "100%|██████████| 72/72 [00:01<00:00, 48.83it/s]\n"
     ]
    },
    {
     "name": "stdout",
     "output_type": "stream",
     "text": [
      "Processing fold 4\n"
     ]
    },
    {
     "name": "stderr",
     "output_type": "stream",
     "text": [
      "100%|██████████| 71/71 [00:01<00:00, 51.40it/s]\n"
     ]
    },
    {
     "name": "stdout",
     "output_type": "stream",
     "text": [
      "Processing fold 5\n"
     ]
    },
    {
     "name": "stderr",
     "output_type": "stream",
     "text": [
      "100%|██████████| 71/71 [00:01<00:00, 52.04it/s]\n"
     ]
    }
   ],
   "source": [
    "pixels_by_tier_category_fold = [] # list for each fold: dict with tier as key: dict with category as key: pixel count as value\n",
    "for i in range(N_FOLDS):\n",
    "    print(f\"Processing fold {i}\")\n",
    "    pixels_by_tier_category = {\n",
    "        \"tier1\": {},\n",
    "        \"tier2\": {},\n",
    "        # \"tier3\": {}\n",
    "    }\n",
    "    for batch in tqdm(folds[i]):\n",
    "        targets = batch[1][0]\n",
    "        for j, tier in enumerate(pixels_by_tier_category.keys()):\n",
    "            # get the unique values and their counts\n",
    "            unique, counts = targets[j].unique(return_counts=True)\n",
    "            # create a dictionary with the unique values and their counts\n",
    "            for clazz, count in zip(unique, counts):\n",
    "                if clazz.item() in pixels_by_tier_category[tier]:\n",
    "                    pixels_by_tier_category[tier][clazz.item()] += count.item()\n",
    "                else:\n",
    "                    pixels_by_tier_category[tier][clazz.item()] = count.item()\n",
    "            #unique_counts = {int(clazz): int(count) for clazz, count in zip(unique, counts)}\n",
    "            #print(unique_counts)\n",
    "            \n",
    "            # add the counts to the corresponding tier\n",
    "    pixels_by_tier_category_fold.append(pixels_by_tier_category)"
   ]
  },
  {
   "cell_type": "code",
   "execution_count": 48,
   "metadata": {},
   "outputs": [
    {
     "name": "stdout",
     "output_type": "stream",
     "text": [
      "len(pixels_by_tier_category_fold): 6\n",
      "len(pixels_by_tier_category_fold[0]): 2\n",
      "len(pixels_by_tier_category_fold[0]['tier1']): 4\n",
      "pixels_by_tier_category_fold[0]['tier1']: {0: 2278038, 3: 761787, 1: 242729, 2: 330118}\n"
     ]
    }
   ],
   "source": [
    "print(f\"len(pixels_by_tier_category_fold): {len(pixels_by_tier_category_fold)}\")\n",
    "print(f\"len(pixels_by_tier_category_fold[0]): {len(pixels_by_tier_category_fold[0])}\")\n",
    "print(f\"len(pixels_by_tier_category_fold[0]['tier1']): {len(pixels_by_tier_category_fold[0]['tier1'])}\")\n",
    "print(f\"pixels_by_tier_category_fold[0]['tier1']: {pixels_by_tier_category_fold[0]['tier1']}\")"
   ]
  },
  {
   "cell_type": "code",
   "execution_count": 49,
   "metadata": {},
   "outputs": [
    {
     "data": {
      "text/plain": [
       "['Background', 'AnnualCrop', 'PerennialCrop', 'Permaculture']"
      ]
     },
     "execution_count": 49,
     "metadata": {},
     "output_type": "execute_result"
    }
   ],
   "source": [
    "import json\n",
    "dataset_info = json.load(open('../data/dataset_info.json'))\n",
    "\n",
    "dataset_info[\"tier1\"]"
   ]
  },
  {
   "cell_type": "code",
   "execution_count": 50,
   "metadata": {},
   "outputs": [
    {
     "data": {
      "image/png": "[encoded data removed]",
      "text/plain": [
       "<Figure size 1500x1200 with 2 Axes>"
      ]
     },
     "metadata": {},
     "output_type": "display_data"
    }
   ],
   "source": [
    "fig, axes = plt.subplots(nrows=2, ncols=1, figsize=(15, 12), sharex=False)\n",
    "fig.subplots_adjust(hspace=0.4)\n",
    "\n",
    "for ax, tier in zip(axes, [\"tier1\", \"tier2\"]):\n",
    "    categories = set().union(*[pixels_by_tier_category_fold[i][tier].keys() for i in range(N_FOLDS)])\n",
    "    index = np.arange(len(categories))\n",
    "    bar_width = 0.15\n",
    "    counts_by_fold = []\n",
    "    for fold in range(N_FOLDS):\n",
    "        counts = [pixels_by_tier_category_fold[fold][tier].get(cat, 0) for cat in categories]\n",
    "        counts_by_fold.append(counts)\n",
    "    # aggregate counts by category\n",
    "    counts = np.sum(counts_by_fold, axis=0)\n",
    "    # order the categories and counts by counts\n",
    "    categories = [cat for _, cat in sorted(zip(counts, categories), key=lambda pair: pair[0], reverse=True)]\n",
    "    for fold in range(N_FOLDS):\n",
    "        counts = [pixels_by_tier_category_fold[fold][tier].get(cat, 0) for cat in categories]\n",
    "        ax.bar(index + fold * bar_width, counts, bar_width, label=f'Fold {fold+1}')\n",
    "    \n",
    "    ax.set_xlabel('Category')\n",
    "    ax.set_ylabel('Counts')\n",
    "    ax.set_yscale('log')\n",
    "    ax.set_title(f'Fold Counts by Category for {tier}')\n",
    "    ax.set_xticks(index + bar_width * (N_FOLDS - 1) / 2)\n",
    "    labels = [dataset_info[tier][cat] for cat in categories]\n",
    "    ax.set_xticklabels(labels, rotation=90)\n",
    "    ax.legend()\n",
    "\n",
    "plt.tight_layout()\n",
    "plt.show()"
   ]
  },
  {
   "cell_type": "code",
   "execution_count": 51,
   "metadata": {},
   "outputs": [],
   "source": [
    "tier2_to_tier1 = dataset_info[\"tier2_to_tier1\"] # array where index is tier3 and value is tier1"
   ]
  },
  {
   "cell_type": "code",
   "execution_count": 52,
   "metadata": {},
   "outputs": [
    {
     "name": "stdout",
     "output_type": "stream",
     "text": [
      "[0, 1, 1, 1, 1, 1, 1, 1, 1, 1, 1, 1, 1, 1, 1, 1, 1, 1, 1, 1, 1, 1, 1, 1, 1, 1, 1, 1, 1, 1, 1, 1, 2, 2, 2, 2, 2, 2, 2, 2, 2, 2, 2, 3, 3, 3, 3, 3]\n"
     ]
    }
   ],
   "source": [
    "print(tier2_to_tier1) # array where index is tier2 and value is tier1"
   ]
  },
  {
   "cell_type": "code",
   "execution_count": 53,
   "metadata": {},
   "outputs": [
    {
     "name": "stdout",
     "output_type": "stream",
     "text": [
      "Class 4 (Chickpeas) in tier tier2 has no pixels\n",
      "Class 6 (DryRice) in tier tier2 has no pixels\n",
      "Class 8 (HardWheat) in tier tier2 has no pixels\n",
      "Class 19 (Rice) in tier tier2 has no pixels\n",
      "Class 31 (WetRice) in tier tier2 has no pixels\n"
     ]
    },
    {
     "data": {
      "text/plain": [
       "{'tier1': {0: 13434735, 3: 4595816, 1: 1462290, 2: 2032663},\n",
       " 'tier2': {0: 13434735,\n",
       "  44: 4432851,\n",
       "  12: 854471,\n",
       "  40: 296026,\n",
       "  46: 52204,\n",
       "  47: 62888,\n",
       "  1: 12662,\n",
       "  13: 4043,\n",
       "  16: 138339,\n",
       "  17: 26632,\n",
       "  23: 30330,\n",
       "  24: 68748,\n",
       "  28: 87624,\n",
       "  30: 191321,\n",
       "  38: 358077,\n",
       "  41: 266612,\n",
       "  42: 900795,\n",
       "  45: 47862,\n",
       "  5: 7220,\n",
       "  32: 1832,\n",
       "  36: 24497,\n",
       "  37: 58027,\n",
       "  39: 52216,\n",
       "  33: 46856,\n",
       "  7: 12815,\n",
       "  27: 10375,\n",
       "  29: 2351,\n",
       "  22: 1905,\n",
       "  25: 4810,\n",
       "  2: 1771,\n",
       "  34: 16941,\n",
       "  35: 10784,\n",
       "  21: 1751,\n",
       "  20: 25,\n",
       "  11: 320,\n",
       "  18: 148,\n",
       "  15: 84,\n",
       "  14: 248,\n",
       "  26: 1756,\n",
       "  9: 2083,\n",
       "  10: 366,\n",
       "  43: 11,\n",
       "  3: 92,\n",
       "  4: 0,\n",
       "  6: 0,\n",
       "  8: 0,\n",
       "  19: 0,\n",
       "  31: 0}}"
      ]
     },
     "execution_count": 53,
     "metadata": {},
     "output_type": "execute_result"
    }
   ],
   "source": [
    "# aggregate all folds of pixels_by_tier_category_fold\n",
    "pixels_by_tier_category = {\n",
    "    \"tier1\": {},\n",
    "    \"tier2\": {},\n",
    "    # \"tier3\": {}\n",
    "}\n",
    "for tier in pixels_by_tier_category.keys():\n",
    "    for fold in range(N_FOLDS):\n",
    "        for clazz, count in pixels_by_tier_category_fold[fold][tier].items():\n",
    "            if clazz in pixels_by_tier_category[tier]:\n",
    "                pixels_by_tier_category[tier][clazz] += count\n",
    "            else:\n",
    "                pixels_by_tier_category[tier][clazz] = count\n",
    "\n",
    "# add 0 counts for missing categories\n",
    "for tier in pixels_by_tier_category.keys():\n",
    "    for clazz in range(len(dataset_info[tier])):\n",
    "        if clazz not in pixels_by_tier_category[tier]:\n",
    "            pixels_by_tier_category[tier][clazz] = 0\n",
    "\n",
    "            print(f\"Class {clazz} ({dataset_info[tier][clazz]}) in tier {tier} has no pixels\")\n",
    "\n",
    "pixels_by_tier_category # dict with each tier as key. The value is a dict again with the category as tier and the pixel count as value"
   ]
  },
  {
   "cell_type": "code",
   "execution_count": 54,
   "metadata": {},
   "outputs": [
    {
     "data": {
      "application/vnd.plotly.v1+json": {
       "config": {
        "plotlyServerURL": "https://plot.ly"
       },
       "data": [
        {
         "arrangement": "snap",
         "link": {
          "source": [
           0,
           0,
           0,
           1,
           1,
           1,
           1,
           1,
           1,
           1,
           1,
           1,
           1,
           1,
           1,
           1,
           1,
           1,
           1,
           1,
           1,
           1,
           1,
           1,
           1,
           1,
           1,
           1,
           1,
           1,
           1,
           1,
           1,
           1,
           2,
           2,
           2,
           2,
           2,
           2,
           2,
           2,
           2,
           2,
           2,
           3,
           3,
           3,
           3,
           3
          ],
          "target": [
           1,
           2,
           3,
           4,
           5,
           6,
           7,
           8,
           9,
           10,
           11,
           12,
           13,
           14,
           15,
           16,
           17,
           18,
           19,
           20,
           21,
           22,
           23,
           24,
           25,
           26,
           27,
           28,
           29,
           30,
           31,
           32,
           33,
           34,
           35,
           36,
           37,
           38,
           39,
           40,
           41,
           42,
           43,
           44,
           45,
           46,
           47,
           48,
           49,
           50
          ],
          "value": [
           1462290,
           2032663,
           4595816,
           12662,
           1771,
           92,
           0,
           7220,
           0,
           12815,
           0,
           2083,
           366,
           320,
           854471,
           4043,
           248,
           84,
           138339,
           26632,
           148,
           0,
           25,
           1751,
           1905,
           30330,
           68748,
           4810,
           1756,
           10375,
           87624,
           2351,
           191321,
           0,
           1832,
           46856,
           16941,
           10784,
           24497,
           58027,
           358077,
           52216,
           296026,
           266612,
           900795,
           11,
           4432851,
           47862,
           52204,
           62888
          ]
         },
         "node": {
          "label": [
           "Vegetation",
           "1 - AnnualCrop",
           "1 - PerennialCrop",
           "1 - Permaculture",
           "2 - BroadBeans [12,662]",
           "2 - Buckwheat [1,771]",
           "2 - Camelina [92]",
           "2 - Chickpeas [0]",
           "2 - CropMix [7,220]",
           "2 - DryRice [0]",
           "2 - EinkornWheat [12,815]",
           "2 - HardWheat [0]",
           "2 - Hemp [2,083]",
           "2 - Lentils [366]",
           "2 - Lupines [320]",
           "2 - Maize [854,471]",
           "2 - Millet [4,043]",
           "2 - Mustard [248]",
           "2 - Poppy [84]",
           "2 - Potatoes [138,339]",
           "2 - ProteinPeas [26,632]",
           "2 - Quinoa [148]",
           "2 - Rice [0]",
           "2 - Safflower [25]",
           "2 - SiloCereals [1,751]",
           "2 - Sorghum [1,905]",
           "2 - Soybeans [30,330]",
           "2 - SpecialCultureAnnual [68,748]",
           "2 - SummerBarley [4,810]",
           "2 - SummerRapeseed [1,756]",
           "2 - SummerWheat [10,375]",
           "2 - Sunflowers [87,624]",
           "2 - Tobacco [2,351]",
           "2 - Vegetables [191,321]",
           "2 - WetRice [0]",
           "2 - CerealMix [1,832]",
           "2 - FodderCereals [46,856]",
           "2 - Oats [16,941]",
           "2 - Rye [10,784]",
           "2 - SpecialCulturePerennial [24,497]",
           "2 - Spelt [58,027]",
           "2 - SugarBeet [358,077]",
           "2 - Triticale [52,216]",
           "2 - WinterBarley [296,026]",
           "2 - WinterRapeseed [266,612]",
           "2 - WinterWheat [900,795]",
           "2 - Chestnuts [11]",
           "2 - Grassland [4,432,851]",
           "2 - Orchards [47,862]",
           "2 - SpecialCulturePerma [52,204]",
           "2 - Vines [62,888]"
          ],
          "line": {
           "color": "black",
           "width": 0.5
          },
          "pad": 15,
          "thickness": 20
         },
         "type": "sankey"
        }
       ],
       "layout": {
        "font": {
         "size": 15
        },
        "height": 1000,
        "template": {
         "data": {
          "bar": [
           {
            "error_x": {
             "color": "#2a3f5f"
            },
            "error_y": {
             "color": "#2a3f5f"
            },
            "marker": {
             "line": {
              "color": "#E5ECF6",
              "width": 0.5
             },
             "pattern": {
              "fillmode": "overlay",
              "size": 10,
              "solidity": 0.2
             }
            },
            "type": "bar"
           }
          ],
          "barpolar": [
           {
            "marker": {
             "line": {
              "color": "#E5ECF6",
              "width": 0.5
             },
             "pattern": {
              "fillmode": "overlay",
              "size": 10,
              "solidity": 0.2
             }
            },
            "type": "barpolar"
           }
          ],
          "carpet": [
           {
            "aaxis": {
             "endlinecolor": "#2a3f5f",
             "gridcolor": "white",
             "linecolor": "white",
             "minorgridcolor": "white",
             "startlinecolor": "#2a3f5f"
            },
            "baxis": {
             "endlinecolor": "#2a3f5f",
             "gridcolor": "white",
             "linecolor": "white",
             "minorgridcolor": "white",
             "startlinecolor": "#2a3f5f"
            },
            "type": "carpet"
           }
          ],
          "choropleth": [
           {
            "colorbar": {
             "outlinewidth": 0,
             "ticks": ""
            },
            "type": "choropleth"
           }
          ],
          "contour": [
           {
            "colorbar": {
             "outlinewidth": 0,
             "ticks": ""
            },
            "colorscale": [
             [
              0,
              "#0d0887"
             ],
             [
              0.1111111111111111,
              "#46039f"
             ],
             [
              0.2222222222222222,
              "#7201a8"
             ],
             [
              0.3333333333333333,
              "#9c179e"
             ],
             [
              0.4444444444444444,
              "#bd3786"
             ],
             [
              0.5555555555555556,
              "#d8576b"
             ],
             [
              0.6666666666666666,
              "#ed7953"
             ],
             [
              0.7777777777777778,
              "#fb9f3a"
             ],
             [
              0.8888888888888888,
              "#fdca26"
             ],
             [
              1,
              "#f0f921"
             ]
            ],
            "type": "contour"
           }
          ],
          "contourcarpet": [
           {
            "colorbar": {
             "outlinewidth": 0,
             "ticks": ""
            },
            "type": "contourcarpet"
           }
          ],
          "heatmap": [
           {
            "colorbar": {
             "outlinewidth": 0,
             "ticks": ""
            },
            "colorscale": [
             [
              0,
              "#0d0887"
             ],
             [
              0.1111111111111111,
              "#46039f"
             ],
             [
              0.2222222222222222,
              "#7201a8"
             ],
             [
              0.3333333333333333,
              "#9c179e"
             ],
             [
              0.4444444444444444,
              "#bd3786"
             ],
             [
              0.5555555555555556,
              "#d8576b"
             ],
             [
              0.6666666666666666,
              "#ed7953"
             ],
             [
              0.7777777777777778,
              "#fb9f3a"
             ],
             [
              0.8888888888888888,
              "#fdca26"
             ],
             [
              1,
              "#f0f921"
             ]
            ],
            "type": "heatmap"
           }
          ],
          "heatmapgl": [
           {
            "colorbar": {
             "outlinewidth": 0,
             "ticks": ""
            },
            "colorscale": [
             [
              0,
              "#0d0887"
             ],
             [
              0.1111111111111111,
              "#46039f"
             ],
             [
              0.2222222222222222,
              "#7201a8"
             ],
             [
              0.3333333333333333,
              "#9c179e"
             ],
             [
              0.4444444444444444,
              "#bd3786"
             ],
             [
              0.5555555555555556,
              "#d8576b"
             ],
             [
              0.6666666666666666,
              "#ed7953"
             ],
             [
              0.7777777777777778,
              "#fb9f3a"
             ],
             [
              0.8888888888888888,
              "#fdca26"
             ],
             [
              1,
              "#f0f921"
             ]
            ],
            "type": "heatmapgl"
           }
          ],
          "histogram": [
           {
            "marker": {
             "pattern": {
              "fillmode": "overlay",
              "size": 10,
              "solidity": 0.2
             }
            },
            "type": "histogram"
           }
          ],
          "histogram2d": [
           {
            "colorbar": {
             "outlinewidth": 0,
             "ticks": ""
            },
            "colorscale": [
             [
              0,
              "#0d0887"
             ],
             [
              0.1111111111111111,
              "#46039f"
             ],
             [
              0.2222222222222222,
              "#7201a8"
             ],
             [
              0.3333333333333333,
              "#9c179e"
             ],
             [
              0.4444444444444444,
              "#bd3786"
             ],
             [
              0.5555555555555556,
              "#d8576b"
             ],
             [
              0.6666666666666666,
              "#ed7953"
             ],
             [
              0.7777777777777778,
              "#fb9f3a"
             ],
             [
              0.8888888888888888,
              "#fdca26"
             ],
             [
              1,
              "#f0f921"
             ]
            ],
            "type": "histogram2d"
           }
          ],
          "histogram2dcontour": [
           {
            "colorbar": {
             "outlinewidth": 0,
             "ticks": ""
            },
            "colorscale": [
             [
              0,
              "#0d0887"
             ],
             [
              0.1111111111111111,
              "#46039f"
             ],
             [
              0.2222222222222222,
              "#7201a8"
             ],
             [
              0.3333333333333333,
              "#9c179e"
             ],
             [
              0.4444444444444444,
              "#bd3786"
             ],
             [
              0.5555555555555556,
              "#d8576b"
             ],
             [
              0.6666666666666666,
              "#ed7953"
             ],
             [
              0.7777777777777778,
              "#fb9f3a"
             ],
             [
              0.8888888888888888,
              "#fdca26"
             ],
             [
              1,
              "#f0f921"
             ]
            ],
            "type": "histogram2dcontour"
           }
          ],
          "mesh3d": [
           {
            "colorbar": {
             "outlinewidth": 0,
             "ticks": ""
            },
            "type": "mesh3d"
           }
          ],
          "parcoords": [
           {
            "line": {
             "colorbar": {
              "outlinewidth": 0,
              "ticks": ""
             }
            },
            "type": "parcoords"
           }
          ],
          "pie": [
           {
            "automargin": true,
            "type": "pie"
           }
          ],
          "scatter": [
           {
            "fillpattern": {
             "fillmode": "overlay",
             "size": 10,
             "solidity": 0.2
            },
            "type": "scatter"
           }
          ],
          "scatter3d": [
           {
            "line": {
             "colorbar": {
              "outlinewidth": 0,
              "ticks": ""
             }
            },
            "marker": {
             "colorbar": {
              "outlinewidth": 0,
              "ticks": ""
             }
            },
            "type": "scatter3d"
           }
          ],
          "scattercarpet": [
           {
            "marker": {
             "colorbar": {
              "outlinewidth": 0,
              "ticks": ""
             }
            },
            "type": "scattercarpet"
           }
          ],
          "scattergeo": [
           {
            "marker": {
             "colorbar": {
              "outlinewidth": 0,
              "ticks": ""
             }
            },
            "type": "scattergeo"
           }
          ],
          "scattergl": [
           {
            "marker": {
             "colorbar": {
              "outlinewidth": 0,
              "ticks": ""
             }
            },
            "type": "scattergl"
           }
          ],
          "scattermapbox": [
           {
            "marker": {
             "colorbar": {
              "outlinewidth": 0,
              "ticks": ""
             }
            },
            "type": "scattermapbox"
           }
          ],
          "scatterpolar": [
           {
            "marker": {
             "colorbar": {
              "outlinewidth": 0,
              "ticks": ""
             }
            },
            "type": "scatterpolar"
           }
          ],
          "scatterpolargl": [
           {
            "marker": {
             "colorbar": {
              "outlinewidth": 0,
              "ticks": ""
             }
            },
            "type": "scatterpolargl"
           }
          ],
          "scatterternary": [
           {
            "marker": {
             "colorbar": {
              "outlinewidth": 0,
              "ticks": ""
             }
            },
            "type": "scatterternary"
           }
          ],
          "surface": [
           {
            "colorbar": {
             "outlinewidth": 0,
             "ticks": ""
            },
            "colorscale": [
             [
              0,
              "#0d0887"
             ],
             [
              0.1111111111111111,
              "#46039f"
             ],
             [
              0.2222222222222222,
              "#7201a8"
             ],
             [
              0.3333333333333333,
              "#9c179e"
             ],
             [
              0.4444444444444444,
              "#bd3786"
             ],
             [
              0.5555555555555556,
              "#d8576b"
             ],
             [
              0.6666666666666666,
              "#ed7953"
             ],
             [
              0.7777777777777778,
              "#fb9f3a"
             ],
             [
              0.8888888888888888,
              "#fdca26"
             ],
             [
              1,
              "#f0f921"
             ]
            ],
            "type": "surface"
           }
          ],
          "table": [
           {
            "cells": {
             "fill": {
              "color": "#EBF0F8"
             },
             "line": {
              "color": "white"
             }
            },
            "header": {
             "fill": {
              "color": "#C8D4E3"
             },
             "line": {
              "color": "white"
             }
            },
            "type": "table"
           }
          ]
         },
         "layout": {
          "annotationdefaults": {
           "arrowcolor": "#2a3f5f",
           "arrowhead": 0,
           "arrowwidth": 1
          },
          "autotypenumbers": "strict",
          "coloraxis": {
           "colorbar": {
            "outlinewidth": 0,
            "ticks": ""
           }
          },
          "colorscale": {
           "diverging": [
            [
             0,
             "#8e0152"
            ],
            [
             0.1,
             "#c51b7d"
            ],
            [
             0.2,
             "#de77ae"
            ],
            [
             0.3,
             "#f1b6da"
            ],
            [
             0.4,
             "#fde0ef"
            ],
            [
             0.5,
             "#f7f7f7"
            ],
            [
             0.6,
             "#e6f5d0"
            ],
            [
             0.7,
             "#b8e186"
            ],
            [
             0.8,
             "#7fbc41"
            ],
            [
             0.9,
             "#4d9221"
            ],
            [
             1,
             "#276419"
            ]
           ],
           "sequential": [
            [
             0,
             "#0d0887"
            ],
            [
             0.1111111111111111,
             "#46039f"
            ],
            [
             0.2222222222222222,
             "#7201a8"
            ],
            [
             0.3333333333333333,
             "#9c179e"
            ],
            [
             0.4444444444444444,
             "#bd3786"
            ],
            [
             0.5555555555555556,
             "#d8576b"
            ],
            [
             0.6666666666666666,
             "#ed7953"
            ],
            [
             0.7777777777777778,
             "#fb9f3a"
            ],
            [
             0.8888888888888888,
             "#fdca26"
            ],
            [
             1,
             "#f0f921"
            ]
           ],
           "sequentialminus": [
            [
             0,
             "#0d0887"
            ],
            [
             0.1111111111111111,
             "#46039f"
            ],
            [
             0.2222222222222222,
             "#7201a8"
            ],
            [
             0.3333333333333333,
             "#9c179e"
            ],
            [
             0.4444444444444444,
             "#bd3786"
            ],
            [
             0.5555555555555556,
             "#d8576b"
            ],
            [
             0.6666666666666666,
             "#ed7953"
            ],
            [
             0.7777777777777778,
             "#fb9f3a"
            ],
            [
             0.8888888888888888,
             "#fdca26"
            ],
            [
             1,
             "#f0f921"
            ]
           ]
          },
          "colorway": [
           "#636efa",
           "#EF553B",
           "#00cc96",
           "#ab63fa",
           "#FFA15A",
           "#19d3f3",
           "#FF6692",
           "#B6E880",
           "#FF97FF",
           "#FECB52"
          ],
          "font": {
           "color": "#2a3f5f"
          },
          "geo": {
           "bgcolor": "white",
           "lakecolor": "white",
           "landcolor": "#E5ECF6",
           "showlakes": true,
           "showland": true,
           "subunitcolor": "white"
          },
          "hoverlabel": {
           "align": "left"
          },
          "hovermode": "closest",
          "mapbox": {
           "style": "light"
          },
          "paper_bgcolor": "white",
          "plot_bgcolor": "#E5ECF6",
          "polar": {
           "angularaxis": {
            "gridcolor": "white",
            "linecolor": "white",
            "ticks": ""
           },
           "bgcolor": "#E5ECF6",
           "radialaxis": {
            "gridcolor": "white",
            "linecolor": "white",
            "ticks": ""
           }
          },
          "scene": {
           "xaxis": {
            "backgroundcolor": "#E5ECF6",
            "gridcolor": "white",
            "gridwidth": 2,
            "linecolor": "white",
            "showbackground": true,
            "ticks": "",
            "zerolinecolor": "white"
           },
           "yaxis": {
            "backgroundcolor": "#E5ECF6",
            "gridcolor": "white",
            "gridwidth": 2,
            "linecolor": "white",
            "showbackground": true,
            "ticks": "",
            "zerolinecolor": "white"
           },
           "zaxis": {
            "backgroundcolor": "#E5ECF6",
            "gridcolor": "white",
            "gridwidth": 2,
            "linecolor": "white",
            "showbackground": true,
            "ticks": "",
            "zerolinecolor": "white"
           }
          },
          "shapedefaults": {
           "line": {
            "color": "#2a3f5f"
           }
          },
          "ternary": {
           "aaxis": {
            "gridcolor": "white",
            "linecolor": "white",
            "ticks": ""
           },
           "baxis": {
            "gridcolor": "white",
            "linecolor": "white",
            "ticks": ""
           },
           "bgcolor": "#E5ECF6",
           "caxis": {
            "gridcolor": "white",
            "linecolor": "white",
            "ticks": ""
           }
          },
          "title": {
           "x": 0.05
          },
          "xaxis": {
           "automargin": true,
           "gridcolor": "white",
           "linecolor": "white",
           "ticks": "",
           "title": {
            "standoff": 15
           },
           "zerolinecolor": "white",
           "zerolinewidth": 2
          },
          "yaxis": {
           "automargin": true,
           "gridcolor": "white",
           "linecolor": "white",
           "ticks": "",
           "title": {
            "standoff": 15
           },
           "zerolinecolor": "white",
           "zerolinewidth": 2
          }
         }
        },
        "title": {
         "text": "<b>Seasonality Label Hierarchy</b> (Bands represent number of pixels in dataset)"
        }
       }
      }
     },
     "metadata": {},
     "output_type": "display_data"
    }
   ],
   "source": [
    "# Prepare data for Sankey diagram\n",
    "node_labels = [\"Vegetation\"]\n",
    "\n",
    "# Create labels for tier 1 nodes\n",
    "tier1_labels = [f\"1 - {dataset_info['tier1'][i]}\" for i in sorted(list(pixels_by_tier_category['tier1'].keys())) if i != 0]\n",
    "node_labels.extend(tier1_labels)\n",
    "\n",
    "# Create labels for tier 2 nodes\n",
    "tier2_labels = [f\"2 - {dataset_info['tier2'][i]} [{pixels_by_tier_category['tier2'][i]:,}]\" for i in sorted(list(pixels_by_tier_category['tier2'].keys())) if i != 0]\n",
    "node_labels.extend(tier2_labels)\n",
    "\n",
    "# Create source and target lists based on the provided relationships\n",
    "sources = []\n",
    "targets = []\n",
    "values = []\n",
    "\n",
    "# Tier1 to Vegetation links\n",
    "for i, t1_index in enumerate(tier1_labels):\n",
    "    sources.append(0)  # Index of Vegetation node\n",
    "    targets.append(i+1)  # Adjust index for tier 1 node\n",
    "    values.append(pixels_by_tier_category['tier1'][i+1])\n",
    "\n",
    "# Tier2 to Tier1 links\n",
    "for i, t1_index in enumerate(tier2_to_tier1):\n",
    "    if i == 0:\n",
    "        continue\n",
    "    targets.append(len(tier1_labels) + i)  # Adjust index for tier 2 node\n",
    "    sources.append(t1_index)  # Adjust index for tier 1 node\n",
    "    values.append(pixels_by_tier_category['tier2'][i])\n",
    "\n",
    "# Create the Sankey diagram using Plotly\n",
    "fig = go.Figure(data=[go.Sankey(\n",
    "    node=dict(\n",
    "        pad=15,\n",
    "        thickness=20,\n",
    "        line=dict(color=\"black\", width=0.5),\n",
    "        label=node_labels,\n",
    "    ),\n",
    "    link=dict(\n",
    "        source=sources,\n",
    "        target=targets,\n",
    "        value=values\n",
    "    ),\n",
    "    arrangement='snap'\n",
    ")])\n",
    "\n",
    "fig.update_layout(title_text=\"<b>Seasonality Label Hierarchy</b> (Bands represent number of pixels in dataset)\", font_size=15, height=1000)\n",
    "\n",
    "fig.write_image(\"../assets/ZueriCrop_2.0_Seasonality_Tiers_Sankey.pdf\", width=1200, height=1500)\n",
    "\n",
    "fig.show()"
   ]
  },
  {
   "cell_type": "code",
   "execution_count": 55,
   "metadata": {},
   "outputs": [
    {
     "data": {
      "application/vnd.plotly.v1+json": {
       "config": {
        "plotlyServerURL": "https://plot.ly"
       },
       "data": [
        {
         "type": "bar",
         "x": [
          "Permaculture",
          "PerennialCrop",
          "AnnualCrop"
         ],
         "xaxis": "x",
         "y": [
          4595816,
          2032663,
          1462290
         ],
         "yaxis": "y"
        },
        {
         "type": "bar",
         "x": [
          "Grassland",
          "WinterWheat",
          "Maize",
          "SugarBeet",
          "WinterBarley",
          "WinterRapeseed",
          "Vegetables",
          "Potatoes",
          "Sunflowers",
          "SpecialCultureAnnual",
          "Vines",
          "Spelt",
          "Triticale",
          "SpecialCulturePerma",
          "Orchards",
          "FodderCereals",
          "Soybeans",
          "ProteinPeas",
          "SpecialCulturePerennial",
          "Oats",
          "EinkornWheat",
          "BroadBeans",
          "Rye",
          "SummerWheat",
          "CropMix",
          "SummerBarley",
          "Millet",
          "Tobacco",
          "Hemp",
          "Sorghum",
          "CerealMix",
          "Buckwheat",
          "SummerRapeseed",
          "SiloCereals",
          "Lentils",
          "Lupines",
          "Mustard",
          "Quinoa",
          "Camelina",
          "Poppy",
          "Safflower",
          "Chestnuts",
          "Chickpeas",
          "DryRice",
          "HardWheat",
          "Rice",
          "WetRice"
         ],
         "xaxis": "x2",
         "y": [
          4432851,
          900795,
          854471,
          358077,
          296026,
          266612,
          191321,
          138339,
          87624,
          68748,
          62888,
          58027,
          52216,
          52204,
          47862,
          46856,
          30330,
          26632,
          24497,
          16941,
          12815,
          12662,
          10784,
          10375,
          7220,
          4810,
          4043,
          2351,
          2083,
          1905,
          1832,
          1771,
          1756,
          1751,
          366,
          320,
          248,
          148,
          92,
          84,
          25,
          11,
          0,
          0,
          0,
          0,
          0
         ],
         "yaxis": "y2"
        }
       ],
       "layout": {
        "annotations": [
         {
          "font": {
           "size": 16
          },
          "showarrow": false,
          "text": "1st Tier",
          "x": 0.5,
          "xanchor": "center",
          "xref": "paper",
          "y": 1,
          "yanchor": "bottom",
          "yref": "paper"
         },
         {
          "font": {
           "size": 16
          },
          "showarrow": false,
          "text": "2nd Tier",
          "x": 0.5,
          "xanchor": "center",
          "xref": "paper",
          "y": 0.375,
          "yanchor": "bottom",
          "yref": "paper"
         }
        ],
        "height": 700,
        "showlegend": false,
        "template": {
         "data": {
          "bar": [
           {
            "error_x": {
             "color": "#2a3f5f"
            },
            "error_y": {
             "color": "#2a3f5f"
            },
            "marker": {
             "line": {
              "color": "#E5ECF6",
              "width": 0.5
             },
             "pattern": {
              "fillmode": "overlay",
              "size": 10,
              "solidity": 0.2
             }
            },
            "type": "bar"
           }
          ],
          "barpolar": [
           {
            "marker": {
             "line": {
              "color": "#E5ECF6",
              "width": 0.5
             },
             "pattern": {
              "fillmode": "overlay",
              "size": 10,
              "solidity": 0.2
             }
            },
            "type": "barpolar"
           }
          ],
          "carpet": [
           {
            "aaxis": {
             "endlinecolor": "#2a3f5f",
             "gridcolor": "white",
             "linecolor": "white",
             "minorgridcolor": "white",
             "startlinecolor": "#2a3f5f"
            },
            "baxis": {
             "endlinecolor": "#2a3f5f",
             "gridcolor": "white",
             "linecolor": "white",
             "minorgridcolor": "white",
             "startlinecolor": "#2a3f5f"
            },
            "type": "carpet"
           }
          ],
          "choropleth": [
           {
            "colorbar": {
             "outlinewidth": 0,
             "ticks": ""
            },
            "type": "choropleth"
           }
          ],
          "contour": [
           {
            "colorbar": {
             "outlinewidth": 0,
             "ticks": ""
            },
            "colorscale": [
             [
              0,
              "#0d0887"
             ],
             [
              0.1111111111111111,
              "#46039f"
             ],
             [
              0.2222222222222222,
              "#7201a8"
             ],
             [
              0.3333333333333333,
              "#9c179e"
             ],
             [
              0.4444444444444444,
              "#bd3786"
             ],
             [
              0.5555555555555556,
              "#d8576b"
             ],
             [
              0.6666666666666666,
              "#ed7953"
             ],
             [
              0.7777777777777778,
              "#fb9f3a"
             ],
             [
              0.8888888888888888,
              "#fdca26"
             ],
             [
              1,
              "#f0f921"
             ]
            ],
            "type": "contour"
           }
          ],
          "contourcarpet": [
           {
            "colorbar": {
             "outlinewidth": 0,
             "ticks": ""
            },
            "type": "contourcarpet"
           }
          ],
          "heatmap": [
           {
            "colorbar": {
             "outlinewidth": 0,
             "ticks": ""
            },
            "colorscale": [
             [
              0,
              "#0d0887"
             ],
             [
              0.1111111111111111,
              "#46039f"
             ],
             [
              0.2222222222222222,
              "#7201a8"
             ],
             [
              0.3333333333333333,
              "#9c179e"
             ],
             [
              0.4444444444444444,
              "#bd3786"
             ],
             [
              0.5555555555555556,
              "#d8576b"
             ],
             [
              0.6666666666666666,
              "#ed7953"
             ],
             [
              0.7777777777777778,
              "#fb9f3a"
             ],
             [
              0.8888888888888888,
              "#fdca26"
             ],
             [
              1,
              "#f0f921"
             ]
            ],
            "type": "heatmap"
           }
          ],
          "heatmapgl": [
           {
            "colorbar": {
             "outlinewidth": 0,
             "ticks": ""
            },
            "colorscale": [
             [
              0,
              "#0d0887"
             ],
             [
              0.1111111111111111,
              "#46039f"
             ],
             [
              0.2222222222222222,
              "#7201a8"
             ],
             [
              0.3333333333333333,
              "#9c179e"
             ],
             [
              0.4444444444444444,
              "#bd3786"
             ],
             [
              0.5555555555555556,
              "#d8576b"
             ],
             [
              0.6666666666666666,
              "#ed7953"
             ],
             [
              0.7777777777777778,
              "#fb9f3a"
             ],
             [
              0.8888888888888888,
              "#fdca26"
             ],
             [
              1,
              "#f0f921"
             ]
            ],
            "type": "heatmapgl"
           }
          ],
          "histogram": [
           {
            "marker": {
             "pattern": {
              "fillmode": "overlay",
              "size": 10,
              "solidity": 0.2
             }
            },
            "type": "histogram"
           }
          ],
          "histogram2d": [
           {
            "colorbar": {
             "outlinewidth": 0,
             "ticks": ""
            },
            "colorscale": [
             [
              0,
              "#0d0887"
             ],
             [
              0.1111111111111111,
              "#46039f"
             ],
             [
              0.2222222222222222,
              "#7201a8"
             ],
             [
              0.3333333333333333,
              "#9c179e"
             ],
             [
              0.4444444444444444,
              "#bd3786"
             ],
             [
              0.5555555555555556,
              "#d8576b"
             ],
             [
              0.6666666666666666,
              "#ed7953"
             ],
             [
              0.7777777777777778,
              "#fb9f3a"
             ],
             [
              0.8888888888888888,
              "#fdca26"
             ],
             [
              1,
              "#f0f921"
             ]
            ],
            "type": "histogram2d"
           }
          ],
          "histogram2dcontour": [
           {
            "colorbar": {
             "outlinewidth": 0,
             "ticks": ""
            },
            "colorscale": [
             [
              0,
              "#0d0887"
             ],
             [
              0.1111111111111111,
              "#46039f"
             ],
             [
              0.2222222222222222,
              "#7201a8"
             ],
             [
              0.3333333333333333,
              "#9c179e"
             ],
             [
              0.4444444444444444,
              "#bd3786"
             ],
             [
              0.5555555555555556,
              "#d8576b"
             ],
             [
              0.6666666666666666,
              "#ed7953"
             ],
             [
              0.7777777777777778,
              "#fb9f3a"
             ],
             [
              0.8888888888888888,
              "#fdca26"
             ],
             [
              1,
              "#f0f921"
             ]
            ],
            "type": "histogram2dcontour"
           }
          ],
          "mesh3d": [
           {
            "colorbar": {
             "outlinewidth": 0,
             "ticks": ""
            },
            "type": "mesh3d"
           }
          ],
          "parcoords": [
           {
            "line": {
             "colorbar": {
              "outlinewidth": 0,
              "ticks": ""
             }
            },
            "type": "parcoords"
           }
          ],
          "pie": [
           {
            "automargin": true,
            "type": "pie"
           }
          ],
          "scatter": [
           {
            "fillpattern": {
             "fillmode": "overlay",
             "size": 10,
             "solidity": 0.2
            },
            "type": "scatter"
           }
          ],
          "scatter3d": [
           {
            "line": {
             "colorbar": {
              "outlinewidth": 0,
              "ticks": ""
             }
            },
            "marker": {
             "colorbar": {
              "outlinewidth": 0,
              "ticks": ""
             }
            },
            "type": "scatter3d"
           }
          ],
          "scattercarpet": [
           {
            "marker": {
             "colorbar": {
              "outlinewidth": 0,
              "ticks": ""
             }
            },
            "type": "scattercarpet"
           }
          ],
          "scattergeo": [
           {
            "marker": {
             "colorbar": {
              "outlinewidth": 0,
              "ticks": ""
             }
            },
            "type": "scattergeo"
           }
          ],
          "scattergl": [
           {
            "marker": {
             "colorbar": {
              "outlinewidth": 0,
              "ticks": ""
             }
            },
            "type": "scattergl"
           }
          ],
          "scattermapbox": [
           {
            "marker": {
             "colorbar": {
              "outlinewidth": 0,
              "ticks": ""
             }
            },
            "type": "scattermapbox"
           }
          ],
          "scatterpolar": [
           {
            "marker": {
             "colorbar": {
              "outlinewidth": 0,
              "ticks": ""
             }
            },
            "type": "scatterpolar"
           }
          ],
          "scatterpolargl": [
           {
            "marker": {
             "colorbar": {
              "outlinewidth": 0,
              "ticks": ""
             }
            },
            "type": "scatterpolargl"
           }
          ],
          "scatterternary": [
           {
            "marker": {
             "colorbar": {
              "outlinewidth": 0,
              "ticks": ""
             }
            },
            "type": "scatterternary"
           }
          ],
          "surface": [
           {
            "colorbar": {
             "outlinewidth": 0,
             "ticks": ""
            },
            "colorscale": [
             [
              0,
              "#0d0887"
             ],
             [
              0.1111111111111111,
              "#46039f"
             ],
             [
              0.2222222222222222,
              "#7201a8"
             ],
             [
              0.3333333333333333,
              "#9c179e"
             ],
             [
              0.4444444444444444,
              "#bd3786"
             ],
             [
              0.5555555555555556,
              "#d8576b"
             ],
             [
              0.6666666666666666,
              "#ed7953"
             ],
             [
              0.7777777777777778,
              "#fb9f3a"
             ],
             [
              0.8888888888888888,
              "#fdca26"
             ],
             [
              1,
              "#f0f921"
             ]
            ],
            "type": "surface"
           }
          ],
          "table": [
           {
            "cells": {
             "fill": {
              "color": "#EBF0F8"
             },
             "line": {
              "color": "white"
             }
            },
            "header": {
             "fill": {
              "color": "#C8D4E3"
             },
             "line": {
              "color": "white"
             }
            },
            "type": "table"
           }
          ]
         },
         "layout": {
          "annotationdefaults": {
           "arrowcolor": "#2a3f5f",
           "arrowhead": 0,
           "arrowwidth": 1
          },
          "autotypenumbers": "strict",
          "coloraxis": {
           "colorbar": {
            "outlinewidth": 0,
            "ticks": ""
           }
          },
          "colorscale": {
           "diverging": [
            [
             0,
             "#8e0152"
            ],
            [
             0.1,
             "#c51b7d"
            ],
            [
             0.2,
             "#de77ae"
            ],
            [
             0.3,
             "#f1b6da"
            ],
            [
             0.4,
             "#fde0ef"
            ],
            [
             0.5,
             "#f7f7f7"
            ],
            [
             0.6,
             "#e6f5d0"
            ],
            [
             0.7,
             "#b8e186"
            ],
            [
             0.8,
             "#7fbc41"
            ],
            [
             0.9,
             "#4d9221"
            ],
            [
             1,
             "#276419"
            ]
           ],
           "sequential": [
            [
             0,
             "#0d0887"
            ],
            [
             0.1111111111111111,
             "#46039f"
            ],
            [
             0.2222222222222222,
             "#7201a8"
            ],
            [
             0.3333333333333333,
             "#9c179e"
            ],
            [
             0.4444444444444444,
             "#bd3786"
            ],
            [
             0.5555555555555556,
             "#d8576b"
            ],
            [
             0.6666666666666666,
             "#ed7953"
            ],
            [
             0.7777777777777778,
             "#fb9f3a"
            ],
            [
             0.8888888888888888,
             "#fdca26"
            ],
            [
             1,
             "#f0f921"
            ]
           ],
           "sequentialminus": [
            [
             0,
             "#0d0887"
            ],
            [
             0.1111111111111111,
             "#46039f"
            ],
            [
             0.2222222222222222,
             "#7201a8"
            ],
            [
             0.3333333333333333,
             "#9c179e"
            ],
            [
             0.4444444444444444,
             "#bd3786"
            ],
            [
             0.5555555555555556,
             "#d8576b"
            ],
            [
             0.6666666666666666,
             "#ed7953"
            ],
            [
             0.7777777777777778,
             "#fb9f3a"
            ],
            [
             0.8888888888888888,
             "#fdca26"
            ],
            [
             1,
             "#f0f921"
            ]
           ]
          },
          "colorway": [
           "#636efa",
           "#EF553B",
           "#00cc96",
           "#ab63fa",
           "#FFA15A",
           "#19d3f3",
           "#FF6692",
           "#B6E880",
           "#FF97FF",
           "#FECB52"
          ],
          "font": {
           "color": "#2a3f5f"
          },
          "geo": {
           "bgcolor": "white",
           "lakecolor": "white",
           "landcolor": "#E5ECF6",
           "showlakes": true,
           "showland": true,
           "subunitcolor": "white"
          },
          "hoverlabel": {
           "align": "left"
          },
          "hovermode": "closest",
          "mapbox": {
           "style": "light"
          },
          "paper_bgcolor": "white",
          "plot_bgcolor": "#E5ECF6",
          "polar": {
           "angularaxis": {
            "gridcolor": "white",
            "linecolor": "white",
            "ticks": ""
           },
           "bgcolor": "#E5ECF6",
           "radialaxis": {
            "gridcolor": "white",
            "linecolor": "white",
            "ticks": ""
           }
          },
          "scene": {
           "xaxis": {
            "backgroundcolor": "#E5ECF6",
            "gridcolor": "white",
            "gridwidth": 2,
            "linecolor": "white",
            "showbackground": true,
            "ticks": "",
            "zerolinecolor": "white"
           },
           "yaxis": {
            "backgroundcolor": "#E5ECF6",
            "gridcolor": "white",
            "gridwidth": 2,
            "linecolor": "white",
            "showbackground": true,
            "ticks": "",
            "zerolinecolor": "white"
           },
           "zaxis": {
            "backgroundcolor": "#E5ECF6",
            "gridcolor": "white",
            "gridwidth": 2,
            "linecolor": "white",
            "showbackground": true,
            "ticks": "",
            "zerolinecolor": "white"
           }
          },
          "shapedefaults": {
           "line": {
            "color": "#2a3f5f"
           }
          },
          "ternary": {
           "aaxis": {
            "gridcolor": "white",
            "linecolor": "white",
            "ticks": ""
           },
           "baxis": {
            "gridcolor": "white",
            "linecolor": "white",
            "ticks": ""
           },
           "bgcolor": "#E5ECF6",
           "caxis": {
            "gridcolor": "white",
            "linecolor": "white",
            "ticks": ""
           }
          },
          "title": {
           "x": 0.05
          },
          "xaxis": {
           "automargin": true,
           "gridcolor": "white",
           "linecolor": "white",
           "ticks": "",
           "title": {
            "standoff": 15
           },
           "zerolinecolor": "white",
           "zerolinewidth": 2
          },
          "yaxis": {
           "automargin": true,
           "gridcolor": "white",
           "linecolor": "white",
           "ticks": "",
           "title": {
            "standoff": 15
           },
           "zerolinecolor": "white",
           "zerolinewidth": 2
          }
         }
        },
        "title": {
         "text": "Number of Pixels by Tier Category"
        },
        "xaxis": {
         "anchor": "y",
         "domain": [
          0,
          1
         ]
        },
        "xaxis2": {
         "anchor": "y2",
         "domain": [
          0,
          1
         ]
        },
        "yaxis": {
         "anchor": "x",
         "domain": [
          0.625,
          1
         ],
         "type": "log"
        },
        "yaxis2": {
         "anchor": "x2",
         "domain": [
          0,
          0.375
         ],
         "type": "log"
        }
       }
      }
     },
     "metadata": {},
     "output_type": "display_data"
    }
   ],
   "source": [
    "# Create a DataFrame for each tier\n",
    "tier1_data = pd.DataFrame({\n",
    "    'tier': [f\"{dataset_info['tier1'][i]}\" for i in pixels_by_tier_category['tier1'].keys() if i != 0],\n",
    "    'count': [pixels_by_tier_category['tier1'][i] for i in pixels_by_tier_category['tier1'].keys() if i != 0]\n",
    "})\n",
    "\n",
    "tier2_data = pd.DataFrame({\n",
    "    'tier': [f\"{dataset_info['tier2'][i]}\" for i in pixels_by_tier_category['tier2'].keys() if i != 0],\n",
    "    'count': [pixels_by_tier_category['tier2'][i] for i in pixels_by_tier_category['tier2'].keys() if i != 0]\n",
    "})\n",
    "\n",
    "tier_data_list = [tier1_data, tier2_data]\n",
    "\n",
    "# Create a subplot for each tier category\n",
    "fig = make_subplots(rows=2, cols=1, subplot_titles=['1st Tier', '2nd Tier'])\n",
    "\n",
    "# Iterate over each tier and create a bar chart\n",
    "for i, tier_data in enumerate(tier_data_list, start=1):\n",
    "    grouped_data = tier_data.sort_values(by='count', ascending=False)\n",
    "\n",
    "    # Create a color map for the current tier\n",
    "    random.seed(42)\n",
    "    color_map = {category: f'rgba({random.randint(0, 255)}, {random.randint(0, 255)}, {random.randint(0, 255)}, 1)' for category in grouped_data['tier'].unique()}\n",
    "    bar_colors = grouped_data['tier'].map(color_map)\n",
    "\n",
    "    fig.add_trace(\n",
    "        go.Bar(\n",
    "            x=grouped_data['tier'],\n",
    "            y=grouped_data['count'],\n",
    "            # marker_color=bar_colors\n",
    "        ),\n",
    "        row=i, col=1\n",
    "    )\n",
    "\n",
    "    fig.update_traces(\n",
    "        hovertemplate=\"<b>%{x}</b><br>Count: %{y}\",\n",
    "        selector=dict(row=i, col=1)\n",
    "    )\n",
    "\n",
    "    fig.update_yaxes(type=\"log\", row=i, col=1)\n",
    "\n",
    "fig.update_layout(\n",
    "    title=\"Number of Pixels by Tier Category\",\n",
    "    height=700,  # Adjust the height to accommodate all subplots\n",
    "    showlegend=False\n",
    ")\n",
    "\n",
    "fig.write_image(\"../assets/ZueriCrop_2.0_Seasonality_Tiers_Class_Distribution.pdf\", width=1200, height=700)\n",
    "\n",
    "fig.show()"
   ]
  },
  {
   "cell_type": "code",
   "execution_count": 56,
   "metadata": {},
   "outputs": [
    {
     "data": {
      "application/vnd.plotly.v1+json": {
       "config": {
        "plotlyServerURL": "https://plot.ly"
       },
       "data": [
        {
         "hovertemplate": "<b>%{x}</b><br>Count: %{y}<br>Tier 1: %{text}",
         "marker": {
          "color": [
           "rgba(237, 191, 136, 1)",
           "rgba(70, 95, 3, 1)",
           "rgba(173, 237, 41, 1)",
           "rgba(70, 95, 3, 1)",
           "rgba(70, 95, 3, 1)",
           "rgba(70, 95, 3, 1)",
           "rgba(173, 237, 41, 1)",
           "rgba(173, 237, 41, 1)",
           "rgba(173, 237, 41, 1)",
           "rgba(173, 237, 41, 1)",
           "rgba(237, 191, 136, 1)",
           "rgba(70, 95, 3, 1)",
           "rgba(70, 95, 3, 1)",
           "rgba(237, 191, 136, 1)",
           "rgba(237, 191, 136, 1)",
           "rgba(70, 95, 3, 1)",
           "rgba(173, 237, 41, 1)",
           "rgba(173, 237, 41, 1)",
           "rgba(70, 95, 3, 1)",
           "rgba(70, 95, 3, 1)",
           "rgba(173, 237, 41, 1)",
           "rgba(173, 237, 41, 1)",
           "rgba(70, 95, 3, 1)",
           "rgba(173, 237, 41, 1)",
           "rgba(173, 237, 41, 1)",
           "rgba(173, 237, 41, 1)",
           "rgba(173, 237, 41, 1)",
           "rgba(173, 237, 41, 1)",
           "rgba(173, 237, 41, 1)",
           "rgba(173, 237, 41, 1)",
           "rgba(70, 95, 3, 1)",
           "rgba(173, 237, 41, 1)",
           "rgba(173, 237, 41, 1)",
           "rgba(173, 237, 41, 1)",
           "rgba(173, 237, 41, 1)",
           "rgba(173, 237, 41, 1)",
           "rgba(173, 237, 41, 1)",
           "rgba(173, 237, 41, 1)",
           "rgba(173, 237, 41, 1)",
           "rgba(173, 237, 41, 1)",
           "rgba(173, 237, 41, 1)",
           "rgba(237, 191, 136, 1)",
           "rgba(173, 237, 41, 1)",
           "rgba(173, 237, 41, 1)",
           "rgba(173, 237, 41, 1)",
           "rgba(173, 237, 41, 1)",
           "rgba(173, 237, 41, 1)"
          ]
         },
         "showlegend": false,
         "text": [
          "4,432,851",
          "900,795",
          "854,471",
          "358,077",
          "296,026",
          "266,612",
          "191,321",
          "138,339",
          "87,624",
          "68,748",
          "62,888",
          "58,027",
          "52,216",
          "52,204",
          "47,862",
          "46,856",
          "30,330",
          "26,632",
          "24,497",
          "16,941",
          "12,815",
          "12,662",
          "10,784",
          "10,375",
          "7,220",
          "4,810",
          "4,043",
          "2,351",
          "2,083",
          "1,905",
          "1,832",
          "1,771",
          "1,756",
          "1,751",
          "366",
          "320",
          "248",
          "148",
          "92",
          "84",
          "25",
          "11",
          "0",
          "0",
          "0",
          "0",
          "0"
         ],
         "type": "bar",
         "x": [
          "Grassland",
          "WinterWheat",
          "Maize",
          "SugarBeet",
          "WinterBarley",
          "WinterRapeseed",
          "Vegetables",
          "Potatoes",
          "Sunflowers",
          "SpecialCultureAnnual",
          "Vines",
          "Spelt",
          "Triticale",
          "SpecialCulturePerma",
          "Orchards",
          "FodderCereals",
          "Soybeans",
          "ProteinPeas",
          "SpecialCulturePerennial",
          "Oats",
          "EinkornWheat",
          "BroadBeans",
          "Rye",
          "SummerWheat",
          "CropMix",
          "SummerBarley",
          "Millet",
          "Tobacco",
          "Hemp",
          "Sorghum",
          "CerealMix",
          "Buckwheat",
          "SummerRapeseed",
          "SiloCereals",
          "Lentils",
          "Lupines",
          "Mustard",
          "Quinoa",
          "Camelina",
          "Poppy",
          "Safflower",
          "Chestnuts",
          "Chickpeas",
          "DryRice",
          "HardWheat",
          "Rice",
          "WetRice"
         ],
         "y": [
          4432851,
          900795,
          854471,
          358077,
          296026,
          266612,
          191321,
          138339,
          87624,
          68748,
          62888,
          58027,
          52216,
          52204,
          47862,
          46856,
          30330,
          26632,
          24497,
          16941,
          12815,
          12662,
          10784,
          10375,
          7220,
          4810,
          4043,
          2351,
          2083,
          1905,
          1832,
          1771,
          1756,
          1751,
          366,
          320,
          248,
          148,
          92,
          84,
          25,
          11,
          0,
          0,
          0,
          0,
          0
         ]
        },
        {
         "legendgroup": "Permaculture",
         "marker": {
          "color": "rgba(237, 191, 136, 1)",
          "size": 10
         },
         "mode": "markers",
         "name": "Permaculture",
         "showlegend": true,
         "type": "scatter",
         "x": [
          null
         ],
         "y": [
          null
         ]
        },
        {
         "legendgroup": "PerennialCrop",
         "marker": {
          "color": "rgba(70, 95, 3, 1)",
          "size": 10
         },
         "mode": "markers",
         "name": "PerennialCrop",
         "showlegend": true,
         "type": "scatter",
         "x": [
          null
         ],
         "y": [
          null
         ]
        },
        {
         "legendgroup": "AnnualCrop",
         "marker": {
          "color": "rgba(173, 237, 41, 1)",
          "size": 10
         },
         "mode": "markers",
         "name": "AnnualCrop",
         "showlegend": true,
         "type": "scatter",
         "x": [
          null
         ],
         "y": [
          null
         ]
        }
       ],
       "layout": {
        "height": 900,
        "legend": {
         "orientation": "h",
         "title": {
          "text": "Tier 1 Labels:"
         },
         "x": 0.5,
         "xanchor": "center",
         "y": 1.02,
         "yanchor": "bottom"
        },
        "showlegend": true,
        "template": {
         "data": {
          "bar": [
           {
            "error_x": {
             "color": "#2a3f5f"
            },
            "error_y": {
             "color": "#2a3f5f"
            },
            "marker": {
             "line": {
              "color": "#E5ECF6",
              "width": 0.5
             },
             "pattern": {
              "fillmode": "overlay",
              "size": 10,
              "solidity": 0.2
             }
            },
            "type": "bar"
           }
          ],
          "barpolar": [
           {
            "marker": {
             "line": {
              "color": "#E5ECF6",
              "width": 0.5
             },
             "pattern": {
              "fillmode": "overlay",
              "size": 10,
              "solidity": 0.2
             }
            },
            "type": "barpolar"
           }
          ],
          "carpet": [
           {
            "aaxis": {
             "endlinecolor": "#2a3f5f",
             "gridcolor": "white",
             "linecolor": "white",
             "minorgridcolor": "white",
             "startlinecolor": "#2a3f5f"
            },
            "baxis": {
             "endlinecolor": "#2a3f5f",
             "gridcolor": "white",
             "linecolor": "white",
             "minorgridcolor": "white",
             "startlinecolor": "#2a3f5f"
            },
            "type": "carpet"
           }
          ],
          "choropleth": [
           {
            "colorbar": {
             "outlinewidth": 0,
             "ticks": ""
            },
            "type": "choropleth"
           }
          ],
          "contour": [
           {
            "colorbar": {
             "outlinewidth": 0,
             "ticks": ""
            },
            "colorscale": [
             [
              0,
              "#0d0887"
             ],
             [
              0.1111111111111111,
              "#46039f"
             ],
             [
              0.2222222222222222,
              "#7201a8"
             ],
             [
              0.3333333333333333,
              "#9c179e"
             ],
             [
              0.4444444444444444,
              "#bd3786"
             ],
             [
              0.5555555555555556,
              "#d8576b"
             ],
             [
              0.6666666666666666,
              "#ed7953"
             ],
             [
              0.7777777777777778,
              "#fb9f3a"
             ],
             [
              0.8888888888888888,
              "#fdca26"
             ],
             [
              1,
              "#f0f921"
             ]
            ],
            "type": "contour"
           }
          ],
          "contourcarpet": [
           {
            "colorbar": {
             "outlinewidth": 0,
             "ticks": ""
            },
            "type": "contourcarpet"
           }
          ],
          "heatmap": [
           {
            "colorbar": {
             "outlinewidth": 0,
             "ticks": ""
            },
            "colorscale": [
             [
              0,
              "#0d0887"
             ],
             [
              0.1111111111111111,
              "#46039f"
             ],
             [
              0.2222222222222222,
              "#7201a8"
             ],
             [
              0.3333333333333333,
              "#9c179e"
             ],
             [
              0.4444444444444444,
              "#bd3786"
             ],
             [
              0.5555555555555556,
              "#d8576b"
             ],
             [
              0.6666666666666666,
              "#ed7953"
             ],
             [
              0.7777777777777778,
              "#fb9f3a"
             ],
             [
              0.8888888888888888,
              "#fdca26"
             ],
             [
              1,
              "#f0f921"
             ]
            ],
            "type": "heatmap"
           }
          ],
          "heatmapgl": [
           {
            "colorbar": {
             "outlinewidth": 0,
             "ticks": ""
            },
            "colorscale": [
             [
              0,
              "#0d0887"
             ],
             [
              0.1111111111111111,
              "#46039f"
             ],
             [
              0.2222222222222222,
              "#7201a8"
             ],
             [
              0.3333333333333333,
              "#9c179e"
             ],
             [
              0.4444444444444444,
              "#bd3786"
             ],
             [
              0.5555555555555556,
              "#d8576b"
             ],
             [
              0.6666666666666666,
              "#ed7953"
             ],
             [
              0.7777777777777778,
              "#fb9f3a"
             ],
             [
              0.8888888888888888,
              "#fdca26"
             ],
             [
              1,
              "#f0f921"
             ]
            ],
            "type": "heatmapgl"
           }
          ],
          "histogram": [
           {
            "marker": {
             "pattern": {
              "fillmode": "overlay",
              "size": 10,
              "solidity": 0.2
             }
            },
            "type": "histogram"
           }
          ],
          "histogram2d": [
           {
            "colorbar": {
             "outlinewidth": 0,
             "ticks": ""
            },
            "colorscale": [
             [
              0,
              "#0d0887"
             ],
             [
              0.1111111111111111,
              "#46039f"
             ],
             [
              0.2222222222222222,
              "#7201a8"
             ],
             [
              0.3333333333333333,
              "#9c179e"
             ],
             [
              0.4444444444444444,
              "#bd3786"
             ],
             [
              0.5555555555555556,
              "#d8576b"
             ],
             [
              0.6666666666666666,
              "#ed7953"
             ],
             [
              0.7777777777777778,
              "#fb9f3a"
             ],
             [
              0.8888888888888888,
              "#fdca26"
             ],
             [
              1,
              "#f0f921"
             ]
            ],
            "type": "histogram2d"
           }
          ],
          "histogram2dcontour": [
           {
            "colorbar": {
             "outlinewidth": 0,
             "ticks": ""
            },
            "colorscale": [
             [
              0,
              "#0d0887"
             ],
             [
              0.1111111111111111,
              "#46039f"
             ],
             [
              0.2222222222222222,
              "#7201a8"
             ],
             [
              0.3333333333333333,
              "#9c179e"
             ],
             [
              0.4444444444444444,
              "#bd3786"
             ],
             [
              0.5555555555555556,
              "#d8576b"
             ],
             [
              0.6666666666666666,
              "#ed7953"
             ],
             [
              0.7777777777777778,
              "#fb9f3a"
             ],
             [
              0.8888888888888888,
              "#fdca26"
             ],
             [
              1,
              "#f0f921"
             ]
            ],
            "type": "histogram2dcontour"
           }
          ],
          "mesh3d": [
           {
            "colorbar": {
             "outlinewidth": 0,
             "ticks": ""
            },
            "type": "mesh3d"
           }
          ],
          "parcoords": [
           {
            "line": {
             "colorbar": {
              "outlinewidth": 0,
              "ticks": ""
             }
            },
            "type": "parcoords"
           }
          ],
          "pie": [
           {
            "automargin": true,
            "type": "pie"
           }
          ],
          "scatter": [
           {
            "fillpattern": {
             "fillmode": "overlay",
             "size": 10,
             "solidity": 0.2
            },
            "type": "scatter"
           }
          ],
          "scatter3d": [
           {
            "line": {
             "colorbar": {
              "outlinewidth": 0,
              "ticks": ""
             }
            },
            "marker": {
             "colorbar": {
              "outlinewidth": 0,
              "ticks": ""
             }
            },
            "type": "scatter3d"
           }
          ],
          "scattercarpet": [
           {
            "marker": {
             "colorbar": {
              "outlinewidth": 0,
              "ticks": ""
             }
            },
            "type": "scattercarpet"
           }
          ],
          "scattergeo": [
           {
            "marker": {
             "colorbar": {
              "outlinewidth": 0,
              "ticks": ""
             }
            },
            "type": "scattergeo"
           }
          ],
          "scattergl": [
           {
            "marker": {
             "colorbar": {
              "outlinewidth": 0,
              "ticks": ""
             }
            },
            "type": "scattergl"
           }
          ],
          "scattermapbox": [
           {
            "marker": {
             "colorbar": {
              "outlinewidth": 0,
              "ticks": ""
             }
            },
            "type": "scattermapbox"
           }
          ],
          "scatterpolar": [
           {
            "marker": {
             "colorbar": {
              "outlinewidth": 0,
              "ticks": ""
             }
            },
            "type": "scatterpolar"
           }
          ],
          "scatterpolargl": [
           {
            "marker": {
             "colorbar": {
              "outlinewidth": 0,
              "ticks": ""
             }
            },
            "type": "scatterpolargl"
           }
          ],
          "scatterternary": [
           {
            "marker": {
             "colorbar": {
              "outlinewidth": 0,
              "ticks": ""
             }
            },
            "type": "scatterternary"
           }
          ],
          "surface": [
           {
            "colorbar": {
             "outlinewidth": 0,
             "ticks": ""
            },
            "colorscale": [
             [
              0,
              "#0d0887"
             ],
             [
              0.1111111111111111,
              "#46039f"
             ],
             [
              0.2222222222222222,
              "#7201a8"
             ],
             [
              0.3333333333333333,
              "#9c179e"
             ],
             [
              0.4444444444444444,
              "#bd3786"
             ],
             [
              0.5555555555555556,
              "#d8576b"
             ],
             [
              0.6666666666666666,
              "#ed7953"
             ],
             [
              0.7777777777777778,
              "#fb9f3a"
             ],
             [
              0.8888888888888888,
              "#fdca26"
             ],
             [
              1,
              "#f0f921"
             ]
            ],
            "type": "surface"
           }
          ],
          "table": [
           {
            "cells": {
             "fill": {
              "color": "#EBF0F8"
             },
             "line": {
              "color": "white"
             }
            },
            "header": {
             "fill": {
              "color": "#C8D4E3"
             },
             "line": {
              "color": "white"
             }
            },
            "type": "table"
           }
          ]
         },
         "layout": {
          "annotationdefaults": {
           "arrowcolor": "#2a3f5f",
           "arrowhead": 0,
           "arrowwidth": 1
          },
          "autotypenumbers": "strict",
          "coloraxis": {
           "colorbar": {
            "outlinewidth": 0,
            "ticks": ""
           }
          },
          "colorscale": {
           "diverging": [
            [
             0,
             "#8e0152"
            ],
            [
             0.1,
             "#c51b7d"
            ],
            [
             0.2,
             "#de77ae"
            ],
            [
             0.3,
             "#f1b6da"
            ],
            [
             0.4,
             "#fde0ef"
            ],
            [
             0.5,
             "#f7f7f7"
            ],
            [
             0.6,
             "#e6f5d0"
            ],
            [
             0.7,
             "#b8e186"
            ],
            [
             0.8,
             "#7fbc41"
            ],
            [
             0.9,
             "#4d9221"
            ],
            [
             1,
             "#276419"
            ]
           ],
           "sequential": [
            [
             0,
             "#0d0887"
            ],
            [
             0.1111111111111111,
             "#46039f"
            ],
            [
             0.2222222222222222,
             "#7201a8"
            ],
            [
             0.3333333333333333,
             "#9c179e"
            ],
            [
             0.4444444444444444,
             "#bd3786"
            ],
            [
             0.5555555555555556,
             "#d8576b"
            ],
            [
             0.6666666666666666,
             "#ed7953"
            ],
            [
             0.7777777777777778,
             "#fb9f3a"
            ],
            [
             0.8888888888888888,
             "#fdca26"
            ],
            [
             1,
             "#f0f921"
            ]
           ],
           "sequentialminus": [
            [
             0,
             "#0d0887"
            ],
            [
             0.1111111111111111,
             "#46039f"
            ],
            [
             0.2222222222222222,
             "#7201a8"
            ],
            [
             0.3333333333333333,
             "#9c179e"
            ],
            [
             0.4444444444444444,
             "#bd3786"
            ],
            [
             0.5555555555555556,
             "#d8576b"
            ],
            [
             0.6666666666666666,
             "#ed7953"
            ],
            [
             0.7777777777777778,
             "#fb9f3a"
            ],
            [
             0.8888888888888888,
             "#fdca26"
            ],
            [
             1,
             "#f0f921"
            ]
           ]
          },
          "colorway": [
           "#636efa",
           "#EF553B",
           "#00cc96",
           "#ab63fa",
           "#FFA15A",
           "#19d3f3",
           "#FF6692",
           "#B6E880",
           "#FF97FF",
           "#FECB52"
          ],
          "font": {
           "color": "#2a3f5f"
          },
          "geo": {
           "bgcolor": "white",
           "lakecolor": "white",
           "landcolor": "#E5ECF6",
           "showlakes": true,
           "showland": true,
           "subunitcolor": "white"
          },
          "hoverlabel": {
           "align": "left"
          },
          "hovermode": "closest",
          "mapbox": {
           "style": "light"
          },
          "paper_bgcolor": "white",
          "plot_bgcolor": "#E5ECF6",
          "polar": {
           "angularaxis": {
            "gridcolor": "white",
            "linecolor": "white",
            "ticks": ""
           },
           "bgcolor": "#E5ECF6",
           "radialaxis": {
            "gridcolor": "white",
            "linecolor": "white",
            "ticks": ""
           }
          },
          "scene": {
           "xaxis": {
            "backgroundcolor": "#E5ECF6",
            "gridcolor": "white",
            "gridwidth": 2,
            "linecolor": "white",
            "showbackground": true,
            "ticks": "",
            "zerolinecolor": "white"
           },
           "yaxis": {
            "backgroundcolor": "#E5ECF6",
            "gridcolor": "white",
            "gridwidth": 2,
            "linecolor": "white",
            "showbackground": true,
            "ticks": "",
            "zerolinecolor": "white"
           },
           "zaxis": {
            "backgroundcolor": "#E5ECF6",
            "gridcolor": "white",
            "gridwidth": 2,
            "linecolor": "white",
            "showbackground": true,
            "ticks": "",
            "zerolinecolor": "white"
           }
          },
          "shapedefaults": {
           "line": {
            "color": "#2a3f5f"
           }
          },
          "ternary": {
           "aaxis": {
            "gridcolor": "white",
            "linecolor": "white",
            "ticks": ""
           },
           "baxis": {
            "gridcolor": "white",
            "linecolor": "white",
            "ticks": ""
           },
           "bgcolor": "#E5ECF6",
           "caxis": {
            "gridcolor": "white",
            "linecolor": "white",
            "ticks": ""
           }
          },
          "title": {
           "x": 0.05
          },
          "xaxis": {
           "automargin": true,
           "gridcolor": "white",
           "linecolor": "white",
           "ticks": "",
           "title": {
            "standoff": 15
           },
           "zerolinecolor": "white",
           "zerolinewidth": 2
          },
          "yaxis": {
           "automargin": true,
           "gridcolor": "white",
           "linecolor": "white",
           "ticks": "",
           "title": {
            "standoff": 15
           },
           "zerolinecolor": "white",
           "zerolinewidth": 2
          }
         }
        },
        "title": {
         "text": "Number of Pixels per Tier 2 Label"
        },
        "xaxis": {
         "title": {
          "text": "Tier 2 Label"
         }
        },
        "yaxis": {
         "title": {
          "text": "Number of Pixels"
         },
         "type": "log"
        }
       }
      }
     },
     "metadata": {},
     "output_type": "display_data"
    }
   ],
   "source": [
    "tier2_keys = [i for i in pixels_by_tier_category['tier2'].keys() if i != 0]\n",
    "tier2_labels = [f\"{dataset_info['tier2'][i]}\" for i in tier2_keys]\n",
    "tier2_pixels = [pixels_by_tier_category['tier2'][i] for i in tier2_keys]\n",
    "tier2_to_tier1 = [dataset_info['tier2_to_tier1'][i] for i in tier2_keys]\n",
    "\n",
    "tier2_data = pd.DataFrame({\n",
    "    'tier2_label': tier2_labels,\n",
    "    'count': tier2_pixels,\n",
    "    'tier1_label': [dataset_info['tier1'][tier1_index] for tier1_index in tier2_to_tier1]\n",
    "})\n",
    "tier2_data = tier2_data.sort_values(by='count', ascending=False)\n",
    "\n",
    "# Create a unique color for each tier1 category\n",
    "random.seed(9)\n",
    "color_map = {tier: f'rgba({random.randint(0, 255)}, {random.randint(0, 255)}, {random.randint(0, 255)}, 1)' for tier in tier2_data['tier1_label'].unique()}\n",
    "bar_colors = tier2_data['tier1_label'].map(color_map)\n",
    "\n",
    "fig = go.Figure()\n",
    "\n",
    "fig.add_trace(go.Bar(\n",
    "    x=tier2_data['tier2_label'],\n",
    "    y=tier2_data['count'],\n",
    "    marker_color=bar_colors,\n",
    "    text=[f\"{count:,}\" for tier2, count in zip(tier2_data['tier2_label'], tier2_data['count'])],\n",
    "    showlegend=False  # Hide the bar trace from the legend\n",
    "))\n",
    "\n",
    "fig.update_traces(\n",
    "    hovertemplate=\"<b>%{x}</b><br>Count: %{y}<br>Tier 1: %{text}\"\n",
    ")\n",
    "\n",
    "legend_items = [go.Scatter(\n",
    "    x=[None], y=[None],\n",
    "    mode='markers',\n",
    "    marker=dict(size=10, color=color),\n",
    "    legendgroup=tier,\n",
    "    showlegend=True,\n",
    "    name=tier\n",
    ") for tier, color in color_map.items()]\n",
    "\n",
    "for item in legend_items:\n",
    "    fig.add_trace(item)\n",
    "\n",
    "fig.update_layout(\n",
    "    title=\"Number of Pixels per Tier 2 Label\",\n",
    "    xaxis_title=\"Tier 2 Label\",\n",
    "    yaxis_title=\"Number of Pixels\",\n",
    "    yaxis_type=\"log\",\n",
    "    height=900,\n",
    "    showlegend=True,\n",
    "    legend=dict(\n",
    "        title=\"Tier 1 Labels:\",\n",
    "        orientation=\"h\",  # Horizontal orientation\n",
    "        yanchor=\"bottom\",\n",
    "        y=1.02,\n",
    "        xanchor=\"center\",\n",
    "        x=0.5\n",
    "    )\n",
    ")\n",
    "\n",
    "fig.write_image(\"../assets/ZueriCrop_2.0_Seasonality_Tier_2_Class_Distribution.pdf\", width=1200, height=600)\n",
    "\n",
    "fig.show()\n"
   ]
  },
  {
   "cell_type": "code",
   "execution_count": 57,
   "metadata": {},
   "outputs": [
    {
     "name": "stdout",
     "output_type": "stream",
     "text": [
      "Total Pixels: 21,525,504\n",
      "Total Pixels (without background): 8,090,769\n"
     ]
    }
   ],
   "source": [
    "# Count total number of pixels\n",
    "total_pixels = 0\n",
    "total_pixels_without_background = 0\n",
    "for cls in pixels_by_tier_category['tier1']:\n",
    "    total_pixels += pixels_by_tier_category['tier1'][cls]\n",
    "    if cls == 0:\n",
    "        continue\n",
    "    total_pixels_without_background += pixels_by_tier_category['tier1'][cls]\n",
    "\n",
    "print(f\"Total Pixels: {total_pixels:,}\")\n",
    "print(f\"Total Pixels (without background): {total_pixels_without_background:,}\")"
   ]
  }
 ],
 "metadata": {
  "kernelspec": {
   "display_name": "messis-bV8Bs8aq-py3.12",
   "language": "python",
   "name": "python3"
  },
  "language_info": {
   "codemirror_mode": {
    "name": "ipython",
    "version": 3
   },
   "file_extension": ".py",
   "mimetype": "text/x-python",
   "name": "python",
   "nbconvert_exporter": "python",
   "pygments_lexer": "ipython3",
   "version": "3.12.2"
  }
 },
 "nbformat": 4,
 "nbformat_minor": 2
}
