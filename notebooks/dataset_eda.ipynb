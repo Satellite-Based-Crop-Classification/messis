{
 "cells": [
  {
   "cell_type": "code",
   "execution_count": 1,
   "metadata": {},
   "outputs": [],
   "source": [
    "from messis.dataloader import GeospatialDataModule"
   ]
  },
  {
   "cell_type": "code",
   "execution_count": 3,
   "metadata": {},
   "outputs": [
    {
     "name": "stdout",
     "output_type": "stream",
     "text": [
      "Loading mean/std stats from ../data/chips_fold_stats.yaml\n",
      "Stats with selected test fold 0: {'mean': [547.4498291015625, 646.3359375, 392.582275390625, 2924.638427734375, 1824.0826416015625, 1107.7821044921875], 'n_bands': 6, 'n_chips': 332, 'n_timesteps': 3, 'std': [465.12786865234375, 402.7886657714844, 362.0007019042969, 1266.59033203125, 648.0706176757812, 542.8402099609375]} over 3 timesteps.\n",
      "Loading mean/std stats from ../data/chips_fold_stats.yaml\n",
      "Stats with selected test fold 0: {'mean': [547.4498291015625, 646.3359375, 392.582275390625, 2924.638427734375, 1824.0826416015625, 1107.7821044921875], 'n_bands': 6, 'n_chips': 332, 'n_timesteps': 3, 'std': [465.12786865234375, 402.7886657714844, 362.0007019042969, 1266.59033203125, 648.0706176757812, 542.8402099609375]} over 3 timesteps.\n",
      "Loading mean/std stats from ../data/chips_fold_stats.yaml\n",
      "Stats with selected test fold 0: {'mean': [547.4498291015625, 646.3359375, 392.582275390625, 2924.638427734375, 1824.0826416015625, 1107.7821044921875], 'n_bands': 6, 'n_chips': 332, 'n_timesteps': 3, 'std': [465.12786865234375, 402.7886657714844, 362.0007019042969, 1266.59033203125, 648.0706176757812, 542.8402099609375]} over 3 timesteps.\n",
      "<messis.dataloader.GeospatialDataset object at 0x314e4c7a0>\n",
      "<messis.dataloader.GeospatialDataset object at 0x308f2f9e0>\n",
      "<messis.dataloader.GeospatialDataset object at 0x309634f50>\n"
     ]
    }
   ],
   "source": [
    "data_module = GeospatialDataModule(data_dir='../data/', test_fold=0, batch_size=12, num_workers=1, debug=True, subsets= None)\n",
    "\n",
    "data_module.setup()\n",
    "\n",
    "print(data_module.train_dataset)\n",
    "print(data_module.val_dataset)\n",
    "print(data_module.test_dataset)"
   ]
  },
  {
   "cell_type": "code",
   "execution_count": null,
   "metadata": {},
   "outputs": [],
   "source": []
  },
  {
   "cell_type": "code",
   "execution_count": null,
   "metadata": {},
   "outputs": [],
   "source": []
  }
 ],
 "metadata": {
  "kernelspec": {
   "display_name": "messis-bV8Bs8aq-py3.12",
   "language": "python",
   "name": "python3"
  },
  "language_info": {
   "codemirror_mode": {
    "name": "ipython",
    "version": 3
   },
   "file_extension": ".py",
   "mimetype": "text/x-python",
   "name": "python",
   "nbconvert_exporter": "python",
   "pygments_lexer": "ipython3",
   "version": "3.12.2"
  }
 },
 "nbformat": 4,
 "nbformat_minor": 2
}
