{
 "cells": [
  {
   "cell_type": "code",
   "execution_count": 1,
   "metadata": {},
   "outputs": [],
   "source": [
    "import sys\n",
    "sys.path.append('..')"
   ]
  },
  {
   "cell_type": "code",
   "execution_count": 2,
   "metadata": {},
   "outputs": [],
   "source": [
    "import matplotlib.pyplot as plt\n",
    "import numpy as np\n",
    "from tqdm import tqdm\n",
    "import pandas as pd\n",
    "import plotly.graph_objects as go\n",
    "\n",
    "from messis.dataloader import GeospatialDataModule"
   ]
  },
  {
   "cell_type": "code",
   "execution_count": 3,
   "metadata": {},
   "outputs": [],
   "source": [
    "N_FOLDS = 5"
   ]
  },
  {
   "cell_type": "code",
   "execution_count": 4,
   "metadata": {},
   "outputs": [
    {
     "name": "stdout",
     "output_type": "stream",
     "text": [
      "Loading mean/std stats from ../data/chips_stats.yaml\n",
      "Stats with selected test fold 0: {'mean': [547.4498291015625, 646.3359375, 392.582275390625, 2924.638427734375, 1824.0826416015625, 1107.7821044921875], 'n_bands': 6, 'n_chips': 332, 'n_timesteps': 3, 'std': [465.12786865234375, 402.7886657714844, 362.0007019042969, 1266.59033203125, 648.0706176757812, 542.8402099609375]} over 3 timesteps.\n",
      "Loading mean/std stats from ../data/chips_stats.yaml\n",
      "Stats with selected test fold 0: {'mean': [547.4498291015625, 646.3359375, 392.582275390625, 2924.638427734375, 1824.0826416015625, 1107.7821044921875], 'n_bands': 6, 'n_chips': 332, 'n_timesteps': 3, 'std': [465.12786865234375, 402.7886657714844, 362.0007019042969, 1266.59033203125, 648.0706176757812, 542.8402099609375]} over 3 timesteps.\n",
      "Loading mean/std stats from ../data/chips_stats.yaml\n",
      "Stats with selected test fold 0: {'mean': [547.4498291015625, 646.3359375, 392.582275390625, 2924.638427734375, 1824.0826416015625, 1107.7821044921875], 'n_bands': 6, 'n_chips': 332, 'n_timesteps': 3, 'std': [465.12786865234375, 402.7886657714844, 362.0007019042969, 1266.59033203125, 648.0706176757812, 542.8402099609375]} over 3 timesteps.\n",
      "Loading mean/std stats from ../data/chips_stats.yaml\n",
      "Stats with selected test fold 1: {'mean': [548.9451293945312, 650.9935913085938, 390.8969421386719, 3008.673095703125, 1856.8426513671875, 1119.1778564453125], 'n_bands': 6, 'n_chips': 322, 'n_timesteps': 3, 'std': [460.5583190917969, 398.0489807128906, 359.7120361328125, 1228.367431640625, 616.7335815429688, 529.5128784179688]} over 3 timesteps.\n",
      "Loading mean/std stats from ../data/chips_stats.yaml\n",
      "Stats with selected test fold 1: {'mean': [548.9451293945312, 650.9935913085938, 390.8969421386719, 3008.673095703125, 1856.8426513671875, 1119.1778564453125], 'n_bands': 6, 'n_chips': 322, 'n_timesteps': 3, 'std': [460.5583190917969, 398.0489807128906, 359.7120361328125, 1228.367431640625, 616.7335815429688, 529.5128784179688]} over 3 timesteps.\n",
      "Loading mean/std stats from ../data/chips_stats.yaml\n",
      "Stats with selected test fold 1: {'mean': [548.9451293945312, 650.9935913085938, 390.8969421386719, 3008.673095703125, 1856.8426513671875, 1119.1778564453125], 'n_bands': 6, 'n_chips': 322, 'n_timesteps': 3, 'std': [460.5583190917969, 398.0489807128906, 359.7120361328125, 1228.367431640625, 616.7335815429688, 529.5128784179688]} over 3 timesteps.\n",
      "Loading mean/std stats from ../data/chips_stats.yaml\n",
      "Stats with selected test fold 2: {'mean': [554.9505004882812, 652.2725830078125, 400.4737243652344, 2929.01171875, 1832.17919921875, 1115.314208984375], 'n_bands': 6, 'n_chips': 315, 'n_timesteps': 3, 'std': [472.2362060546875, 409.95263671875, 372.43212890625, 1255.95556640625, 637.609619140625, 538.1178588867188]} over 3 timesteps.\n",
      "Loading mean/std stats from ../data/chips_stats.yaml\n",
      "Stats with selected test fold 2: {'mean': [554.9505004882812, 652.2725830078125, 400.4737243652344, 2929.01171875, 1832.17919921875, 1115.314208984375], 'n_bands': 6, 'n_chips': 315, 'n_timesteps': 3, 'std': [472.2362060546875, 409.95263671875, 372.43212890625, 1255.95556640625, 637.609619140625, 538.1178588867188]} over 3 timesteps.\n",
      "Loading mean/std stats from ../data/chips_stats.yaml\n",
      "Stats with selected test fold 2: {'mean': [554.9505004882812, 652.2725830078125, 400.4737243652344, 2929.01171875, 1832.17919921875, 1115.314208984375], 'n_bands': 6, 'n_chips': 315, 'n_timesteps': 3, 'std': [472.2362060546875, 409.95263671875, 372.43212890625, 1255.95556640625, 637.609619140625, 538.1178588867188]} over 3 timesteps.\n",
      "Loading mean/std stats from ../data/chips_stats.yaml\n",
      "Stats with selected test fold 3: {'mean': [560.54833984375, 652.97119140625, 405.4107666015625, 2877.375732421875, 1813.2972412109375, 1114.0203857421875], 'n_bands': 6, 'n_chips': 318, 'n_timesteps': 3, 'std': [476.25244140625, 413.17010498046875, 374.8634033203125, 1248.6513671875, 640.9295043945312, 543.93505859375]} over 3 timesteps.\n",
      "Loading mean/std stats from ../data/chips_stats.yaml\n",
      "Stats with selected test fold 3: {'mean': [560.54833984375, 652.97119140625, 405.4107666015625, 2877.375732421875, 1813.2972412109375, 1114.0203857421875], 'n_bands': 6, 'n_chips': 318, 'n_timesteps': 3, 'std': [476.25244140625, 413.17010498046875, 374.8634033203125, 1248.6513671875, 640.9295043945312, 543.93505859375]} over 3 timesteps.\n",
      "Loading mean/std stats from ../data/chips_stats.yaml\n",
      "Stats with selected test fold 3: {'mean': [560.54833984375, 652.97119140625, 405.4107666015625, 2877.375732421875, 1813.2972412109375, 1114.0203857421875], 'n_bands': 6, 'n_chips': 318, 'n_timesteps': 3, 'std': [476.25244140625, 413.17010498046875, 374.8634033203125, 1248.6513671875, 640.9295043945312, 543.93505859375]} over 3 timesteps.\n",
      "Loading mean/std stats from ../data/chips_stats.yaml\n",
      "Stats with selected test fold 4: {'mean': [568.4696044921875, 657.9330444335938, 407.3236083984375, 2875.39208984375, 1839.341796875, 1140.862060546875], 'n_bands': 6, 'n_chips': 325, 'n_timesteps': 3, 'std': [432.0650329589844, 358.1230163574219, 306.1858215332031, 1222.216552734375, 631.3671875, 546.195556640625]} over 3 timesteps.\n",
      "Loading mean/std stats from ../data/chips_stats.yaml\n",
      "Stats with selected test fold 4: {'mean': [568.4696044921875, 657.9330444335938, 407.3236083984375, 2875.39208984375, 1839.341796875, 1140.862060546875], 'n_bands': 6, 'n_chips': 325, 'n_timesteps': 3, 'std': [432.0650329589844, 358.1230163574219, 306.1858215332031, 1222.216552734375, 631.3671875, 546.195556640625]} over 3 timesteps.\n",
      "Loading mean/std stats from ../data/chips_stats.yaml\n",
      "Stats with selected test fold 4: {'mean': [568.4696044921875, 657.9330444335938, 407.3236083984375, 2875.39208984375, 1839.341796875, 1140.862060546875], 'n_bands': 6, 'n_chips': 325, 'n_timesteps': 3, 'std': [432.0650329589844, 358.1230163574219, 306.1858215332031, 1222.216552734375, 631.3671875, 546.195556640625]} over 3 timesteps.\n"
     ]
    }
   ],
   "source": [
    "folds = []\n",
    "for i in range(N_FOLDS):\n",
    "    data_module = GeospatialDataModule(data_dir='../data/',\n",
    "                                       train_folds=[0],\n",
    "                                       val_folds=[0],\n",
    "                                       test_folds=[0],\n",
    "                                       batch_size=12,\n",
    "                                       num_workers=1,\n",
    "                                       debug=True,\n",
    "                                       subsets=None)\n",
    "\n",
    "    data_module.setup()\n",
    "    folds.append(data_module.test_dataset)"
   ]
  },
  {
   "cell_type": "code",
   "execution_count": 5,
   "metadata": {},
   "outputs": [
    {
     "name": "stdout",
     "output_type": "stream",
     "text": [
      "Processing fold 0\n"
     ]
    },
    {
     "name": "stderr",
     "output_type": "stream",
     "text": [
      "100%|██████████| 71/71 [00:02<00:00, 25.67it/s]\n"
     ]
    },
    {
     "name": "stdout",
     "output_type": "stream",
     "text": [
      "Processing fold 1\n"
     ]
    },
    {
     "name": "stderr",
     "output_type": "stream",
     "text": [
      "100%|██████████| 81/81 [00:02<00:00, 35.97it/s]\n"
     ]
    },
    {
     "name": "stdout",
     "output_type": "stream",
     "text": [
      "Processing fold 2\n"
     ]
    },
    {
     "name": "stderr",
     "output_type": "stream",
     "text": [
      "100%|██████████| 88/88 [00:02<00:00, 38.54it/s]\n"
     ]
    },
    {
     "name": "stdout",
     "output_type": "stream",
     "text": [
      "Processing fold 3\n"
     ]
    },
    {
     "name": "stderr",
     "output_type": "stream",
     "text": [
      "100%|██████████| 85/85 [00:02<00:00, 37.58it/s]\n"
     ]
    },
    {
     "name": "stdout",
     "output_type": "stream",
     "text": [
      "Processing fold 4\n"
     ]
    },
    {
     "name": "stderr",
     "output_type": "stream",
     "text": [
      "100%|██████████| 78/78 [00:02<00:00, 38.02it/s]\n"
     ]
    }
   ],
   "source": [
    "pixels_by_tier_category_fold = [] # list for each fold: dict with tier as key: dict with category as key: pixel count as value\n",
    "for i in range(N_FOLDS):\n",
    "    print(f\"Processing fold {i}\")\n",
    "    pixels_by_tier_category = {\n",
    "        \"tier1\": {},\n",
    "        \"tier2\": {},\n",
    "        \"tier3\": {}\n",
    "    }\n",
    "    for batch in tqdm(folds[i]):\n",
    "        targets = batch[1][0]\n",
    "        for j, tier in enumerate(pixels_by_tier_category.keys()):\n",
    "            # get the unique values and their counts\n",
    "            unique, counts = targets[j].unique(return_counts=True)\n",
    "            # create a dictionary with the unique values and their counts\n",
    "            for clazz, count in zip(unique, counts):\n",
    "                if clazz.item() in pixels_by_tier_category[tier]:\n",
    "                    pixels_by_tier_category[tier][clazz.item()] += count.item()\n",
    "                else:\n",
    "                    pixels_by_tier_category[tier][clazz.item()] = count.item()\n",
    "            #unique_counts = {int(clazz): int(count) for clazz, count in zip(unique, counts)}\n",
    "            #print(unique_counts)\n",
    "            \n",
    "            # add the counts to the corresponding tier\n",
    "    pixels_by_tier_category_fold.append(pixels_by_tier_category)"
   ]
  },
  {
   "cell_type": "code",
   "execution_count": 6,
   "metadata": {},
   "outputs": [
    {
     "name": "stdout",
     "output_type": "stream",
     "text": [
      "len(pixels_by_tier_category_fold): 5\n",
      "len(pixels_by_tier_category_fold[0]): 3\n",
      "len(pixels_by_tier_category_fold[0]['tier1']): 5\n",
      "pixels_by_tier_category_fold[0]['tier1']: {0: 2436257, 1: 513042, 2: 581132, 4: 12989, 3: 19076}\n"
     ]
    }
   ],
   "source": [
    "print(f\"len(pixels_by_tier_category_fold): {len(pixels_by_tier_category_fold)}\")\n",
    "print(f\"len(pixels_by_tier_category_fold[0]): {len(pixels_by_tier_category_fold[0])}\")\n",
    "print(f\"len(pixels_by_tier_category_fold[0]['tier1']): {len(pixels_by_tier_category_fold[0]['tier1'])}\")\n",
    "print(f\"pixels_by_tier_category_fold[0]['tier1']: {pixels_by_tier_category_fold[0]['tier1']}\")"
   ]
  },
  {
   "cell_type": "code",
   "execution_count": 7,
   "metadata": {},
   "outputs": [
    {
     "data": {
      "text/plain": [
       "['Background',\n",
       " 'Grassland',\n",
       " 'Field crops',\n",
       " 'Orchards',\n",
       " 'Special crops',\n",
       " 'Forest']"
      ]
     },
     "execution_count": 7,
     "metadata": {},
     "output_type": "execute_result"
    }
   ],
   "source": [
    "import json\n",
    "dataset_info = json.load(open('../data/dataset_info.json'))\n",
    "\n",
    "dataset_info[\"tier1\"]"
   ]
  },
  {
   "cell_type": "code",
   "execution_count": 8,
   "metadata": {},
   "outputs": [
    {
     "data": {
      "image/png": "[encoded data removed]",
      "text/plain": [
       "<Figure size 1500x1500 with 3 Axes>"
      ]
     },
     "metadata": {},
     "output_type": "display_data"
    }
   ],
   "source": [
    "fig, axes = plt.subplots(nrows=3, ncols=1, figsize=(15, 15), sharex=False)\n",
    "fig.subplots_adjust(hspace=0.4)\n",
    "\n",
    "for ax, tier in zip(axes, [\"tier1\", \"tier2\", \"tier3\"]):\n",
    "    categories = set().union(*[pixels_by_tier_category_fold[i][tier].keys() for i in range(N_FOLDS)])\n",
    "    index = np.arange(len(categories))\n",
    "    bar_width = 0.15\n",
    "    counts_by_fold = []\n",
    "    for fold in range(N_FOLDS):\n",
    "        counts = [pixels_by_tier_category_fold[fold][tier].get(cat, 0) for cat in categories]\n",
    "        counts_by_fold.append(counts)\n",
    "    # aggregate counts by category\n",
    "    counts = np.sum(counts_by_fold, axis=0)\n",
    "    # order the categories and counts by counts\n",
    "    categories = [cat for _, cat in sorted(zip(counts, categories), key=lambda pair: pair[0], reverse=True)]\n",
    "    for fold in range(N_FOLDS):\n",
    "        counts = [pixels_by_tier_category_fold[fold][tier].get(cat, 0) for cat in categories]\n",
    "        ax.bar(index + fold * bar_width, counts, bar_width, label=f'Fold {fold+1}')\n",
    "    \n",
    "    ax.set_xlabel('Category')\n",
    "    ax.set_ylabel('Counts')\n",
    "    ax.set_yscale('log')\n",
    "    ax.set_title(f'Counts by Category for {tier}')\n",
    "    ax.set_xticks(index + bar_width * (N_FOLDS - 1) / 2)\n",
    "    labels = [dataset_info[tier][cat] for cat in categories]\n",
    "    ax.set_xticklabels(labels, rotation=90)\n",
    "    ax.legend()\n",
    "\n",
    "plt.tight_layout()\n",
    "plt.show()"
   ]
  },
  {
   "cell_type": "code",
   "execution_count": 9,
   "metadata": {},
   "outputs": [],
   "source": [
    "tier3_to_tier1 = dataset_info[\"tier3_to_tier1\"] # array where index is tier3 and value is tier1\n",
    "tier3_to_tier2 = dataset_info[\"tier3_to_tier2\"] # array where index is tier3 and value is tier2\n",
    "# create tier_2 to tier_1 mapping\n",
    "tier2_to_tier1 = [0] * (max(tier3_to_tier2) + 1)\n",
    "for tier3 in range(len(tier3_to_tier2)):\n",
    "    tier2 = tier3_to_tier2[tier3]\n",
    "    tier1 = tier3_to_tier1[tier3]\n",
    "    tier2_to_tier1[tier2] = tier1"
   ]
  },
  {
   "cell_type": "code",
   "execution_count": 10,
   "metadata": {},
   "outputs": [
    {
     "name": "stdout",
     "output_type": "stream",
     "text": [
      "[0, 1, 2, 3, 4, 5, 2, 5, 6, 5, 2, 5, 7, 2, 8, 9, 7, 5, 5, 2, 10, 2, 5, 2, 2, 11, 7, 12, 3, 2, 6, 7, 2, 13, 14, 5, 5, 6, 5, 2, 5, 5, 7, 5, 15, 5, 5, 16, 7]\n",
      "[0, 1, 2, 2, 1, 2, 2, 3, 4, 4, 4, 3, 2, 1, 5, 4, 4]\n"
     ]
    }
   ],
   "source": [
    "print(tier3_to_tier2) # array where index is tier3 and value is tier2\n",
    "print(tier2_to_tier1) # array where index is tier2 and value is tier1"
   ]
  },
  {
   "cell_type": "code",
   "execution_count": 11,
   "metadata": {},
   "outputs": [
    {
     "data": {
      "text/plain": [
       "{'tier1': {0: 12594269, 1: 4126969, 2: 3293443, 4: 76982, 3: 117167, 5: 12098},\n",
       " 'tier2': {0: 12594269,\n",
       "  1: 3534741,\n",
       "  2: 1348052,\n",
       "  3: 814544,\n",
       "  4: 588605,\n",
       "  5: 902939,\n",
       "  6: 221455,\n",
       "  9: 31624,\n",
       "  10: 15535,\n",
       "  8: 28958,\n",
       "  7: 106245,\n",
       "  13: 3623,\n",
       "  12: 6453,\n",
       "  11: 10922,\n",
       "  14: 12098,\n",
       "  15: 826,\n",
       "  16: 39},\n",
       " 'tier3': {0: 12594269,\n",
       "  1: 3534741,\n",
       "  2: 860292,\n",
       "  3: 809263,\n",
       "  4: 588605,\n",
       "  6: 280970,\n",
       "  7: 256323,\n",
       "  8: 213728,\n",
       "  9: 133742,\n",
       "  10: 92606,\n",
       "  11: 84493,\n",
       "  15: 31624,\n",
       "  20: 15535,\n",
       "  5: 346223,\n",
       "  13: 55410,\n",
       "  24: 10505,\n",
       "  14: 28958,\n",
       "  19: 16092,\n",
       "  21: 12296,\n",
       "  39: 1718,\n",
       "  16: 30524,\n",
       "  33: 3623,\n",
       "  12: 61821,\n",
       "  18: 25992,\n",
       "  23: 10213,\n",
       "  27: 6453,\n",
       "  28: 5281,\n",
       "  26: 6517,\n",
       "  32: 4367,\n",
       "  25: 10922,\n",
       "  31: 6221,\n",
       "  35: 3280,\n",
       "  36: 3678,\n",
       "  22: 12231,\n",
       "  17: 29585,\n",
       "  29: 3583,\n",
       "  41: 1756,\n",
       "  37: 1901,\n",
       "  30: 5826,\n",
       "  40: 1945,\n",
       "  43: 772,\n",
       "  45: 320,\n",
       "  38: 2351,\n",
       "  46: 248,\n",
       "  34: 12098,\n",
       "  44: 826,\n",
       "  48: 11,\n",
       "  47: 39,\n",
       "  42: 1151}}"
      ]
     },
     "execution_count": 11,
     "metadata": {},
     "output_type": "execute_result"
    }
   ],
   "source": [
    "# aggregate all folds of pixels_by_tier_category_fold\n",
    "pixels_by_tier_category = {\n",
    "    \"tier1\": {},\n",
    "    \"tier2\": {},\n",
    "    \"tier3\": {}\n",
    "}\n",
    "for tier in pixels_by_tier_category.keys():\n",
    "    for fold in range(N_FOLDS):\n",
    "        for clazz, count in pixels_by_tier_category_fold[fold][tier].items():\n",
    "            if clazz in pixels_by_tier_category[tier]:\n",
    "                pixels_by_tier_category[tier][clazz] += count\n",
    "            else:\n",
    "                pixels_by_tier_category[tier][clazz] = count\n",
    "\n",
    "pixels_by_tier_category # dict with each tier as key. The value is a dict again with the category as tier and the pixel count as value"
   ]
  },
  {
   "cell_type": "code",
   "execution_count": null,
   "metadata": {},
   "outputs": [],
   "source": []
  },
  {
   "cell_type": "code",
   "execution_count": 45,
   "metadata": {},
   "outputs": [
    {
     "data": {
      "application/vnd.plotly.v1+json": {
       "config": {
        "plotlyServerURL": "https://plot.ly"
       },
       "data": [
        {
         "link": {
          "source": [
           0,
           0,
           0,
           0,
           0,
           1,
           2,
           2,
           1,
           2,
           2,
           3,
           4,
           4,
           4,
           3,
           2,
           1,
           5,
           4,
           4,
           6,
           7,
           8,
           9,
           10,
           7,
           10,
           11,
           10,
           7,
           10,
           12,
           7,
           13,
           14,
           12,
           10,
           10,
           7,
           15,
           7,
           10,
           7,
           7,
           16,
           12,
           17,
           8,
           7,
           11,
           12,
           7,
           18,
           19,
           10,
           10,
           11,
           10,
           7,
           10,
           10,
           12,
           10,
           20,
           10,
           10,
           21,
           12
          ],
          "target": [
           1,
           2,
           3,
           4,
           5,
           6,
           7,
           8,
           9,
           10,
           11,
           12,
           13,
           14,
           15,
           16,
           17,
           18,
           19,
           20,
           21,
           22,
           23,
           24,
           25,
           26,
           27,
           28,
           29,
           30,
           31,
           32,
           33,
           34,
           35,
           36,
           37,
           38,
           39,
           40,
           41,
           42,
           43,
           44,
           45,
           46,
           47,
           48,
           49,
           50,
           51,
           52,
           53,
           54,
           55,
           56,
           57,
           58,
           59,
           60,
           61,
           62,
           63,
           64,
           65,
           66,
           67,
           68,
           69
          ],
          "value": [
           4126969,
           3293443,
           117167,
           76982,
           12098,
           3534741,
           1348052,
           814544,
           588605,
           902939,
           221455,
           106245,
           28958,
           31624,
           15535,
           10922,
           6453,
           3623,
           12098,
           826,
           39,
           3534741,
           860292,
           809263,
           588605,
           346223,
           280970,
           256323,
           213728,
           133742,
           92606,
           84493,
           61821,
           55410,
           28958,
           31624,
           30524,
           29585,
           25992,
           16092,
           15535,
           12296,
           12231,
           10213,
           10505,
           10922,
           6517,
           6453,
           5281,
           3583,
           5826,
           6221,
           4367,
           3623,
           12098,
           3280,
           3678,
           1901,
           2351,
           1718,
           1945,
           1756,
           1151,
           772,
           826,
           320,
           248,
           39,
           11
          ]
         },
         "node": {
          "label": [
           "Vegetation",
           "1 - Grassland",
           "1 - Field crops",
           "1 - Special crops",
           "1 - Orchards",
           "1 - Forest",
           "2 - Meadow",
           "2 - SmallGrainCereal",
           "2 - LargeGrainCereal",
           "2 - Pasture",
           "2 - BroadLeafRowCrop",
           "2 - VegetableCrop",
           "2 - Hedge",
           "2 - Berries",
           "2 - Fallow",
           "2 - OrchardCrop",
           "2 - BiodiversityArea",
           "2 - CropMix",
           "2 - TreeCrop",
           "2 - Forest",
           "2 - Multiple",
           "2 - Gardens",
           "3 - Meadow",
           "3 - WinterWheat",
           "3 - Maize",
           "3 - Pasture",
           "3 - WinterBarley",
           "3 - WinterRapeseed",
           "3 - Vegetables",
           "3 - Potatoes",
           "3 - Wheat",
           "3 - Sunflowers",
           "3 - Hedge",
           "3 - Berries",
           "3 - Sugar_beets",
           "3 - Spelt",
           "3 - Rye",
           "3 - Fallow",
           "3 - Oat",
           "3 - EinkornWheat",
           "3 - Buckwheat",
           "3 - Apples",
           "3 - Biodiversity encouragement area",
           "3 - Vines",
           "3 - Peas",
           "3 - SummerWheat",
           "3 - MixedCrop",
           "3 - Sorghum",
           "3 - StoneFruit",
           "3 - SummerBarley",
           "3 - TreeCrop",
           "3 - Pears",
           "3 - Linen",
           "3 - Legumes",
           "3 - Field bean",
           "3 - Soy",
           "3 - Grain",
           "3 - SummerRapeseed",
           "3 - Pumpkin",
           "3 - Chicory",
           "3 - Hemp",
           "3 - Beets",
           "3 - Lupine",
           "3 - Tobacco",
           "3 - Mustard",
           "3 - Forest",
           "3 - Multiple",
           "3 - Chestnut",
           "3 - Gardens",
           "3 - Hops"
          ],
          "line": {
           "color": "black",
           "width": 0.5
          },
          "pad": 15,
          "thickness": 20
         },
         "type": "sankey"
        }
       ],
       "layout": {
        "font": {
         "size": 12
        },
        "height": 750,
        "template": {
         "data": {
          "bar": [
           {
            "error_x": {
             "color": "#2a3f5f"
            },
            "error_y": {
             "color": "#2a3f5f"
            },
            "marker": {
             "line": {
              "color": "#E5ECF6",
              "width": 0.5
             },
             "pattern": {
              "fillmode": "overlay",
              "size": 10,
              "solidity": 0.2
             }
            },
            "type": "bar"
           }
          ],
          "barpolar": [
           {
            "marker": {
             "line": {
              "color": "#E5ECF6",
              "width": 0.5
             },
             "pattern": {
              "fillmode": "overlay",
              "size": 10,
              "solidity": 0.2
             }
            },
            "type": "barpolar"
           }
          ],
          "carpet": [
           {
            "aaxis": {
             "endlinecolor": "#2a3f5f",
             "gridcolor": "white",
             "linecolor": "white",
             "minorgridcolor": "white",
             "startlinecolor": "#2a3f5f"
            },
            "baxis": {
             "endlinecolor": "#2a3f5f",
             "gridcolor": "white",
             "linecolor": "white",
             "minorgridcolor": "white",
             "startlinecolor": "#2a3f5f"
            },
            "type": "carpet"
           }
          ],
          "choropleth": [
           {
            "colorbar": {
             "outlinewidth": 0,
             "ticks": ""
            },
            "type": "choropleth"
           }
          ],
          "contour": [
           {
            "colorbar": {
             "outlinewidth": 0,
             "ticks": ""
            },
            "colorscale": [
             [
              0,
              "#0d0887"
             ],
             [
              0.1111111111111111,
              "#46039f"
             ],
             [
              0.2222222222222222,
              "#7201a8"
             ],
             [
              0.3333333333333333,
              "#9c179e"
             ],
             [
              0.4444444444444444,
              "#bd3786"
             ],
             [
              0.5555555555555556,
              "#d8576b"
             ],
             [
              0.6666666666666666,
              "#ed7953"
             ],
             [
              0.7777777777777778,
              "#fb9f3a"
             ],
             [
              0.8888888888888888,
              "#fdca26"
             ],
             [
              1,
              "#f0f921"
             ]
            ],
            "type": "contour"
           }
          ],
          "contourcarpet": [
           {
            "colorbar": {
             "outlinewidth": 0,
             "ticks": ""
            },
            "type": "contourcarpet"
           }
          ],
          "heatmap": [
           {
            "colorbar": {
             "outlinewidth": 0,
             "ticks": ""
            },
            "colorscale": [
             [
              0,
              "#0d0887"
             ],
             [
              0.1111111111111111,
              "#46039f"
             ],
             [
              0.2222222222222222,
              "#7201a8"
             ],
             [
              0.3333333333333333,
              "#9c179e"
             ],
             [
              0.4444444444444444,
              "#bd3786"
             ],
             [
              0.5555555555555556,
              "#d8576b"
             ],
             [
              0.6666666666666666,
              "#ed7953"
             ],
             [
              0.7777777777777778,
              "#fb9f3a"
             ],
             [
              0.8888888888888888,
              "#fdca26"
             ],
             [
              1,
              "#f0f921"
             ]
            ],
            "type": "heatmap"
           }
          ],
          "heatmapgl": [
           {
            "colorbar": {
             "outlinewidth": 0,
             "ticks": ""
            },
            "colorscale": [
             [
              0,
              "#0d0887"
             ],
             [
              0.1111111111111111,
              "#46039f"
             ],
             [
              0.2222222222222222,
              "#7201a8"
             ],
             [
              0.3333333333333333,
              "#9c179e"
             ],
             [
              0.4444444444444444,
              "#bd3786"
             ],
             [
              0.5555555555555556,
              "#d8576b"
             ],
             [
              0.6666666666666666,
              "#ed7953"
             ],
             [
              0.7777777777777778,
              "#fb9f3a"
             ],
             [
              0.8888888888888888,
              "#fdca26"
             ],
             [
              1,
              "#f0f921"
             ]
            ],
            "type": "heatmapgl"
           }
          ],
          "histogram": [
           {
            "marker": {
             "pattern": {
              "fillmode": "overlay",
              "size": 10,
              "solidity": 0.2
             }
            },
            "type": "histogram"
           }
          ],
          "histogram2d": [
           {
            "colorbar": {
             "outlinewidth": 0,
             "ticks": ""
            },
            "colorscale": [
             [
              0,
              "#0d0887"
             ],
             [
              0.1111111111111111,
              "#46039f"
             ],
             [
              0.2222222222222222,
              "#7201a8"
             ],
             [
              0.3333333333333333,
              "#9c179e"
             ],
             [
              0.4444444444444444,
              "#bd3786"
             ],
             [
              0.5555555555555556,
              "#d8576b"
             ],
             [
              0.6666666666666666,
              "#ed7953"
             ],
             [
              0.7777777777777778,
              "#fb9f3a"
             ],
             [
              0.8888888888888888,
              "#fdca26"
             ],
             [
              1,
              "#f0f921"
             ]
            ],
            "type": "histogram2d"
           }
          ],
          "histogram2dcontour": [
           {
            "colorbar": {
             "outlinewidth": 0,
             "ticks": ""
            },
            "colorscale": [
             [
              0,
              "#0d0887"
             ],
             [
              0.1111111111111111,
              "#46039f"
             ],
             [
              0.2222222222222222,
              "#7201a8"
             ],
             [
              0.3333333333333333,
              "#9c179e"
             ],
             [
              0.4444444444444444,
              "#bd3786"
             ],
             [
              0.5555555555555556,
              "#d8576b"
             ],
             [
              0.6666666666666666,
              "#ed7953"
             ],
             [
              0.7777777777777778,
              "#fb9f3a"
             ],
             [
              0.8888888888888888,
              "#fdca26"
             ],
             [
              1,
              "#f0f921"
             ]
            ],
            "type": "histogram2dcontour"
           }
          ],
          "mesh3d": [
           {
            "colorbar": {
             "outlinewidth": 0,
             "ticks": ""
            },
            "type": "mesh3d"
           }
          ],
          "parcoords": [
           {
            "line": {
             "colorbar": {
              "outlinewidth": 0,
              "ticks": ""
             }
            },
            "type": "parcoords"
           }
          ],
          "pie": [
           {
            "automargin": true,
            "type": "pie"
           }
          ],
          "scatter": [
           {
            "fillpattern": {
             "fillmode": "overlay",
             "size": 10,
             "solidity": 0.2
            },
            "type": "scatter"
           }
          ],
          "scatter3d": [
           {
            "line": {
             "colorbar": {
              "outlinewidth": 0,
              "ticks": ""
             }
            },
            "marker": {
             "colorbar": {
              "outlinewidth": 0,
              "ticks": ""
             }
            },
            "type": "scatter3d"
           }
          ],
          "scattercarpet": [
           {
            "marker": {
             "colorbar": {
              "outlinewidth": 0,
              "ticks": ""
             }
            },
            "type": "scattercarpet"
           }
          ],
          "scattergeo": [
           {
            "marker": {
             "colorbar": {
              "outlinewidth": 0,
              "ticks": ""
             }
            },
            "type": "scattergeo"
           }
          ],
          "scattergl": [
           {
            "marker": {
             "colorbar": {
              "outlinewidth": 0,
              "ticks": ""
             }
            },
            "type": "scattergl"
           }
          ],
          "scattermapbox": [
           {
            "marker": {
             "colorbar": {
              "outlinewidth": 0,
              "ticks": ""
             }
            },
            "type": "scattermapbox"
           }
          ],
          "scatterpolar": [
           {
            "marker": {
             "colorbar": {
              "outlinewidth": 0,
              "ticks": ""
             }
            },
            "type": "scatterpolar"
           }
          ],
          "scatterpolargl": [
           {
            "marker": {
             "colorbar": {
              "outlinewidth": 0,
              "ticks": ""
             }
            },
            "type": "scatterpolargl"
           }
          ],
          "scatterternary": [
           {
            "marker": {
             "colorbar": {
              "outlinewidth": 0,
              "ticks": ""
             }
            },
            "type": "scatterternary"
           }
          ],
          "surface": [
           {
            "colorbar": {
             "outlinewidth": 0,
             "ticks": ""
            },
            "colorscale": [
             [
              0,
              "#0d0887"
             ],
             [
              0.1111111111111111,
              "#46039f"
             ],
             [
              0.2222222222222222,
              "#7201a8"
             ],
             [
              0.3333333333333333,
              "#9c179e"
             ],
             [
              0.4444444444444444,
              "#bd3786"
             ],
             [
              0.5555555555555556,
              "#d8576b"
             ],
             [
              0.6666666666666666,
              "#ed7953"
             ],
             [
              0.7777777777777778,
              "#fb9f3a"
             ],
             [
              0.8888888888888888,
              "#fdca26"
             ],
             [
              1,
              "#f0f921"
             ]
            ],
            "type": "surface"
           }
          ],
          "table": [
           {
            "cells": {
             "fill": {
              "color": "#EBF0F8"
             },
             "line": {
              "color": "white"
             }
            },
            "header": {
             "fill": {
              "color": "#C8D4E3"
             },
             "line": {
              "color": "white"
             }
            },
            "type": "table"
           }
          ]
         },
         "layout": {
          "annotationdefaults": {
           "arrowcolor": "#2a3f5f",
           "arrowhead": 0,
           "arrowwidth": 1
          },
          "autotypenumbers": "strict",
          "coloraxis": {
           "colorbar": {
            "outlinewidth": 0,
            "ticks": ""
           }
          },
          "colorscale": {
           "diverging": [
            [
             0,
             "#8e0152"
            ],
            [
             0.1,
             "#c51b7d"
            ],
            [
             0.2,
             "#de77ae"
            ],
            [
             0.3,
             "#f1b6da"
            ],
            [
             0.4,
             "#fde0ef"
            ],
            [
             0.5,
             "#f7f7f7"
            ],
            [
             0.6,
             "#e6f5d0"
            ],
            [
             0.7,
             "#b8e186"
            ],
            [
             0.8,
             "#7fbc41"
            ],
            [
             0.9,
             "#4d9221"
            ],
            [
             1,
             "#276419"
            ]
           ],
           "sequential": [
            [
             0,
             "#0d0887"
            ],
            [
             0.1111111111111111,
             "#46039f"
            ],
            [
             0.2222222222222222,
             "#7201a8"
            ],
            [
             0.3333333333333333,
             "#9c179e"
            ],
            [
             0.4444444444444444,
             "#bd3786"
            ],
            [
             0.5555555555555556,
             "#d8576b"
            ],
            [
             0.6666666666666666,
             "#ed7953"
            ],
            [
             0.7777777777777778,
             "#fb9f3a"
            ],
            [
             0.8888888888888888,
             "#fdca26"
            ],
            [
             1,
             "#f0f921"
            ]
           ],
           "sequentialminus": [
            [
             0,
             "#0d0887"
            ],
            [
             0.1111111111111111,
             "#46039f"
            ],
            [
             0.2222222222222222,
             "#7201a8"
            ],
            [
             0.3333333333333333,
             "#9c179e"
            ],
            [
             0.4444444444444444,
             "#bd3786"
            ],
            [
             0.5555555555555556,
             "#d8576b"
            ],
            [
             0.6666666666666666,
             "#ed7953"
            ],
            [
             0.7777777777777778,
             "#fb9f3a"
            ],
            [
             0.8888888888888888,
             "#fdca26"
            ],
            [
             1,
             "#f0f921"
            ]
           ]
          },
          "colorway": [
           "#636efa",
           "#EF553B",
           "#00cc96",
           "#ab63fa",
           "#FFA15A",
           "#19d3f3",
           "#FF6692",
           "#B6E880",
           "#FF97FF",
           "#FECB52"
          ],
          "font": {
           "color": "#2a3f5f"
          },
          "geo": {
           "bgcolor": "white",
           "lakecolor": "white",
           "landcolor": "#E5ECF6",
           "showlakes": true,
           "showland": true,
           "subunitcolor": "white"
          },
          "hoverlabel": {
           "align": "left"
          },
          "hovermode": "closest",
          "mapbox": {
           "style": "light"
          },
          "paper_bgcolor": "white",
          "plot_bgcolor": "#E5ECF6",
          "polar": {
           "angularaxis": {
            "gridcolor": "white",
            "linecolor": "white",
            "ticks": ""
           },
           "bgcolor": "#E5ECF6",
           "radialaxis": {
            "gridcolor": "white",
            "linecolor": "white",
            "ticks": ""
           }
          },
          "scene": {
           "xaxis": {
            "backgroundcolor": "#E5ECF6",
            "gridcolor": "white",
            "gridwidth": 2,
            "linecolor": "white",
            "showbackground": true,
            "ticks": "",
            "zerolinecolor": "white"
           },
           "yaxis": {
            "backgroundcolor": "#E5ECF6",
            "gridcolor": "white",
            "gridwidth": 2,
            "linecolor": "white",
            "showbackground": true,
            "ticks": "",
            "zerolinecolor": "white"
           },
           "zaxis": {
            "backgroundcolor": "#E5ECF6",
            "gridcolor": "white",
            "gridwidth": 2,
            "linecolor": "white",
            "showbackground": true,
            "ticks": "",
            "zerolinecolor": "white"
           }
          },
          "shapedefaults": {
           "line": {
            "color": "#2a3f5f"
           }
          },
          "ternary": {
           "aaxis": {
            "gridcolor": "white",
            "linecolor": "white",
            "ticks": ""
           },
           "baxis": {
            "gridcolor": "white",
            "linecolor": "white",
            "ticks": ""
           },
           "bgcolor": "#E5ECF6",
           "caxis": {
            "gridcolor": "white",
            "linecolor": "white",
            "ticks": ""
           }
          },
          "title": {
           "x": 0.05
          },
          "xaxis": {
           "automargin": true,
           "gridcolor": "white",
           "linecolor": "white",
           "ticks": "",
           "title": {
            "standoff": 15
           },
           "zerolinecolor": "white",
           "zerolinewidth": 2
          },
          "yaxis": {
           "automargin": true,
           "gridcolor": "white",
           "linecolor": "white",
           "ticks": "",
           "title": {
            "standoff": 15
           },
           "zerolinecolor": "white",
           "zerolinewidth": 2
          }
         }
        },
        "title": {
         "text": "<b>Original Label Hierarchy</b> (Bands represent number of pixels in dataset)"
        }
       }
      },
      "text/html": [
       "<div>                            <div id=\"4fb912a7-cf9b-454e-ad08-97c2fde52441\" class=\"plotly-graph-div\" style=\"height:750px; width:100%;\"></div>            <script type=\"text/javascript\">                require([\"plotly\"], function(Plotly) {                    window.PLOTLYENV=window.PLOTLYENV || {};                                    if (document.getElementById(\"4fb912a7-cf9b-454e-ad08-97c2fde52441\")) {                    Plotly.newPlot(                        \"4fb912a7-cf9b-454e-ad08-97c2fde52441\",                        [{\"link\":{\"source\":[0,0,0,0,0,1,2,2,1,2,2,3,4,4,4,3,2,1,5,4,4,6,7,8,9,10,7,10,11,10,7,10,12,7,13,14,12,10,10,7,15,7,10,7,7,16,12,17,8,7,11,12,7,18,19,10,10,11,10,7,10,10,12,10,20,10,10,21,12],\"target\":[1,2,3,4,5,6,7,8,9,10,11,12,13,14,15,16,17,18,19,20,21,22,23,24,25,26,27,28,29,30,31,32,33,34,35,36,37,38,39,40,41,42,43,44,45,46,47,48,49,50,51,52,53,54,55,56,57,58,59,60,61,62,63,64,65,66,67,68,69],\"value\":[4126969,3293443,117167,76982,12098,3534741,1348052,814544,588605,902939,221455,106245,28958,31624,15535,10922,6453,3623,12098,826,39,3534741,860292,809263,588605,346223,280970,256323,213728,133742,92606,84493,61821,55410,28958,31624,30524,29585,25992,16092,15535,12296,12231,10213,10505,10922,6517,6453,5281,3583,5826,6221,4367,3623,12098,3280,3678,1901,2351,1718,1945,1756,1151,772,826,320,248,39,11]},\"node\":{\"label\":[\"Vegetation\",\"1 - Grassland\",\"1 - Field crops\",\"1 - Special crops\",\"1 - Orchards\",\"1 - Forest\",\"2 - Meadow\",\"2 - SmallGrainCereal\",\"2 - LargeGrainCereal\",\"2 - Pasture\",\"2 - BroadLeafRowCrop\",\"2 - VegetableCrop\",\"2 - Hedge\",\"2 - Berries\",\"2 - Fallow\",\"2 - OrchardCrop\",\"2 - BiodiversityArea\",\"2 - CropMix\",\"2 - TreeCrop\",\"2 - Forest\",\"2 - Multiple\",\"2 - Gardens\",\"3 - Meadow\",\"3 - WinterWheat\",\"3 - Maize\",\"3 - Pasture\",\"3 - WinterBarley\",\"3 - WinterRapeseed\",\"3 - Vegetables\",\"3 - Potatoes\",\"3 - Wheat\",\"3 - Sunflowers\",\"3 - Hedge\",\"3 - Berries\",\"3 - Sugar_beets\",\"3 - Spelt\",\"3 - Rye\",\"3 - Fallow\",\"3 - Oat\",\"3 - EinkornWheat\",\"3 - Buckwheat\",\"3 - Apples\",\"3 - Biodiversity encouragement area\",\"3 - Vines\",\"3 - Peas\",\"3 - SummerWheat\",\"3 - MixedCrop\",\"3 - Sorghum\",\"3 - StoneFruit\",\"3 - SummerBarley\",\"3 - TreeCrop\",\"3 - Pears\",\"3 - Linen\",\"3 - Legumes\",\"3 - Field bean\",\"3 - Soy\",\"3 - Grain\",\"3 - SummerRapeseed\",\"3 - Pumpkin\",\"3 - Chicory\",\"3 - Hemp\",\"3 - Beets\",\"3 - Lupine\",\"3 - Tobacco\",\"3 - Mustard\",\"3 - Forest\",\"3 - Multiple\",\"3 - Chestnut\",\"3 - Gardens\",\"3 - Hops\"],\"line\":{\"color\":\"black\",\"width\":0.5},\"pad\":15,\"thickness\":20},\"type\":\"sankey\"}],                        {\"template\":{\"data\":{\"histogram2dcontour\":[{\"type\":\"histogram2dcontour\",\"colorbar\":{\"outlinewidth\":0,\"ticks\":\"\"},\"colorscale\":[[0.0,\"#0d0887\"],[0.1111111111111111,\"#46039f\"],[0.2222222222222222,\"#7201a8\"],[0.3333333333333333,\"#9c179e\"],[0.4444444444444444,\"#bd3786\"],[0.5555555555555556,\"#d8576b\"],[0.6666666666666666,\"#ed7953\"],[0.7777777777777778,\"#fb9f3a\"],[0.8888888888888888,\"#fdca26\"],[1.0,\"#f0f921\"]]}],\"choropleth\":[{\"type\":\"choropleth\",\"colorbar\":{\"outlinewidth\":0,\"ticks\":\"\"}}],\"histogram2d\":[{\"type\":\"histogram2d\",\"colorbar\":{\"outlinewidth\":0,\"ticks\":\"\"},\"colorscale\":[[0.0,\"#0d0887\"],[0.1111111111111111,\"#46039f\"],[0.2222222222222222,\"#7201a8\"],[0.3333333333333333,\"#9c179e\"],[0.4444444444444444,\"#bd3786\"],[0.5555555555555556,\"#d8576b\"],[0.6666666666666666,\"#ed7953\"],[0.7777777777777778,\"#fb9f3a\"],[0.8888888888888888,\"#fdca26\"],[1.0,\"#f0f921\"]]}],\"heatmap\":[{\"type\":\"heatmap\",\"colorbar\":{\"outlinewidth\":0,\"ticks\":\"\"},\"colorscale\":[[0.0,\"#0d0887\"],[0.1111111111111111,\"#46039f\"],[0.2222222222222222,\"#7201a8\"],[0.3333333333333333,\"#9c179e\"],[0.4444444444444444,\"#bd3786\"],[0.5555555555555556,\"#d8576b\"],[0.6666666666666666,\"#ed7953\"],[0.7777777777777778,\"#fb9f3a\"],[0.8888888888888888,\"#fdca26\"],[1.0,\"#f0f921\"]]}],\"heatmapgl\":[{\"type\":\"heatmapgl\",\"colorbar\":{\"outlinewidth\":0,\"ticks\":\"\"},\"colorscale\":[[0.0,\"#0d0887\"],[0.1111111111111111,\"#46039f\"],[0.2222222222222222,\"#7201a8\"],[0.3333333333333333,\"#9c179e\"],[0.4444444444444444,\"#bd3786\"],[0.5555555555555556,\"#d8576b\"],[0.6666666666666666,\"#ed7953\"],[0.7777777777777778,\"#fb9f3a\"],[0.8888888888888888,\"#fdca26\"],[1.0,\"#f0f921\"]]}],\"contourcarpet\":[{\"type\":\"contourcarpet\",\"colorbar\":{\"outlinewidth\":0,\"ticks\":\"\"}}],\"contour\":[{\"type\":\"contour\",\"colorbar\":{\"outlinewidth\":0,\"ticks\":\"\"},\"colorscale\":[[0.0,\"#0d0887\"],[0.1111111111111111,\"#46039f\"],[0.2222222222222222,\"#7201a8\"],[0.3333333333333333,\"#9c179e\"],[0.4444444444444444,\"#bd3786\"],[0.5555555555555556,\"#d8576b\"],[0.6666666666666666,\"#ed7953\"],[0.7777777777777778,\"#fb9f3a\"],[0.8888888888888888,\"#fdca26\"],[1.0,\"#f0f921\"]]}],\"surface\":[{\"type\":\"surface\",\"colorbar\":{\"outlinewidth\":0,\"ticks\":\"\"},\"colorscale\":[[0.0,\"#0d0887\"],[0.1111111111111111,\"#46039f\"],[0.2222222222222222,\"#7201a8\"],[0.3333333333333333,\"#9c179e\"],[0.4444444444444444,\"#bd3786\"],[0.5555555555555556,\"#d8576b\"],[0.6666666666666666,\"#ed7953\"],[0.7777777777777778,\"#fb9f3a\"],[0.8888888888888888,\"#fdca26\"],[1.0,\"#f0f921\"]]}],\"mesh3d\":[{\"type\":\"mesh3d\",\"colorbar\":{\"outlinewidth\":0,\"ticks\":\"\"}}],\"scatter\":[{\"fillpattern\":{\"fillmode\":\"overlay\",\"size\":10,\"solidity\":0.2},\"type\":\"scatter\"}],\"parcoords\":[{\"type\":\"parcoords\",\"line\":{\"colorbar\":{\"outlinewidth\":0,\"ticks\":\"\"}}}],\"scatterpolargl\":[{\"type\":\"scatterpolargl\",\"marker\":{\"colorbar\":{\"outlinewidth\":0,\"ticks\":\"\"}}}],\"bar\":[{\"error_x\":{\"color\":\"#2a3f5f\"},\"error_y\":{\"color\":\"#2a3f5f\"},\"marker\":{\"line\":{\"color\":\"#E5ECF6\",\"width\":0.5},\"pattern\":{\"fillmode\":\"overlay\",\"size\":10,\"solidity\":0.2}},\"type\":\"bar\"}],\"scattergeo\":[{\"type\":\"scattergeo\",\"marker\":{\"colorbar\":{\"outlinewidth\":0,\"ticks\":\"\"}}}],\"scatterpolar\":[{\"type\":\"scatterpolar\",\"marker\":{\"colorbar\":{\"outlinewidth\":0,\"ticks\":\"\"}}}],\"histogram\":[{\"marker\":{\"pattern\":{\"fillmode\":\"overlay\",\"size\":10,\"solidity\":0.2}},\"type\":\"histogram\"}],\"scattergl\":[{\"type\":\"scattergl\",\"marker\":{\"colorbar\":{\"outlinewidth\":0,\"ticks\":\"\"}}}],\"scatter3d\":[{\"type\":\"scatter3d\",\"line\":{\"colorbar\":{\"outlinewidth\":0,\"ticks\":\"\"}},\"marker\":{\"colorbar\":{\"outlinewidth\":0,\"ticks\":\"\"}}}],\"scattermapbox\":[{\"type\":\"scattermapbox\",\"marker\":{\"colorbar\":{\"outlinewidth\":0,\"ticks\":\"\"}}}],\"scatterternary\":[{\"type\":\"scatterternary\",\"marker\":{\"colorbar\":{\"outlinewidth\":0,\"ticks\":\"\"}}}],\"scattercarpet\":[{\"type\":\"scattercarpet\",\"marker\":{\"colorbar\":{\"outlinewidth\":0,\"ticks\":\"\"}}}],\"carpet\":[{\"aaxis\":{\"endlinecolor\":\"#2a3f5f\",\"gridcolor\":\"white\",\"linecolor\":\"white\",\"minorgridcolor\":\"white\",\"startlinecolor\":\"#2a3f5f\"},\"baxis\":{\"endlinecolor\":\"#2a3f5f\",\"gridcolor\":\"white\",\"linecolor\":\"white\",\"minorgridcolor\":\"white\",\"startlinecolor\":\"#2a3f5f\"},\"type\":\"carpet\"}],\"table\":[{\"cells\":{\"fill\":{\"color\":\"#EBF0F8\"},\"line\":{\"color\":\"white\"}},\"header\":{\"fill\":{\"color\":\"#C8D4E3\"},\"line\":{\"color\":\"white\"}},\"type\":\"table\"}],\"barpolar\":[{\"marker\":{\"line\":{\"color\":\"#E5ECF6\",\"width\":0.5},\"pattern\":{\"fillmode\":\"overlay\",\"size\":10,\"solidity\":0.2}},\"type\":\"barpolar\"}],\"pie\":[{\"automargin\":true,\"type\":\"pie\"}]},\"layout\":{\"autotypenumbers\":\"strict\",\"colorway\":[\"#636efa\",\"#EF553B\",\"#00cc96\",\"#ab63fa\",\"#FFA15A\",\"#19d3f3\",\"#FF6692\",\"#B6E880\",\"#FF97FF\",\"#FECB52\"],\"font\":{\"color\":\"#2a3f5f\"},\"hovermode\":\"closest\",\"hoverlabel\":{\"align\":\"left\"},\"paper_bgcolor\":\"white\",\"plot_bgcolor\":\"#E5ECF6\",\"polar\":{\"bgcolor\":\"#E5ECF6\",\"angularaxis\":{\"gridcolor\":\"white\",\"linecolor\":\"white\",\"ticks\":\"\"},\"radialaxis\":{\"gridcolor\":\"white\",\"linecolor\":\"white\",\"ticks\":\"\"}},\"ternary\":{\"bgcolor\":\"#E5ECF6\",\"aaxis\":{\"gridcolor\":\"white\",\"linecolor\":\"white\",\"ticks\":\"\"},\"baxis\":{\"gridcolor\":\"white\",\"linecolor\":\"white\",\"ticks\":\"\"},\"caxis\":{\"gridcolor\":\"white\",\"linecolor\":\"white\",\"ticks\":\"\"}},\"coloraxis\":{\"colorbar\":{\"outlinewidth\":0,\"ticks\":\"\"}},\"colorscale\":{\"sequential\":[[0.0,\"#0d0887\"],[0.1111111111111111,\"#46039f\"],[0.2222222222222222,\"#7201a8\"],[0.3333333333333333,\"#9c179e\"],[0.4444444444444444,\"#bd3786\"],[0.5555555555555556,\"#d8576b\"],[0.6666666666666666,\"#ed7953\"],[0.7777777777777778,\"#fb9f3a\"],[0.8888888888888888,\"#fdca26\"],[1.0,\"#f0f921\"]],\"sequentialminus\":[[0.0,\"#0d0887\"],[0.1111111111111111,\"#46039f\"],[0.2222222222222222,\"#7201a8\"],[0.3333333333333333,\"#9c179e\"],[0.4444444444444444,\"#bd3786\"],[0.5555555555555556,\"#d8576b\"],[0.6666666666666666,\"#ed7953\"],[0.7777777777777778,\"#fb9f3a\"],[0.8888888888888888,\"#fdca26\"],[1.0,\"#f0f921\"]],\"diverging\":[[0,\"#8e0152\"],[0.1,\"#c51b7d\"],[0.2,\"#de77ae\"],[0.3,\"#f1b6da\"],[0.4,\"#fde0ef\"],[0.5,\"#f7f7f7\"],[0.6,\"#e6f5d0\"],[0.7,\"#b8e186\"],[0.8,\"#7fbc41\"],[0.9,\"#4d9221\"],[1,\"#276419\"]]},\"xaxis\":{\"gridcolor\":\"white\",\"linecolor\":\"white\",\"ticks\":\"\",\"title\":{\"standoff\":15},\"zerolinecolor\":\"white\",\"automargin\":true,\"zerolinewidth\":2},\"yaxis\":{\"gridcolor\":\"white\",\"linecolor\":\"white\",\"ticks\":\"\",\"title\":{\"standoff\":15},\"zerolinecolor\":\"white\",\"automargin\":true,\"zerolinewidth\":2},\"scene\":{\"xaxis\":{\"backgroundcolor\":\"#E5ECF6\",\"gridcolor\":\"white\",\"linecolor\":\"white\",\"showbackground\":true,\"ticks\":\"\",\"zerolinecolor\":\"white\",\"gridwidth\":2},\"yaxis\":{\"backgroundcolor\":\"#E5ECF6\",\"gridcolor\":\"white\",\"linecolor\":\"white\",\"showbackground\":true,\"ticks\":\"\",\"zerolinecolor\":\"white\",\"gridwidth\":2},\"zaxis\":{\"backgroundcolor\":\"#E5ECF6\",\"gridcolor\":\"white\",\"linecolor\":\"white\",\"showbackground\":true,\"ticks\":\"\",\"zerolinecolor\":\"white\",\"gridwidth\":2}},\"shapedefaults\":{\"line\":{\"color\":\"#2a3f5f\"}},\"annotationdefaults\":{\"arrowcolor\":\"#2a3f5f\",\"arrowhead\":0,\"arrowwidth\":1},\"geo\":{\"bgcolor\":\"white\",\"landcolor\":\"#E5ECF6\",\"subunitcolor\":\"white\",\"showland\":true,\"showlakes\":true,\"lakecolor\":\"white\"},\"title\":{\"x\":0.05},\"mapbox\":{\"style\":\"light\"}}},\"title\":{\"text\":\"\\u003cb\\u003eOriginal Label Hierarchy\\u003c\\u002fb\\u003e (Bands represent number of pixels in dataset)\"},\"font\":{\"size\":12},\"height\":750},                        {\"responsive\": true}                    ).then(function(){\n",
       "                            \n",
       "var gd = document.getElementById('4fb912a7-cf9b-454e-ad08-97c2fde52441');\n",
       "var x = new MutationObserver(function (mutations, observer) {{\n",
       "        var display = window.getComputedStyle(gd).display;\n",
       "        if (!display || display === 'none') {{\n",
       "            console.log([gd, 'removed!']);\n",
       "            Plotly.purge(gd);\n",
       "            observer.disconnect();\n",
       "        }}\n",
       "}});\n",
       "\n",
       "// Listen for the removal of the full notebook cells\n",
       "var notebookContainer = gd.closest('#notebook-container');\n",
       "if (notebookContainer) {{\n",
       "    x.observe(notebookContainer, {childList: true});\n",
       "}}\n",
       "\n",
       "// Listen for the clearing of the current output cell\n",
       "var outputEl = gd.closest('.output');\n",
       "if (outputEl) {{\n",
       "    x.observe(outputEl, {childList: true});\n",
       "}}\n",
       "\n",
       "                        })                };                });            </script>        </div>"
      ]
     },
     "metadata": {},
     "output_type": "display_data"
    }
   ],
   "source": [
    "# Prepare data for Sankey diagram\n",
    "node_labels = [\"Vegetation\"]\n",
    "\n",
    "# Create labels for tier 1 nodes\n",
    "tier1_labels = [f\"1 - {dataset_info['tier1'][i]}\" for i in list(pixels_by_tier_category['tier1'].keys()) if i != 0]\n",
    "node_labels.extend(tier1_labels)\n",
    "\n",
    "# Create labels for tier 2 nodes\n",
    "tier2_labels = [f\"2 - {dataset_info['tier2'][i]}\" for i in list(pixels_by_tier_category['tier2'].keys()) if i != 0]\n",
    "node_labels.extend(tier2_labels)\n",
    "\n",
    "# Create labels for tier 3 nodes\n",
    "tier3_labels = [f\"3 - {dataset_info['tier3'][i]}\" for i in list(pixels_by_tier_category['tier3'].keys()) if i != 0]\n",
    "node_labels.extend(tier3_labels)\n",
    "\n",
    "# Create source and target lists based on the provided relationships\n",
    "sources = []\n",
    "targets = []\n",
    "values = []\n",
    "\n",
    "# Tier1 to Vegetation links\n",
    "for i, t1_index in enumerate(tier1_labels):\n",
    "\n",
    "    sources.append(0)  # Index of Vegetation node\n",
    "    targets.append(i+1)  # Adjust index for tier 1 node\n",
    "    values.append(pixels_by_tier_category['tier1'][i+1])\n",
    "\n",
    "\n",
    "# Tier2 to Tier1 links\n",
    "for i, t1_index in enumerate(tier2_to_tier1):\n",
    "    if i == 0:\n",
    "        continue\n",
    "    targets.append(len(tier1_labels) + i)  # Adjust index for tier 2 node\n",
    "    sources.append(t1_index)  # Adjust index for tier 1 node\n",
    "    values.append(pixels_by_tier_category['tier2'][i])\n",
    "\n",
    "# Tier3 to Tier2 links\n",
    "for i, t2_index in enumerate(tier3_to_tier2):\n",
    "    if i == 0:\n",
    "        continue\n",
    "    targets.append(len(tier1_labels) + len(tier2_labels) + i)  # Index of tier 3 node\n",
    "    sources.append(len(tier1_labels) + t2_index)  # Adjust index for tier 2 node\n",
    "    values.append(pixels_by_tier_category['tier3'][i])\n",
    "\n",
    "# Create the Sankey diagram using Plotly\n",
    "fig = go.Figure(data=[go.Sankey(\n",
    "    node=dict(\n",
    "        pad=15,\n",
    "        thickness=20,\n",
    "        line=dict(color=\"black\", width=0.5),\n",
    "        label=node_labels\n",
    "    ),\n",
    "    link=dict(\n",
    "        source=sources,\n",
    "        target=targets,\n",
    "        value=values\n",
    "    )\n",
    ")])\n",
    "\n",
    "fig.update_layout(title_text=\"<b>Original Label Hierarchy</b> (Bands represent number of pixels in dataset)\", font_size=12, height=750)\n",
    "fig.show()"
   ]
  }
 ],
 "metadata": {
  "kernelspec": {
   "display_name": "messis-bV8Bs8aq-py3.12",
   "language": "python",
   "name": "python3"
  },
  "language_info": {
   "codemirror_mode": {
    "name": "ipython",
    "version": 3
   },
   "file_extension": ".py",
   "mimetype": "text/x-python",
   "name": "python",
   "nbconvert_exporter": "python",
   "pygments_lexer": "ipython3",
   "version": "3.11.5"
  }
 },
 "nbformat": 4,
 "nbformat_minor": 2
}
