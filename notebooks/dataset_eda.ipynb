{
 "cells": [
  {
   "cell_type": "code",
   "execution_count": 1,
   "metadata": {},
   "outputs": [],
   "source": [
    "import sys\n",
    "sys.path.append('..')"
   ]
  },
  {
   "cell_type": "code",
   "execution_count": 2,
   "metadata": {},
   "outputs": [],
   "source": [
    "import matplotlib.pyplot as plt\n",
    "import numpy as np\n",
    "from tqdm import tqdm\n",
    "import pandas as pd\n",
    "import dvc.api\n",
    "import plotly.graph_objects as go\n",
    "\n",
    "from messis.dataloader import GeospatialDataModule\n",
    "\n",
    "\n",
    "params = dvc.api.params_show()"
   ]
  },
  {
   "cell_type": "code",
   "execution_count": 3,
   "metadata": {},
   "outputs": [],
   "source": [
    "N_FOLDS = params['number_of_folds']"
   ]
  },
  {
   "cell_type": "code",
   "execution_count": 4,
   "metadata": {},
   "outputs": [
    {
     "name": "stdout",
     "output_type": "stream",
     "text": [
      "Loading mean/std stats from ../data/chips_stats.yaml\n",
      "Stats with selected test fold 2: {'mean': [572.4683837890625, 663.721435546875, 407.0479736328125, 2935.550537109375, 1865.159912109375, 1150.044189453125], 'n_chips': 64, 'std': [453.3605651855469, 381.85382080078125, 336.5753173828125, 1210.484619140625, 607.604736328125, 537.4317016601562]} over 3 timesteps.\n",
      "Stats with selected test fold 3: {'mean': [554.2301635742188, 647.955810546875, 398.4623718261719, 2909.450439453125, 1833.9744873046875, 1123.042724609375], 'n_chips': 65, 'std': [434.043701171875, 364.7053527832031, 315.0477600097656, 1225.612548828125, 623.7035522460938, 542.4146118164062]} over 3 timesteps.\n",
      "Stats with selected test fold 4: {'mean': [547.9720458984375, 640.2798461914062, 388.6891174316406, 2924.74267578125, 1834.8031005859375, 1115.7200927734375], 'n_chips': 64, 'std': [431.0596008300781, 362.87005615234375, 313.2290344238281, 1194.724853515625, 598.9481201171875, 524.8873291015625]} over 3 timesteps.\n",
      "Stats with selected test fold 5: {'mean': [553.183349609375, 650.1934814453125, 398.9056091308594, 2879.6572265625, 1819.6805419921875, 1115.7877197265625], 'n_chips': 64, 'std': [443.12451171875, 372.4100341796875, 321.442138671875, 1272.115478515625, 676.3982543945312, 560.1410522460938]} over 3 timesteps.\n",
      "Loading mean/std stats from ../data/chips_stats.yaml\n",
      "Stats with selected test fold 1: {'mean': [572.4146118164062, 663.8175659179688, 411.6007385253906, 2889.66943359375, 1843.100830078125, 1142.6947021484375], 'n_chips': 65, 'std': [441.6033935546875, 372.7298889160156, 329.37664794921875, 1237.884521484375, 633.3629760742188, 539.60498046875]} over 3 timesteps.\n",
      "Loading mean/std stats from ../data/chips_stats.yaml\n",
      "Stats with selected test fold 0: {'mean': [564.156494140625, 657.4617309570312, 403.79315185546875, 2909.039794921875, 1848.6798095703125, 1142.0538330078125], 'n_chips': 65, 'std': [428.5469665527344, 355.79986572265625, 305.1138000488281, 1254.1343994140625, 643.1542358398438, 546.3461303710938]} over 3 timesteps.\n",
      "Loading mean/std stats from ../data/chips_stats.yaml\n",
      "Stats with selected test fold 0: {'mean': [564.156494140625, 657.4617309570312, 403.79315185546875, 2909.039794921875, 1848.6798095703125, 1142.0538330078125], 'n_chips': 65, 'std': [428.5469665527344, 355.79986572265625, 305.1138000488281, 1254.1343994140625, 643.1542358398438, 546.3461303710938]} over 3 timesteps.\n",
      "Stats with selected test fold 3: {'mean': [554.2301635742188, 647.955810546875, 398.4623718261719, 2909.450439453125, 1833.9744873046875, 1123.042724609375], 'n_chips': 65, 'std': [434.043701171875, 364.7053527832031, 315.0477600097656, 1225.612548828125, 623.7035522460938, 542.4146118164062]} over 3 timesteps.\n",
      "Stats with selected test fold 4: {'mean': [547.9720458984375, 640.2798461914062, 388.6891174316406, 2924.74267578125, 1834.8031005859375, 1115.7200927734375], 'n_chips': 64, 'std': [431.0596008300781, 362.87005615234375, 313.2290344238281, 1194.724853515625, 598.9481201171875, 524.8873291015625]} over 3 timesteps.\n",
      "Stats with selected test fold 5: {'mean': [553.183349609375, 650.1934814453125, 398.9056091308594, 2879.6572265625, 1819.6805419921875, 1115.7877197265625], 'n_chips': 64, 'std': [443.12451171875, 372.4100341796875, 321.442138671875, 1272.115478515625, 676.3982543945312, 560.1410522460938]} over 3 timesteps.\n",
      "Loading mean/std stats from ../data/chips_stats.yaml\n",
      "Stats with selected test fold 2: {'mean': [572.4683837890625, 663.721435546875, 407.0479736328125, 2935.550537109375, 1865.159912109375, 1150.044189453125], 'n_chips': 64, 'std': [453.3605651855469, 381.85382080078125, 336.5753173828125, 1210.484619140625, 607.604736328125, 537.4317016601562]} over 3 timesteps.\n",
      "Loading mean/std stats from ../data/chips_stats.yaml\n",
      "Stats with selected test fold 1: {'mean': [572.4146118164062, 663.8175659179688, 411.6007385253906, 2889.66943359375, 1843.100830078125, 1142.6947021484375], 'n_chips': 65, 'std': [441.6033935546875, 372.7298889160156, 329.37664794921875, 1237.884521484375, 633.3629760742188, 539.60498046875]} over 3 timesteps.\n",
      "Loading mean/std stats from ../data/chips_stats.yaml\n",
      "Stats with selected test fold 0: {'mean': [564.156494140625, 657.4617309570312, 403.79315185546875, 2909.039794921875, 1848.6798095703125, 1142.0538330078125], 'n_chips': 65, 'std': [428.5469665527344, 355.79986572265625, 305.1138000488281, 1254.1343994140625, 643.1542358398438, 546.3461303710938]} over 3 timesteps.\n",
      "Stats with selected test fold 1: {'mean': [572.4146118164062, 663.8175659179688, 411.6007385253906, 2889.66943359375, 1843.100830078125, 1142.6947021484375], 'n_chips': 65, 'std': [441.6033935546875, 372.7298889160156, 329.37664794921875, 1237.884521484375, 633.3629760742188, 539.60498046875]} over 3 timesteps.\n",
      "Stats with selected test fold 4: {'mean': [547.9720458984375, 640.2798461914062, 388.6891174316406, 2924.74267578125, 1834.8031005859375, 1115.7200927734375], 'n_chips': 64, 'std': [431.0596008300781, 362.87005615234375, 313.2290344238281, 1194.724853515625, 598.9481201171875, 524.8873291015625]} over 3 timesteps.\n",
      "Stats with selected test fold 5: {'mean': [553.183349609375, 650.1934814453125, 398.9056091308594, 2879.6572265625, 1819.6805419921875, 1115.7877197265625], 'n_chips': 64, 'std': [443.12451171875, 372.4100341796875, 321.442138671875, 1272.115478515625, 676.3982543945312, 560.1410522460938]} over 3 timesteps.\n",
      "Loading mean/std stats from ../data/chips_stats.yaml\n",
      "Stats with selected test fold 3: {'mean': [554.2301635742188, 647.955810546875, 398.4623718261719, 2909.450439453125, 1833.9744873046875, 1123.042724609375], 'n_chips': 65, 'std': [434.043701171875, 364.7053527832031, 315.0477600097656, 1225.612548828125, 623.7035522460938, 542.4146118164062]} over 3 timesteps.\n",
      "Loading mean/std stats from ../data/chips_stats.yaml\n",
      "Stats with selected test fold 2: {'mean': [572.4683837890625, 663.721435546875, 407.0479736328125, 2935.550537109375, 1865.159912109375, 1150.044189453125], 'n_chips': 64, 'std': [453.3605651855469, 381.85382080078125, 336.5753173828125, 1210.484619140625, 607.604736328125, 537.4317016601562]} over 3 timesteps.\n",
      "Loading mean/std stats from ../data/chips_stats.yaml\n",
      "Stats with selected test fold 0: {'mean': [564.156494140625, 657.4617309570312, 403.79315185546875, 2909.039794921875, 1848.6798095703125, 1142.0538330078125], 'n_chips': 65, 'std': [428.5469665527344, 355.79986572265625, 305.1138000488281, 1254.1343994140625, 643.1542358398438, 546.3461303710938]} over 3 timesteps.\n",
      "Stats with selected test fold 1: {'mean': [572.4146118164062, 663.8175659179688, 411.6007385253906, 2889.66943359375, 1843.100830078125, 1142.6947021484375], 'n_chips': 65, 'std': [441.6033935546875, 372.7298889160156, 329.37664794921875, 1237.884521484375, 633.3629760742188, 539.60498046875]} over 3 timesteps.\n",
      "Stats with selected test fold 2: {'mean': [572.4683837890625, 663.721435546875, 407.0479736328125, 2935.550537109375, 1865.159912109375, 1150.044189453125], 'n_chips': 64, 'std': [453.3605651855469, 381.85382080078125, 336.5753173828125, 1210.484619140625, 607.604736328125, 537.4317016601562]} over 3 timesteps.\n",
      "Stats with selected test fold 5: {'mean': [553.183349609375, 650.1934814453125, 398.9056091308594, 2879.6572265625, 1819.6805419921875, 1115.7877197265625], 'n_chips': 64, 'std': [443.12451171875, 372.4100341796875, 321.442138671875, 1272.115478515625, 676.3982543945312, 560.1410522460938]} over 3 timesteps.\n",
      "Loading mean/std stats from ../data/chips_stats.yaml\n",
      "Stats with selected test fold 4: {'mean': [547.9720458984375, 640.2798461914062, 388.6891174316406, 2924.74267578125, 1834.8031005859375, 1115.7200927734375], 'n_chips': 64, 'std': [431.0596008300781, 362.87005615234375, 313.2290344238281, 1194.724853515625, 598.9481201171875, 524.8873291015625]} over 3 timesteps.\n",
      "Loading mean/std stats from ../data/chips_stats.yaml\n",
      "Stats with selected test fold 3: {'mean': [554.2301635742188, 647.955810546875, 398.4623718261719, 2909.450439453125, 1833.9744873046875, 1123.042724609375], 'n_chips': 65, 'std': [434.043701171875, 364.7053527832031, 315.0477600097656, 1225.612548828125, 623.7035522460938, 542.4146118164062]} over 3 timesteps.\n",
      "Loading mean/std stats from ../data/chips_stats.yaml\n",
      "Stats with selected test fold 0: {'mean': [564.156494140625, 657.4617309570312, 403.79315185546875, 2909.039794921875, 1848.6798095703125, 1142.0538330078125], 'n_chips': 65, 'std': [428.5469665527344, 355.79986572265625, 305.1138000488281, 1254.1343994140625, 643.1542358398438, 546.3461303710938]} over 3 timesteps.\n",
      "Stats with selected test fold 1: {'mean': [572.4146118164062, 663.8175659179688, 411.6007385253906, 2889.66943359375, 1843.100830078125, 1142.6947021484375], 'n_chips': 65, 'std': [441.6033935546875, 372.7298889160156, 329.37664794921875, 1237.884521484375, 633.3629760742188, 539.60498046875]} over 3 timesteps.\n",
      "Stats with selected test fold 2: {'mean': [572.4683837890625, 663.721435546875, 407.0479736328125, 2935.550537109375, 1865.159912109375, 1150.044189453125], 'n_chips': 64, 'std': [453.3605651855469, 381.85382080078125, 336.5753173828125, 1210.484619140625, 607.604736328125, 537.4317016601562]} over 3 timesteps.\n",
      "Stats with selected test fold 3: {'mean': [554.2301635742188, 647.955810546875, 398.4623718261719, 2909.450439453125, 1833.9744873046875, 1123.042724609375], 'n_chips': 65, 'std': [434.043701171875, 364.7053527832031, 315.0477600097656, 1225.612548828125, 623.7035522460938, 542.4146118164062]} over 3 timesteps.\n",
      "Loading mean/std stats from ../data/chips_stats.yaml\n",
      "Stats with selected test fold 5: {'mean': [553.183349609375, 650.1934814453125, 398.9056091308594, 2879.6572265625, 1819.6805419921875, 1115.7877197265625], 'n_chips': 64, 'std': [443.12451171875, 372.4100341796875, 321.442138671875, 1272.115478515625, 676.3982543945312, 560.1410522460938]} over 3 timesteps.\n",
      "Loading mean/std stats from ../data/chips_stats.yaml\n",
      "Stats with selected test fold 4: {'mean': [547.9720458984375, 640.2798461914062, 388.6891174316406, 2924.74267578125, 1834.8031005859375, 1115.7200927734375], 'n_chips': 64, 'std': [431.0596008300781, 362.87005615234375, 313.2290344238281, 1194.724853515625, 598.9481201171875, 524.8873291015625]} over 3 timesteps.\n",
      "Loading mean/std stats from ../data/chips_stats.yaml\n",
      "Stats with selected test fold 1: {'mean': [572.4146118164062, 663.8175659179688, 411.6007385253906, 2889.66943359375, 1843.100830078125, 1142.6947021484375], 'n_chips': 65, 'std': [441.6033935546875, 372.7298889160156, 329.37664794921875, 1237.884521484375, 633.3629760742188, 539.60498046875]} over 3 timesteps.\n",
      "Stats with selected test fold 2: {'mean': [572.4683837890625, 663.721435546875, 407.0479736328125, 2935.550537109375, 1865.159912109375, 1150.044189453125], 'n_chips': 64, 'std': [453.3605651855469, 381.85382080078125, 336.5753173828125, 1210.484619140625, 607.604736328125, 537.4317016601562]} over 3 timesteps.\n",
      "Stats with selected test fold 3: {'mean': [554.2301635742188, 647.955810546875, 398.4623718261719, 2909.450439453125, 1833.9744873046875, 1123.042724609375], 'n_chips': 65, 'std': [434.043701171875, 364.7053527832031, 315.0477600097656, 1225.612548828125, 623.7035522460938, 542.4146118164062]} over 3 timesteps.\n",
      "Stats with selected test fold 4: {'mean': [547.9720458984375, 640.2798461914062, 388.6891174316406, 2924.74267578125, 1834.8031005859375, 1115.7200927734375], 'n_chips': 64, 'std': [431.0596008300781, 362.87005615234375, 313.2290344238281, 1194.724853515625, 598.9481201171875, 524.8873291015625]} over 3 timesteps.\n",
      "Loading mean/std stats from ../data/chips_stats.yaml\n",
      "Stats with selected test fold 0: {'mean': [564.156494140625, 657.4617309570312, 403.79315185546875, 2909.039794921875, 1848.6798095703125, 1142.0538330078125], 'n_chips': 65, 'std': [428.5469665527344, 355.79986572265625, 305.1138000488281, 1254.1343994140625, 643.1542358398438, 546.3461303710938]} over 3 timesteps.\n",
      "Loading mean/std stats from ../data/chips_stats.yaml\n",
      "Stats with selected test fold 5: {'mean': [553.183349609375, 650.1934814453125, 398.9056091308594, 2879.6572265625, 1819.6805419921875, 1115.7877197265625], 'n_chips': 64, 'std': [443.12451171875, 372.4100341796875, 321.442138671875, 1272.115478515625, 676.3982543945312, 560.1410522460938]} over 3 timesteps.\n"
     ]
    }
   ],
   "source": [
    "folds = []\n",
    "for i in range(N_FOLDS):\n",
    "    val_fold = (i + 1) % N_FOLDS\n",
    "\n",
    "    data_module = GeospatialDataModule(data_dir='../data/',\n",
    "                                       train_folds=list(set(range(N_FOLDS)) - {i, val_fold}),\n",
    "                                       val_folds=[val_fold],\n",
    "                                       test_folds=[i],\n",
    "                                       batch_size=12,\n",
    "                                       num_workers=1,\n",
    "                                       debug=True,\n",
    "                                       subsets=None)\n",
    "\n",
    "    data_module.setup()\n",
    "    folds.append(data_module.test_dataset)"
   ]
  },
  {
   "cell_type": "code",
   "execution_count": 5,
   "metadata": {},
   "outputs": [
    {
     "name": "stdout",
     "output_type": "stream",
     "text": [
      "Processing fold 0\n"
     ]
    },
    {
     "name": "stderr",
     "output_type": "stream",
     "text": [
      "100%|██████████| 65/65 [00:03<00:00, 17.38it/s]\n"
     ]
    },
    {
     "name": "stdout",
     "output_type": "stream",
     "text": [
      "Processing fold 1\n"
     ]
    },
    {
     "name": "stderr",
     "output_type": "stream",
     "text": [
      "100%|██████████| 65/65 [00:03<00:00, 16.30it/s]\n"
     ]
    },
    {
     "name": "stdout",
     "output_type": "stream",
     "text": [
      "Processing fold 2\n"
     ]
    },
    {
     "name": "stderr",
     "output_type": "stream",
     "text": [
      "100%|██████████| 64/64 [00:03<00:00, 16.60it/s]\n"
     ]
    },
    {
     "name": "stdout",
     "output_type": "stream",
     "text": [
      "Processing fold 3\n"
     ]
    },
    {
     "name": "stderr",
     "output_type": "stream",
     "text": [
      "100%|██████████| 65/65 [00:03<00:00, 17.66it/s]\n"
     ]
    },
    {
     "name": "stdout",
     "output_type": "stream",
     "text": [
      "Processing fold 4\n"
     ]
    },
    {
     "name": "stderr",
     "output_type": "stream",
     "text": [
      "100%|██████████| 64/64 [00:03<00:00, 17.77it/s]\n"
     ]
    },
    {
     "name": "stdout",
     "output_type": "stream",
     "text": [
      "Processing fold 5\n"
     ]
    },
    {
     "name": "stderr",
     "output_type": "stream",
     "text": [
      "100%|██████████| 64/64 [00:03<00:00, 16.79it/s]\n"
     ]
    }
   ],
   "source": [
    "pixels_by_tier_category_fold = [] # list for each fold: dict with tier as key: dict with category as key: pixel count as value\n",
    "for i in range(N_FOLDS):\n",
    "    print(f\"Processing fold {i}\")\n",
    "    pixels_by_tier_category = {\n",
    "        \"tier1\": {},\n",
    "        \"tier2\": {},\n",
    "        \"tier3\": {}\n",
    "    }\n",
    "    for batch in tqdm(folds[i]):\n",
    "        targets = batch[1][0]\n",
    "        for j, tier in enumerate(pixels_by_tier_category.keys()):\n",
    "            # get the unique values and their counts\n",
    "            unique, counts = targets[j].unique(return_counts=True)\n",
    "            # create a dictionary with the unique values and their counts\n",
    "            for clazz, count in zip(unique, counts):\n",
    "                if clazz.item() in pixels_by_tier_category[tier]:\n",
    "                    pixels_by_tier_category[tier][clazz.item()] += count.item()\n",
    "                else:\n",
    "                    pixels_by_tier_category[tier][clazz.item()] = count.item()\n",
    "            #unique_counts = {int(clazz): int(count) for clazz, count in zip(unique, counts)}\n",
    "            #print(unique_counts)\n",
    "            \n",
    "            # add the counts to the corresponding tier\n",
    "    pixels_by_tier_category_fold.append(pixels_by_tier_category)"
   ]
  },
  {
   "cell_type": "code",
   "execution_count": 6,
   "metadata": {},
   "outputs": [
    {
     "name": "stdout",
     "output_type": "stream",
     "text": [
      "len(pixels_by_tier_category_fold): 6\n",
      "len(pixels_by_tier_category_fold[0]): 3\n",
      "len(pixels_by_tier_category_fold[0]['tier1']): 6\n",
      "pixels_by_tier_category_fold[0]['tier1']: {0: 2050484, 1: 633396, 2: 541714, 3: 22010, 4: 12576, 5: 1260}\n"
     ]
    }
   ],
   "source": [
    "print(f\"len(pixels_by_tier_category_fold): {len(pixels_by_tier_category_fold)}\")\n",
    "print(f\"len(pixels_by_tier_category_fold[0]): {len(pixels_by_tier_category_fold[0])}\")\n",
    "print(f\"len(pixels_by_tier_category_fold[0]['tier1']): {len(pixels_by_tier_category_fold[0]['tier1'])}\")\n",
    "print(f\"pixels_by_tier_category_fold[0]['tier1']: {pixels_by_tier_category_fold[0]['tier1']}\")"
   ]
  },
  {
   "cell_type": "code",
   "execution_count": 7,
   "metadata": {},
   "outputs": [
    {
     "data": {
      "text/plain": [
       "['Background',\n",
       " 'Grassland',\n",
       " 'Field crops',\n",
       " 'Orchards',\n",
       " 'Special crops',\n",
       " 'Forest']"
      ]
     },
     "execution_count": 7,
     "metadata": {},
     "output_type": "execute_result"
    }
   ],
   "source": [
    "import json\n",
    "dataset_info = json.load(open('../data/dataset_info.json'))\n",
    "\n",
    "dataset_info[\"tier1\"]"
   ]
  },
  {
   "cell_type": "code",
   "execution_count": 8,
   "metadata": {},
   "outputs": [
    {
     "data": {
      "image/png": "[encoded data removed]",
      "text/plain": [
       "<Figure size 1500x1500 with 3 Axes>"
      ]
     },
     "metadata": {},
     "output_type": "display_data"
    }
   ],
   "source": [
    "fig, axes = plt.subplots(nrows=3, ncols=1, figsize=(15, 15), sharex=False)\n",
    "fig.subplots_adjust(hspace=0.4)\n",
    "\n",
    "for ax, tier in zip(axes, [\"tier1\", \"tier2\", \"tier3\"]):\n",
    "    categories = set().union(*[pixels_by_tier_category_fold[i][tier].keys() for i in range(N_FOLDS)])\n",
    "    index = np.arange(len(categories))\n",
    "    bar_width = 0.15\n",
    "    counts_by_fold = []\n",
    "    for fold in range(N_FOLDS):\n",
    "        counts = [pixels_by_tier_category_fold[fold][tier].get(cat, 0) for cat in categories]\n",
    "        counts_by_fold.append(counts)\n",
    "    # aggregate counts by category\n",
    "    counts = np.sum(counts_by_fold, axis=0)\n",
    "    # order the categories and counts by counts\n",
    "    categories = [cat for _, cat in sorted(zip(counts, categories), key=lambda pair: pair[0], reverse=True)]\n",
    "    for fold in range(N_FOLDS):\n",
    "        counts = [pixels_by_tier_category_fold[fold][tier].get(cat, 0) for cat in categories]\n",
    "        ax.bar(index + fold * bar_width, counts, bar_width, label=f'Fold {fold+1}')\n",
    "    \n",
    "    ax.set_xlabel('Category')\n",
    "    ax.set_ylabel('Counts')\n",
    "    ax.set_yscale('log')\n",
    "    ax.set_title(f'Counts by Category for {tier}')\n",
    "    ax.set_xticks(index + bar_width * (N_FOLDS - 1) / 2)\n",
    "    labels = [dataset_info[tier][cat] for cat in categories]\n",
    "    ax.set_xticklabels(labels, rotation=90)\n",
    "    ax.legend()\n",
    "\n",
    "plt.tight_layout()\n",
    "plt.show()"
   ]
  },
  {
   "cell_type": "code",
   "execution_count": 9,
   "metadata": {},
   "outputs": [],
   "source": [
    "tier3_to_tier1 = dataset_info[\"tier3_to_tier1\"] # array where index is tier3 and value is tier1\n",
    "tier3_to_tier2 = dataset_info[\"tier3_to_tier2\"] # array where index is tier3 and value is tier2\n",
    "# create tier_2 to tier_1 mapping\n",
    "tier2_to_tier1 = [0] * (max(tier3_to_tier2) + 1)\n",
    "for tier3 in range(len(tier3_to_tier2)):\n",
    "    tier2 = tier3_to_tier2[tier3]\n",
    "    tier1 = tier3_to_tier1[tier3]\n",
    "    tier2_to_tier1[tier2] = tier1"
   ]
  },
  {
   "cell_type": "code",
   "execution_count": 10,
   "metadata": {},
   "outputs": [
    {
     "name": "stdout",
     "output_type": "stream",
     "text": [
      "[0, 1, 2, 3, 4, 5, 2, 5, 6, 5, 2, 5, 7, 2, 8, 9, 7, 5, 5, 2, 10, 2, 5, 2, 2, 11, 7, 12, 3, 2, 6, 7, 2, 13, 14, 5, 5, 6, 5, 2, 5, 5, 7, 5, 15, 5, 5, 16, 7]\n",
      "[0, 1, 2, 2, 1, 2, 2, 3, 4, 4, 4, 3, 2, 1, 5, 4, 4]\n"
     ]
    }
   ],
   "source": [
    "print(tier3_to_tier2) # array where index is tier3 and value is tier2\n",
    "print(tier2_to_tier1) # array where index is tier2 and value is tier1"
   ]
  },
  {
   "cell_type": "code",
   "execution_count": 11,
   "metadata": {},
   "outputs": [
    {
     "data": {
      "text/plain": [
       "{'tier1': {0: 12200762, 1: 3801809, 2: 3214370, 3: 113969, 4: 76799, 5: 10403},\n",
       " 'tier2': {0: 12200762,\n",
       "  1: 3239274,\n",
       "  2: 1323210,\n",
       "  3: 790808,\n",
       "  4: 558928,\n",
       "  5: 878427,\n",
       "  7: 103518,\n",
       "  8: 28732,\n",
       "  9: 30923,\n",
       "  13: 3607,\n",
       "  6: 215469,\n",
       "  10: 16406,\n",
       "  11: 10451,\n",
       "  12: 6456,\n",
       "  14: 10403,\n",
       "  15: 699,\n",
       "  16: 39},\n",
       " 'tier3': {0: 12200762,\n",
       "  1: 3239274,\n",
       "  2: 842024,\n",
       "  3: 785191,\n",
       "  4: 558928,\n",
       "  5: 335164,\n",
       "  7: 249109,\n",
       "  9: 130231,\n",
       "  14: 28732,\n",
       "  15: 30923,\n",
       "  16: 28113,\n",
       "  17: 29414,\n",
       "  23: 9350,\n",
       "  26: 6217,\n",
       "  33: 3607,\n",
       "  6: 277369,\n",
       "  8: 208066,\n",
       "  39: 1771,\n",
       "  10: 92468,\n",
       "  11: 83012,\n",
       "  19: 15845,\n",
       "  20: 16406,\n",
       "  21: 12198,\n",
       "  13: 54044,\n",
       "  22: 12066,\n",
       "  24: 10679,\n",
       "  25: 10451,\n",
       "  32: 3879,\n",
       "  12: 62020,\n",
       "  18: 25894,\n",
       "  28: 5617,\n",
       "  29: 3583,\n",
       "  27: 6456,\n",
       "  31: 6006,\n",
       "  45: 320,\n",
       "  37: 1901,\n",
       "  38: 2351,\n",
       "  40: 1945,\n",
       "  41: 1473,\n",
       "  35: 3353,\n",
       "  34: 10403,\n",
       "  44: 699,\n",
       "  36: 3186,\n",
       "  48: 11,\n",
       "  30: 5502,\n",
       "  43: 720,\n",
       "  47: 39,\n",
       "  46: 189,\n",
       "  42: 1151}}"
      ]
     },
     "execution_count": 11,
     "metadata": {},
     "output_type": "execute_result"
    }
   ],
   "source": [
    "# aggregate all folds of pixels_by_tier_category_fold\n",
    "pixels_by_tier_category = {\n",
    "    \"tier1\": {},\n",
    "    \"tier2\": {},\n",
    "    \"tier3\": {}\n",
    "}\n",
    "for tier in pixels_by_tier_category.keys():\n",
    "    for fold in range(N_FOLDS):\n",
    "        for clazz, count in pixels_by_tier_category_fold[fold][tier].items():\n",
    "            if clazz in pixels_by_tier_category[tier]:\n",
    "                pixels_by_tier_category[tier][clazz] += count\n",
    "            else:\n",
    "                pixels_by_tier_category[tier][clazz] = count\n",
    "\n",
    "pixels_by_tier_category # dict with each tier as key. The value is a dict again with the category as tier and the pixel count as value"
   ]
  },
  {
   "cell_type": "code",
   "execution_count": null,
   "metadata": {},
   "outputs": [],
   "source": []
  },
  {
   "cell_type": "code",
   "execution_count": 12,
   "metadata": {},
   "outputs": [
    {
     "data": {
      "application/vnd.plotly.v1+json": {
       "config": {
        "plotlyServerURL": "https://plot.ly"
       },
       "data": [
        {
         "link": {
          "source": [
           0,
           0,
           0,
           0,
           0,
           1,
           2,
           2,
           1,
           2,
           2,
           3,
           4,
           4,
           4,
           3,
           2,
           1,
           5,
           4,
           4,
           6,
           7,
           8,
           9,
           10,
           7,
           10,
           11,
           10,
           7,
           10,
           12,
           7,
           13,
           14,
           12,
           10,
           10,
           7,
           15,
           7,
           10,
           7,
           7,
           16,
           12,
           17,
           8,
           7,
           11,
           12,
           7,
           18,
           19,
           10,
           10,
           11,
           10,
           7,
           10,
           10,
           12,
           10,
           20,
           10,
           10,
           21,
           12
          ],
          "target": [
           1,
           2,
           3,
           4,
           5,
           6,
           7,
           8,
           9,
           10,
           11,
           12,
           13,
           14,
           15,
           16,
           17,
           18,
           19,
           20,
           21,
           22,
           23,
           24,
           25,
           26,
           27,
           28,
           29,
           30,
           31,
           32,
           33,
           34,
           35,
           36,
           37,
           38,
           39,
           40,
           41,
           42,
           43,
           44,
           45,
           46,
           47,
           48,
           49,
           50,
           51,
           52,
           53,
           54,
           55,
           56,
           57,
           58,
           59,
           60,
           61,
           62,
           63,
           64,
           65,
           66,
           67,
           68,
           69
          ],
          "value": [
           3801809,
           3214370,
           113969,
           76799,
           10403,
           3239274,
           1323210,
           790808,
           558928,
           878427,
           215469,
           103518,
           28732,
           30923,
           16406,
           10451,
           6456,
           3607,
           10403,
           699,
           39,
           3239274,
           842024,
           785191,
           558928,
           335164,
           277369,
           249109,
           208066,
           130231,
           92468,
           83012,
           62020,
           54044,
           28732,
           30923,
           28113,
           29414,
           25894,
           15845,
           16406,
           12198,
           12066,
           9350,
           10679,
           10451,
           6217,
           6456,
           5617,
           3583,
           5502,
           6006,
           3879,
           3607,
           10403,
           3353,
           3186,
           1901,
           2351,
           1771,
           1945,
           1473,
           1151,
           720,
           699,
           320,
           189,
           39,
           11
          ]
         },
         "node": {
          "label": [
           "Vegetation",
           "1 - Grassland",
           "1 - Field crops",
           "1 - Orchards",
           "1 - Special crops",
           "1 - Forest",
           "2 - Meadow",
           "2 - SmallGrainCereal",
           "2 - LargeGrainCereal",
           "2 - Pasture",
           "2 - BroadLeafRowCrop",
           "2 - OrchardCrop",
           "2 - Fallow",
           "2 - Hedge",
           "2 - BiodiversityArea",
           "2 - VegetableCrop",
           "2 - Berries",
           "2 - TreeCrop",
           "2 - CropMix",
           "2 - Forest",
           "2 - Multiple",
           "2 - Gardens",
           "3 - Meadow",
           "3 - WinterWheat",
           "3 - Maize",
           "3 - Pasture",
           "3 - Sugar_beets",
           "3 - WinterRapeseed",
           "3 - Potatoes",
           "3 - Fallow",
           "3 - Hedge",
           "3 - Apples",
           "3 - Soy",
           "3 - SummerWheat",
           "3 - StoneFruit",
           "3 - Biodiversity encouragement area",
           "3 - WinterBarley",
           "3 - Vegetables",
           "3 - Buckwheat",
           "3 - Wheat",
           "3 - Sunflowers",
           "3 - Oat",
           "3 - Berries",
           "3 - EinkornWheat",
           "3 - Spelt",
           "3 - Field bean",
           "3 - Rye",
           "3 - TreeCrop",
           "3 - SummerBarley",
           "3 - Vines",
           "3 - Peas",
           "3 - Sorghum",
           "3 - Grain",
           "3 - MixedCrop",
           "3 - Pears",
           "3 - Lupine",
           "3 - Pumpkin",
           "3 - Tobacco",
           "3 - Hemp",
           "3 - SummerRapeseed",
           "3 - Linen",
           "3 - Forest",
           "3 - Multiple",
           "3 - Legumes",
           "3 - Chestnut",
           "3 - Chicory",
           "3 - Beets",
           "3 - Gardens",
           "3 - Mustard",
           "3 - Hops"
          ],
          "line": {
           "color": "black",
           "width": 0.5
          },
          "pad": 15,
          "thickness": 20
         },
         "type": "sankey"
        }
       ],
       "layout": {
        "font": {
         "size": 12
        },
        "height": 750,
        "template": {
         "data": {
          "bar": [
           {
            "error_x": {
             "color": "#2a3f5f"
            },
            "error_y": {
             "color": "#2a3f5f"
            },
            "marker": {
             "line": {
              "color": "#E5ECF6",
              "width": 0.5
             },
             "pattern": {
              "fillmode": "overlay",
              "size": 10,
              "solidity": 0.2
             }
            },
            "type": "bar"
           }
          ],
          "barpolar": [
           {
            "marker": {
             "line": {
              "color": "#E5ECF6",
              "width": 0.5
             },
             "pattern": {
              "fillmode": "overlay",
              "size": 10,
              "solidity": 0.2
             }
            },
            "type": "barpolar"
           }
          ],
          "carpet": [
           {
            "aaxis": {
             "endlinecolor": "#2a3f5f",
             "gridcolor": "white",
             "linecolor": "white",
             "minorgridcolor": "white",
             "startlinecolor": "#2a3f5f"
            },
            "baxis": {
             "endlinecolor": "#2a3f5f",
             "gridcolor": "white",
             "linecolor": "white",
             "minorgridcolor": "white",
             "startlinecolor": "#2a3f5f"
            },
            "type": "carpet"
           }
          ],
          "choropleth": [
           {
            "colorbar": {
             "outlinewidth": 0,
             "ticks": ""
            },
            "type": "choropleth"
           }
          ],
          "contour": [
           {
            "colorbar": {
             "outlinewidth": 0,
             "ticks": ""
            },
            "colorscale": [
             [
              0,
              "#0d0887"
             ],
             [
              0.1111111111111111,
              "#46039f"
             ],
             [
              0.2222222222222222,
              "#7201a8"
             ],
             [
              0.3333333333333333,
              "#9c179e"
             ],
             [
              0.4444444444444444,
              "#bd3786"
             ],
             [
              0.5555555555555556,
              "#d8576b"
             ],
             [
              0.6666666666666666,
              "#ed7953"
             ],
             [
              0.7777777777777778,
              "#fb9f3a"
             ],
             [
              0.8888888888888888,
              "#fdca26"
             ],
             [
              1,
              "#f0f921"
             ]
            ],
            "type": "contour"
           }
          ],
          "contourcarpet": [
           {
            "colorbar": {
             "outlinewidth": 0,
             "ticks": ""
            },
            "type": "contourcarpet"
           }
          ],
          "heatmap": [
           {
            "colorbar": {
             "outlinewidth": 0,
             "ticks": ""
            },
            "colorscale": [
             [
              0,
              "#0d0887"
             ],
             [
              0.1111111111111111,
              "#46039f"
             ],
             [
              0.2222222222222222,
              "#7201a8"
             ],
             [
              0.3333333333333333,
              "#9c179e"
             ],
             [
              0.4444444444444444,
              "#bd3786"
             ],
             [
              0.5555555555555556,
              "#d8576b"
             ],
             [
              0.6666666666666666,
              "#ed7953"
             ],
             [
              0.7777777777777778,
              "#fb9f3a"
             ],
             [
              0.8888888888888888,
              "#fdca26"
             ],
             [
              1,
              "#f0f921"
             ]
            ],
            "type": "heatmap"
           }
          ],
          "heatmapgl": [
           {
            "colorbar": {
             "outlinewidth": 0,
             "ticks": ""
            },
            "colorscale": [
             [
              0,
              "#0d0887"
             ],
             [
              0.1111111111111111,
              "#46039f"
             ],
             [
              0.2222222222222222,
              "#7201a8"
             ],
             [
              0.3333333333333333,
              "#9c179e"
             ],
             [
              0.4444444444444444,
              "#bd3786"
             ],
             [
              0.5555555555555556,
              "#d8576b"
             ],
             [
              0.6666666666666666,
              "#ed7953"
             ],
             [
              0.7777777777777778,
              "#fb9f3a"
             ],
             [
              0.8888888888888888,
              "#fdca26"
             ],
             [
              1,
              "#f0f921"
             ]
            ],
            "type": "heatmapgl"
           }
          ],
          "histogram": [
           {
            "marker": {
             "pattern": {
              "fillmode": "overlay",
              "size": 10,
              "solidity": 0.2
             }
            },
            "type": "histogram"
           }
          ],
          "histogram2d": [
           {
            "colorbar": {
             "outlinewidth": 0,
             "ticks": ""
            },
            "colorscale": [
             [
              0,
              "#0d0887"
             ],
             [
              0.1111111111111111,
              "#46039f"
             ],
             [
              0.2222222222222222,
              "#7201a8"
             ],
             [
              0.3333333333333333,
              "#9c179e"
             ],
             [
              0.4444444444444444,
              "#bd3786"
             ],
             [
              0.5555555555555556,
              "#d8576b"
             ],
             [
              0.6666666666666666,
              "#ed7953"
             ],
             [
              0.7777777777777778,
              "#fb9f3a"
             ],
             [
              0.8888888888888888,
              "#fdca26"
             ],
             [
              1,
              "#f0f921"
             ]
            ],
            "type": "histogram2d"
           }
          ],
          "histogram2dcontour": [
           {
            "colorbar": {
             "outlinewidth": 0,
             "ticks": ""
            },
            "colorscale": [
             [
              0,
              "#0d0887"
             ],
             [
              0.1111111111111111,
              "#46039f"
             ],
             [
              0.2222222222222222,
              "#7201a8"
             ],
             [
              0.3333333333333333,
              "#9c179e"
             ],
             [
              0.4444444444444444,
              "#bd3786"
             ],
             [
              0.5555555555555556,
              "#d8576b"
             ],
             [
              0.6666666666666666,
              "#ed7953"
             ],
             [
              0.7777777777777778,
              "#fb9f3a"
             ],
             [
              0.8888888888888888,
              "#fdca26"
             ],
             [
              1,
              "#f0f921"
             ]
            ],
            "type": "histogram2dcontour"
           }
          ],
          "mesh3d": [
           {
            "colorbar": {
             "outlinewidth": 0,
             "ticks": ""
            },
            "type": "mesh3d"
           }
          ],
          "parcoords": [
           {
            "line": {
             "colorbar": {
              "outlinewidth": 0,
              "ticks": ""
             }
            },
            "type": "parcoords"
           }
          ],
          "pie": [
           {
            "automargin": true,
            "type": "pie"
           }
          ],
          "scatter": [
           {
            "fillpattern": {
             "fillmode": "overlay",
             "size": 10,
             "solidity": 0.2
            },
            "type": "scatter"
           }
          ],
          "scatter3d": [
           {
            "line": {
             "colorbar": {
              "outlinewidth": 0,
              "ticks": ""
             }
            },
            "marker": {
             "colorbar": {
              "outlinewidth": 0,
              "ticks": ""
             }
            },
            "type": "scatter3d"
           }
          ],
          "scattercarpet": [
           {
            "marker": {
             "colorbar": {
              "outlinewidth": 0,
              "ticks": ""
             }
            },
            "type": "scattercarpet"
           }
          ],
          "scattergeo": [
           {
            "marker": {
             "colorbar": {
              "outlinewidth": 0,
              "ticks": ""
             }
            },
            "type": "scattergeo"
           }
          ],
          "scattergl": [
           {
            "marker": {
             "colorbar": {
              "outlinewidth": 0,
              "ticks": ""
             }
            },
            "type": "scattergl"
           }
          ],
          "scattermapbox": [
           {
            "marker": {
             "colorbar": {
              "outlinewidth": 0,
              "ticks": ""
             }
            },
            "type": "scattermapbox"
           }
          ],
          "scatterpolar": [
           {
            "marker": {
             "colorbar": {
              "outlinewidth": 0,
              "ticks": ""
             }
            },
            "type": "scatterpolar"
           }
          ],
          "scatterpolargl": [
           {
            "marker": {
             "colorbar": {
              "outlinewidth": 0,
              "ticks": ""
             }
            },
            "type": "scatterpolargl"
           }
          ],
          "scatterternary": [
           {
            "marker": {
             "colorbar": {
              "outlinewidth": 0,
              "ticks": ""
             }
            },
            "type": "scatterternary"
           }
          ],
          "surface": [
           {
            "colorbar": {
             "outlinewidth": 0,
             "ticks": ""
            },
            "colorscale": [
             [
              0,
              "#0d0887"
             ],
             [
              0.1111111111111111,
              "#46039f"
             ],
             [
              0.2222222222222222,
              "#7201a8"
             ],
             [
              0.3333333333333333,
              "#9c179e"
             ],
             [
              0.4444444444444444,
              "#bd3786"
             ],
             [
              0.5555555555555556,
              "#d8576b"
             ],
             [
              0.6666666666666666,
              "#ed7953"
             ],
             [
              0.7777777777777778,
              "#fb9f3a"
             ],
             [
              0.8888888888888888,
              "#fdca26"
             ],
             [
              1,
              "#f0f921"
             ]
            ],
            "type": "surface"
           }
          ],
          "table": [
           {
            "cells": {
             "fill": {
              "color": "#EBF0F8"
             },
             "line": {
              "color": "white"
             }
            },
            "header": {
             "fill": {
              "color": "#C8D4E3"
             },
             "line": {
              "color": "white"
             }
            },
            "type": "table"
           }
          ]
         },
         "layout": {
          "annotationdefaults": {
           "arrowcolor": "#2a3f5f",
           "arrowhead": 0,
           "arrowwidth": 1
          },
          "autotypenumbers": "strict",
          "coloraxis": {
           "colorbar": {
            "outlinewidth": 0,
            "ticks": ""
           }
          },
          "colorscale": {
           "diverging": [
            [
             0,
             "#8e0152"
            ],
            [
             0.1,
             "#c51b7d"
            ],
            [
             0.2,
             "#de77ae"
            ],
            [
             0.3,
             "#f1b6da"
            ],
            [
             0.4,
             "#fde0ef"
            ],
            [
             0.5,
             "#f7f7f7"
            ],
            [
             0.6,
             "#e6f5d0"
            ],
            [
             0.7,
             "#b8e186"
            ],
            [
             0.8,
             "#7fbc41"
            ],
            [
             0.9,
             "#4d9221"
            ],
            [
             1,
             "#276419"
            ]
           ],
           "sequential": [
            [
             0,
             "#0d0887"
            ],
            [
             0.1111111111111111,
             "#46039f"
            ],
            [
             0.2222222222222222,
             "#7201a8"
            ],
            [
             0.3333333333333333,
             "#9c179e"
            ],
            [
             0.4444444444444444,
             "#bd3786"
            ],
            [
             0.5555555555555556,
             "#d8576b"
            ],
            [
             0.6666666666666666,
             "#ed7953"
            ],
            [
             0.7777777777777778,
             "#fb9f3a"
            ],
            [
             0.8888888888888888,
             "#fdca26"
            ],
            [
             1,
             "#f0f921"
            ]
           ],
           "sequentialminus": [
            [
             0,
             "#0d0887"
            ],
            [
             0.1111111111111111,
             "#46039f"
            ],
            [
             0.2222222222222222,
             "#7201a8"
            ],
            [
             0.3333333333333333,
             "#9c179e"
            ],
            [
             0.4444444444444444,
             "#bd3786"
            ],
            [
             0.5555555555555556,
             "#d8576b"
            ],
            [
             0.6666666666666666,
             "#ed7953"
            ],
            [
             0.7777777777777778,
             "#fb9f3a"
            ],
            [
             0.8888888888888888,
             "#fdca26"
            ],
            [
             1,
             "#f0f921"
            ]
           ]
          },
          "colorway": [
           "#636efa",
           "#EF553B",
           "#00cc96",
           "#ab63fa",
           "#FFA15A",
           "#19d3f3",
           "#FF6692",
           "#B6E880",
           "#FF97FF",
           "#FECB52"
          ],
          "font": {
           "color": "#2a3f5f"
          },
          "geo": {
           "bgcolor": "white",
           "lakecolor": "white",
           "landcolor": "#E5ECF6",
           "showlakes": true,
           "showland": true,
           "subunitcolor": "white"
          },
          "hoverlabel": {
           "align": "left"
          },
          "hovermode": "closest",
          "mapbox": {
           "style": "light"
          },
          "paper_bgcolor": "white",
          "plot_bgcolor": "#E5ECF6",
          "polar": {
           "angularaxis": {
            "gridcolor": "white",
            "linecolor": "white",
            "ticks": ""
           },
           "bgcolor": "#E5ECF6",
           "radialaxis": {
            "gridcolor": "white",
            "linecolor": "white",
            "ticks": ""
           }
          },
          "scene": {
           "xaxis": {
            "backgroundcolor": "#E5ECF6",
            "gridcolor": "white",
            "gridwidth": 2,
            "linecolor": "white",
            "showbackground": true,
            "ticks": "",
            "zerolinecolor": "white"
           },
           "yaxis": {
            "backgroundcolor": "#E5ECF6",
            "gridcolor": "white",
            "gridwidth": 2,
            "linecolor": "white",
            "showbackground": true,
            "ticks": "",
            "zerolinecolor": "white"
           },
           "zaxis": {
            "backgroundcolor": "#E5ECF6",
            "gridcolor": "white",
            "gridwidth": 2,
            "linecolor": "white",
            "showbackground": true,
            "ticks": "",
            "zerolinecolor": "white"
           }
          },
          "shapedefaults": {
           "line": {
            "color": "#2a3f5f"
           }
          },
          "ternary": {
           "aaxis": {
            "gridcolor": "white",
            "linecolor": "white",
            "ticks": ""
           },
           "baxis": {
            "gridcolor": "white",
            "linecolor": "white",
            "ticks": ""
           },
           "bgcolor": "#E5ECF6",
           "caxis": {
            "gridcolor": "white",
            "linecolor": "white",
            "ticks": ""
           }
          },
          "title": {
           "x": 0.05
          },
          "xaxis": {
           "automargin": true,
           "gridcolor": "white",
           "linecolor": "white",
           "ticks": "",
           "title": {
            "standoff": 15
           },
           "zerolinecolor": "white",
           "zerolinewidth": 2
          },
          "yaxis": {
           "automargin": true,
           "gridcolor": "white",
           "linecolor": "white",
           "ticks": "",
           "title": {
            "standoff": 15
           },
           "zerolinecolor": "white",
           "zerolinewidth": 2
          }
         }
        },
        "title": {
         "text": "<b>Original Label Hierarchy</b> (Bands represent number of pixels in dataset)"
        }
       }
      }
     },
     "metadata": {},
     "output_type": "display_data"
    }
   ],
   "source": [
    "# Prepare data for Sankey diagram\n",
    "node_labels = [\"Vegetation\"]\n",
    "\n",
    "# Create labels for tier 1 nodes\n",
    "tier1_labels = [f\"1 - {dataset_info['tier1'][i]}\" for i in list(pixels_by_tier_category['tier1'].keys()) if i != 0]\n",
    "node_labels.extend(tier1_labels)\n",
    "\n",
    "# Create labels for tier 2 nodes\n",
    "tier2_labels = [f\"2 - {dataset_info['tier2'][i]}\" for i in list(pixels_by_tier_category['tier2'].keys()) if i != 0]\n",
    "node_labels.extend(tier2_labels)\n",
    "\n",
    "# Create labels for tier 3 nodes\n",
    "tier3_labels = [f\"3 - {dataset_info['tier3'][i]}\" for i in list(pixels_by_tier_category['tier3'].keys()) if i != 0]\n",
    "node_labels.extend(tier3_labels)\n",
    "\n",
    "# Create source and target lists based on the provided relationships\n",
    "sources = []\n",
    "targets = []\n",
    "values = []\n",
    "\n",
    "# Tier1 to Vegetation links\n",
    "for i, t1_index in enumerate(tier1_labels):\n",
    "\n",
    "    sources.append(0)  # Index of Vegetation node\n",
    "    targets.append(i+1)  # Adjust index for tier 1 node\n",
    "    values.append(pixels_by_tier_category['tier1'][i+1])\n",
    "\n",
    "\n",
    "# Tier2 to Tier1 links\n",
    "for i, t1_index in enumerate(tier2_to_tier1):\n",
    "    if i == 0:\n",
    "        continue\n",
    "    targets.append(len(tier1_labels) + i)  # Adjust index for tier 2 node\n",
    "    sources.append(t1_index)  # Adjust index for tier 1 node\n",
    "    values.append(pixels_by_tier_category['tier2'][i])\n",
    "\n",
    "# Tier3 to Tier2 links\n",
    "for i, t2_index in enumerate(tier3_to_tier2):\n",
    "    if i == 0:\n",
    "        continue\n",
    "    targets.append(len(tier1_labels) + len(tier2_labels) + i)  # Index of tier 3 node\n",
    "    sources.append(len(tier1_labels) + t2_index)  # Adjust index for tier 2 node\n",
    "    values.append(pixels_by_tier_category['tier3'][i])\n",
    "\n",
    "# Create the Sankey diagram using Plotly\n",
    "fig = go.Figure(data=[go.Sankey(\n",
    "    node=dict(\n",
    "        pad=15,\n",
    "        thickness=20,\n",
    "        line=dict(color=\"black\", width=0.5),\n",
    "        label=node_labels\n",
    "    ),\n",
    "    link=dict(\n",
    "        source=sources,\n",
    "        target=targets,\n",
    "        value=values\n",
    "    )\n",
    ")])\n",
    "\n",
    "fig.update_layout(title_text=\"<b>Original Label Hierarchy</b> (Bands represent number of pixels in dataset)\", font_size=12, height=750)\n",
    "fig.show()"
   ]
  }
 ],
 "metadata": {
  "kernelspec": {
   "display_name": "messis-bV8Bs8aq-py3.12",
   "language": "python",
   "name": "python3"
  },
  "language_info": {
   "codemirror_mode": {
    "name": "ipython",
    "version": 3
   },
   "file_extension": ".py",
   "mimetype": "text/x-python",
   "name": "python",
   "nbconvert_exporter": "python",
   "pygments_lexer": "ipython3",
   "version": "3.11.5"
  }
 },
 "nbformat": 4,
 "nbformat_minor": 2
}
