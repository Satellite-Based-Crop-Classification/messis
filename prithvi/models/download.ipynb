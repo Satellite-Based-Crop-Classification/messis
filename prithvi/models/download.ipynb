{
 "cells": [
  {
   "cell_type": "code",
   "execution_count": 2,
   "metadata": {},
   "outputs": [
    {
     "data": {
      "text/plain": [
       "'./Prithvi_100M.pt'"
      ]
     },
     "execution_count": 2,
     "metadata": {},
     "output_type": "execute_result"
    }
   ],
   "source": [
    "from huggingface_hub import hf_hub_download\n",
    "\n",
    "# Download the model from the Hugging Face Hub\n",
    "hf_hub_download(repo_id='ibm-nasa-geospatial/Prithvi-100M', filename='Prithvi_100M.pt', local_dir='.')"
   ]
  }
 ],
 "metadata": {
  "kernelspec": {
   "display_name": "hls-foundation-os",
   "language": "python",
   "name": "python3"
  },
  "language_info": {
   "codemirror_mode": {
    "name": "ipython",
    "version": 3
   },
   "file_extension": ".py",
   "mimetype": "text/x-python",
   "name": "python",
   "nbconvert_exporter": "python",
   "pygments_lexer": "ipython3",
   "version": "3.9.0"
  }
 },
 "nbformat": 4,
 "nbformat_minor": 2
}
