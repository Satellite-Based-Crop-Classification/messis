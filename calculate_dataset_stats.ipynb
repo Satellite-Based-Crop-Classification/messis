{
 "cells": [
  {
   "cell_type": "code",
   "execution_count": 1,
   "metadata": {},
   "outputs": [],
   "source": [
    "import os\n",
    "import numpy as np\n",
    "import dvc.api\n",
    "import rasterio\n",
    "import yaml"
   ]
  },
  {
   "cell_type": "code",
   "execution_count": 2,
   "metadata": {},
   "outputs": [
    {
     "name": "stdout",
     "output_type": "stream",
     "text": [
      "CHIPS_DIR: data/chips\n",
      "N_BANDS: 6\n",
      "N_TIMESTEPS: 3\n",
      "N_FOLDS: 6\n",
      "CHIPS_STATS_TARGET: data/chips_stats.yaml\n",
      "LABELS_HIERARCHY: data/labels_hierarchy.tif\n"
     ]
    }
   ],
   "source": [
    "params = dvc.api.params_show()\n",
    "\n",
    "CHIPS_DIR = params['paths']['chips']\n",
    "N_BANDS = params['number_of_bands']\n",
    "N_TIMESTEPS = params['number_of_timesteps']\n",
    "N_FOLDS = params['number_of_folds']\n",
    "CHIPS_STATS_TARGET = params['paths']['chips_stats']\n",
    "LABELS_HIERARCHY = params['paths']['labels_hierarchy']\n",
    "\n",
    "print(f\"CHIPS_DIR: {CHIPS_DIR}\")\n",
    "print(f\"N_BANDS: {N_BANDS}\")\n",
    "print(f\"N_TIMESTEPS: {N_TIMESTEPS}\")\n",
    "print(f\"N_FOLDS: {N_FOLDS}\")\n",
    "print(f\"CHIPS_STATS_TARGET: {CHIPS_STATS_TARGET}\")\n",
    "print(f\"LABELS_HIERARCHY: {LABELS_HIERARCHY}\")"
   ]
  },
  {
   "cell_type": "code",
   "execution_count": 3,
   "metadata": {},
   "outputs": [],
   "source": [
    "def compute_stats(files, data_dir):\n",
    "    \"\"\"Compute mean and std for given files, considering all timesteps for each band.\"\"\"\n",
    "    data_accumulator = []\n",
    "\n",
    "    for file in files:\n",
    "        img_path = os.path.join(data_dir, file)\n",
    "        with rasterio.open(img_path) as src:\n",
    "            img = src.read().astype('float32') # original shape: (18, 256, 256)\n",
    "\n",
    "            # Reshape and reorder to group bands across all timesteps\n",
    "            img = img.reshape(N_TIMESTEPS, N_BANDS, img.shape[1], img.shape[2]) # reshaped shape: (3, 6, 256, 256)\n",
    "            img = img.transpose(1, 0, 2, 3) # transposed shape: (6, 3, 256, 256)\n",
    "            reshaped_img = img.reshape(N_BANDS, -1) # flatten for each band - flattened shape: (6, 196'608)\n",
    "\n",
    "            data_accumulator.append(reshaped_img)\n",
    "\n",
    "    # Concatenate all images along the new axis to form (N_BANDS, N_TIMESTEPS * total spatial dimensions)\n",
    "    combined_data = np.concatenate(data_accumulator, axis=1)\n",
    "    \n",
    "    # Compute mean and std along the axis of all timesteps and pixels\n",
    "    mean = np.mean(combined_data, axis=1)\n",
    "    std = np.std(combined_data, axis=1)\n",
    "    return mean.tolist(), std.tolist()\n",
    "\n",
    "def process_folds(data_dir, fold_range):\n",
    "    \"\"\"Process each fold, calculating stats excluding the test fold.\"\"\"\n",
    "    stats = {}\n",
    "    all_files = [f for f in os.listdir(data_dir) if f.endswith(\"_merged.tif\")]\n",
    "    for fold in fold_range:\n",
    "        files = [file for file in all_files if f\"_fold_{fold}\" in file]\n",
    "        mean, std = compute_stats(files, data_dir)\n",
    "        stats[f\"fold_{fold}\"] = {\n",
    "            \"mean\": mean, \n",
    "            \"std\": std, \n",
    "            \"n_chips\": len(files), \n",
    "        }\n",
    "    return stats\n",
    "\n",
    "def get_num_classes(labels_hierarchy_file):\n",
    "    labels = rasterio.open(labels_hierarchy_file).read()\n",
    "    n_tiers = labels.shape[0]\n",
    "\n",
    "    stats = {}\n",
    "    for i in range(n_tiers):\n",
    "        stats[f\"num_classes_tier{i+1}\"] = len(set(labels[i].flatten()))\n",
    "    return stats\n",
    "\n",
    "def save_stats_to_yaml(stats, output_file):\n",
    "    \"\"\"Save the computed stats to a YAML file.\"\"\"\n",
    "    with open(output_file, 'w') as file:\n",
    "        yaml.dump(stats, file, default_flow_style=False)"
   ]
  },
  {
   "cell_type": "code",
   "execution_count": 8,
   "metadata": {},
   "outputs": [],
   "source": [
    "stats = {\n",
    "    **process_folds(CHIPS_DIR, range(N_FOLDS)),\n",
    "    **get_num_classes(LABELS_HIERARCHY)\n",
    "    }\n",
    "save_stats_to_yaml(stats, CHIPS_STATS_TARGET)"
   ]
  }
 ],
 "metadata": {
  "kernelspec": {
   "display_name": "bat-data",
   "language": "python",
   "name": "python3"
  },
  "language_info": {
   "codemirror_mode": {
    "name": "ipython",
    "version": 3
   },
   "file_extension": ".py",
   "mimetype": "text/x-python",
   "name": "python",
   "nbconvert_exporter": "python",
   "pygments_lexer": "ipython3",
   "version": "3.11.5"
  }
 },
 "nbformat": 4,
 "nbformat_minor": 2
}
